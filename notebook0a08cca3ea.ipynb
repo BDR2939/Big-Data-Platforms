{
 "cells": [
  {
   "cell_type": "markdown",
   "id": "e08e7325",
   "metadata": {
    "id": "3e7482c9",
    "papermill": {
     "duration": 0.023732,
     "end_time": "2023-01-23T17:06:06.209964",
     "exception": false,
     "start_time": "2023-01-23T17:06:06.186232",
     "status": "completed"
    },
    "tags": []
   },
   "source": [
    "# BDP kaggle notebook"
   ]
  },
  {
   "cell_type": "markdown",
   "id": "946fe1da",
   "metadata": {
    "id": "9fb37936",
    "papermill": {
     "duration": 0.019311,
     "end_time": "2023-01-23T17:06:06.249484",
     "exception": false,
     "start_time": "2023-01-23T17:06:06.230173",
     "status": "completed"
    },
    "tags": []
   },
   "source": [
    "## Imports & Configurations"
   ]
  },
  {
   "cell_type": "code",
   "execution_count": 1,
   "id": "133299f9",
   "metadata": {
    "execution": {
     "iopub.execute_input": "2023-01-23T17:06:06.290129Z",
     "iopub.status.busy": "2023-01-23T17:06:06.289309Z",
     "iopub.status.idle": "2023-01-23T17:06:44.153621Z",
     "shell.execute_reply": "2023-01-23T17:06:44.151988Z"
    },
    "id": "0daf3401",
    "outputId": "c6604ded-3baa-406d-af78-0773d8e176b7",
    "papermill": {
     "duration": 37.888434,
     "end_time": "2023-01-23T17:06:44.156933",
     "exception": false,
     "start_time": "2023-01-23T17:06:06.268499",
     "status": "completed"
    },
    "tags": []
   },
   "outputs": [
    {
     "name": "stdout",
     "output_type": "stream",
     "text": [
      "Requirement already satisfied: kaggle in /opt/conda/lib/python3.7/site-packages (1.5.12)\r\n",
      "Requirement already satisfied: python-slugify in /opt/conda/lib/python3.7/site-packages (from kaggle) (6.1.2)\r\n",
      "Requirement already satisfied: six>=1.10 in /opt/conda/lib/python3.7/site-packages (from kaggle) (1.15.0)\r\n",
      "Requirement already satisfied: requests in /opt/conda/lib/python3.7/site-packages (from kaggle) (2.28.1)\r\n",
      "Requirement already satisfied: certifi in /opt/conda/lib/python3.7/site-packages (from kaggle) (2022.12.7)\r\n",
      "Requirement already satisfied: python-dateutil in /opt/conda/lib/python3.7/site-packages (from kaggle) (2.8.2)\r\n",
      "Requirement already satisfied: urllib3 in /opt/conda/lib/python3.7/site-packages (from kaggle) (1.26.13)\r\n",
      "Requirement already satisfied: tqdm in /opt/conda/lib/python3.7/site-packages (from kaggle) (4.64.0)\r\n",
      "Requirement already satisfied: text-unidecode>=1.3 in /opt/conda/lib/python3.7/site-packages (from python-slugify->kaggle) (1.3)\r\n",
      "Requirement already satisfied: idna<4,>=2.5 in /opt/conda/lib/python3.7/site-packages (from requests->kaggle) (3.3)\r\n",
      "Requirement already satisfied: charset-normalizer<3,>=2 in /opt/conda/lib/python3.7/site-packages (from requests->kaggle) (2.1.0)\r\n",
      "\u001b[33mWARNING: Running pip as the 'root' user can result in broken permissions and conflicting behaviour with the system package manager. It is recommended to use a virtual environment instead: https://pip.pypa.io/warnings/venv\u001b[0m\u001b[33m\r\n",
      "\u001b[0mRequirement already satisfied: missingno in /opt/conda/lib/python3.7/site-packages (0.4.2)\r\n",
      "Requirement already satisfied: scipy in /opt/conda/lib/python3.7/site-packages (from missingno) (1.7.3)\r\n",
      "Requirement already satisfied: matplotlib in /opt/conda/lib/python3.7/site-packages (from missingno) (3.5.3)\r\n",
      "Requirement already satisfied: seaborn in /opt/conda/lib/python3.7/site-packages (from missingno) (0.11.2)\r\n",
      "Requirement already satisfied: numpy in /opt/conda/lib/python3.7/site-packages (from missingno) (1.21.6)\r\n",
      "Requirement already satisfied: pillow>=6.2.0 in /opt/conda/lib/python3.7/site-packages (from matplotlib->missingno) (9.1.1)\r\n",
      "Requirement already satisfied: packaging>=20.0 in /opt/conda/lib/python3.7/site-packages (from matplotlib->missingno) (22.0)\r\n",
      "Requirement already satisfied: python-dateutil>=2.7 in /opt/conda/lib/python3.7/site-packages (from matplotlib->missingno) (2.8.2)\r\n",
      "Requirement already satisfied: fonttools>=4.22.0 in /opt/conda/lib/python3.7/site-packages (from matplotlib->missingno) (4.33.3)\r\n",
      "Requirement already satisfied: kiwisolver>=1.0.1 in /opt/conda/lib/python3.7/site-packages (from matplotlib->missingno) (1.4.3)\r\n",
      "Requirement already satisfied: pyparsing>=2.2.1 in /opt/conda/lib/python3.7/site-packages (from matplotlib->missingno) (3.0.9)\r\n",
      "Requirement already satisfied: cycler>=0.10 in /opt/conda/lib/python3.7/site-packages (from matplotlib->missingno) (0.11.0)\r\n",
      "Requirement already satisfied: pandas>=0.23 in /opt/conda/lib/python3.7/site-packages (from seaborn->missingno) (1.3.5)\r\n",
      "Requirement already satisfied: typing-extensions in /opt/conda/lib/python3.7/site-packages (from kiwisolver>=1.0.1->matplotlib->missingno) (4.1.1)\r\n",
      "Requirement already satisfied: pytz>=2017.3 in /opt/conda/lib/python3.7/site-packages (from pandas>=0.23->seaborn->missingno) (2022.1)\r\n",
      "Requirement already satisfied: six>=1.5 in /opt/conda/lib/python3.7/site-packages (from python-dateutil>=2.7->matplotlib->missingno) (1.15.0)\r\n",
      "\u001b[33mWARNING: Running pip as the 'root' user can result in broken permissions and conflicting behaviour with the system package manager. It is recommended to use a virtual environment instead: https://pip.pypa.io/warnings/venv\u001b[0m\u001b[33m\r\n",
      "\u001b[0mRequirement already satisfied: pandas-profiling in /opt/conda/lib/python3.7/site-packages (3.1.0)\r\n",
      "Requirement already satisfied: requests>=2.24.0 in /opt/conda/lib/python3.7/site-packages (from pandas-profiling) (2.28.1)\r\n",
      "Requirement already satisfied: pydantic>=1.8.1 in /opt/conda/lib/python3.7/site-packages (from pandas-profiling) (1.8.2)\r\n",
      "Requirement already satisfied: tangled-up-in-unicode==0.1.0 in /opt/conda/lib/python3.7/site-packages (from pandas-profiling) (0.1.0)\r\n",
      "Requirement already satisfied: phik>=0.11.1 in /opt/conda/lib/python3.7/site-packages (from pandas-profiling) (0.12.2)\r\n",
      "Requirement already satisfied: numpy>=1.16.0 in /opt/conda/lib/python3.7/site-packages (from pandas-profiling) (1.21.6)\r\n",
      "Requirement already satisfied: htmlmin>=0.1.12 in /opt/conda/lib/python3.7/site-packages (from pandas-profiling) (0.1.12)\r\n",
      "Requirement already satisfied: joblib~=1.0.1 in /opt/conda/lib/python3.7/site-packages (from pandas-profiling) (1.0.1)\r\n",
      "Requirement already satisfied: scipy>=1.4.1 in /opt/conda/lib/python3.7/site-packages (from pandas-profiling) (1.7.3)\r\n",
      "Requirement already satisfied: jinja2>=2.11.1 in /opt/conda/lib/python3.7/site-packages (from pandas-profiling) (3.1.2)\r\n",
      "Requirement already satisfied: PyYAML>=5.0.0 in /opt/conda/lib/python3.7/site-packages (from pandas-profiling) (6.0)\r\n",
      "Collecting markupsafe~=2.0.1\r\n",
      "  Downloading MarkupSafe-2.0.1-cp37-cp37m-manylinux_2_5_x86_64.manylinux1_x86_64.manylinux_2_12_x86_64.manylinux2010_x86_64.whl (31 kB)\r\n",
      "Requirement already satisfied: missingno>=0.4.2 in /opt/conda/lib/python3.7/site-packages (from pandas-profiling) (0.4.2)\r\n",
      "Requirement already satisfied: matplotlib>=3.2.0 in /opt/conda/lib/python3.7/site-packages (from pandas-profiling) (3.5.3)\r\n",
      "Requirement already satisfied: tqdm>=4.48.2 in /opt/conda/lib/python3.7/site-packages (from pandas-profiling) (4.64.0)\r\n",
      "Requirement already satisfied: seaborn>=0.10.1 in /opt/conda/lib/python3.7/site-packages (from pandas-profiling) (0.11.2)\r\n",
      "Requirement already satisfied: visions[type_image_path]==0.7.4 in /opt/conda/lib/python3.7/site-packages (from pandas-profiling) (0.7.4)\r\n",
      "Requirement already satisfied: multimethod>=1.4 in /opt/conda/lib/python3.7/site-packages (from pandas-profiling) (1.4)\r\n",
      "Requirement already satisfied: pandas!=1.0.0,!=1.0.1,!=1.0.2,!=1.1.0,>=0.25.3 in /opt/conda/lib/python3.7/site-packages (from pandas-profiling) (1.3.5)\r\n",
      "Requirement already satisfied: networkx>=2.4 in /opt/conda/lib/python3.7/site-packages (from visions[type_image_path]==0.7.4->pandas-profiling) (2.5)\r\n",
      "Requirement already satisfied: attrs>=19.3.0 in /opt/conda/lib/python3.7/site-packages (from visions[type_image_path]==0.7.4->pandas-profiling) (21.4.0)\r\n",
      "Requirement already satisfied: imagehash in /opt/conda/lib/python3.7/site-packages (from visions[type_image_path]==0.7.4->pandas-profiling) (4.2.1)\r\n",
      "Requirement already satisfied: Pillow in /opt/conda/lib/python3.7/site-packages (from visions[type_image_path]==0.7.4->pandas-profiling) (9.1.1)\r\n",
      "Requirement already satisfied: kiwisolver>=1.0.1 in /opt/conda/lib/python3.7/site-packages (from matplotlib>=3.2.0->pandas-profiling) (1.4.3)\r\n",
      "Requirement already satisfied: packaging>=20.0 in /opt/conda/lib/python3.7/site-packages (from matplotlib>=3.2.0->pandas-profiling) (22.0)\r\n",
      "Requirement already satisfied: fonttools>=4.22.0 in /opt/conda/lib/python3.7/site-packages (from matplotlib>=3.2.0->pandas-profiling) (4.33.3)\r\n",
      "Requirement already satisfied: cycler>=0.10 in /opt/conda/lib/python3.7/site-packages (from matplotlib>=3.2.0->pandas-profiling) (0.11.0)\r\n",
      "Requirement already satisfied: pyparsing>=2.2.1 in /opt/conda/lib/python3.7/site-packages (from matplotlib>=3.2.0->pandas-profiling) (3.0.9)\r\n",
      "Requirement already satisfied: python-dateutil>=2.7 in /opt/conda/lib/python3.7/site-packages (from matplotlib>=3.2.0->pandas-profiling) (2.8.2)\r\n",
      "Requirement already satisfied: pytz>=2017.3 in /opt/conda/lib/python3.7/site-packages (from pandas!=1.0.0,!=1.0.1,!=1.0.2,!=1.1.0,>=0.25.3->pandas-profiling) (2022.1)\r\n",
      "Requirement already satisfied: typing-extensions>=3.7.4.3 in /opt/conda/lib/python3.7/site-packages (from pydantic>=1.8.1->pandas-profiling) (4.1.1)\r\n",
      "Requirement already satisfied: urllib3<1.27,>=1.21.1 in /opt/conda/lib/python3.7/site-packages (from requests>=2.24.0->pandas-profiling) (1.26.13)\r\n",
      "Requirement already satisfied: idna<4,>=2.5 in /opt/conda/lib/python3.7/site-packages (from requests>=2.24.0->pandas-profiling) (3.3)\r\n",
      "Requirement already satisfied: charset-normalizer<3,>=2 in /opt/conda/lib/python3.7/site-packages (from requests>=2.24.0->pandas-profiling) (2.1.0)\r\n",
      "Requirement already satisfied: certifi>=2017.4.17 in /opt/conda/lib/python3.7/site-packages (from requests>=2.24.0->pandas-profiling) (2022.12.7)\r\n",
      "Requirement already satisfied: decorator>=4.3.0 in /opt/conda/lib/python3.7/site-packages (from networkx>=2.4->visions[type_image_path]==0.7.4->pandas-profiling) (5.1.1)\r\n",
      "Requirement already satisfied: six>=1.5 in /opt/conda/lib/python3.7/site-packages (from python-dateutil>=2.7->matplotlib>=3.2.0->pandas-profiling) (1.15.0)\r\n",
      "Requirement already satisfied: PyWavelets in /opt/conda/lib/python3.7/site-packages (from imagehash->visions[type_image_path]==0.7.4->pandas-profiling) (1.3.0)\r\n",
      "Installing collected packages: markupsafe\r\n",
      "  Attempting uninstall: markupsafe\r\n",
      "    Found existing installation: MarkupSafe 2.1.1\r\n",
      "    Uninstalling MarkupSafe-2.1.1:\r\n",
      "      Successfully uninstalled MarkupSafe-2.1.1\r\n",
      "\u001b[31mERROR: pip's dependency resolver does not currently take into account all the packages that are installed. This behaviour is the source of the following dependency conflicts.\r\n",
      "beatrix-jupyterlab 3.1.7 requires google-cloud-bigquery-storage, which is not installed.\r\n",
      "werkzeug 2.2.2 requires MarkupSafe>=2.1.1, but you have markupsafe 2.0.1 which is incompatible.\u001b[0m\u001b[31m\r\n",
      "\u001b[0mSuccessfully installed markupsafe-2.0.1\r\n",
      "\u001b[33mWARNING: Running pip as the 'root' user can result in broken permissions and conflicting behaviour with the system package manager. It is recommended to use a virtual environment instead: https://pip.pypa.io/warnings/venv\u001b[0m\u001b[33m\r\n",
      "\u001b[0m"
     ]
    }
   ],
   "source": [
    "!pip install kaggle --upgrade\n",
    "!pip install missingno\n",
    "!pip install pandas-profiling"
   ]
  },
  {
   "cell_type": "code",
   "execution_count": 2,
   "id": "a0842f88",
   "metadata": {
    "execution": {
     "iopub.execute_input": "2023-01-23T17:06:44.201268Z",
     "iopub.status.busy": "2023-01-23T17:06:44.200404Z",
     "iopub.status.idle": "2023-01-23T17:14:13.461005Z",
     "shell.execute_reply": "2023-01-23T17:14:13.459170Z"
    },
    "id": "57d1e43a",
    "outputId": "4ac04129-d5d8-4eb8-9e7a-874caf9ea03e",
    "papermill": {
     "duration": 449.286677,
     "end_time": "2023-01-23T17:14:13.464078",
     "exception": false,
     "start_time": "2023-01-23T17:06:44.177401",
     "status": "completed"
    },
    "tags": []
   },
   "outputs": [
    {
     "name": "stdout",
     "output_type": "stream",
     "text": [
      "--2023-01-23 17:13:01--  https://dlcdn.apache.org/spark/spark-3.3.1/spark-3.3.1-bin-hadoop3.tgz\r\n",
      "Resolving dlcdn.apache.org (dlcdn.apache.org)... 151.101.2.132, 2a04:4e42::644\r\n",
      "Connecting to dlcdn.apache.org (dlcdn.apache.org)|151.101.2.132|:443... connected.\r\n",
      "HTTP request sent, awaiting response... 200 OK\r\n",
      "Length: 299350810 (285M) [application/x-gzip]\r\n",
      "Saving to: ‘./spark-3.3.1-bin-hadoop3.tgz’\r\n",
      "\r\n",
      "./spark-3.3.1-bin-h 100%[===================>] 285.48M   158MB/s    in 1.8s    \r\n",
      "\r\n",
      "2023-01-23 17:13:03 (158 MB/s) - ‘./spark-3.3.1-bin-hadoop3.tgz’ saved [299350810/299350810]\r\n",
      "\r\n",
      "spark-3.3.1-bin-hadoop3/\r\n",
      "spark-3.3.1-bin-hadoop3/LICENSE\r\n",
      "spark-3.3.1-bin-hadoop3/NOTICE\r\n",
      "spark-3.3.1-bin-hadoop3/R/\r\n",
      "spark-3.3.1-bin-hadoop3/R/lib/\r\n",
      "spark-3.3.1-bin-hadoop3/R/lib/SparkR/\r\n",
      "spark-3.3.1-bin-hadoop3/R/lib/SparkR/DESCRIPTION\r\n",
      "spark-3.3.1-bin-hadoop3/R/lib/SparkR/INDEX\r\n",
      "spark-3.3.1-bin-hadoop3/R/lib/SparkR/Meta/\r\n",
      "spark-3.3.1-bin-hadoop3/R/lib/SparkR/Meta/Rd.rds\r\n",
      "spark-3.3.1-bin-hadoop3/R/lib/SparkR/Meta/features.rds\r\n",
      "spark-3.3.1-bin-hadoop3/R/lib/SparkR/Meta/hsearch.rds\r\n",
      "spark-3.3.1-bin-hadoop3/R/lib/SparkR/Meta/links.rds\r\n",
      "spark-3.3.1-bin-hadoop3/R/lib/SparkR/Meta/nsInfo.rds\r\n",
      "spark-3.3.1-bin-hadoop3/R/lib/SparkR/Meta/package.rds\r\n",
      "spark-3.3.1-bin-hadoop3/R/lib/SparkR/Meta/vignette.rds\r\n",
      "spark-3.3.1-bin-hadoop3/R/lib/SparkR/NAMESPACE\r\n",
      "spark-3.3.1-bin-hadoop3/R/lib/SparkR/R/\r\n",
      "spark-3.3.1-bin-hadoop3/R/lib/SparkR/R/SparkR\r\n",
      "spark-3.3.1-bin-hadoop3/R/lib/SparkR/R/SparkR.rdb\r\n",
      "spark-3.3.1-bin-hadoop3/R/lib/SparkR/R/SparkR.rdx\r\n",
      "spark-3.3.1-bin-hadoop3/R/lib/SparkR/doc/\r\n",
      "spark-3.3.1-bin-hadoop3/R/lib/SparkR/doc/index.html\r\n",
      "spark-3.3.1-bin-hadoop3/R/lib/SparkR/doc/sparkr-vignettes.R\r\n",
      "spark-3.3.1-bin-hadoop3/R/lib/SparkR/doc/sparkr-vignettes.Rmd\r\n",
      "spark-3.3.1-bin-hadoop3/R/lib/SparkR/doc/sparkr-vignettes.html\r\n",
      "spark-3.3.1-bin-hadoop3/R/lib/SparkR/help/\r\n",
      "spark-3.3.1-bin-hadoop3/R/lib/SparkR/help/AnIndex\r\n",
      "spark-3.3.1-bin-hadoop3/R/lib/SparkR/help/SparkR.rdb\r\n",
      "spark-3.3.1-bin-hadoop3/R/lib/SparkR/help/SparkR.rdx\r\n",
      "spark-3.3.1-bin-hadoop3/R/lib/SparkR/help/aliases.rds\r\n",
      "spark-3.3.1-bin-hadoop3/R/lib/SparkR/help/paths.rds\r\n",
      "spark-3.3.1-bin-hadoop3/R/lib/SparkR/html/\r\n",
      "spark-3.3.1-bin-hadoop3/R/lib/SparkR/html/00Index.html\r\n",
      "spark-3.3.1-bin-hadoop3/R/lib/SparkR/html/R.css\r\n",
      "spark-3.3.1-bin-hadoop3/R/lib/SparkR/profile/\r\n",
      "spark-3.3.1-bin-hadoop3/R/lib/SparkR/profile/general.R\r\n",
      "spark-3.3.1-bin-hadoop3/R/lib/SparkR/profile/shell.R\r\n",
      "spark-3.3.1-bin-hadoop3/R/lib/SparkR/tests/\r\n",
      "spark-3.3.1-bin-hadoop3/R/lib/SparkR/tests/testthat/\r\n",
      "spark-3.3.1-bin-hadoop3/R/lib/SparkR/tests/testthat/test_basic.R\r\n",
      "spark-3.3.1-bin-hadoop3/R/lib/SparkR/worker/\r\n",
      "spark-3.3.1-bin-hadoop3/R/lib/SparkR/worker/daemon.R\r\n",
      "spark-3.3.1-bin-hadoop3/R/lib/SparkR/worker/worker.R\r\n",
      "spark-3.3.1-bin-hadoop3/R/lib/sparkr.zip\r\n",
      "spark-3.3.1-bin-hadoop3/README.md\r\n",
      "spark-3.3.1-bin-hadoop3/RELEASE\r\n",
      "spark-3.3.1-bin-hadoop3/bin/\r\n",
      "spark-3.3.1-bin-hadoop3/bin/beeline\r\n",
      "spark-3.3.1-bin-hadoop3/bin/beeline.cmd\r\n",
      "spark-3.3.1-bin-hadoop3/bin/docker-image-tool.sh\r\n",
      "spark-3.3.1-bin-hadoop3/bin/find-spark-home\r\n",
      "spark-3.3.1-bin-hadoop3/bin/find-spark-home.cmd\r\n",
      "spark-3.3.1-bin-hadoop3/bin/load-spark-env.cmd\r\n",
      "spark-3.3.1-bin-hadoop3/bin/load-spark-env.sh\r\n",
      "spark-3.3.1-bin-hadoop3/bin/pyspark\r\n",
      "spark-3.3.1-bin-hadoop3/bin/pyspark.cmd\r\n",
      "spark-3.3.1-bin-hadoop3/bin/pyspark2.cmd\r\n",
      "spark-3.3.1-bin-hadoop3/bin/run-example\r\n",
      "spark-3.3.1-bin-hadoop3/bin/run-example.cmd\r\n",
      "spark-3.3.1-bin-hadoop3/bin/spark-class\r\n",
      "spark-3.3.1-bin-hadoop3/bin/spark-class.cmd\r\n",
      "spark-3.3.1-bin-hadoop3/bin/spark-class2.cmd\r\n",
      "spark-3.3.1-bin-hadoop3/bin/spark-shell\r\n",
      "spark-3.3.1-bin-hadoop3/bin/spark-shell.cmd\r\n",
      "spark-3.3.1-bin-hadoop3/bin/spark-shell2.cmd\r\n",
      "spark-3.3.1-bin-hadoop3/bin/spark-sql\r\n",
      "spark-3.3.1-bin-hadoop3/bin/spark-sql.cmd\r\n",
      "spark-3.3.1-bin-hadoop3/bin/spark-sql2.cmd\r\n",
      "spark-3.3.1-bin-hadoop3/bin/spark-submit\r\n",
      "spark-3.3.1-bin-hadoop3/bin/spark-submit.cmd\r\n",
      "spark-3.3.1-bin-hadoop3/bin/spark-submit2.cmd\r\n",
      "spark-3.3.1-bin-hadoop3/bin/sparkR\r\n",
      "spark-3.3.1-bin-hadoop3/bin/sparkR.cmd\r\n",
      "spark-3.3.1-bin-hadoop3/bin/sparkR2.cmd\r\n",
      "spark-3.3.1-bin-hadoop3/conf/\r\n",
      "spark-3.3.1-bin-hadoop3/conf/fairscheduler.xml.template\r\n",
      "spark-3.3.1-bin-hadoop3/conf/log4j2.properties.template\r\n",
      "spark-3.3.1-bin-hadoop3/conf/metrics.properties.template\r\n",
      "spark-3.3.1-bin-hadoop3/conf/spark-defaults.conf.template\r\n",
      "spark-3.3.1-bin-hadoop3/conf/spark-env.sh.template\r\n",
      "spark-3.3.1-bin-hadoop3/conf/workers.template\r\n",
      "spark-3.3.1-bin-hadoop3/data/\r\n",
      "spark-3.3.1-bin-hadoop3/data/graphx/\r\n",
      "spark-3.3.1-bin-hadoop3/data/graphx/followers.txt\r\n",
      "spark-3.3.1-bin-hadoop3/data/graphx/users.txt\r\n",
      "spark-3.3.1-bin-hadoop3/data/mllib/\r\n",
      "spark-3.3.1-bin-hadoop3/data/mllib/als/\r\n",
      "spark-3.3.1-bin-hadoop3/data/mllib/als/sample_movielens_ratings.txt\r\n",
      "spark-3.3.1-bin-hadoop3/data/mllib/als/test.data\r\n",
      "spark-3.3.1-bin-hadoop3/data/mllib/gmm_data.txt\r\n",
      "spark-3.3.1-bin-hadoop3/data/mllib/images/\r\n",
      "spark-3.3.1-bin-hadoop3/data/mllib/images/license.txt\r\n",
      "spark-3.3.1-bin-hadoop3/data/mllib/images/origin/\r\n",
      "spark-3.3.1-bin-hadoop3/data/mllib/images/origin/kittens/\r\n",
      "spark-3.3.1-bin-hadoop3/data/mllib/images/origin/kittens/29.5.a_b_EGDP022204.jpg\r\n",
      "spark-3.3.1-bin-hadoop3/data/mllib/images/origin/kittens/54893.jpg\r\n",
      "spark-3.3.1-bin-hadoop3/data/mllib/images/origin/kittens/DP153539.jpg\r\n",
      "spark-3.3.1-bin-hadoop3/data/mllib/images/origin/kittens/DP802813.jpg\r\n",
      "spark-3.3.1-bin-hadoop3/data/mllib/images/origin/kittens/not-image.txt\r\n",
      "spark-3.3.1-bin-hadoop3/data/mllib/images/origin/license.txt\r\n",
      "spark-3.3.1-bin-hadoop3/data/mllib/images/origin/multi-channel/\r\n",
      "spark-3.3.1-bin-hadoop3/data/mllib/images/origin/multi-channel/BGRA.png\r\n",
      "spark-3.3.1-bin-hadoop3/data/mllib/images/origin/multi-channel/BGRA_alpha_60.png\r\n",
      "spark-3.3.1-bin-hadoop3/data/mllib/images/origin/multi-channel/chr30.4.184.jpg\r\n",
      "spark-3.3.1-bin-hadoop3/data/mllib/images/origin/multi-channel/grayscale.jpg\r\n",
      "spark-3.3.1-bin-hadoop3/data/mllib/kmeans_data.txt\r\n",
      "spark-3.3.1-bin-hadoop3/data/mllib/pagerank_data.txt\r\n",
      "spark-3.3.1-bin-hadoop3/data/mllib/pic_data.txt\r\n",
      "spark-3.3.1-bin-hadoop3/data/mllib/ridge-data/\r\n",
      "spark-3.3.1-bin-hadoop3/data/mllib/ridge-data/lpsa.data\r\n",
      "spark-3.3.1-bin-hadoop3/data/mllib/sample_binary_classification_data.txt\r\n",
      "spark-3.3.1-bin-hadoop3/data/mllib/sample_fpgrowth.txt\r\n",
      "spark-3.3.1-bin-hadoop3/data/mllib/sample_isotonic_regression_libsvm_data.txt\r\n",
      "spark-3.3.1-bin-hadoop3/data/mllib/sample_kmeans_data.txt\r\n",
      "spark-3.3.1-bin-hadoop3/data/mllib/sample_lda_data.txt\r\n",
      "spark-3.3.1-bin-hadoop3/data/mllib/sample_lda_libsvm_data.txt\r\n",
      "spark-3.3.1-bin-hadoop3/data/mllib/sample_libsvm_data.txt\r\n",
      "spark-3.3.1-bin-hadoop3/data/mllib/sample_linear_regression_data.txt\r\n",
      "spark-3.3.1-bin-hadoop3/data/mllib/sample_movielens_data.txt\r\n",
      "spark-3.3.1-bin-hadoop3/data/mllib/sample_multiclass_classification_data.txt\r\n",
      "spark-3.3.1-bin-hadoop3/data/mllib/sample_svm_data.txt\r\n",
      "spark-3.3.1-bin-hadoop3/data/mllib/streaming_kmeans_data_test.txt\r\n",
      "spark-3.3.1-bin-hadoop3/data/streaming/\r\n",
      "spark-3.3.1-bin-hadoop3/data/streaming/AFINN-111.txt\r\n",
      "spark-3.3.1-bin-hadoop3/examples/\r\n",
      "spark-3.3.1-bin-hadoop3/examples/jars/\r\n",
      "spark-3.3.1-bin-hadoop3/examples/jars/scopt_2.12-3.7.1.jar\r\n",
      "spark-3.3.1-bin-hadoop3/examples/jars/spark-examples_2.12-3.3.1.jar\r\n",
      "spark-3.3.1-bin-hadoop3/examples/src/\r\n",
      "spark-3.3.1-bin-hadoop3/examples/src/main/\r\n",
      "spark-3.3.1-bin-hadoop3/examples/src/main/java/\r\n",
      "spark-3.3.1-bin-hadoop3/examples/src/main/java/org/\r\n",
      "spark-3.3.1-bin-hadoop3/examples/src/main/java/org/apache/\r\n",
      "spark-3.3.1-bin-hadoop3/examples/src/main/java/org/apache/spark/\r\n",
      "spark-3.3.1-bin-hadoop3/examples/src/main/java/org/apache/spark/examples/\r\n",
      "spark-3.3.1-bin-hadoop3/examples/src/main/java/org/apache/spark/examples/JavaHdfsLR.java\r\n",
      "spark-3.3.1-bin-hadoop3/examples/src/main/java/org/apache/spark/examples/JavaLogQuery.java\r\n",
      "spark-3.3.1-bin-hadoop3/examples/src/main/java/org/apache/spark/examples/JavaPageRank.java\r\n",
      "spark-3.3.1-bin-hadoop3/examples/src/main/java/org/apache/spark/examples/JavaSparkPi.java\r\n",
      "spark-3.3.1-bin-hadoop3/examples/src/main/java/org/apache/spark/examples/JavaStatusTrackerDemo.java\r\n",
      "spark-3.3.1-bin-hadoop3/examples/src/main/java/org/apache/spark/examples/JavaTC.java\r\n",
      "spark-3.3.1-bin-hadoop3/examples/src/main/java/org/apache/spark/examples/JavaWordCount.java\r\n",
      "spark-3.3.1-bin-hadoop3/examples/src/main/java/org/apache/spark/examples/ml/\r\n",
      "spark-3.3.1-bin-hadoop3/examples/src/main/java/org/apache/spark/examples/ml/JavaAFTSurvivalRegressionExample.java\r\n",
      "spark-3.3.1-bin-hadoop3/examples/src/main/java/org/apache/spark/examples/ml/JavaALSExample.java\r\n",
      "spark-3.3.1-bin-hadoop3/examples/src/main/java/org/apache/spark/examples/ml/JavaBinarizerExample.java\r\n",
      "spark-3.3.1-bin-hadoop3/examples/src/main/java/org/apache/spark/examples/ml/JavaBisectingKMeansExample.java\r\n",
      "spark-3.3.1-bin-hadoop3/examples/src/main/java/org/apache/spark/examples/ml/JavaBucketedRandomProjectionLSHExample.java\r\n",
      "spark-3.3.1-bin-hadoop3/examples/src/main/java/org/apache/spark/examples/ml/JavaBucketizerExample.java\r\n",
      "spark-3.3.1-bin-hadoop3/examples/src/main/java/org/apache/spark/examples/ml/JavaChiSqSelectorExample.java\r\n",
      "spark-3.3.1-bin-hadoop3/examples/src/main/java/org/apache/spark/examples/ml/JavaChiSquareTestExample.java\r\n",
      "spark-3.3.1-bin-hadoop3/examples/src/main/java/org/apache/spark/examples/ml/JavaCorrelationExample.java\r\n",
      "spark-3.3.1-bin-hadoop3/examples/src/main/java/org/apache/spark/examples/ml/JavaCountVectorizerExample.java\r\n",
      "spark-3.3.1-bin-hadoop3/examples/src/main/java/org/apache/spark/examples/ml/JavaDCTExample.java\r\n",
      "spark-3.3.1-bin-hadoop3/examples/src/main/java/org/apache/spark/examples/ml/JavaDecisionTreeClassificationExample.java\r\n",
      "spark-3.3.1-bin-hadoop3/examples/src/main/java/org/apache/spark/examples/ml/JavaDecisionTreeRegressionExample.java\r\n",
      "spark-3.3.1-bin-hadoop3/examples/src/main/java/org/apache/spark/examples/ml/JavaDocument.java\r\n",
      "spark-3.3.1-bin-hadoop3/examples/src/main/java/org/apache/spark/examples/ml/JavaElementwiseProductExample.java\r\n",
      "spark-3.3.1-bin-hadoop3/examples/src/main/java/org/apache/spark/examples/ml/JavaEstimatorTransformerParamExample.java\r\n",
      "spark-3.3.1-bin-hadoop3/examples/src/main/java/org/apache/spark/examples/ml/JavaFMClassifierExample.java\r\n",
      "spark-3.3.1-bin-hadoop3/examples/src/main/java/org/apache/spark/examples/ml/JavaFMRegressorExample.java\r\n",
      "spark-3.3.1-bin-hadoop3/examples/src/main/java/org/apache/spark/examples/ml/JavaFPGrowthExample.java\r\n",
      "spark-3.3.1-bin-hadoop3/examples/src/main/java/org/apache/spark/examples/ml/JavaFeatureHasherExample.java\r\n",
      "spark-3.3.1-bin-hadoop3/examples/src/main/java/org/apache/spark/examples/ml/JavaGaussianMixtureExample.java\r\n",
      "spark-3.3.1-bin-hadoop3/examples/src/main/java/org/apache/spark/examples/ml/JavaGeneralizedLinearRegressionExample.java\r\n",
      "spark-3.3.1-bin-hadoop3/examples/src/main/java/org/apache/spark/examples/ml/JavaGradientBoostedTreeClassifierExample.java\r\n",
      "spark-3.3.1-bin-hadoop3/examples/src/main/java/org/apache/spark/examples/ml/JavaGradientBoostedTreeRegressorExample.java\r\n",
      "spark-3.3.1-bin-hadoop3/examples/src/main/java/org/apache/spark/examples/ml/JavaImputerExample.java\r\n",
      "spark-3.3.1-bin-hadoop3/examples/src/main/java/org/apache/spark/examples/ml/JavaIndexToStringExample.java\r\n",
      "spark-3.3.1-bin-hadoop3/examples/src/main/java/org/apache/spark/examples/ml/JavaInteractionExample.java\r\n",
      "spark-3.3.1-bin-hadoop3/examples/src/main/java/org/apache/spark/examples/ml/JavaIsotonicRegressionExample.java\r\n",
      "spark-3.3.1-bin-hadoop3/examples/src/main/java/org/apache/spark/examples/ml/JavaKMeansExample.java\r\n",
      "spark-3.3.1-bin-hadoop3/examples/src/main/java/org/apache/spark/examples/ml/JavaLDAExample.java\r\n",
      "spark-3.3.1-bin-hadoop3/examples/src/main/java/org/apache/spark/examples/ml/JavaLabeledDocument.java\r\n",
      "spark-3.3.1-bin-hadoop3/examples/src/main/java/org/apache/spark/examples/ml/JavaLinearRegressionWithElasticNetExample.java\r\n",
      "spark-3.3.1-bin-hadoop3/examples/src/main/java/org/apache/spark/examples/ml/JavaLinearSVCExample.java\r\n",
      "spark-3.3.1-bin-hadoop3/examples/src/main/java/org/apache/spark/examples/ml/JavaLogisticRegressionSummaryExample.java\r\n",
      "spark-3.3.1-bin-hadoop3/examples/src/main/java/org/apache/spark/examples/ml/JavaLogisticRegressionWithElasticNetExample.java\r\n",
      "spark-3.3.1-bin-hadoop3/examples/src/main/java/org/apache/spark/examples/ml/JavaMaxAbsScalerExample.java\r\n",
      "spark-3.3.1-bin-hadoop3/examples/src/main/java/org/apache/spark/examples/ml/JavaMinHashLSHExample.java\r\n",
      "spark-3.3.1-bin-hadoop3/examples/src/main/java/org/apache/spark/examples/ml/JavaMinMaxScalerExample.java\r\n",
      "spark-3.3.1-bin-hadoop3/examples/src/main/java/org/apache/spark/examples/ml/JavaModelSelectionViaCrossValidationExample.java\r\n",
      "spark-3.3.1-bin-hadoop3/examples/src/main/java/org/apache/spark/examples/ml/JavaModelSelectionViaTrainValidationSplitExample.java\r\n",
      "spark-3.3.1-bin-hadoop3/examples/src/main/java/org/apache/spark/examples/ml/JavaMulticlassLogisticRegressionWithElasticNetExample.java\r\n",
      "spark-3.3.1-bin-hadoop3/examples/src/main/java/org/apache/spark/examples/ml/JavaMultilayerPerceptronClassifierExample.java\r\n",
      "spark-3.3.1-bin-hadoop3/examples/src/main/java/org/apache/spark/examples/ml/JavaNGramExample.java\r\n",
      "spark-3.3.1-bin-hadoop3/examples/src/main/java/org/apache/spark/examples/ml/JavaNaiveBayesExample.java\r\n",
      "spark-3.3.1-bin-hadoop3/examples/src/main/java/org/apache/spark/examples/ml/JavaNormalizerExample.java\r\n",
      "spark-3.3.1-bin-hadoop3/examples/src/main/java/org/apache/spark/examples/ml/JavaOneHotEncoderExample.java\r\n",
      "spark-3.3.1-bin-hadoop3/examples/src/main/java/org/apache/spark/examples/ml/JavaOneVsRestExample.java\r\n",
      "spark-3.3.1-bin-hadoop3/examples/src/main/java/org/apache/spark/examples/ml/JavaPCAExample.java\r\n",
      "spark-3.3.1-bin-hadoop3/examples/src/main/java/org/apache/spark/examples/ml/JavaPipelineExample.java\r\n",
      "spark-3.3.1-bin-hadoop3/examples/src/main/java/org/apache/spark/examples/ml/JavaPolynomialExpansionExample.java\r\n",
      "spark-3.3.1-bin-hadoop3/examples/src/main/java/org/apache/spark/examples/ml/JavaPowerIterationClusteringExample.java\r\n",
      "spark-3.3.1-bin-hadoop3/examples/src/main/java/org/apache/spark/examples/ml/JavaPrefixSpanExample.java\r\n",
      "spark-3.3.1-bin-hadoop3/examples/src/main/java/org/apache/spark/examples/ml/JavaQuantileDiscretizerExample.java\r\n",
      "spark-3.3.1-bin-hadoop3/examples/src/main/java/org/apache/spark/examples/ml/JavaRFormulaExample.java\r\n",
      "spark-3.3.1-bin-hadoop3/examples/src/main/java/org/apache/spark/examples/ml/JavaRandomForestClassifierExample.java\r\n",
      "spark-3.3.1-bin-hadoop3/examples/src/main/java/org/apache/spark/examples/ml/JavaRandomForestRegressorExample.java\r\n",
      "spark-3.3.1-bin-hadoop3/examples/src/main/java/org/apache/spark/examples/ml/JavaRobustScalerExample.java\r\n",
      "spark-3.3.1-bin-hadoop3/examples/src/main/java/org/apache/spark/examples/ml/JavaSQLTransformerExample.java\r\n",
      "spark-3.3.1-bin-hadoop3/examples/src/main/java/org/apache/spark/examples/ml/JavaStandardScalerExample.java\r\n",
      "spark-3.3.1-bin-hadoop3/examples/src/main/java/org/apache/spark/examples/ml/JavaStopWordsRemoverExample.java\r\n",
      "spark-3.3.1-bin-hadoop3/examples/src/main/java/org/apache/spark/examples/ml/JavaStringIndexerExample.java\r\n",
      "spark-3.3.1-bin-hadoop3/examples/src/main/java/org/apache/spark/examples/ml/JavaSummarizerExample.java\r\n",
      "spark-3.3.1-bin-hadoop3/examples/src/main/java/org/apache/spark/examples/ml/JavaTfIdfExample.java\r\n",
      "spark-3.3.1-bin-hadoop3/examples/src/main/java/org/apache/spark/examples/ml/JavaTokenizerExample.java\r\n",
      "spark-3.3.1-bin-hadoop3/examples/src/main/java/org/apache/spark/examples/ml/JavaUnivariateFeatureSelectorExample.java\r\n",
      "spark-3.3.1-bin-hadoop3/examples/src/main/java/org/apache/spark/examples/ml/JavaVarianceThresholdSelectorExample.java\r\n",
      "spark-3.3.1-bin-hadoop3/examples/src/main/java/org/apache/spark/examples/ml/JavaVectorAssemblerExample.java\r\n",
      "spark-3.3.1-bin-hadoop3/examples/src/main/java/org/apache/spark/examples/ml/JavaVectorIndexerExample.java\r\n",
      "spark-3.3.1-bin-hadoop3/examples/src/main/java/org/apache/spark/examples/ml/JavaVectorSizeHintExample.java\r\n",
      "spark-3.3.1-bin-hadoop3/examples/src/main/java/org/apache/spark/examples/ml/JavaVectorSlicerExample.java\r\n",
      "spark-3.3.1-bin-hadoop3/examples/src/main/java/org/apache/spark/examples/ml/JavaWord2VecExample.java\r\n",
      "spark-3.3.1-bin-hadoop3/examples/src/main/java/org/apache/spark/examples/mllib/\r\n",
      "spark-3.3.1-bin-hadoop3/examples/src/main/java/org/apache/spark/examples/mllib/JavaALS.java\r\n",
      "spark-3.3.1-bin-hadoop3/examples/src/main/java/org/apache/spark/examples/mllib/JavaAssociationRulesExample.java\r\n",
      "spark-3.3.1-bin-hadoop3/examples/src/main/java/org/apache/spark/examples/mllib/JavaBinaryClassificationMetricsExample.java\r\n",
      "spark-3.3.1-bin-hadoop3/examples/src/main/java/org/apache/spark/examples/mllib/JavaBisectingKMeansExample.java\r\n",
      "spark-3.3.1-bin-hadoop3/examples/src/main/java/org/apache/spark/examples/mllib/JavaChiSqSelectorExample.java\r\n",
      "spark-3.3.1-bin-hadoop3/examples/src/main/java/org/apache/spark/examples/mllib/JavaCorrelationsExample.java\r\n",
      "spark-3.3.1-bin-hadoop3/examples/src/main/java/org/apache/spark/examples/mllib/JavaDecisionTreeClassificationExample.java\r\n",
      "spark-3.3.1-bin-hadoop3/examples/src/main/java/org/apache/spark/examples/mllib/JavaDecisionTreeRegressionExample.java\r\n",
      "spark-3.3.1-bin-hadoop3/examples/src/main/java/org/apache/spark/examples/mllib/JavaElementwiseProductExample.java\r\n",
      "spark-3.3.1-bin-hadoop3/examples/src/main/java/org/apache/spark/examples/mllib/JavaGaussianMixtureExample.java\r\n",
      "spark-3.3.1-bin-hadoop3/examples/src/main/java/org/apache/spark/examples/mllib/JavaGradientBoostingClassificationExample.java\r\n",
      "spark-3.3.1-bin-hadoop3/examples/src/main/java/org/apache/spark/examples/mllib/JavaGradientBoostingRegressionExample.java\r\n",
      "spark-3.3.1-bin-hadoop3/examples/src/main/java/org/apache/spark/examples/mllib/JavaHypothesisTestingExample.java\r\n",
      "spark-3.3.1-bin-hadoop3/examples/src/main/java/org/apache/spark/examples/mllib/JavaHypothesisTestingKolmogorovSmirnovTestExample.java\r\n",
      "spark-3.3.1-bin-hadoop3/examples/src/main/java/org/apache/spark/examples/mllib/JavaIsotonicRegressionExample.java\r\n",
      "spark-3.3.1-bin-hadoop3/examples/src/main/java/org/apache/spark/examples/mllib/JavaKMeansExample.java\r\n",
      "spark-3.3.1-bin-hadoop3/examples/src/main/java/org/apache/spark/examples/mllib/JavaKernelDensityEstimationExample.java\r\n",
      "spark-3.3.1-bin-hadoop3/examples/src/main/java/org/apache/spark/examples/mllib/JavaLBFGSExample.java\r\n",
      "spark-3.3.1-bin-hadoop3/examples/src/main/java/org/apache/spark/examples/mllib/JavaLatentDirichletAllocationExample.java\r\n",
      "spark-3.3.1-bin-hadoop3/examples/src/main/java/org/apache/spark/examples/mllib/JavaLogisticRegressionWithLBFGSExample.java\r\n",
      "spark-3.3.1-bin-hadoop3/examples/src/main/java/org/apache/spark/examples/mllib/JavaMultiLabelClassificationMetricsExample.java\r\n",
      "spark-3.3.1-bin-hadoop3/examples/src/main/java/org/apache/spark/examples/mllib/JavaMulticlassClassificationMetricsExample.java\r\n",
      "spark-3.3.1-bin-hadoop3/examples/src/main/java/org/apache/spark/examples/mllib/JavaNaiveBayesExample.java\r\n",
      "spark-3.3.1-bin-hadoop3/examples/src/main/java/org/apache/spark/examples/mllib/JavaPCAExample.java\r\n",
      "spark-3.3.1-bin-hadoop3/examples/src/main/java/org/apache/spark/examples/mllib/JavaPowerIterationClusteringExample.java\r\n",
      "spark-3.3.1-bin-hadoop3/examples/src/main/java/org/apache/spark/examples/mllib/JavaPrefixSpanExample.java\r\n",
      "spark-3.3.1-bin-hadoop3/examples/src/main/java/org/apache/spark/examples/mllib/JavaRandomForestClassificationExample.java\r\n",
      "spark-3.3.1-bin-hadoop3/examples/src/main/java/org/apache/spark/examples/mllib/JavaRandomForestRegressionExample.java\r\n",
      "spark-3.3.1-bin-hadoop3/examples/src/main/java/org/apache/spark/examples/mllib/JavaRankingMetricsExample.java\r\n",
      "spark-3.3.1-bin-hadoop3/examples/src/main/java/org/apache/spark/examples/mllib/JavaRecommendationExample.java\r\n",
      "spark-3.3.1-bin-hadoop3/examples/src/main/java/org/apache/spark/examples/mllib/JavaSVDExample.java\r\n",
      "spark-3.3.1-bin-hadoop3/examples/src/main/java/org/apache/spark/examples/mllib/JavaSVMWithSGDExample.java\r\n",
      "spark-3.3.1-bin-hadoop3/examples/src/main/java/org/apache/spark/examples/mllib/JavaSimpleFPGrowth.java\r\n",
      "spark-3.3.1-bin-hadoop3/examples/src/main/java/org/apache/spark/examples/mllib/JavaStratifiedSamplingExample.java\r\n",
      "spark-3.3.1-bin-hadoop3/examples/src/main/java/org/apache/spark/examples/mllib/JavaStreamingTestExample.java\r\n",
      "spark-3.3.1-bin-hadoop3/examples/src/main/java/org/apache/spark/examples/mllib/JavaSummaryStatisticsExample.java\r\n",
      "spark-3.3.1-bin-hadoop3/examples/src/main/java/org/apache/spark/examples/sql/\r\n",
      "spark-3.3.1-bin-hadoop3/examples/src/main/java/org/apache/spark/examples/sql/JavaSQLDataSourceExample.java\r\n",
      "spark-3.3.1-bin-hadoop3/examples/src/main/java/org/apache/spark/examples/sql/JavaSparkSQLExample.java\r\n",
      "spark-3.3.1-bin-hadoop3/examples/src/main/java/org/apache/spark/examples/sql/JavaUserDefinedScalar.java\r\n",
      "spark-3.3.1-bin-hadoop3/examples/src/main/java/org/apache/spark/examples/sql/JavaUserDefinedTypedAggregation.java\r\n",
      "spark-3.3.1-bin-hadoop3/examples/src/main/java/org/apache/spark/examples/sql/JavaUserDefinedUntypedAggregation.java\r\n",
      "spark-3.3.1-bin-hadoop3/examples/src/main/java/org/apache/spark/examples/sql/hive/\r\n",
      "spark-3.3.1-bin-hadoop3/examples/src/main/java/org/apache/spark/examples/sql/hive/JavaSparkHiveExample.java\r\n",
      "spark-3.3.1-bin-hadoop3/examples/src/main/java/org/apache/spark/examples/sql/streaming/\r\n",
      "spark-3.3.1-bin-hadoop3/examples/src/main/java/org/apache/spark/examples/sql/streaming/JavaStructuredComplexSessionization.java\r\n",
      "spark-3.3.1-bin-hadoop3/examples/src/main/java/org/apache/spark/examples/sql/streaming/JavaStructuredKafkaWordCount.java\r\n",
      "spark-3.3.1-bin-hadoop3/examples/src/main/java/org/apache/spark/examples/sql/streaming/JavaStructuredKerberizedKafkaWordCount.java\r\n",
      "spark-3.3.1-bin-hadoop3/examples/src/main/java/org/apache/spark/examples/sql/streaming/JavaStructuredNetworkWordCount.java\r\n",
      "spark-3.3.1-bin-hadoop3/examples/src/main/java/org/apache/spark/examples/sql/streaming/JavaStructuredNetworkWordCountWindowed.java\r\n",
      "spark-3.3.1-bin-hadoop3/examples/src/main/java/org/apache/spark/examples/sql/streaming/JavaStructuredSessionization.java\r\n",
      "spark-3.3.1-bin-hadoop3/examples/src/main/java/org/apache/spark/examples/streaming/\r\n",
      "spark-3.3.1-bin-hadoop3/examples/src/main/java/org/apache/spark/examples/streaming/JavaCustomReceiver.java\r\n",
      "spark-3.3.1-bin-hadoop3/examples/src/main/java/org/apache/spark/examples/streaming/JavaDirectKafkaWordCount.java\r\n",
      "spark-3.3.1-bin-hadoop3/examples/src/main/java/org/apache/spark/examples/streaming/JavaDirectKerberizedKafkaWordCount.java\r\n",
      "spark-3.3.1-bin-hadoop3/examples/src/main/java/org/apache/spark/examples/streaming/JavaNetworkWordCount.java\r\n",
      "spark-3.3.1-bin-hadoop3/examples/src/main/java/org/apache/spark/examples/streaming/JavaQueueStream.java\r\n",
      "spark-3.3.1-bin-hadoop3/examples/src/main/java/org/apache/spark/examples/streaming/JavaRecord.java\r\n",
      "spark-3.3.1-bin-hadoop3/examples/src/main/java/org/apache/spark/examples/streaming/JavaRecoverableNetworkWordCount.java\r\n",
      "spark-3.3.1-bin-hadoop3/examples/src/main/java/org/apache/spark/examples/streaming/JavaSqlNetworkWordCount.java\r\n",
      "spark-3.3.1-bin-hadoop3/examples/src/main/java/org/apache/spark/examples/streaming/JavaStatefulNetworkWordCount.java\r\n",
      "spark-3.3.1-bin-hadoop3/examples/src/main/python/\r\n",
      "spark-3.3.1-bin-hadoop3/examples/src/main/python/__init__.py\r\n",
      "spark-3.3.1-bin-hadoop3/examples/src/main/python/als.py\r\n",
      "spark-3.3.1-bin-hadoop3/examples/src/main/python/avro_inputformat.py\r\n",
      "spark-3.3.1-bin-hadoop3/examples/src/main/python/kmeans.py\r\n",
      "spark-3.3.1-bin-hadoop3/examples/src/main/python/logistic_regression.py\r\n",
      "spark-3.3.1-bin-hadoop3/examples/src/main/python/ml/\r\n",
      "spark-3.3.1-bin-hadoop3/examples/src/main/python/ml/__init__,py\r\n",
      "spark-3.3.1-bin-hadoop3/examples/src/main/python/ml/aft_survival_regression.py\r\n",
      "spark-3.3.1-bin-hadoop3/examples/src/main/python/ml/als_example.py\r\n",
      "spark-3.3.1-bin-hadoop3/examples/src/main/python/ml/binarizer_example.py\r\n",
      "spark-3.3.1-bin-hadoop3/examples/src/main/python/ml/bisecting_k_means_example.py\r\n",
      "spark-3.3.1-bin-hadoop3/examples/src/main/python/ml/bucketed_random_projection_lsh_example.py\r\n",
      "spark-3.3.1-bin-hadoop3/examples/src/main/python/ml/bucketizer_example.py\r\n",
      "spark-3.3.1-bin-hadoop3/examples/src/main/python/ml/chi_square_test_example.py\r\n",
      "spark-3.3.1-bin-hadoop3/examples/src/main/python/ml/chisq_selector_example.py\r\n",
      "spark-3.3.1-bin-hadoop3/examples/src/main/python/ml/correlation_example.py\r\n",
      "spark-3.3.1-bin-hadoop3/examples/src/main/python/ml/count_vectorizer_example.py\r\n",
      "spark-3.3.1-bin-hadoop3/examples/src/main/python/ml/cross_validator.py\r\n",
      "spark-3.3.1-bin-hadoop3/examples/src/main/python/ml/dataframe_example.py\r\n",
      "spark-3.3.1-bin-hadoop3/examples/src/main/python/ml/dct_example.py\r\n",
      "spark-3.3.1-bin-hadoop3/examples/src/main/python/ml/decision_tree_classification_example.py\r\n",
      "spark-3.3.1-bin-hadoop3/examples/src/main/python/ml/decision_tree_regression_example.py\r\n",
      "spark-3.3.1-bin-hadoop3/examples/src/main/python/ml/elementwise_product_example.py\r\n",
      "spark-3.3.1-bin-hadoop3/examples/src/main/python/ml/estimator_transformer_param_example.py\r\n",
      "spark-3.3.1-bin-hadoop3/examples/src/main/python/ml/feature_hasher_example.py\r\n",
      "spark-3.3.1-bin-hadoop3/examples/src/main/python/ml/fm_classifier_example.py\r\n",
      "spark-3.3.1-bin-hadoop3/examples/src/main/python/ml/fm_regressor_example.py\r\n",
      "spark-3.3.1-bin-hadoop3/examples/src/main/python/ml/fpgrowth_example.py\r\n",
      "spark-3.3.1-bin-hadoop3/examples/src/main/python/ml/gaussian_mixture_example.py\r\n",
      "spark-3.3.1-bin-hadoop3/examples/src/main/python/ml/generalized_linear_regression_example.py\r\n",
      "spark-3.3.1-bin-hadoop3/examples/src/main/python/ml/gradient_boosted_tree_classifier_example.py\r\n",
      "spark-3.3.1-bin-hadoop3/examples/src/main/python/ml/gradient_boosted_tree_regressor_example.py\r\n",
      "spark-3.3.1-bin-hadoop3/examples/src/main/python/ml/imputer_example.py\r\n",
      "spark-3.3.1-bin-hadoop3/examples/src/main/python/ml/index_to_string_example.py\r\n",
      "spark-3.3.1-bin-hadoop3/examples/src/main/python/ml/interaction_example.py\r\n",
      "spark-3.3.1-bin-hadoop3/examples/src/main/python/ml/isotonic_regression_example.py\r\n",
      "spark-3.3.1-bin-hadoop3/examples/src/main/python/ml/kmeans_example.py\r\n",
      "spark-3.3.1-bin-hadoop3/examples/src/main/python/ml/lda_example.py\r\n",
      "spark-3.3.1-bin-hadoop3/examples/src/main/python/ml/linear_regression_with_elastic_net.py\r\n",
      "spark-3.3.1-bin-hadoop3/examples/src/main/python/ml/linearsvc.py\r\n",
      "spark-3.3.1-bin-hadoop3/examples/src/main/python/ml/logistic_regression_summary_example.py\r\n",
      "spark-3.3.1-bin-hadoop3/examples/src/main/python/ml/logistic_regression_with_elastic_net.py\r\n",
      "spark-3.3.1-bin-hadoop3/examples/src/main/python/ml/max_abs_scaler_example.py\r\n",
      "spark-3.3.1-bin-hadoop3/examples/src/main/python/ml/min_hash_lsh_example.py\r\n",
      "spark-3.3.1-bin-hadoop3/examples/src/main/python/ml/min_max_scaler_example.py\r\n",
      "spark-3.3.1-bin-hadoop3/examples/src/main/python/ml/multiclass_logistic_regression_with_elastic_net.py\r\n",
      "spark-3.3.1-bin-hadoop3/examples/src/main/python/ml/multilayer_perceptron_classification.py\r\n",
      "spark-3.3.1-bin-hadoop3/examples/src/main/python/ml/n_gram_example.py\r\n",
      "spark-3.3.1-bin-hadoop3/examples/src/main/python/ml/naive_bayes_example.py\r\n",
      "spark-3.3.1-bin-hadoop3/examples/src/main/python/ml/normalizer_example.py\r\n",
      "spark-3.3.1-bin-hadoop3/examples/src/main/python/ml/one_vs_rest_example.py\r\n",
      "spark-3.3.1-bin-hadoop3/examples/src/main/python/ml/onehot_encoder_example.py\r\n",
      "spark-3.3.1-bin-hadoop3/examples/src/main/python/ml/pca_example.py\r\n",
      "spark-3.3.1-bin-hadoop3/examples/src/main/python/ml/pipeline_example.py\r\n",
      "spark-3.3.1-bin-hadoop3/examples/src/main/python/ml/polynomial_expansion_example.py\r\n",
      "spark-3.3.1-bin-hadoop3/examples/src/main/python/ml/power_iteration_clustering_example.py\r\n",
      "spark-3.3.1-bin-hadoop3/examples/src/main/python/ml/prefixspan_example.py\r\n",
      "spark-3.3.1-bin-hadoop3/examples/src/main/python/ml/quantile_discretizer_example.py\r\n",
      "spark-3.3.1-bin-hadoop3/examples/src/main/python/ml/random_forest_classifier_example.py\r\n",
      "spark-3.3.1-bin-hadoop3/examples/src/main/python/ml/random_forest_regressor_example.py\r\n",
      "spark-3.3.1-bin-hadoop3/examples/src/main/python/ml/rformula_example.py\r\n",
      "spark-3.3.1-bin-hadoop3/examples/src/main/python/ml/robust_scaler_example.py\r\n",
      "spark-3.3.1-bin-hadoop3/examples/src/main/python/ml/sql_transformer.py\r\n",
      "spark-3.3.1-bin-hadoop3/examples/src/main/python/ml/standard_scaler_example.py\r\n",
      "spark-3.3.1-bin-hadoop3/examples/src/main/python/ml/stopwords_remover_example.py\r\n",
      "spark-3.3.1-bin-hadoop3/examples/src/main/python/ml/string_indexer_example.py\r\n",
      "spark-3.3.1-bin-hadoop3/examples/src/main/python/ml/summarizer_example.py\r\n",
      "spark-3.3.1-bin-hadoop3/examples/src/main/python/ml/tf_idf_example.py\r\n",
      "spark-3.3.1-bin-hadoop3/examples/src/main/python/ml/tokenizer_example.py\r\n",
      "spark-3.3.1-bin-hadoop3/examples/src/main/python/ml/train_validation_split.py\r\n",
      "spark-3.3.1-bin-hadoop3/examples/src/main/python/ml/univariate_feature_selector_example.py\r\n",
      "spark-3.3.1-bin-hadoop3/examples/src/main/python/ml/variance_threshold_selector_example.py\r\n",
      "spark-3.3.1-bin-hadoop3/examples/src/main/python/ml/vector_assembler_example.py\r\n",
      "spark-3.3.1-bin-hadoop3/examples/src/main/python/ml/vector_indexer_example.py\r\n",
      "spark-3.3.1-bin-hadoop3/examples/src/main/python/ml/vector_size_hint_example.py\r\n",
      "spark-3.3.1-bin-hadoop3/examples/src/main/python/ml/vector_slicer_example.py\r\n",
      "spark-3.3.1-bin-hadoop3/examples/src/main/python/ml/word2vec_example.py\r\n",
      "spark-3.3.1-bin-hadoop3/examples/src/main/python/mllib/\r\n",
      "spark-3.3.1-bin-hadoop3/examples/src/main/python/mllib/__init__.py\r\n",
      "spark-3.3.1-bin-hadoop3/examples/src/main/python/mllib/binary_classification_metrics_example.py\r\n",
      "spark-3.3.1-bin-hadoop3/examples/src/main/python/mllib/bisecting_k_means_example.py\r\n",
      "spark-3.3.1-bin-hadoop3/examples/src/main/python/mllib/correlations.py\r\n",
      "spark-3.3.1-bin-hadoop3/examples/src/main/python/mllib/correlations_example.py\r\n",
      "spark-3.3.1-bin-hadoop3/examples/src/main/python/mllib/decision_tree_classification_example.py\r\n",
      "spark-3.3.1-bin-hadoop3/examples/src/main/python/mllib/decision_tree_regression_example.py\r\n",
      "spark-3.3.1-bin-hadoop3/examples/src/main/python/mllib/elementwise_product_example.py\r\n",
      "spark-3.3.1-bin-hadoop3/examples/src/main/python/mllib/fpgrowth_example.py\r\n",
      "spark-3.3.1-bin-hadoop3/examples/src/main/python/mllib/gaussian_mixture_example.py\r\n",
      "spark-3.3.1-bin-hadoop3/examples/src/main/python/mllib/gaussian_mixture_model.py\r\n",
      "spark-3.3.1-bin-hadoop3/examples/src/main/python/mllib/gradient_boosting_classification_example.py\r\n",
      "spark-3.3.1-bin-hadoop3/examples/src/main/python/mllib/gradient_boosting_regression_example.py\r\n",
      "spark-3.3.1-bin-hadoop3/examples/src/main/python/mllib/hypothesis_testing_example.py\r\n",
      "spark-3.3.1-bin-hadoop3/examples/src/main/python/mllib/hypothesis_testing_kolmogorov_smirnov_test_example.py\r\n",
      "spark-3.3.1-bin-hadoop3/examples/src/main/python/mllib/isotonic_regression_example.py\r\n",
      "spark-3.3.1-bin-hadoop3/examples/src/main/python/mllib/k_means_example.py\r\n",
      "spark-3.3.1-bin-hadoop3/examples/src/main/python/mllib/kernel_density_estimation_example.py\r\n",
      "spark-3.3.1-bin-hadoop3/examples/src/main/python/mllib/kmeans.py\r\n",
      "spark-3.3.1-bin-hadoop3/examples/src/main/python/mllib/latent_dirichlet_allocation_example.py\r\n",
      "spark-3.3.1-bin-hadoop3/examples/src/main/python/mllib/linear_regression_with_sgd_example.py\r\n",
      "spark-3.3.1-bin-hadoop3/examples/src/main/python/mllib/logistic_regression.py\r\n",
      "spark-3.3.1-bin-hadoop3/examples/src/main/python/mllib/logistic_regression_with_lbfgs_example.py\r\n",
      "spark-3.3.1-bin-hadoop3/examples/src/main/python/mllib/multi_class_metrics_example.py\r\n",
      "spark-3.3.1-bin-hadoop3/examples/src/main/python/mllib/multi_label_metrics_example.py\r\n",
      "spark-3.3.1-bin-hadoop3/examples/src/main/python/mllib/naive_bayes_example.py\r\n",
      "spark-3.3.1-bin-hadoop3/examples/src/main/python/mllib/normalizer_example.py\r\n",
      "spark-3.3.1-bin-hadoop3/examples/src/main/python/mllib/pca_rowmatrix_example.py\r\n",
      "spark-3.3.1-bin-hadoop3/examples/src/main/python/mllib/power_iteration_clustering_example.py\r\n",
      "spark-3.3.1-bin-hadoop3/examples/src/main/python/mllib/random_forest_classification_example.py\r\n",
      "spark-3.3.1-bin-hadoop3/examples/src/main/python/mllib/random_forest_regression_example.py\r\n",
      "spark-3.3.1-bin-hadoop3/examples/src/main/python/mllib/random_rdd_generation.py\r\n",
      "spark-3.3.1-bin-hadoop3/examples/src/main/python/mllib/ranking_metrics_example.py\r\n",
      "spark-3.3.1-bin-hadoop3/examples/src/main/python/mllib/recommendation_example.py\r\n",
      "spark-3.3.1-bin-hadoop3/examples/src/main/python/mllib/regression_metrics_example.py\r\n",
      "spark-3.3.1-bin-hadoop3/examples/src/main/python/mllib/sampled_rdds.py\r\n",
      "spark-3.3.1-bin-hadoop3/examples/src/main/python/mllib/standard_scaler_example.py\r\n",
      "spark-3.3.1-bin-hadoop3/examples/src/main/python/mllib/stratified_sampling_example.py\r\n",
      "spark-3.3.1-bin-hadoop3/examples/src/main/python/mllib/streaming_k_means_example.py\r\n",
      "spark-3.3.1-bin-hadoop3/examples/src/main/python/mllib/streaming_linear_regression_example.py\r\n",
      "spark-3.3.1-bin-hadoop3/examples/src/main/python/mllib/summary_statistics_example.py\r\n",
      "spark-3.3.1-bin-hadoop3/examples/src/main/python/mllib/svd_example.py\r\n",
      "spark-3.3.1-bin-hadoop3/examples/src/main/python/mllib/svm_with_sgd_example.py\r\n",
      "spark-3.3.1-bin-hadoop3/examples/src/main/python/mllib/tf_idf_example.py\r\n",
      "spark-3.3.1-bin-hadoop3/examples/src/main/python/mllib/word2vec.py\r\n",
      "spark-3.3.1-bin-hadoop3/examples/src/main/python/mllib/word2vec_example.py\r\n",
      "spark-3.3.1-bin-hadoop3/examples/src/main/python/pagerank.py\r\n",
      "spark-3.3.1-bin-hadoop3/examples/src/main/python/parquet_inputformat.py\r\n",
      "spark-3.3.1-bin-hadoop3/examples/src/main/python/pi.py\r\n",
      "spark-3.3.1-bin-hadoop3/examples/src/main/python/sort.py\r\n",
      "spark-3.3.1-bin-hadoop3/examples/src/main/python/sql/\r\n",
      "spark-3.3.1-bin-hadoop3/examples/src/main/python/sql/__init__.py\r\n",
      "spark-3.3.1-bin-hadoop3/examples/src/main/python/sql/arrow.py\r\n",
      "spark-3.3.1-bin-hadoop3/examples/src/main/python/sql/basic.py\r\n",
      "spark-3.3.1-bin-hadoop3/examples/src/main/python/sql/datasource.py\r\n",
      "spark-3.3.1-bin-hadoop3/examples/src/main/python/sql/hive.py\r\n",
      "spark-3.3.1-bin-hadoop3/examples/src/main/python/sql/streaming/\r\n",
      "spark-3.3.1-bin-hadoop3/examples/src/main/python/sql/streaming/__init__,py\r\n",
      "spark-3.3.1-bin-hadoop3/examples/src/main/python/sql/streaming/structured_kafka_wordcount.py\r\n",
      "spark-3.3.1-bin-hadoop3/examples/src/main/python/sql/streaming/structured_network_wordcount.py\r\n",
      "spark-3.3.1-bin-hadoop3/examples/src/main/python/sql/streaming/structured_network_wordcount_windowed.py\r\n",
      "spark-3.3.1-bin-hadoop3/examples/src/main/python/sql/streaming/structured_sessionization.py\r\n",
      "spark-3.3.1-bin-hadoop3/examples/src/main/python/status_api_demo.py\r\n",
      "spark-3.3.1-bin-hadoop3/examples/src/main/python/streaming/\r\n",
      "spark-3.3.1-bin-hadoop3/examples/src/main/python/streaming/__init__.py\r\n",
      "spark-3.3.1-bin-hadoop3/examples/src/main/python/streaming/hdfs_wordcount.py\r\n",
      "spark-3.3.1-bin-hadoop3/examples/src/main/python/streaming/network_wordcount.py\r\n",
      "spark-3.3.1-bin-hadoop3/examples/src/main/python/streaming/network_wordjoinsentiments.py\r\n",
      "spark-3.3.1-bin-hadoop3/examples/src/main/python/streaming/queue_stream.py\r\n",
      "spark-3.3.1-bin-hadoop3/examples/src/main/python/streaming/recoverable_network_wordcount.py\r\n",
      "spark-3.3.1-bin-hadoop3/examples/src/main/python/streaming/sql_network_wordcount.py\r\n",
      "spark-3.3.1-bin-hadoop3/examples/src/main/python/streaming/stateful_network_wordcount.py\r\n",
      "spark-3.3.1-bin-hadoop3/examples/src/main/python/transitive_closure.py\r\n",
      "spark-3.3.1-bin-hadoop3/examples/src/main/python/wordcount.py\r\n",
      "spark-3.3.1-bin-hadoop3/examples/src/main/r/\r\n",
      "spark-3.3.1-bin-hadoop3/examples/src/main/r/RSparkSQLExample.R\r\n",
      "spark-3.3.1-bin-hadoop3/examples/src/main/r/data-manipulation.R\r\n",
      "spark-3.3.1-bin-hadoop3/examples/src/main/r/dataframe.R\r\n",
      "spark-3.3.1-bin-hadoop3/examples/src/main/r/ml/\r\n",
      "spark-3.3.1-bin-hadoop3/examples/src/main/r/ml/als.R\r\n",
      "spark-3.3.1-bin-hadoop3/examples/src/main/r/ml/bisectingKmeans.R\r\n",
      "spark-3.3.1-bin-hadoop3/examples/src/main/r/ml/decisionTree.R\r\n",
      "spark-3.3.1-bin-hadoop3/examples/src/main/r/ml/fmClassifier.R\r\n",
      "spark-3.3.1-bin-hadoop3/examples/src/main/r/ml/fmRegressor.R\r\n",
      "spark-3.3.1-bin-hadoop3/examples/src/main/r/ml/fpm.R\r\n",
      "spark-3.3.1-bin-hadoop3/examples/src/main/r/ml/gaussianMixture.R\r\n",
      "spark-3.3.1-bin-hadoop3/examples/src/main/r/ml/gbt.R\r\n",
      "spark-3.3.1-bin-hadoop3/examples/src/main/r/ml/glm.R\r\n",
      "spark-3.3.1-bin-hadoop3/examples/src/main/r/ml/isoreg.R\r\n",
      "spark-3.3.1-bin-hadoop3/examples/src/main/r/ml/kmeans.R\r\n",
      "spark-3.3.1-bin-hadoop3/examples/src/main/r/ml/kstest.R\r\n",
      "spark-3.3.1-bin-hadoop3/examples/src/main/r/ml/lda.R\r\n",
      "spark-3.3.1-bin-hadoop3/examples/src/main/r/ml/lm_with_elastic_net.R\r\n",
      "spark-3.3.1-bin-hadoop3/examples/src/main/r/ml/logit.R\r\n",
      "spark-3.3.1-bin-hadoop3/examples/src/main/r/ml/ml.R\r\n",
      "spark-3.3.1-bin-hadoop3/examples/src/main/r/ml/mlp.R\r\n",
      "spark-3.3.1-bin-hadoop3/examples/src/main/r/ml/naiveBayes.R\r\n",
      "spark-3.3.1-bin-hadoop3/examples/src/main/r/ml/powerIterationClustering.R\r\n",
      "spark-3.3.1-bin-hadoop3/examples/src/main/r/ml/prefixSpan.R\r\n",
      "spark-3.3.1-bin-hadoop3/examples/src/main/r/ml/randomForest.R\r\n",
      "spark-3.3.1-bin-hadoop3/examples/src/main/r/ml/survreg.R\r\n",
      "spark-3.3.1-bin-hadoop3/examples/src/main/r/ml/svmLinear.R\r\n",
      "spark-3.3.1-bin-hadoop3/examples/src/main/r/streaming/\r\n",
      "spark-3.3.1-bin-hadoop3/examples/src/main/r/streaming/structured_network_wordcount.R\r\n",
      "spark-3.3.1-bin-hadoop3/examples/src/main/resources/\r\n",
      "spark-3.3.1-bin-hadoop3/examples/src/main/resources/META-INF/\r\n",
      "spark-3.3.1-bin-hadoop3/examples/src/main/resources/META-INF/services/\r\n",
      "spark-3.3.1-bin-hadoop3/examples/src/main/resources/META-INF/services/org.apache.spark.sql.SparkSessionExtensionsProvider\r\n",
      "spark-3.3.1-bin-hadoop3/examples/src/main/resources/META-INF/services/org.apache.spark.sql.jdbc.JdbcConnectionProvider\r\n",
      "spark-3.3.1-bin-hadoop3/examples/src/main/resources/dir1/\r\n",
      "spark-3.3.1-bin-hadoop3/examples/src/main/resources/dir1/dir2/\r\n",
      "spark-3.3.1-bin-hadoop3/examples/src/main/resources/dir1/dir2/file2.parquet\r\n",
      "spark-3.3.1-bin-hadoop3/examples/src/main/resources/dir1/file1.parquet\r\n",
      "spark-3.3.1-bin-hadoop3/examples/src/main/resources/dir1/file3.json\r\n",
      "spark-3.3.1-bin-hadoop3/examples/src/main/resources/employees.json\r\n",
      "spark-3.3.1-bin-hadoop3/examples/src/main/resources/full_user.avsc\r\n",
      "spark-3.3.1-bin-hadoop3/examples/src/main/resources/kv1.txt\r\n",
      "spark-3.3.1-bin-hadoop3/examples/src/main/resources/people.csv\r\n",
      "spark-3.3.1-bin-hadoop3/examples/src/main/resources/people.json\r\n",
      "spark-3.3.1-bin-hadoop3/examples/src/main/resources/people.txt\r\n",
      "spark-3.3.1-bin-hadoop3/examples/src/main/resources/user.avsc\r\n",
      "spark-3.3.1-bin-hadoop3/examples/src/main/resources/users.avro\r\n",
      "spark-3.3.1-bin-hadoop3/examples/src/main/resources/users.orc\r\n",
      "spark-3.3.1-bin-hadoop3/examples/src/main/resources/users.parquet\r\n",
      "spark-3.3.1-bin-hadoop3/examples/src/main/scala/\r\n",
      "spark-3.3.1-bin-hadoop3/examples/src/main/scala/org/\r\n",
      "spark-3.3.1-bin-hadoop3/examples/src/main/scala/org/apache/\r\n",
      "spark-3.3.1-bin-hadoop3/examples/src/main/scala/org/apache/spark/\r\n",
      "spark-3.3.1-bin-hadoop3/examples/src/main/scala/org/apache/spark/examples/\r\n",
      "spark-3.3.1-bin-hadoop3/examples/src/main/scala/org/apache/spark/examples/AccumulatorMetricsTest.scala\r\n",
      "spark-3.3.1-bin-hadoop3/examples/src/main/scala/org/apache/spark/examples/BroadcastTest.scala\r\n",
      "spark-3.3.1-bin-hadoop3/examples/src/main/scala/org/apache/spark/examples/DFSReadWriteTest.scala\r\n",
      "spark-3.3.1-bin-hadoop3/examples/src/main/scala/org/apache/spark/examples/DriverSubmissionTest.scala\r\n",
      "spark-3.3.1-bin-hadoop3/examples/src/main/scala/org/apache/spark/examples/ExceptionHandlingTest.scala\r\n",
      "spark-3.3.1-bin-hadoop3/examples/src/main/scala/org/apache/spark/examples/GroupByTest.scala\r\n",
      "spark-3.3.1-bin-hadoop3/examples/src/main/scala/org/apache/spark/examples/HdfsTest.scala\r\n",
      "spark-3.3.1-bin-hadoop3/examples/src/main/scala/org/apache/spark/examples/LocalALS.scala\r\n",
      "spark-3.3.1-bin-hadoop3/examples/src/main/scala/org/apache/spark/examples/LocalFileLR.scala\r\n",
      "spark-3.3.1-bin-hadoop3/examples/src/main/scala/org/apache/spark/examples/LocalKMeans.scala\r\n",
      "spark-3.3.1-bin-hadoop3/examples/src/main/scala/org/apache/spark/examples/LocalLR.scala\r\n",
      "spark-3.3.1-bin-hadoop3/examples/src/main/scala/org/apache/spark/examples/LocalPi.scala\r\n",
      "spark-3.3.1-bin-hadoop3/examples/src/main/scala/org/apache/spark/examples/LogQuery.scala\r\n",
      "spark-3.3.1-bin-hadoop3/examples/src/main/scala/org/apache/spark/examples/MiniReadWriteTest.scala\r\n",
      "spark-3.3.1-bin-hadoop3/examples/src/main/scala/org/apache/spark/examples/MultiBroadcastTest.scala\r\n",
      "spark-3.3.1-bin-hadoop3/examples/src/main/scala/org/apache/spark/examples/SimpleSkewedGroupByTest.scala\r\n",
      "spark-3.3.1-bin-hadoop3/examples/src/main/scala/org/apache/spark/examples/SkewedGroupByTest.scala\r\n",
      "spark-3.3.1-bin-hadoop3/examples/src/main/scala/org/apache/spark/examples/SparkALS.scala\r\n",
      "spark-3.3.1-bin-hadoop3/examples/src/main/scala/org/apache/spark/examples/SparkHdfsLR.scala\r\n",
      "spark-3.3.1-bin-hadoop3/examples/src/main/scala/org/apache/spark/examples/SparkKMeans.scala\r\n",
      "spark-3.3.1-bin-hadoop3/examples/src/main/scala/org/apache/spark/examples/SparkLR.scala\r\n",
      "spark-3.3.1-bin-hadoop3/examples/src/main/scala/org/apache/spark/examples/SparkPageRank.scala\r\n",
      "spark-3.3.1-bin-hadoop3/examples/src/main/scala/org/apache/spark/examples/SparkPi.scala\r\n",
      "spark-3.3.1-bin-hadoop3/examples/src/main/scala/org/apache/spark/examples/SparkRemoteFileTest.scala\r\n",
      "spark-3.3.1-bin-hadoop3/examples/src/main/scala/org/apache/spark/examples/SparkTC.scala\r\n",
      "spark-3.3.1-bin-hadoop3/examples/src/main/scala/org/apache/spark/examples/extensions/\r\n",
      "spark-3.3.1-bin-hadoop3/examples/src/main/scala/org/apache/spark/examples/extensions/AgeExample.scala\r\n",
      "spark-3.3.1-bin-hadoop3/examples/src/main/scala/org/apache/spark/examples/extensions/SessionExtensionsWithLoader.scala\r\n",
      "spark-3.3.1-bin-hadoop3/examples/src/main/scala/org/apache/spark/examples/extensions/SessionExtensionsWithoutLoader.scala\r\n",
      "spark-3.3.1-bin-hadoop3/examples/src/main/scala/org/apache/spark/examples/extensions/SparkSessionExtensionsTest.scala\r\n",
      "spark-3.3.1-bin-hadoop3/examples/src/main/scala/org/apache/spark/examples/graphx/\r\n",
      "spark-3.3.1-bin-hadoop3/examples/src/main/scala/org/apache/spark/examples/graphx/AggregateMessagesExample.scala\r\n",
      "spark-3.3.1-bin-hadoop3/examples/src/main/scala/org/apache/spark/examples/graphx/Analytics.scala\r\n",
      "spark-3.3.1-bin-hadoop3/examples/src/main/scala/org/apache/spark/examples/graphx/ComprehensiveExample.scala\r\n",
      "spark-3.3.1-bin-hadoop3/examples/src/main/scala/org/apache/spark/examples/graphx/ConnectedComponentsExample.scala\r\n",
      "spark-3.3.1-bin-hadoop3/examples/src/main/scala/org/apache/spark/examples/graphx/LiveJournalPageRank.scala\r\n",
      "spark-3.3.1-bin-hadoop3/examples/src/main/scala/org/apache/spark/examples/graphx/PageRankExample.scala\r\n",
      "spark-3.3.1-bin-hadoop3/examples/src/main/scala/org/apache/spark/examples/graphx/SSSPExample.scala\r\n",
      "spark-3.3.1-bin-hadoop3/examples/src/main/scala/org/apache/spark/examples/graphx/SynthBenchmark.scala\r\n",
      "spark-3.3.1-bin-hadoop3/examples/src/main/scala/org/apache/spark/examples/graphx/TriangleCountingExample.scala\r\n",
      "spark-3.3.1-bin-hadoop3/examples/src/main/scala/org/apache/spark/examples/ml/\r\n",
      "spark-3.3.1-bin-hadoop3/examples/src/main/scala/org/apache/spark/examples/ml/AFTSurvivalRegressionExample.scala\r\n",
      "spark-3.3.1-bin-hadoop3/examples/src/main/scala/org/apache/spark/examples/ml/ALSExample.scala\r\n",
      "spark-3.3.1-bin-hadoop3/examples/src/main/scala/org/apache/spark/examples/ml/BinarizerExample.scala\r\n",
      "spark-3.3.1-bin-hadoop3/examples/src/main/scala/org/apache/spark/examples/ml/BisectingKMeansExample.scala\r\n",
      "spark-3.3.1-bin-hadoop3/examples/src/main/scala/org/apache/spark/examples/ml/BucketedRandomProjectionLSHExample.scala\r\n",
      "spark-3.3.1-bin-hadoop3/examples/src/main/scala/org/apache/spark/examples/ml/BucketizerExample.scala\r\n",
      "spark-3.3.1-bin-hadoop3/examples/src/main/scala/org/apache/spark/examples/ml/ChiSqSelectorExample.scala\r\n",
      "spark-3.3.1-bin-hadoop3/examples/src/main/scala/org/apache/spark/examples/ml/ChiSquareTestExample.scala\r\n",
      "spark-3.3.1-bin-hadoop3/examples/src/main/scala/org/apache/spark/examples/ml/CorrelationExample.scala\r\n",
      "spark-3.3.1-bin-hadoop3/examples/src/main/scala/org/apache/spark/examples/ml/CountVectorizerExample.scala\r\n",
      "spark-3.3.1-bin-hadoop3/examples/src/main/scala/org/apache/spark/examples/ml/DCTExample.scala\r\n",
      "spark-3.3.1-bin-hadoop3/examples/src/main/scala/org/apache/spark/examples/ml/DataFrameExample.scala\r\n",
      "spark-3.3.1-bin-hadoop3/examples/src/main/scala/org/apache/spark/examples/ml/DecisionTreeClassificationExample.scala\r\n",
      "spark-3.3.1-bin-hadoop3/examples/src/main/scala/org/apache/spark/examples/ml/DecisionTreeExample.scala\r\n",
      "spark-3.3.1-bin-hadoop3/examples/src/main/scala/org/apache/spark/examples/ml/DecisionTreeRegressionExample.scala\r\n",
      "spark-3.3.1-bin-hadoop3/examples/src/main/scala/org/apache/spark/examples/ml/DeveloperApiExample.scala\r\n",
      "spark-3.3.1-bin-hadoop3/examples/src/main/scala/org/apache/spark/examples/ml/ElementwiseProductExample.scala\r\n",
      "spark-3.3.1-bin-hadoop3/examples/src/main/scala/org/apache/spark/examples/ml/EstimatorTransformerParamExample.scala\r\n",
      "spark-3.3.1-bin-hadoop3/examples/src/main/scala/org/apache/spark/examples/ml/FMClassifierExample.scala\r\n",
      "spark-3.3.1-bin-hadoop3/examples/src/main/scala/org/apache/spark/examples/ml/FMRegressorExample.scala\r\n",
      "spark-3.3.1-bin-hadoop3/examples/src/main/scala/org/apache/spark/examples/ml/FPGrowthExample.scala\r\n",
      "spark-3.3.1-bin-hadoop3/examples/src/main/scala/org/apache/spark/examples/ml/FeatureHasherExample.scala\r\n",
      "spark-3.3.1-bin-hadoop3/examples/src/main/scala/org/apache/spark/examples/ml/GBTExample.scala\r\n",
      "spark-3.3.1-bin-hadoop3/examples/src/main/scala/org/apache/spark/examples/ml/GaussianMixtureExample.scala\r\n",
      "spark-3.3.1-bin-hadoop3/examples/src/main/scala/org/apache/spark/examples/ml/GeneralizedLinearRegressionExample.scala\r\n",
      "spark-3.3.1-bin-hadoop3/examples/src/main/scala/org/apache/spark/examples/ml/GradientBoostedTreeClassifierExample.scala\r\n",
      "spark-3.3.1-bin-hadoop3/examples/src/main/scala/org/apache/spark/examples/ml/GradientBoostedTreeRegressorExample.scala\r\n",
      "spark-3.3.1-bin-hadoop3/examples/src/main/scala/org/apache/spark/examples/ml/ImputerExample.scala\r\n",
      "spark-3.3.1-bin-hadoop3/examples/src/main/scala/org/apache/spark/examples/ml/IndexToStringExample.scala\r\n",
      "spark-3.3.1-bin-hadoop3/examples/src/main/scala/org/apache/spark/examples/ml/InteractionExample.scala\r\n",
      "spark-3.3.1-bin-hadoop3/examples/src/main/scala/org/apache/spark/examples/ml/IsotonicRegressionExample.scala\r\n",
      "spark-3.3.1-bin-hadoop3/examples/src/main/scala/org/apache/spark/examples/ml/KMeansExample.scala\r\n",
      "spark-3.3.1-bin-hadoop3/examples/src/main/scala/org/apache/spark/examples/ml/LDAExample.scala\r\n",
      "spark-3.3.1-bin-hadoop3/examples/src/main/scala/org/apache/spark/examples/ml/LinearRegressionExample.scala\r\n",
      "spark-3.3.1-bin-hadoop3/examples/src/main/scala/org/apache/spark/examples/ml/LinearRegressionWithElasticNetExample.scala\r\n",
      "spark-3.3.1-bin-hadoop3/examples/src/main/scala/org/apache/spark/examples/ml/LinearSVCExample.scala\r\n",
      "spark-3.3.1-bin-hadoop3/examples/src/main/scala/org/apache/spark/examples/ml/LogisticRegressionExample.scala\r\n",
      "spark-3.3.1-bin-hadoop3/examples/src/main/scala/org/apache/spark/examples/ml/LogisticRegressionSummaryExample.scala\r\n",
      "spark-3.3.1-bin-hadoop3/examples/src/main/scala/org/apache/spark/examples/ml/LogisticRegressionWithElasticNetExample.scala\r\n",
      "spark-3.3.1-bin-hadoop3/examples/src/main/scala/org/apache/spark/examples/ml/MaxAbsScalerExample.scala\r\n",
      "spark-3.3.1-bin-hadoop3/examples/src/main/scala/org/apache/spark/examples/ml/MinHashLSHExample.scala\r\n",
      "spark-3.3.1-bin-hadoop3/examples/src/main/scala/org/apache/spark/examples/ml/MinMaxScalerExample.scala\r\n",
      "spark-3.3.1-bin-hadoop3/examples/src/main/scala/org/apache/spark/examples/ml/ModelSelectionViaCrossValidationExample.scala\r\n",
      "spark-3.3.1-bin-hadoop3/examples/src/main/scala/org/apache/spark/examples/ml/ModelSelectionViaTrainValidationSplitExample.scala\r\n",
      "spark-3.3.1-bin-hadoop3/examples/src/main/scala/org/apache/spark/examples/ml/MulticlassLogisticRegressionWithElasticNetExample.scala\r\n",
      "spark-3.3.1-bin-hadoop3/examples/src/main/scala/org/apache/spark/examples/ml/MultilayerPerceptronClassifierExample.scala\r\n",
      "spark-3.3.1-bin-hadoop3/examples/src/main/scala/org/apache/spark/examples/ml/NGramExample.scala\r\n",
      "spark-3.3.1-bin-hadoop3/examples/src/main/scala/org/apache/spark/examples/ml/NaiveBayesExample.scala\r\n",
      "spark-3.3.1-bin-hadoop3/examples/src/main/scala/org/apache/spark/examples/ml/NormalizerExample.scala\r\n",
      "spark-3.3.1-bin-hadoop3/examples/src/main/scala/org/apache/spark/examples/ml/OneHotEncoderExample.scala\r\n",
      "spark-3.3.1-bin-hadoop3/examples/src/main/scala/org/apache/spark/examples/ml/OneVsRestExample.scala\r\n",
      "spark-3.3.1-bin-hadoop3/examples/src/main/scala/org/apache/spark/examples/ml/PCAExample.scala\r\n",
      "spark-3.3.1-bin-hadoop3/examples/src/main/scala/org/apache/spark/examples/ml/PipelineExample.scala\r\n",
      "spark-3.3.1-bin-hadoop3/examples/src/main/scala/org/apache/spark/examples/ml/PolynomialExpansionExample.scala\r\n",
      "spark-3.3.1-bin-hadoop3/examples/src/main/scala/org/apache/spark/examples/ml/PowerIterationClusteringExample.scala\r\n",
      "spark-3.3.1-bin-hadoop3/examples/src/main/scala/org/apache/spark/examples/ml/PrefixSpanExample.scala\r\n",
      "spark-3.3.1-bin-hadoop3/examples/src/main/scala/org/apache/spark/examples/ml/QuantileDiscretizerExample.scala\r\n",
      "spark-3.3.1-bin-hadoop3/examples/src/main/scala/org/apache/spark/examples/ml/RFormulaExample.scala\r\n",
      "spark-3.3.1-bin-hadoop3/examples/src/main/scala/org/apache/spark/examples/ml/RandomForestClassifierExample.scala\r\n",
      "spark-3.3.1-bin-hadoop3/examples/src/main/scala/org/apache/spark/examples/ml/RandomForestExample.scala\r\n",
      "spark-3.3.1-bin-hadoop3/examples/src/main/scala/org/apache/spark/examples/ml/RandomForestRegressorExample.scala\r\n",
      "spark-3.3.1-bin-hadoop3/examples/src/main/scala/org/apache/spark/examples/ml/RobustScalerExample.scala\r\n",
      "spark-3.3.1-bin-hadoop3/examples/src/main/scala/org/apache/spark/examples/ml/SQLTransformerExample.scala\r\n",
      "spark-3.3.1-bin-hadoop3/examples/src/main/scala/org/apache/spark/examples/ml/StandardScalerExample.scala\r\n",
      "spark-3.3.1-bin-hadoop3/examples/src/main/scala/org/apache/spark/examples/ml/StopWordsRemoverExample.scala\r\n",
      "spark-3.3.1-bin-hadoop3/examples/src/main/scala/org/apache/spark/examples/ml/StringIndexerExample.scala\r\n",
      "spark-3.3.1-bin-hadoop3/examples/src/main/scala/org/apache/spark/examples/ml/SummarizerExample.scala\r\n",
      "spark-3.3.1-bin-hadoop3/examples/src/main/scala/org/apache/spark/examples/ml/TfIdfExample.scala\r\n",
      "spark-3.3.1-bin-hadoop3/examples/src/main/scala/org/apache/spark/examples/ml/TokenizerExample.scala\r\n",
      "spark-3.3.1-bin-hadoop3/examples/src/main/scala/org/apache/spark/examples/ml/UnaryTransformerExample.scala\r\n",
      "spark-3.3.1-bin-hadoop3/examples/src/main/scala/org/apache/spark/examples/ml/UnivariateFeatureSelectorExample.scala\r\n",
      "spark-3.3.1-bin-hadoop3/examples/src/main/scala/org/apache/spark/examples/ml/VarianceThresholdSelectorExample.scala\r\n",
      "spark-3.3.1-bin-hadoop3/examples/src/main/scala/org/apache/spark/examples/ml/VectorAssemblerExample.scala\r\n",
      "spark-3.3.1-bin-hadoop3/examples/src/main/scala/org/apache/spark/examples/ml/VectorIndexerExample.scala\r\n",
      "spark-3.3.1-bin-hadoop3/examples/src/main/scala/org/apache/spark/examples/ml/VectorSizeHintExample.scala\r\n",
      "spark-3.3.1-bin-hadoop3/examples/src/main/scala/org/apache/spark/examples/ml/VectorSlicerExample.scala\r\n",
      "spark-3.3.1-bin-hadoop3/examples/src/main/scala/org/apache/spark/examples/ml/Word2VecExample.scala\r\n",
      "spark-3.3.1-bin-hadoop3/examples/src/main/scala/org/apache/spark/examples/mllib/\r\n",
      "spark-3.3.1-bin-hadoop3/examples/src/main/scala/org/apache/spark/examples/mllib/AbstractParams.scala\r\n",
      "spark-3.3.1-bin-hadoop3/examples/src/main/scala/org/apache/spark/examples/mllib/AssociationRulesExample.scala\r\n",
      "spark-3.3.1-bin-hadoop3/examples/src/main/scala/org/apache/spark/examples/mllib/BinaryClassification.scala\r\n",
      "spark-3.3.1-bin-hadoop3/examples/src/main/scala/org/apache/spark/examples/mllib/BinaryClassificationMetricsExample.scala\r\n",
      "spark-3.3.1-bin-hadoop3/examples/src/main/scala/org/apache/spark/examples/mllib/BisectingKMeansExample.scala\r\n",
      "spark-3.3.1-bin-hadoop3/examples/src/main/scala/org/apache/spark/examples/mllib/ChiSqSelectorExample.scala\r\n",
      "spark-3.3.1-bin-hadoop3/examples/src/main/scala/org/apache/spark/examples/mllib/Correlations.scala\r\n",
      "spark-3.3.1-bin-hadoop3/examples/src/main/scala/org/apache/spark/examples/mllib/CorrelationsExample.scala\r\n",
      "spark-3.3.1-bin-hadoop3/examples/src/main/scala/org/apache/spark/examples/mllib/CosineSimilarity.scala\r\n",
      "spark-3.3.1-bin-hadoop3/examples/src/main/scala/org/apache/spark/examples/mllib/DecisionTreeClassificationExample.scala\r\n",
      "spark-3.3.1-bin-hadoop3/examples/src/main/scala/org/apache/spark/examples/mllib/DecisionTreeRegressionExample.scala\r\n",
      "spark-3.3.1-bin-hadoop3/examples/src/main/scala/org/apache/spark/examples/mllib/DecisionTreeRunner.scala\r\n",
      "spark-3.3.1-bin-hadoop3/examples/src/main/scala/org/apache/spark/examples/mllib/DenseKMeans.scala\r\n",
      "spark-3.3.1-bin-hadoop3/examples/src/main/scala/org/apache/spark/examples/mllib/ElementwiseProductExample.scala\r\n",
      "spark-3.3.1-bin-hadoop3/examples/src/main/scala/org/apache/spark/examples/mllib/FPGrowthExample.scala\r\n",
      "spark-3.3.1-bin-hadoop3/examples/src/main/scala/org/apache/spark/examples/mllib/GaussianMixtureExample.scala\r\n",
      "spark-3.3.1-bin-hadoop3/examples/src/main/scala/org/apache/spark/examples/mllib/GradientBoostedTreesRunner.scala\r\n",
      "spark-3.3.1-bin-hadoop3/examples/src/main/scala/org/apache/spark/examples/mllib/GradientBoostingClassificationExample.scala\r\n",
      "spark-3.3.1-bin-hadoop3/examples/src/main/scala/org/apache/spark/examples/mllib/GradientBoostingRegressionExample.scala\r\n",
      "spark-3.3.1-bin-hadoop3/examples/src/main/scala/org/apache/spark/examples/mllib/HypothesisTestingExample.scala\r\n",
      "spark-3.3.1-bin-hadoop3/examples/src/main/scala/org/apache/spark/examples/mllib/HypothesisTestingKolmogorovSmirnovTestExample.scala\r\n",
      "spark-3.3.1-bin-hadoop3/examples/src/main/scala/org/apache/spark/examples/mllib/IsotonicRegressionExample.scala\r\n",
      "spark-3.3.1-bin-hadoop3/examples/src/main/scala/org/apache/spark/examples/mllib/KMeansExample.scala\r\n",
      "spark-3.3.1-bin-hadoop3/examples/src/main/scala/org/apache/spark/examples/mllib/KernelDensityEstimationExample.scala\r\n",
      "spark-3.3.1-bin-hadoop3/examples/src/main/scala/org/apache/spark/examples/mllib/LBFGSExample.scala\r\n",
      "spark-3.3.1-bin-hadoop3/examples/src/main/scala/org/apache/spark/examples/mllib/LDAExample.scala\r\n",
      "spark-3.3.1-bin-hadoop3/examples/src/main/scala/org/apache/spark/examples/mllib/LatentDirichletAllocationExample.scala\r\n",
      "spark-3.3.1-bin-hadoop3/examples/src/main/scala/org/apache/spark/examples/mllib/LogisticRegressionWithLBFGSExample.scala\r\n",
      "spark-3.3.1-bin-hadoop3/examples/src/main/scala/org/apache/spark/examples/mllib/MovieLensALS.scala\r\n",
      "spark-3.3.1-bin-hadoop3/examples/src/main/scala/org/apache/spark/examples/mllib/MultiLabelMetricsExample.scala\r\n",
      "spark-3.3.1-bin-hadoop3/examples/src/main/scala/org/apache/spark/examples/mllib/MulticlassMetricsExample.scala\r\n",
      "spark-3.3.1-bin-hadoop3/examples/src/main/scala/org/apache/spark/examples/mllib/MultivariateSummarizer.scala\r\n",
      "spark-3.3.1-bin-hadoop3/examples/src/main/scala/org/apache/spark/examples/mllib/NaiveBayesExample.scala\r\n",
      "spark-3.3.1-bin-hadoop3/examples/src/main/scala/org/apache/spark/examples/mllib/NormalizerExample.scala\r\n",
      "spark-3.3.1-bin-hadoop3/examples/src/main/scala/org/apache/spark/examples/mllib/PCAOnRowMatrixExample.scala\r\n",
      "spark-3.3.1-bin-hadoop3/examples/src/main/scala/org/apache/spark/examples/mllib/PCAOnSourceVectorExample.scala\r\n",
      "spark-3.3.1-bin-hadoop3/examples/src/main/scala/org/apache/spark/examples/mllib/PMMLModelExportExample.scala\r\n",
      "spark-3.3.1-bin-hadoop3/examples/src/main/scala/org/apache/spark/examples/mllib/PowerIterationClusteringExample.scala\r\n",
      "spark-3.3.1-bin-hadoop3/examples/src/main/scala/org/apache/spark/examples/mllib/PrefixSpanExample.scala\r\n",
      "spark-3.3.1-bin-hadoop3/examples/src/main/scala/org/apache/spark/examples/mllib/RandomForestClassificationExample.scala\r\n",
      "spark-3.3.1-bin-hadoop3/examples/src/main/scala/org/apache/spark/examples/mllib/RandomForestRegressionExample.scala\r\n",
      "spark-3.3.1-bin-hadoop3/examples/src/main/scala/org/apache/spark/examples/mllib/RandomRDDGeneration.scala\r\n",
      "spark-3.3.1-bin-hadoop3/examples/src/main/scala/org/apache/spark/examples/mllib/RankingMetricsExample.scala\r\n",
      "spark-3.3.1-bin-hadoop3/examples/src/main/scala/org/apache/spark/examples/mllib/RecommendationExample.scala\r\n",
      "spark-3.3.1-bin-hadoop3/examples/src/main/scala/org/apache/spark/examples/mllib/SVDExample.scala\r\n",
      "spark-3.3.1-bin-hadoop3/examples/src/main/scala/org/apache/spark/examples/mllib/SVMWithSGDExample.scala\r\n",
      "spark-3.3.1-bin-hadoop3/examples/src/main/scala/org/apache/spark/examples/mllib/SampledRDDs.scala\r\n",
      "spark-3.3.1-bin-hadoop3/examples/src/main/scala/org/apache/spark/examples/mllib/SimpleFPGrowth.scala\r\n",
      "spark-3.3.1-bin-hadoop3/examples/src/main/scala/org/apache/spark/examples/mllib/SparseNaiveBayes.scala\r\n",
      "spark-3.3.1-bin-hadoop3/examples/src/main/scala/org/apache/spark/examples/mllib/StandardScalerExample.scala\r\n",
      "spark-3.3.1-bin-hadoop3/examples/src/main/scala/org/apache/spark/examples/mllib/StratifiedSamplingExample.scala\r\n",
      "spark-3.3.1-bin-hadoop3/examples/src/main/scala/org/apache/spark/examples/mllib/StreamingKMeansExample.scala\r\n",
      "spark-3.3.1-bin-hadoop3/examples/src/main/scala/org/apache/spark/examples/mllib/StreamingLinearRegressionExample.scala\r\n",
      "spark-3.3.1-bin-hadoop3/examples/src/main/scala/org/apache/spark/examples/mllib/StreamingLogisticRegression.scala\r\n",
      "spark-3.3.1-bin-hadoop3/examples/src/main/scala/org/apache/spark/examples/mllib/StreamingTestExample.scala\r\n",
      "spark-3.3.1-bin-hadoop3/examples/src/main/scala/org/apache/spark/examples/mllib/SummaryStatisticsExample.scala\r\n",
      "spark-3.3.1-bin-hadoop3/examples/src/main/scala/org/apache/spark/examples/mllib/TFIDFExample.scala\r\n",
      "spark-3.3.1-bin-hadoop3/examples/src/main/scala/org/apache/spark/examples/mllib/TallSkinnyPCA.scala\r\n",
      "spark-3.3.1-bin-hadoop3/examples/src/main/scala/org/apache/spark/examples/mllib/TallSkinnySVD.scala\r\n",
      "spark-3.3.1-bin-hadoop3/examples/src/main/scala/org/apache/spark/examples/mllib/Word2VecExample.scala\r\n",
      "spark-3.3.1-bin-hadoop3/examples/src/main/scala/org/apache/spark/examples/pythonconverters/\r\n",
      "spark-3.3.1-bin-hadoop3/examples/src/main/scala/org/apache/spark/examples/pythonconverters/AvroConverters.scala\r\n",
      "spark-3.3.1-bin-hadoop3/examples/src/main/scala/org/apache/spark/examples/sql/\r\n",
      "spark-3.3.1-bin-hadoop3/examples/src/main/scala/org/apache/spark/examples/sql/RDDRelation.scala\r\n",
      "spark-3.3.1-bin-hadoop3/examples/src/main/scala/org/apache/spark/examples/sql/SQLDataSourceExample.scala\r\n",
      "spark-3.3.1-bin-hadoop3/examples/src/main/scala/org/apache/spark/examples/sql/SimpleTypedAggregator.scala\r\n",
      "spark-3.3.1-bin-hadoop3/examples/src/main/scala/org/apache/spark/examples/sql/SparkSQLExample.scala\r\n",
      "spark-3.3.1-bin-hadoop3/examples/src/main/scala/org/apache/spark/examples/sql/UserDefinedScalar.scala\r\n",
      "spark-3.3.1-bin-hadoop3/examples/src/main/scala/org/apache/spark/examples/sql/UserDefinedTypedAggregation.scala\r\n",
      "spark-3.3.1-bin-hadoop3/examples/src/main/scala/org/apache/spark/examples/sql/UserDefinedUntypedAggregation.scala\r\n",
      "spark-3.3.1-bin-hadoop3/examples/src/main/scala/org/apache/spark/examples/sql/hive/\r\n",
      "spark-3.3.1-bin-hadoop3/examples/src/main/scala/org/apache/spark/examples/sql/hive/SparkHiveExample.scala\r\n",
      "spark-3.3.1-bin-hadoop3/examples/src/main/scala/org/apache/spark/examples/sql/jdbc/\r\n",
      "spark-3.3.1-bin-hadoop3/examples/src/main/scala/org/apache/spark/examples/sql/jdbc/ExampleJdbcConnectionProvider.scala\r\n",
      "spark-3.3.1-bin-hadoop3/examples/src/main/scala/org/apache/spark/examples/sql/streaming/\r\n",
      "spark-3.3.1-bin-hadoop3/examples/src/main/scala/org/apache/spark/examples/sql/streaming/StructuredComplexSessionization.scala\r\n",
      "spark-3.3.1-bin-hadoop3/examples/src/main/scala/org/apache/spark/examples/sql/streaming/StructuredKafkaWordCount.scala\r\n",
      "spark-3.3.1-bin-hadoop3/examples/src/main/scala/org/apache/spark/examples/sql/streaming/StructuredKerberizedKafkaWordCount.scala\r\n",
      "spark-3.3.1-bin-hadoop3/examples/src/main/scala/org/apache/spark/examples/sql/streaming/StructuredNetworkWordCount.scala\r\n",
      "spark-3.3.1-bin-hadoop3/examples/src/main/scala/org/apache/spark/examples/sql/streaming/StructuredNetworkWordCountWindowed.scala\r\n",
      "spark-3.3.1-bin-hadoop3/examples/src/main/scala/org/apache/spark/examples/sql/streaming/StructuredSessionization.scala\r\n",
      "spark-3.3.1-bin-hadoop3/examples/src/main/scala/org/apache/spark/examples/streaming/\r\n",
      "spark-3.3.1-bin-hadoop3/examples/src/main/scala/org/apache/spark/examples/streaming/CustomReceiver.scala\r\n",
      "spark-3.3.1-bin-hadoop3/examples/src/main/scala/org/apache/spark/examples/streaming/DirectKafkaWordCount.scala\r\n",
      "spark-3.3.1-bin-hadoop3/examples/src/main/scala/org/apache/spark/examples/streaming/DirectKerberizedKafkaWordCount.scala\r\n",
      "spark-3.3.1-bin-hadoop3/examples/src/main/scala/org/apache/spark/examples/streaming/HdfsWordCount.scala\r\n",
      "spark-3.3.1-bin-hadoop3/examples/src/main/scala/org/apache/spark/examples/streaming/NetworkWordCount.scala\r\n",
      "spark-3.3.1-bin-hadoop3/examples/src/main/scala/org/apache/spark/examples/streaming/QueueStream.scala\r\n",
      "spark-3.3.1-bin-hadoop3/examples/src/main/scala/org/apache/spark/examples/streaming/RawNetworkGrep.scala\r\n",
      "spark-3.3.1-bin-hadoop3/examples/src/main/scala/org/apache/spark/examples/streaming/RecoverableNetworkWordCount.scala\r\n",
      "spark-3.3.1-bin-hadoop3/examples/src/main/scala/org/apache/spark/examples/streaming/SqlNetworkWordCount.scala\r\n",
      "spark-3.3.1-bin-hadoop3/examples/src/main/scala/org/apache/spark/examples/streaming/StatefulNetworkWordCount.scala\r\n",
      "spark-3.3.1-bin-hadoop3/examples/src/main/scala/org/apache/spark/examples/streaming/StreamingExamples.scala\r\n",
      "spark-3.3.1-bin-hadoop3/examples/src/main/scala/org/apache/spark/examples/streaming/clickstream/\r\n",
      "spark-3.3.1-bin-hadoop3/examples/src/main/scala/org/apache/spark/examples/streaming/clickstream/PageViewGenerator.scala\r\n",
      "spark-3.3.1-bin-hadoop3/examples/src/main/scala/org/apache/spark/examples/streaming/clickstream/PageViewStream.scala\r\n",
      "spark-3.3.1-bin-hadoop3/examples/src/main/scripts/\r\n",
      "spark-3.3.1-bin-hadoop3/examples/src/main/scripts/getGpusResources.sh\r\n",
      "spark-3.3.1-bin-hadoop3/jars/\r\n",
      "spark-3.3.1-bin-hadoop3/jars/HikariCP-2.5.1.jar\r\n",
      "spark-3.3.1-bin-hadoop3/jars/JLargeArrays-1.5.jar\r\n",
      "spark-3.3.1-bin-hadoop3/jars/JTransforms-3.1.jar\r\n",
      "spark-3.3.1-bin-hadoop3/jars/RoaringBitmap-0.9.25.jar\r\n",
      "spark-3.3.1-bin-hadoop3/jars/ST4-4.0.4.jar\r\n",
      "spark-3.3.1-bin-hadoop3/jars/activation-1.1.1.jar\r\n",
      "spark-3.3.1-bin-hadoop3/jars/aircompressor-0.21.jar\r\n",
      "spark-3.3.1-bin-hadoop3/jars/algebra_2.12-2.0.1.jar\r\n",
      "spark-3.3.1-bin-hadoop3/jars/annotations-17.0.0.jar\r\n",
      "spark-3.3.1-bin-hadoop3/jars/antlr-runtime-3.5.2.jar\r\n",
      "spark-3.3.1-bin-hadoop3/jars/antlr4-runtime-4.8.jar\r\n",
      "spark-3.3.1-bin-hadoop3/jars/aopalliance-repackaged-2.6.1.jar\r\n",
      "spark-3.3.1-bin-hadoop3/jars/arpack-2.2.1.jar\r\n",
      "spark-3.3.1-bin-hadoop3/jars/arpack_combined_all-0.1.jar\r\n",
      "spark-3.3.1-bin-hadoop3/jars/arrow-format-7.0.0.jar\r\n",
      "spark-3.3.1-bin-hadoop3/jars/arrow-memory-core-7.0.0.jar\r\n",
      "spark-3.3.1-bin-hadoop3/jars/arrow-memory-netty-7.0.0.jar\r\n",
      "spark-3.3.1-bin-hadoop3/jars/arrow-vector-7.0.0.jar\r\n",
      "spark-3.3.1-bin-hadoop3/jars/audience-annotations-0.5.0.jar\r\n",
      "spark-3.3.1-bin-hadoop3/jars/automaton-1.11-8.jar\r\n",
      "spark-3.3.1-bin-hadoop3/jars/avro-1.11.0.jar\r\n",
      "spark-3.3.1-bin-hadoop3/jars/avro-ipc-1.11.0.jar\r\n",
      "spark-3.3.1-bin-hadoop3/jars/avro-mapred-1.11.0.jar\r\n",
      "spark-3.3.1-bin-hadoop3/jars/blas-2.2.1.jar\r\n",
      "spark-3.3.1-bin-hadoop3/jars/bonecp-0.8.0.RELEASE.jar\r\n",
      "spark-3.3.1-bin-hadoop3/jars/breeze-macros_2.12-1.2.jar\r\n",
      "spark-3.3.1-bin-hadoop3/jars/breeze_2.12-1.2.jar\r\n",
      "spark-3.3.1-bin-hadoop3/jars/cats-kernel_2.12-2.1.1.jar\r\n",
      "spark-3.3.1-bin-hadoop3/jars/chill-java-0.10.0.jar\r\n",
      "spark-3.3.1-bin-hadoop3/jars/chill_2.12-0.10.0.jar\r\n",
      "spark-3.3.1-bin-hadoop3/jars/commons-cli-1.5.0.jar\r\n",
      "spark-3.3.1-bin-hadoop3/jars/commons-codec-1.15.jar\r\n",
      "spark-3.3.1-bin-hadoop3/jars/commons-collections-3.2.2.jar\r\n",
      "spark-3.3.1-bin-hadoop3/jars/commons-collections4-4.4.jar\r\n",
      "spark-3.3.1-bin-hadoop3/jars/commons-compiler-3.0.16.jar\r\n",
      "spark-3.3.1-bin-hadoop3/jars/commons-compress-1.21.jar\r\n",
      "spark-3.3.1-bin-hadoop3/jars/commons-crypto-1.1.0.jar\r\n",
      "spark-3.3.1-bin-hadoop3/jars/commons-dbcp-1.4.jar\r\n",
      "spark-3.3.1-bin-hadoop3/jars/commons-io-2.11.0.jar\r\n",
      "spark-3.3.1-bin-hadoop3/jars/commons-lang-2.6.jar\r\n",
      "spark-3.3.1-bin-hadoop3/jars/commons-lang3-3.12.0.jar\r\n",
      "spark-3.3.1-bin-hadoop3/jars/commons-logging-1.1.3.jar\r\n",
      "spark-3.3.1-bin-hadoop3/jars/commons-math3-3.6.1.jar\r\n",
      "spark-3.3.1-bin-hadoop3/jars/commons-pool-1.5.4.jar\r\n",
      "spark-3.3.1-bin-hadoop3/jars/commons-text-1.9.jar\r\n",
      "spark-3.3.1-bin-hadoop3/jars/compress-lzf-1.1.jar\r\n",
      "spark-3.3.1-bin-hadoop3/jars/core-1.1.2.jar\r\n",
      "spark-3.3.1-bin-hadoop3/jars/curator-client-2.13.0.jar\r\n",
      "spark-3.3.1-bin-hadoop3/jars/curator-framework-2.13.0.jar\r\n",
      "spark-3.3.1-bin-hadoop3/jars/curator-recipes-2.13.0.jar\r\n",
      "spark-3.3.1-bin-hadoop3/jars/datanucleus-api-jdo-4.2.4.jar\r\n",
      "spark-3.3.1-bin-hadoop3/jars/datanucleus-core-4.1.17.jar\r\n",
      "spark-3.3.1-bin-hadoop3/jars/datanucleus-rdbms-4.1.19.jar\r\n",
      "spark-3.3.1-bin-hadoop3/jars/derby-10.14.2.0.jar\r\n",
      "spark-3.3.1-bin-hadoop3/jars/dropwizard-metrics-hadoop-metrics2-reporter-0.1.2.jar\r\n",
      "spark-3.3.1-bin-hadoop3/jars/flatbuffers-java-1.12.0.jar\r\n",
      "spark-3.3.1-bin-hadoop3/jars/generex-1.0.2.jar\r\n",
      "spark-3.3.1-bin-hadoop3/jars/gson-2.2.4.jar\r\n",
      "spark-3.3.1-bin-hadoop3/jars/guava-14.0.1.jar\r\n",
      "spark-3.3.1-bin-hadoop3/jars/hadoop-client-api-3.3.2.jar\r\n",
      "spark-3.3.1-bin-hadoop3/jars/hadoop-client-runtime-3.3.2.jar\r\n",
      "spark-3.3.1-bin-hadoop3/jars/hadoop-shaded-guava-1.1.1.jar\r\n",
      "spark-3.3.1-bin-hadoop3/jars/hadoop-yarn-server-web-proxy-3.3.2.jar\r\n",
      "spark-3.3.1-bin-hadoop3/jars/hive-beeline-2.3.9.jar\r\n",
      "spark-3.3.1-bin-hadoop3/jars/hive-cli-2.3.9.jar\r\n",
      "spark-3.3.1-bin-hadoop3/jars/hive-common-2.3.9.jar\r\n",
      "spark-3.3.1-bin-hadoop3/jars/hive-exec-2.3.9-core.jar\r\n",
      "spark-3.3.1-bin-hadoop3/jars/hive-jdbc-2.3.9.jar\r\n",
      "spark-3.3.1-bin-hadoop3/jars/hive-llap-common-2.3.9.jar\r\n",
      "spark-3.3.1-bin-hadoop3/jars/hive-metastore-2.3.9.jar\r\n",
      "spark-3.3.1-bin-hadoop3/jars/hive-serde-2.3.9.jar\r\n",
      "spark-3.3.1-bin-hadoop3/jars/hive-service-rpc-3.1.2.jar\r\n",
      "spark-3.3.1-bin-hadoop3/jars/hive-shims-0.23-2.3.9.jar\r\n",
      "spark-3.3.1-bin-hadoop3/jars/hive-shims-2.3.9.jar\r\n",
      "spark-3.3.1-bin-hadoop3/jars/hive-shims-common-2.3.9.jar\r\n",
      "spark-3.3.1-bin-hadoop3/jars/hive-shims-scheduler-2.3.9.jar\r\n",
      "spark-3.3.1-bin-hadoop3/jars/hive-storage-api-2.7.2.jar\r\n",
      "spark-3.3.1-bin-hadoop3/jars/hive-vector-code-gen-2.3.9.jar\r\n",
      "spark-3.3.1-bin-hadoop3/jars/hk2-api-2.6.1.jar\r\n",
      "spark-3.3.1-bin-hadoop3/jars/hk2-locator-2.6.1.jar\r\n",
      "spark-3.3.1-bin-hadoop3/jars/hk2-utils-2.6.1.jar\r\n",
      "spark-3.3.1-bin-hadoop3/jars/httpclient-4.5.13.jar\r\n",
      "spark-3.3.1-bin-hadoop3/jars/httpcore-4.4.14.jar\r\n",
      "spark-3.3.1-bin-hadoop3/jars/istack-commons-runtime-3.0.8.jar\r\n",
      "spark-3.3.1-bin-hadoop3/jars/ivy-2.5.0.jar\r\n",
      "spark-3.3.1-bin-hadoop3/jars/jackson-annotations-2.13.4.jar\r\n",
      "spark-3.3.1-bin-hadoop3/jars/jackson-core-2.13.4.jar\r\n",
      "spark-3.3.1-bin-hadoop3/jars/jackson-core-asl-1.9.13.jar\r\n",
      "spark-3.3.1-bin-hadoop3/jars/jackson-databind-2.13.4.1.jar\r\n",
      "spark-3.3.1-bin-hadoop3/jars/jackson-dataformat-yaml-2.13.4.jar\r\n",
      "spark-3.3.1-bin-hadoop3/jars/jackson-datatype-jsr310-2.13.4.jar\r\n",
      "spark-3.3.1-bin-hadoop3/jars/jackson-mapper-asl-1.9.13.jar\r\n",
      "spark-3.3.1-bin-hadoop3/jars/jackson-module-scala_2.12-2.13.4.jar\r\n",
      "spark-3.3.1-bin-hadoop3/jars/jakarta.annotation-api-1.3.5.jar\r\n",
      "spark-3.3.1-bin-hadoop3/jars/jakarta.inject-2.6.1.jar\r\n",
      "spark-3.3.1-bin-hadoop3/jars/jakarta.servlet-api-4.0.3.jar\r\n",
      "spark-3.3.1-bin-hadoop3/jars/jakarta.validation-api-2.0.2.jar\r\n",
      "spark-3.3.1-bin-hadoop3/jars/jakarta.ws.rs-api-2.1.6.jar\r\n",
      "spark-3.3.1-bin-hadoop3/jars/jakarta.xml.bind-api-2.3.2.jar\r\n",
      "spark-3.3.1-bin-hadoop3/jars/janino-3.0.16.jar\r\n",
      "spark-3.3.1-bin-hadoop3/jars/javassist-3.25.0-GA.jar\r\n",
      "spark-3.3.1-bin-hadoop3/jars/javax.jdo-3.2.0-m3.jar\r\n",
      "spark-3.3.1-bin-hadoop3/jars/javolution-5.5.1.jar\r\n",
      "spark-3.3.1-bin-hadoop3/jars/jaxb-runtime-2.3.2.jar\r\n",
      "spark-3.3.1-bin-hadoop3/jars/jcl-over-slf4j-1.7.32.jar\r\n",
      "spark-3.3.1-bin-hadoop3/jars/jdo-api-3.0.1.jar\r\n",
      "spark-3.3.1-bin-hadoop3/jars/jersey-client-2.36.jar\r\n",
      "spark-3.3.1-bin-hadoop3/jars/jersey-common-2.36.jar\r\n",
      "spark-3.3.1-bin-hadoop3/jars/jersey-container-servlet-2.36.jar\r\n",
      "spark-3.3.1-bin-hadoop3/jars/jersey-container-servlet-core-2.36.jar\r\n",
      "spark-3.3.1-bin-hadoop3/jars/jersey-hk2-2.36.jar\r\n",
      "spark-3.3.1-bin-hadoop3/jars/jersey-server-2.36.jar\r\n",
      "spark-3.3.1-bin-hadoop3/jars/jline-2.14.6.jar\r\n",
      "spark-3.3.1-bin-hadoop3/jars/joda-time-2.10.13.jar\r\n",
      "spark-3.3.1-bin-hadoop3/jars/jodd-core-3.5.2.jar\r\n",
      "spark-3.3.1-bin-hadoop3/jars/jpam-1.1.jar\r\n",
      "spark-3.3.1-bin-hadoop3/jars/json-1.8.jar\r\n",
      "spark-3.3.1-bin-hadoop3/jars/json4s-ast_2.12-3.7.0-M11.jar\r\n",
      "spark-3.3.1-bin-hadoop3/jars/json4s-core_2.12-3.7.0-M11.jar\r\n",
      "spark-3.3.1-bin-hadoop3/jars/json4s-jackson_2.12-3.7.0-M11.jar\r\n",
      "spark-3.3.1-bin-hadoop3/jars/json4s-scalap_2.12-3.7.0-M11.jar\r\n",
      "spark-3.3.1-bin-hadoop3/jars/jsr305-3.0.0.jar\r\n",
      "spark-3.3.1-bin-hadoop3/jars/jta-1.1.jar\r\n",
      "spark-3.3.1-bin-hadoop3/jars/jul-to-slf4j-1.7.32.jar\r\n",
      "spark-3.3.1-bin-hadoop3/jars/kryo-shaded-4.0.2.jar\r\n",
      "spark-3.3.1-bin-hadoop3/jars/kubernetes-client-5.12.2.jar\r\n",
      "spark-3.3.1-bin-hadoop3/jars/kubernetes-model-admissionregistration-5.12.2.jar\r\n",
      "spark-3.3.1-bin-hadoop3/jars/kubernetes-model-apiextensions-5.12.2.jar\r\n",
      "spark-3.3.1-bin-hadoop3/jars/kubernetes-model-apps-5.12.2.jar\r\n",
      "spark-3.3.1-bin-hadoop3/jars/kubernetes-model-autoscaling-5.12.2.jar\r\n",
      "spark-3.3.1-bin-hadoop3/jars/kubernetes-model-batch-5.12.2.jar\r\n",
      "spark-3.3.1-bin-hadoop3/jars/kubernetes-model-certificates-5.12.2.jar\r\n",
      "spark-3.3.1-bin-hadoop3/jars/kubernetes-model-common-5.12.2.jar\r\n",
      "spark-3.3.1-bin-hadoop3/jars/kubernetes-model-coordination-5.12.2.jar\r\n",
      "spark-3.3.1-bin-hadoop3/jars/kubernetes-model-core-5.12.2.jar\r\n",
      "spark-3.3.1-bin-hadoop3/jars/kubernetes-model-discovery-5.12.2.jar\r\n",
      "spark-3.3.1-bin-hadoop3/jars/kubernetes-model-events-5.12.2.jar\r\n",
      "spark-3.3.1-bin-hadoop3/jars/kubernetes-model-extensions-5.12.2.jar\r\n",
      "spark-3.3.1-bin-hadoop3/jars/kubernetes-model-flowcontrol-5.12.2.jar\r\n",
      "spark-3.3.1-bin-hadoop3/jars/kubernetes-model-metrics-5.12.2.jar\r\n",
      "spark-3.3.1-bin-hadoop3/jars/kubernetes-model-networking-5.12.2.jar\r\n",
      "spark-3.3.1-bin-hadoop3/jars/kubernetes-model-node-5.12.2.jar\r\n",
      "spark-3.3.1-bin-hadoop3/jars/kubernetes-model-policy-5.12.2.jar\r\n",
      "spark-3.3.1-bin-hadoop3/jars/kubernetes-model-rbac-5.12.2.jar\r\n",
      "spark-3.3.1-bin-hadoop3/jars/kubernetes-model-scheduling-5.12.2.jar\r\n",
      "spark-3.3.1-bin-hadoop3/jars/kubernetes-model-storageclass-5.12.2.jar\r\n",
      "spark-3.3.1-bin-hadoop3/jars/lapack-2.2.1.jar\r\n",
      "spark-3.3.1-bin-hadoop3/jars/leveldbjni-all-1.8.jar\r\n",
      "spark-3.3.1-bin-hadoop3/jars/libfb303-0.9.3.jar\r\n",
      "spark-3.3.1-bin-hadoop3/jars/libthrift-0.12.0.jar\r\n",
      "spark-3.3.1-bin-hadoop3/jars/log4j-1.2-api-2.17.2.jar\r\n",
      "spark-3.3.1-bin-hadoop3/jars/log4j-api-2.17.2.jar\r\n",
      "spark-3.3.1-bin-hadoop3/jars/log4j-core-2.17.2.jar\r\n",
      "spark-3.3.1-bin-hadoop3/jars/log4j-slf4j-impl-2.17.2.jar\r\n",
      "spark-3.3.1-bin-hadoop3/jars/logging-interceptor-3.12.12.jar\r\n",
      "spark-3.3.1-bin-hadoop3/jars/lz4-java-1.8.0.jar\r\n",
      "spark-3.3.1-bin-hadoop3/jars/mesos-1.4.3-shaded-protobuf.jar\r\n",
      "spark-3.3.1-bin-hadoop3/jars/metrics-core-4.2.7.jar\r\n",
      "spark-3.3.1-bin-hadoop3/jars/metrics-graphite-4.2.7.jar\r\n",
      "spark-3.3.1-bin-hadoop3/jars/metrics-jmx-4.2.7.jar\r\n",
      "spark-3.3.1-bin-hadoop3/jars/metrics-json-4.2.7.jar\r\n",
      "spark-3.3.1-bin-hadoop3/jars/metrics-jvm-4.2.7.jar\r\n",
      "spark-3.3.1-bin-hadoop3/jars/minlog-1.3.0.jar\r\n",
      "spark-3.3.1-bin-hadoop3/jars/netty-all-4.1.74.Final.jar\r\n",
      "spark-3.3.1-bin-hadoop3/jars/netty-buffer-4.1.74.Final.jar\r\n",
      "spark-3.3.1-bin-hadoop3/jars/netty-codec-4.1.74.Final.jar\r\n",
      "spark-3.3.1-bin-hadoop3/jars/netty-common-4.1.74.Final.jar\r\n",
      "spark-3.3.1-bin-hadoop3/jars/netty-handler-4.1.74.Final.jar\r\n",
      "spark-3.3.1-bin-hadoop3/jars/netty-resolver-4.1.74.Final.jar\r\n",
      "spark-3.3.1-bin-hadoop3/jars/netty-tcnative-classes-2.0.48.Final.jar\r\n",
      "spark-3.3.1-bin-hadoop3/jars/netty-transport-4.1.74.Final.jar\r\n",
      "spark-3.3.1-bin-hadoop3/jars/netty-transport-classes-epoll-4.1.74.Final.jar\r\n",
      "spark-3.3.1-bin-hadoop3/jars/netty-transport-classes-kqueue-4.1.74.Final.jar\r\n",
      "spark-3.3.1-bin-hadoop3/jars/netty-transport-native-epoll-4.1.74.Final-linux-aarch_64.jar\r\n",
      "spark-3.3.1-bin-hadoop3/jars/netty-transport-native-epoll-4.1.74.Final-linux-x86_64.jar\r\n",
      "spark-3.3.1-bin-hadoop3/jars/netty-transport-native-kqueue-4.1.74.Final-osx-aarch_64.jar\r\n",
      "spark-3.3.1-bin-hadoop3/jars/netty-transport-native-kqueue-4.1.74.Final-osx-x86_64.jar\r\n",
      "spark-3.3.1-bin-hadoop3/jars/netty-transport-native-unix-common-4.1.74.Final.jar\r\n",
      "spark-3.3.1-bin-hadoop3/jars/objenesis-3.2.jar\r\n",
      "spark-3.3.1-bin-hadoop3/jars/okhttp-3.12.12.jar\r\n",
      "spark-3.3.1-bin-hadoop3/jars/okio-1.14.0.jar\r\n",
      "spark-3.3.1-bin-hadoop3/jars/opencsv-2.3.jar\r\n",
      "spark-3.3.1-bin-hadoop3/jars/orc-core-1.7.6.jar\r\n",
      "spark-3.3.1-bin-hadoop3/jars/orc-mapreduce-1.7.6.jar\r\n",
      "spark-3.3.1-bin-hadoop3/jars/orc-shims-1.7.6.jar\r\n",
      "spark-3.3.1-bin-hadoop3/jars/oro-2.0.8.jar\r\n",
      "spark-3.3.1-bin-hadoop3/jars/osgi-resource-locator-1.0.3.jar\r\n",
      "spark-3.3.1-bin-hadoop3/jars/paranamer-2.8.jar\r\n",
      "spark-3.3.1-bin-hadoop3/jars/parquet-column-1.12.2.jar\r\n",
      "spark-3.3.1-bin-hadoop3/jars/parquet-common-1.12.2.jar\r\n",
      "spark-3.3.1-bin-hadoop3/jars/parquet-encoding-1.12.2.jar\r\n",
      "spark-3.3.1-bin-hadoop3/jars/parquet-format-structures-1.12.2.jar\r\n",
      "spark-3.3.1-bin-hadoop3/jars/parquet-hadoop-1.12.2.jar\r\n",
      "spark-3.3.1-bin-hadoop3/jars/parquet-jackson-1.12.2.jar\r\n",
      "spark-3.3.1-bin-hadoop3/jars/pickle-1.2.jar\r\n",
      "spark-3.3.1-bin-hadoop3/jars/protobuf-java-2.5.0.jar\r\n",
      "spark-3.3.1-bin-hadoop3/jars/py4j-0.10.9.5.jar\r\n",
      "spark-3.3.1-bin-hadoop3/jars/rocksdbjni-6.20.3.jar\r\n",
      "spark-3.3.1-bin-hadoop3/jars/scala-collection-compat_2.12-2.1.1.jar\r\n",
      "spark-3.3.1-bin-hadoop3/jars/scala-compiler-2.12.15.jar\r\n",
      "spark-3.3.1-bin-hadoop3/jars/scala-library-2.12.15.jar\r\n",
      "spark-3.3.1-bin-hadoop3/jars/scala-parser-combinators_2.12-1.1.2.jar\r\n",
      "spark-3.3.1-bin-hadoop3/jars/scala-reflect-2.12.15.jar\r\n",
      "spark-3.3.1-bin-hadoop3/jars/scala-xml_2.12-1.2.0.jar\r\n",
      "spark-3.3.1-bin-hadoop3/jars/shapeless_2.12-2.3.7.jar\r\n",
      "spark-3.3.1-bin-hadoop3/jars/shims-0.9.25.jar\r\n",
      "spark-3.3.1-bin-hadoop3/jars/slf4j-api-1.7.32.jar\r\n",
      "spark-3.3.1-bin-hadoop3/jars/snakeyaml-1.31.jar\r\n",
      "spark-3.3.1-bin-hadoop3/jars/snappy-java-1.1.8.4.jar\r\n",
      "spark-3.3.1-bin-hadoop3/jars/spark-catalyst_2.12-3.3.1.jar\r\n",
      "spark-3.3.1-bin-hadoop3/jars/spark-core_2.12-3.3.1.jar\r\n",
      "spark-3.3.1-bin-hadoop3/jars/spark-graphx_2.12-3.3.1.jar\r\n",
      "spark-3.3.1-bin-hadoop3/jars/spark-hive-thriftserver_2.12-3.3.1.jar\r\n",
      "spark-3.3.1-bin-hadoop3/jars/spark-hive_2.12-3.3.1.jar\r\n",
      "spark-3.3.1-bin-hadoop3/jars/spark-kubernetes_2.12-3.3.1.jar\r\n",
      "spark-3.3.1-bin-hadoop3/jars/spark-kvstore_2.12-3.3.1.jar\r\n",
      "spark-3.3.1-bin-hadoop3/jars/spark-launcher_2.12-3.3.1.jar\r\n",
      "spark-3.3.1-bin-hadoop3/jars/spark-mesos_2.12-3.3.1.jar\r\n",
      "spark-3.3.1-bin-hadoop3/jars/spark-mllib-local_2.12-3.3.1.jar\r\n",
      "spark-3.3.1-bin-hadoop3/jars/spark-mllib_2.12-3.3.1.jar\r\n",
      "spark-3.3.1-bin-hadoop3/jars/spark-network-common_2.12-3.3.1.jar\r\n",
      "spark-3.3.1-bin-hadoop3/jars/spark-network-shuffle_2.12-3.3.1.jar\r\n",
      "spark-3.3.1-bin-hadoop3/jars/spark-repl_2.12-3.3.1.jar\r\n",
      "spark-3.3.1-bin-hadoop3/jars/spark-sketch_2.12-3.3.1.jar\r\n",
      "spark-3.3.1-bin-hadoop3/jars/spark-sql_2.12-3.3.1.jar\r\n",
      "spark-3.3.1-bin-hadoop3/jars/spark-streaming_2.12-3.3.1.jar\r\n",
      "spark-3.3.1-bin-hadoop3/jars/spark-tags_2.12-3.3.1-tests.jar\r\n",
      "spark-3.3.1-bin-hadoop3/jars/spark-tags_2.12-3.3.1.jar\r\n",
      "spark-3.3.1-bin-hadoop3/jars/spark-unsafe_2.12-3.3.1.jar\r\n",
      "spark-3.3.1-bin-hadoop3/jars/spark-yarn_2.12-3.3.1.jar\r\n",
      "spark-3.3.1-bin-hadoop3/jars/spire-macros_2.12-0.17.0.jar\r\n",
      "spark-3.3.1-bin-hadoop3/jars/spire-platform_2.12-0.17.0.jar\r\n",
      "spark-3.3.1-bin-hadoop3/jars/spire-util_2.12-0.17.0.jar\r\n",
      "spark-3.3.1-bin-hadoop3/jars/spire_2.12-0.17.0.jar\r\n",
      "spark-3.3.1-bin-hadoop3/jars/stax-api-1.0.1.jar\r\n",
      "spark-3.3.1-bin-hadoop3/jars/stream-2.9.6.jar\r\n",
      "spark-3.3.1-bin-hadoop3/jars/super-csv-2.2.0.jar\r\n",
      "spark-3.3.1-bin-hadoop3/jars/threeten-extra-1.5.0.jar\r\n",
      "spark-3.3.1-bin-hadoop3/jars/tink-1.6.1.jar\r\n",
      "spark-3.3.1-bin-hadoop3/jars/transaction-api-1.1.jar\r\n",
      "spark-3.3.1-bin-hadoop3/jars/univocity-parsers-2.9.1.jar\r\n",
      "spark-3.3.1-bin-hadoop3/jars/velocity-1.5.jar\r\n",
      "spark-3.3.1-bin-hadoop3/jars/xbean-asm9-shaded-4.20.jar\r\n",
      "spark-3.3.1-bin-hadoop3/jars/xz-1.8.jar\r\n",
      "spark-3.3.1-bin-hadoop3/jars/zjsonpatch-0.3.0.jar\r\n",
      "spark-3.3.1-bin-hadoop3/jars/zookeeper-3.6.2.jar\r\n",
      "spark-3.3.1-bin-hadoop3/jars/zookeeper-jute-3.6.2.jar\r\n",
      "spark-3.3.1-bin-hadoop3/jars/zstd-jni-1.5.2-1.jar\r\n",
      "spark-3.3.1-bin-hadoop3/kubernetes/\r\n",
      "spark-3.3.1-bin-hadoop3/kubernetes/dockerfiles/\r\n",
      "spark-3.3.1-bin-hadoop3/kubernetes/dockerfiles/spark/\r\n",
      "spark-3.3.1-bin-hadoop3/kubernetes/dockerfiles/spark/Dockerfile\r\n",
      "spark-3.3.1-bin-hadoop3/kubernetes/dockerfiles/spark/Dockerfile.java17\r\n",
      "spark-3.3.1-bin-hadoop3/kubernetes/dockerfiles/spark/bindings/\r\n",
      "spark-3.3.1-bin-hadoop3/kubernetes/dockerfiles/spark/bindings/R/\r\n",
      "spark-3.3.1-bin-hadoop3/kubernetes/dockerfiles/spark/bindings/R/Dockerfile\r\n",
      "spark-3.3.1-bin-hadoop3/kubernetes/dockerfiles/spark/bindings/python/\r\n",
      "spark-3.3.1-bin-hadoop3/kubernetes/dockerfiles/spark/bindings/python/Dockerfile\r\n",
      "spark-3.3.1-bin-hadoop3/kubernetes/dockerfiles/spark/decom.sh\r\n",
      "spark-3.3.1-bin-hadoop3/kubernetes/dockerfiles/spark/entrypoint.sh\r\n",
      "spark-3.3.1-bin-hadoop3/kubernetes/tests/\r\n",
      "spark-3.3.1-bin-hadoop3/kubernetes/tests/autoscale.py\r\n",
      "spark-3.3.1-bin-hadoop3/kubernetes/tests/decommissioning.py\r\n",
      "spark-3.3.1-bin-hadoop3/kubernetes/tests/decommissioning_cleanup.py\r\n",
      "spark-3.3.1-bin-hadoop3/kubernetes/tests/py_container_checks.py\r\n",
      "spark-3.3.1-bin-hadoop3/kubernetes/tests/pyfiles.py\r\n",
      "spark-3.3.1-bin-hadoop3/kubernetes/tests/python_executable_check.py\r\n",
      "spark-3.3.1-bin-hadoop3/kubernetes/tests/worker_memory_check.py\r\n",
      "spark-3.3.1-bin-hadoop3/licenses/\r\n",
      "spark-3.3.1-bin-hadoop3/licenses/LICENSE-AnchorJS.txt\r\n",
      "spark-3.3.1-bin-hadoop3/licenses/LICENSE-CC0.txt\r\n",
      "spark-3.3.1-bin-hadoop3/licenses/LICENSE-JLargeArrays.txt\r\n",
      "spark-3.3.1-bin-hadoop3/licenses/LICENSE-JTransforms.txt\r\n",
      "spark-3.3.1-bin-hadoop3/licenses/LICENSE-antlr.txt\r\n",
      "spark-3.3.1-bin-hadoop3/licenses/LICENSE-arpack.txt\r\n",
      "spark-3.3.1-bin-hadoop3/licenses/LICENSE-automaton.txt\r\n",
      "spark-3.3.1-bin-hadoop3/licenses/LICENSE-blas.txt\r\n",
      "spark-3.3.1-bin-hadoop3/licenses/LICENSE-bootstrap.txt\r\n",
      "spark-3.3.1-bin-hadoop3/licenses/LICENSE-cloudpickle.txt\r\n",
      "spark-3.3.1-bin-hadoop3/licenses/LICENSE-d3.min.js.txt\r\n",
      "spark-3.3.1-bin-hadoop3/licenses/LICENSE-dagre-d3.txt\r\n",
      "spark-3.3.1-bin-hadoop3/licenses/LICENSE-datatables.txt\r\n",
      "spark-3.3.1-bin-hadoop3/licenses/LICENSE-dnsjava.txt\r\n",
      "spark-3.3.1-bin-hadoop3/licenses/LICENSE-f2j.txt\r\n",
      "spark-3.3.1-bin-hadoop3/licenses/LICENSE-graphlib-dot.txt\r\n",
      "spark-3.3.1-bin-hadoop3/licenses/LICENSE-istack-commons-runtime.txt\r\n",
      "spark-3.3.1-bin-hadoop3/licenses/LICENSE-jakarta-annotation-api\r\n",
      "spark-3.3.1-bin-hadoop3/licenses/LICENSE-jakarta-ws-rs-api\r\n",
      "spark-3.3.1-bin-hadoop3/licenses/LICENSE-jakarta.activation-api.txt\r\n",
      "spark-3.3.1-bin-hadoop3/licenses/LICENSE-jakarta.xml.bind-api.txt\r\n",
      "spark-3.3.1-bin-hadoop3/licenses/LICENSE-janino.txt\r\n",
      "spark-3.3.1-bin-hadoop3/licenses/LICENSE-javassist.html\r\n",
      "spark-3.3.1-bin-hadoop3/licenses/LICENSE-javax-transaction-transaction-api.txt\r\n",
      "spark-3.3.1-bin-hadoop3/licenses/LICENSE-javolution.txt\r\n",
      "spark-3.3.1-bin-hadoop3/licenses/LICENSE-jaxb-runtime.txt\r\n",
      "spark-3.3.1-bin-hadoop3/licenses/LICENSE-jline.txt\r\n",
      "spark-3.3.1-bin-hadoop3/licenses/LICENSE-jodd.txt\r\n",
      "spark-3.3.1-bin-hadoop3/licenses/LICENSE-join.txt\r\n",
      "spark-3.3.1-bin-hadoop3/licenses/LICENSE-jquery.txt\r\n",
      "spark-3.3.1-bin-hadoop3/licenses/LICENSE-json-formatter.txt\r\n",
      "spark-3.3.1-bin-hadoop3/licenses/LICENSE-jsp-api.txt\r\n",
      "spark-3.3.1-bin-hadoop3/licenses/LICENSE-kryo.txt\r\n",
      "spark-3.3.1-bin-hadoop3/licenses/LICENSE-leveldbjni.txt\r\n",
      "spark-3.3.1-bin-hadoop3/licenses/LICENSE-machinist.txt\r\n",
      "spark-3.3.1-bin-hadoop3/licenses/LICENSE-matchMedia-polyfill.txt\r\n",
      "spark-3.3.1-bin-hadoop3/licenses/LICENSE-minlog.txt\r\n",
      "spark-3.3.1-bin-hadoop3/licenses/LICENSE-modernizr.txt\r\n",
      "spark-3.3.1-bin-hadoop3/licenses/LICENSE-mustache.txt\r\n",
      "spark-3.3.1-bin-hadoop3/licenses/LICENSE-netlib.txt\r\n",
      "spark-3.3.1-bin-hadoop3/licenses/LICENSE-paranamer.txt\r\n",
      "spark-3.3.1-bin-hadoop3/licenses/LICENSE-pmml-model.txt\r\n",
      "spark-3.3.1-bin-hadoop3/licenses/LICENSE-protobuf.txt\r\n",
      "spark-3.3.1-bin-hadoop3/licenses/LICENSE-py4j.txt\r\n",
      "spark-3.3.1-bin-hadoop3/licenses/LICENSE-pyrolite.txt\r\n",
      "spark-3.3.1-bin-hadoop3/licenses/LICENSE-re2j.txt\r\n",
      "spark-3.3.1-bin-hadoop3/licenses/LICENSE-reflectasm.txt\r\n",
      "spark-3.3.1-bin-hadoop3/licenses/LICENSE-respond.txt\r\n",
      "spark-3.3.1-bin-hadoop3/licenses/LICENSE-sbt-launch-lib.txt\r\n",
      "spark-3.3.1-bin-hadoop3/licenses/LICENSE-scala.txt\r\n",
      "spark-3.3.1-bin-hadoop3/licenses/LICENSE-scopt.txt\r\n",
      "spark-3.3.1-bin-hadoop3/licenses/LICENSE-slf4j.txt\r\n",
      "spark-3.3.1-bin-hadoop3/licenses/LICENSE-sorttable.js.txt\r\n",
      "spark-3.3.1-bin-hadoop3/licenses/LICENSE-spire.txt\r\n",
      "spark-3.3.1-bin-hadoop3/licenses/LICENSE-vis-timeline.txt\r\n",
      "spark-3.3.1-bin-hadoop3/licenses/LICENSE-xmlenc.txt\r\n",
      "spark-3.3.1-bin-hadoop3/licenses/LICENSE-zstd-jni.txt\r\n",
      "spark-3.3.1-bin-hadoop3/licenses/LICENSE-zstd.txt\r\n",
      "spark-3.3.1-bin-hadoop3/python/\r\n",
      "spark-3.3.1-bin-hadoop3/python/.coveragerc\r\n",
      "spark-3.3.1-bin-hadoop3/python/.gitignore\r\n",
      "spark-3.3.1-bin-hadoop3/python/MANIFEST.in\r\n",
      "spark-3.3.1-bin-hadoop3/python/README.md\r\n",
      "spark-3.3.1-bin-hadoop3/python/dist/\r\n",
      "spark-3.3.1-bin-hadoop3/python/docs/\r\n",
      "spark-3.3.1-bin-hadoop3/python/docs/Makefile\r\n",
      "spark-3.3.1-bin-hadoop3/python/docs/make.bat\r\n",
      "spark-3.3.1-bin-hadoop3/python/docs/make2.bat\r\n",
      "spark-3.3.1-bin-hadoop3/python/docs/source/\r\n",
      "spark-3.3.1-bin-hadoop3/python/docs/source/_static/\r\n",
      "spark-3.3.1-bin-hadoop3/python/docs/source/_static/copybutton.js\r\n",
      "spark-3.3.1-bin-hadoop3/python/docs/source/_static/css/\r\n",
      "spark-3.3.1-bin-hadoop3/python/docs/source/_static/css/pyspark.css\r\n",
      "spark-3.3.1-bin-hadoop3/python/docs/source/_templates/\r\n",
      "spark-3.3.1-bin-hadoop3/python/docs/source/_templates/autosummary/\r\n",
      "spark-3.3.1-bin-hadoop3/python/docs/source/_templates/autosummary/class.rst\r\n",
      "spark-3.3.1-bin-hadoop3/python/docs/source/_templates/autosummary/class_with_docs.rst\r\n",
      "spark-3.3.1-bin-hadoop3/python/docs/source/conf.py\r\n",
      "spark-3.3.1-bin-hadoop3/python/docs/source/development/\r\n",
      "spark-3.3.1-bin-hadoop3/python/docs/source/development/contributing.rst\r\n",
      "spark-3.3.1-bin-hadoop3/python/docs/source/development/debugging.rst\r\n",
      "spark-3.3.1-bin-hadoop3/python/docs/source/development/index.rst\r\n",
      "spark-3.3.1-bin-hadoop3/python/docs/source/development/setting_ide.rst\r\n",
      "spark-3.3.1-bin-hadoop3/python/docs/source/development/testing.rst\r\n",
      "spark-3.3.1-bin-hadoop3/python/docs/source/getting_started/\r\n",
      "spark-3.3.1-bin-hadoop3/python/docs/source/getting_started/index.rst\r\n",
      "spark-3.3.1-bin-hadoop3/python/docs/source/getting_started/install.rst\r\n",
      "spark-3.3.1-bin-hadoop3/python/docs/source/getting_started/quickstart_df.ipynb\r\n",
      "spark-3.3.1-bin-hadoop3/python/docs/source/getting_started/quickstart_ps.ipynb\r\n",
      "spark-3.3.1-bin-hadoop3/python/docs/source/index.rst\r\n",
      "spark-3.3.1-bin-hadoop3/python/docs/source/migration_guide/\r\n",
      "spark-3.3.1-bin-hadoop3/python/docs/source/migration_guide/index.rst\r\n",
      "spark-3.3.1-bin-hadoop3/python/docs/source/migration_guide/koalas_to_pyspark.rst\r\n",
      "spark-3.3.1-bin-hadoop3/python/docs/source/migration_guide/pyspark_1.0_1.2_to_1.3.rst\r\n",
      "spark-3.3.1-bin-hadoop3/python/docs/source/migration_guide/pyspark_1.4_to_1.5.rst\r\n",
      "spark-3.3.1-bin-hadoop3/python/docs/source/migration_guide/pyspark_2.2_to_2.3.rst\r\n",
      "spark-3.3.1-bin-hadoop3/python/docs/source/migration_guide/pyspark_2.3.0_to_2.3.1_above.rst\r\n",
      "spark-3.3.1-bin-hadoop3/python/docs/source/migration_guide/pyspark_2.3_to_2.4.rst\r\n",
      "spark-3.3.1-bin-hadoop3/python/docs/source/migration_guide/pyspark_2.4_to_3.0.rst\r\n",
      "spark-3.3.1-bin-hadoop3/python/docs/source/migration_guide/pyspark_3.1_to_3.2.rst\r\n",
      "spark-3.3.1-bin-hadoop3/python/docs/source/migration_guide/pyspark_3.2_to_3.3.rst\r\n",
      "spark-3.3.1-bin-hadoop3/python/docs/source/reference/\r\n",
      "spark-3.3.1-bin-hadoop3/python/docs/source/reference/index.rst\r\n",
      "spark-3.3.1-bin-hadoop3/python/docs/source/reference/pyspark.ml.rst\r\n",
      "spark-3.3.1-bin-hadoop3/python/docs/source/reference/pyspark.mllib.rst\r\n",
      "spark-3.3.1-bin-hadoop3/python/docs/source/reference/pyspark.pandas/\r\n",
      "spark-3.3.1-bin-hadoop3/python/docs/source/reference/pyspark.pandas/extensions.rst\r\n",
      "spark-3.3.1-bin-hadoop3/python/docs/source/reference/pyspark.pandas/frame.rst\r\n",
      "spark-3.3.1-bin-hadoop3/python/docs/source/reference/pyspark.pandas/general_functions.rst\r\n",
      "spark-3.3.1-bin-hadoop3/python/docs/source/reference/pyspark.pandas/groupby.rst\r\n",
      "spark-3.3.1-bin-hadoop3/python/docs/source/reference/pyspark.pandas/index.rst\r\n",
      "spark-3.3.1-bin-hadoop3/python/docs/source/reference/pyspark.pandas/indexing.rst\r\n",
      "spark-3.3.1-bin-hadoop3/python/docs/source/reference/pyspark.pandas/io.rst\r\n",
      "spark-3.3.1-bin-hadoop3/python/docs/source/reference/pyspark.pandas/ml.rst\r\n",
      "spark-3.3.1-bin-hadoop3/python/docs/source/reference/pyspark.pandas/series.rst\r\n",
      "spark-3.3.1-bin-hadoop3/python/docs/source/reference/pyspark.pandas/window.rst\r\n",
      "spark-3.3.1-bin-hadoop3/python/docs/source/reference/pyspark.resource.rst\r\n",
      "spark-3.3.1-bin-hadoop3/python/docs/source/reference/pyspark.rst\r\n",
      "spark-3.3.1-bin-hadoop3/python/docs/source/reference/pyspark.sql/\r\n",
      "spark-3.3.1-bin-hadoop3/python/docs/source/reference/pyspark.sql/avro.rst\r\n",
      "spark-3.3.1-bin-hadoop3/python/docs/source/reference/pyspark.sql/catalog.rst\r\n",
      "spark-3.3.1-bin-hadoop3/python/docs/source/reference/pyspark.sql/column.rst\r\n",
      "spark-3.3.1-bin-hadoop3/python/docs/source/reference/pyspark.sql/configuration.rst\r\n",
      "spark-3.3.1-bin-hadoop3/python/docs/source/reference/pyspark.sql/core_classes.rst\r\n",
      "spark-3.3.1-bin-hadoop3/python/docs/source/reference/pyspark.sql/data_types.rst\r\n",
      "spark-3.3.1-bin-hadoop3/python/docs/source/reference/pyspark.sql/dataframe.rst\r\n",
      "spark-3.3.1-bin-hadoop3/python/docs/source/reference/pyspark.sql/functions.rst\r\n",
      "spark-3.3.1-bin-hadoop3/python/docs/source/reference/pyspark.sql/grouping.rst\r\n",
      "spark-3.3.1-bin-hadoop3/python/docs/source/reference/pyspark.sql/index.rst\r\n",
      "spark-3.3.1-bin-hadoop3/python/docs/source/reference/pyspark.sql/io.rst\r\n",
      "spark-3.3.1-bin-hadoop3/python/docs/source/reference/pyspark.sql/observation.rst\r\n",
      "spark-3.3.1-bin-hadoop3/python/docs/source/reference/pyspark.sql/row.rst\r\n",
      "spark-3.3.1-bin-hadoop3/python/docs/source/reference/pyspark.sql/spark_session.rst\r\n",
      "spark-3.3.1-bin-hadoop3/python/docs/source/reference/pyspark.sql/window.rst\r\n",
      "spark-3.3.1-bin-hadoop3/python/docs/source/reference/pyspark.ss/\r\n",
      "spark-3.3.1-bin-hadoop3/python/docs/source/reference/pyspark.ss/core_classes.rst\r\n",
      "spark-3.3.1-bin-hadoop3/python/docs/source/reference/pyspark.ss/index.rst\r\n",
      "spark-3.3.1-bin-hadoop3/python/docs/source/reference/pyspark.ss/io.rst\r\n",
      "spark-3.3.1-bin-hadoop3/python/docs/source/reference/pyspark.ss/query_management.rst\r\n",
      "spark-3.3.1-bin-hadoop3/python/docs/source/reference/pyspark.streaming.rst\r\n",
      "spark-3.3.1-bin-hadoop3/python/docs/source/user_guide/\r\n",
      "spark-3.3.1-bin-hadoop3/python/docs/source/user_guide/arrow_pandas.rst\r\n",
      "spark-3.3.1-bin-hadoop3/python/docs/source/user_guide/index.rst\r\n",
      "spark-3.3.1-bin-hadoop3/python/docs/source/user_guide/pandas_on_spark/\r\n",
      "spark-3.3.1-bin-hadoop3/python/docs/source/user_guide/pandas_on_spark/best_practices.rst\r\n",
      "spark-3.3.1-bin-hadoop3/python/docs/source/user_guide/pandas_on_spark/faq.rst\r\n",
      "spark-3.3.1-bin-hadoop3/python/docs/source/user_guide/pandas_on_spark/from_to_dbms.rst\r\n",
      "spark-3.3.1-bin-hadoop3/python/docs/source/user_guide/pandas_on_spark/index.rst\r\n",
      "spark-3.3.1-bin-hadoop3/python/docs/source/user_guide/pandas_on_spark/options.rst\r\n",
      "spark-3.3.1-bin-hadoop3/python/docs/source/user_guide/pandas_on_spark/pandas_pyspark.rst\r\n",
      "spark-3.3.1-bin-hadoop3/python/docs/source/user_guide/pandas_on_spark/supported_pandas_api.rst\r\n",
      "spark-3.3.1-bin-hadoop3/python/docs/source/user_guide/pandas_on_spark/transform_apply.rst\r\n",
      "spark-3.3.1-bin-hadoop3/python/docs/source/user_guide/pandas_on_spark/typehints.rst\r\n",
      "spark-3.3.1-bin-hadoop3/python/docs/source/user_guide/pandas_on_spark/types.rst\r\n",
      "spark-3.3.1-bin-hadoop3/python/docs/source/user_guide/python_packaging.rst\r\n",
      "spark-3.3.1-bin-hadoop3/python/docs/source/user_guide/sql/\r\n",
      "spark-3.3.1-bin-hadoop3/python/docs/source/user_guide/sql/arrow_pandas.rst\r\n",
      "spark-3.3.1-bin-hadoop3/python/docs/source/user_guide/sql/index.rst\r\n",
      "spark-3.3.1-bin-hadoop3/python/lib/\r\n",
      "spark-3.3.1-bin-hadoop3/python/lib/PY4J_LICENSE.txt\r\n",
      "spark-3.3.1-bin-hadoop3/python/lib/py4j-0.10.9.5-src.zip\r\n",
      "spark-3.3.1-bin-hadoop3/python/lib/pyspark.zip\r\n",
      "spark-3.3.1-bin-hadoop3/python/mypy.ini\r\n",
      "spark-3.3.1-bin-hadoop3/python/pyspark/\r\n",
      "spark-3.3.1-bin-hadoop3/python/pyspark/__init__.py\r\n",
      "spark-3.3.1-bin-hadoop3/python/pyspark/__pycache__/\r\n",
      "spark-3.3.1-bin-hadoop3/python/pyspark/__pycache__/install.cpython-38.pyc\r\n",
      "spark-3.3.1-bin-hadoop3/python/pyspark/_globals.py\r\n",
      "spark-3.3.1-bin-hadoop3/python/pyspark/_typing.pyi\r\n",
      "spark-3.3.1-bin-hadoop3/python/pyspark/accumulators.py\r\n",
      "spark-3.3.1-bin-hadoop3/python/pyspark/broadcast.py\r\n",
      "spark-3.3.1-bin-hadoop3/python/pyspark/cloudpickle/\r\n",
      "spark-3.3.1-bin-hadoop3/python/pyspark/cloudpickle/__init__.py\r\n",
      "spark-3.3.1-bin-hadoop3/python/pyspark/cloudpickle/cloudpickle.py\r\n",
      "spark-3.3.1-bin-hadoop3/python/pyspark/cloudpickle/cloudpickle_fast.py\r\n",
      "spark-3.3.1-bin-hadoop3/python/pyspark/cloudpickle/compat.py\r\n",
      "spark-3.3.1-bin-hadoop3/python/pyspark/conf.py\r\n",
      "spark-3.3.1-bin-hadoop3/python/pyspark/context.py\r\n",
      "spark-3.3.1-bin-hadoop3/python/pyspark/daemon.py\r\n",
      "spark-3.3.1-bin-hadoop3/python/pyspark/files.py\r\n",
      "spark-3.3.1-bin-hadoop3/python/pyspark/find_spark_home.py\r\n",
      "spark-3.3.1-bin-hadoop3/python/pyspark/install.py\r\n",
      "spark-3.3.1-bin-hadoop3/python/pyspark/instrumentation_utils.py\r\n",
      "spark-3.3.1-bin-hadoop3/python/pyspark/java_gateway.py\r\n",
      "spark-3.3.1-bin-hadoop3/python/pyspark/join.py\r\n",
      "spark-3.3.1-bin-hadoop3/python/pyspark/ml/\r\n",
      "spark-3.3.1-bin-hadoop3/python/pyspark/ml/__init__.py\r\n",
      "spark-3.3.1-bin-hadoop3/python/pyspark/ml/_typing.pyi\r\n",
      "spark-3.3.1-bin-hadoop3/python/pyspark/ml/base.py\r\n",
      "spark-3.3.1-bin-hadoop3/python/pyspark/ml/classification.py\r\n",
      "spark-3.3.1-bin-hadoop3/python/pyspark/ml/clustering.py\r\n",
      "spark-3.3.1-bin-hadoop3/python/pyspark/ml/common.py\r\n",
      "spark-3.3.1-bin-hadoop3/python/pyspark/ml/evaluation.py\r\n",
      "spark-3.3.1-bin-hadoop3/python/pyspark/ml/feature.py\r\n",
      "spark-3.3.1-bin-hadoop3/python/pyspark/ml/fpm.py\r\n",
      "spark-3.3.1-bin-hadoop3/python/pyspark/ml/functions.py\r\n",
      "spark-3.3.1-bin-hadoop3/python/pyspark/ml/image.py\r\n",
      "spark-3.3.1-bin-hadoop3/python/pyspark/ml/linalg/\r\n",
      "spark-3.3.1-bin-hadoop3/python/pyspark/ml/linalg/__init__.py\r\n",
      "spark-3.3.1-bin-hadoop3/python/pyspark/ml/param/\r\n",
      "spark-3.3.1-bin-hadoop3/python/pyspark/ml/param/__init__.py\r\n",
      "spark-3.3.1-bin-hadoop3/python/pyspark/ml/param/_shared_params_code_gen.py\r\n",
      "spark-3.3.1-bin-hadoop3/python/pyspark/ml/param/shared.py\r\n",
      "spark-3.3.1-bin-hadoop3/python/pyspark/ml/pipeline.py\r\n",
      "spark-3.3.1-bin-hadoop3/python/pyspark/ml/recommendation.py\r\n",
      "spark-3.3.1-bin-hadoop3/python/pyspark/ml/regression.py\r\n",
      "spark-3.3.1-bin-hadoop3/python/pyspark/ml/stat.py\r\n",
      "spark-3.3.1-bin-hadoop3/python/pyspark/ml/tests/\r\n",
      "spark-3.3.1-bin-hadoop3/python/pyspark/ml/tests/__init__.py\r\n",
      "spark-3.3.1-bin-hadoop3/python/pyspark/ml/tests/test_algorithms.py\r\n",
      "spark-3.3.1-bin-hadoop3/python/pyspark/ml/tests/test_base.py\r\n",
      "spark-3.3.1-bin-hadoop3/python/pyspark/ml/tests/test_evaluation.py\r\n",
      "spark-3.3.1-bin-hadoop3/python/pyspark/ml/tests/test_feature.py\r\n",
      "spark-3.3.1-bin-hadoop3/python/pyspark/ml/tests/test_image.py\r\n",
      "spark-3.3.1-bin-hadoop3/python/pyspark/ml/tests/test_linalg.py\r\n",
      "spark-3.3.1-bin-hadoop3/python/pyspark/ml/tests/test_param.py\r\n",
      "spark-3.3.1-bin-hadoop3/python/pyspark/ml/tests/test_persistence.py\r\n",
      "spark-3.3.1-bin-hadoop3/python/pyspark/ml/tests/test_pipeline.py\r\n",
      "spark-3.3.1-bin-hadoop3/python/pyspark/ml/tests/test_stat.py\r\n",
      "spark-3.3.1-bin-hadoop3/python/pyspark/ml/tests/test_training_summary.py\r\n",
      "spark-3.3.1-bin-hadoop3/python/pyspark/ml/tests/test_tuning.py\r\n",
      "spark-3.3.1-bin-hadoop3/python/pyspark/ml/tests/test_util.py\r\n",
      "spark-3.3.1-bin-hadoop3/python/pyspark/ml/tests/test_wrapper.py\r\n",
      "spark-3.3.1-bin-hadoop3/python/pyspark/ml/tests/typing/\r\n",
      "spark-3.3.1-bin-hadoop3/python/pyspark/ml/tests/typing/test_classification.yml\r\n",
      "spark-3.3.1-bin-hadoop3/python/pyspark/ml/tests/typing/test_clustering.yaml\r\n",
      "spark-3.3.1-bin-hadoop3/python/pyspark/ml/tests/typing/test_evaluation.yml\r\n",
      "spark-3.3.1-bin-hadoop3/python/pyspark/ml/tests/typing/test_feature.yml\r\n",
      "spark-3.3.1-bin-hadoop3/python/pyspark/ml/tests/typing/test_param.yml\r\n",
      "spark-3.3.1-bin-hadoop3/python/pyspark/ml/tests/typing/test_readable.yml\r\n",
      "spark-3.3.1-bin-hadoop3/python/pyspark/ml/tests/typing/test_regression.yml\r\n",
      "spark-3.3.1-bin-hadoop3/python/pyspark/ml/tree.py\r\n",
      "spark-3.3.1-bin-hadoop3/python/pyspark/ml/tuning.py\r\n",
      "spark-3.3.1-bin-hadoop3/python/pyspark/ml/util.py\r\n",
      "spark-3.3.1-bin-hadoop3/python/pyspark/ml/wrapper.py\r\n",
      "spark-3.3.1-bin-hadoop3/python/pyspark/mllib/\r\n",
      "spark-3.3.1-bin-hadoop3/python/pyspark/mllib/__init__.py\r\n",
      "spark-3.3.1-bin-hadoop3/python/pyspark/mllib/_typing.pyi\r\n",
      "spark-3.3.1-bin-hadoop3/python/pyspark/mllib/classification.py\r\n",
      "spark-3.3.1-bin-hadoop3/python/pyspark/mllib/clustering.py\r\n",
      "spark-3.3.1-bin-hadoop3/python/pyspark/mllib/common.py\r\n",
      "spark-3.3.1-bin-hadoop3/python/pyspark/mllib/evaluation.py\r\n",
      "spark-3.3.1-bin-hadoop3/python/pyspark/mllib/feature.py\r\n",
      "spark-3.3.1-bin-hadoop3/python/pyspark/mllib/fpm.py\r\n",
      "spark-3.3.1-bin-hadoop3/python/pyspark/mllib/linalg/\r\n",
      "spark-3.3.1-bin-hadoop3/python/pyspark/mllib/linalg/__init__.py\r\n",
      "spark-3.3.1-bin-hadoop3/python/pyspark/mllib/linalg/distributed.py\r\n",
      "spark-3.3.1-bin-hadoop3/python/pyspark/mllib/random.py\r\n",
      "spark-3.3.1-bin-hadoop3/python/pyspark/mllib/random.pyi\r\n",
      "spark-3.3.1-bin-hadoop3/python/pyspark/mllib/recommendation.py\r\n",
      "spark-3.3.1-bin-hadoop3/python/pyspark/mllib/recommendation.pyi\r\n",
      "spark-3.3.1-bin-hadoop3/python/pyspark/mllib/regression.py\r\n",
      "spark-3.3.1-bin-hadoop3/python/pyspark/mllib/stat/\r\n",
      "spark-3.3.1-bin-hadoop3/python/pyspark/mllib/stat/KernelDensity.py\r\n",
      "spark-3.3.1-bin-hadoop3/python/pyspark/mllib/stat/__init__.py\r\n",
      "spark-3.3.1-bin-hadoop3/python/pyspark/mllib/stat/_statistics.py\r\n",
      "spark-3.3.1-bin-hadoop3/python/pyspark/mllib/stat/distribution.py\r\n",
      "spark-3.3.1-bin-hadoop3/python/pyspark/mllib/stat/test.py\r\n",
      "spark-3.3.1-bin-hadoop3/python/pyspark/mllib/tests/\r\n",
      "spark-3.3.1-bin-hadoop3/python/pyspark/mllib/tests/__init__.py\r\n",
      "spark-3.3.1-bin-hadoop3/python/pyspark/mllib/tests/test_algorithms.py\r\n",
      "spark-3.3.1-bin-hadoop3/python/pyspark/mllib/tests/test_feature.py\r\n",
      "spark-3.3.1-bin-hadoop3/python/pyspark/mllib/tests/test_linalg.py\r\n",
      "spark-3.3.1-bin-hadoop3/python/pyspark/mllib/tests/test_stat.py\r\n",
      "spark-3.3.1-bin-hadoop3/python/pyspark/mllib/tests/test_streaming_algorithms.py\r\n",
      "spark-3.3.1-bin-hadoop3/python/pyspark/mllib/tests/test_util.py\r\n",
      "spark-3.3.1-bin-hadoop3/python/pyspark/mllib/tree.py\r\n",
      "spark-3.3.1-bin-hadoop3/python/pyspark/mllib/util.py\r\n",
      "spark-3.3.1-bin-hadoop3/python/pyspark/pandas/\r\n",
      "spark-3.3.1-bin-hadoop3/python/pyspark/pandas/__init__.py\r\n",
      "spark-3.3.1-bin-hadoop3/python/pyspark/pandas/_typing.py\r\n",
      "spark-3.3.1-bin-hadoop3/python/pyspark/pandas/accessors.py\r\n",
      "spark-3.3.1-bin-hadoop3/python/pyspark/pandas/base.py\r\n",
      "spark-3.3.1-bin-hadoop3/python/pyspark/pandas/categorical.py\r\n",
      "spark-3.3.1-bin-hadoop3/python/pyspark/pandas/config.py\r\n",
      "spark-3.3.1-bin-hadoop3/python/pyspark/pandas/data_type_ops/\r\n",
      "spark-3.3.1-bin-hadoop3/python/pyspark/pandas/data_type_ops/__init__.py\r\n",
      "spark-3.3.1-bin-hadoop3/python/pyspark/pandas/data_type_ops/base.py\r\n",
      "spark-3.3.1-bin-hadoop3/python/pyspark/pandas/data_type_ops/binary_ops.py\r\n",
      "spark-3.3.1-bin-hadoop3/python/pyspark/pandas/data_type_ops/boolean_ops.py\r\n",
      "spark-3.3.1-bin-hadoop3/python/pyspark/pandas/data_type_ops/categorical_ops.py\r\n",
      "spark-3.3.1-bin-hadoop3/python/pyspark/pandas/data_type_ops/complex_ops.py\r\n",
      "spark-3.3.1-bin-hadoop3/python/pyspark/pandas/data_type_ops/date_ops.py\r\n",
      "spark-3.3.1-bin-hadoop3/python/pyspark/pandas/data_type_ops/datetime_ops.py\r\n",
      "spark-3.3.1-bin-hadoop3/python/pyspark/pandas/data_type_ops/null_ops.py\r\n",
      "spark-3.3.1-bin-hadoop3/python/pyspark/pandas/data_type_ops/num_ops.py\r\n",
      "spark-3.3.1-bin-hadoop3/python/pyspark/pandas/data_type_ops/string_ops.py\r\n",
      "spark-3.3.1-bin-hadoop3/python/pyspark/pandas/data_type_ops/timedelta_ops.py\r\n",
      "spark-3.3.1-bin-hadoop3/python/pyspark/pandas/data_type_ops/udt_ops.py\r\n",
      "spark-3.3.1-bin-hadoop3/python/pyspark/pandas/datetimes.py\r\n",
      "spark-3.3.1-bin-hadoop3/python/pyspark/pandas/exceptions.py\r\n",
      "spark-3.3.1-bin-hadoop3/python/pyspark/pandas/extensions.py\r\n",
      "spark-3.3.1-bin-hadoop3/python/pyspark/pandas/frame.py\r\n",
      "spark-3.3.1-bin-hadoop3/python/pyspark/pandas/generic.py\r\n",
      "spark-3.3.1-bin-hadoop3/python/pyspark/pandas/groupby.py\r\n",
      "spark-3.3.1-bin-hadoop3/python/pyspark/pandas/indexes/\r\n",
      "spark-3.3.1-bin-hadoop3/python/pyspark/pandas/indexes/__init__.py\r\n",
      "spark-3.3.1-bin-hadoop3/python/pyspark/pandas/indexes/base.py\r\n",
      "spark-3.3.1-bin-hadoop3/python/pyspark/pandas/indexes/category.py\r\n",
      "spark-3.3.1-bin-hadoop3/python/pyspark/pandas/indexes/datetimes.py\r\n",
      "spark-3.3.1-bin-hadoop3/python/pyspark/pandas/indexes/multi.py\r\n",
      "spark-3.3.1-bin-hadoop3/python/pyspark/pandas/indexes/numeric.py\r\n",
      "spark-3.3.1-bin-hadoop3/python/pyspark/pandas/indexes/timedelta.py\r\n",
      "spark-3.3.1-bin-hadoop3/python/pyspark/pandas/indexing.py\r\n",
      "spark-3.3.1-bin-hadoop3/python/pyspark/pandas/internal.py\r\n",
      "spark-3.3.1-bin-hadoop3/python/pyspark/pandas/missing/\r\n",
      "spark-3.3.1-bin-hadoop3/python/pyspark/pandas/missing/__init__.py\r\n",
      "spark-3.3.1-bin-hadoop3/python/pyspark/pandas/missing/common.py\r\n",
      "spark-3.3.1-bin-hadoop3/python/pyspark/pandas/missing/frame.py\r\n",
      "spark-3.3.1-bin-hadoop3/python/pyspark/pandas/missing/general_functions.py\r\n",
      "spark-3.3.1-bin-hadoop3/python/pyspark/pandas/missing/groupby.py\r\n",
      "spark-3.3.1-bin-hadoop3/python/pyspark/pandas/missing/indexes.py\r\n",
      "spark-3.3.1-bin-hadoop3/python/pyspark/pandas/missing/series.py\r\n",
      "spark-3.3.1-bin-hadoop3/python/pyspark/pandas/missing/window.py\r\n",
      "spark-3.3.1-bin-hadoop3/python/pyspark/pandas/ml.py\r\n",
      "spark-3.3.1-bin-hadoop3/python/pyspark/pandas/mlflow.py\r\n",
      "spark-3.3.1-bin-hadoop3/python/pyspark/pandas/namespace.py\r\n",
      "spark-3.3.1-bin-hadoop3/python/pyspark/pandas/numpy_compat.py\r\n",
      "spark-3.3.1-bin-hadoop3/python/pyspark/pandas/plot/\r\n",
      "spark-3.3.1-bin-hadoop3/python/pyspark/pandas/plot/__init__.py\r\n",
      "spark-3.3.1-bin-hadoop3/python/pyspark/pandas/plot/core.py\r\n",
      "spark-3.3.1-bin-hadoop3/python/pyspark/pandas/plot/matplotlib.py\r\n",
      "spark-3.3.1-bin-hadoop3/python/pyspark/pandas/plot/plotly.py\r\n",
      "spark-3.3.1-bin-hadoop3/python/pyspark/pandas/series.py\r\n",
      "spark-3.3.1-bin-hadoop3/python/pyspark/pandas/spark/\r\n",
      "spark-3.3.1-bin-hadoop3/python/pyspark/pandas/spark/__init__.py\r\n",
      "spark-3.3.1-bin-hadoop3/python/pyspark/pandas/spark/accessors.py\r\n",
      "spark-3.3.1-bin-hadoop3/python/pyspark/pandas/spark/functions.py\r\n",
      "spark-3.3.1-bin-hadoop3/python/pyspark/pandas/spark/utils.py\r\n",
      "spark-3.3.1-bin-hadoop3/python/pyspark/pandas/sql_formatter.py\r\n",
      "spark-3.3.1-bin-hadoop3/python/pyspark/pandas/sql_processor.py\r\n",
      "spark-3.3.1-bin-hadoop3/python/pyspark/pandas/strings.py\r\n",
      "spark-3.3.1-bin-hadoop3/python/pyspark/pandas/tests/\r\n",
      "spark-3.3.1-bin-hadoop3/python/pyspark/pandas/tests/__init__.py\r\n",
      "spark-3.3.1-bin-hadoop3/python/pyspark/pandas/tests/data_type_ops/\r\n",
      "spark-3.3.1-bin-hadoop3/python/pyspark/pandas/tests/data_type_ops/__init__.py\r\n",
      "spark-3.3.1-bin-hadoop3/python/pyspark/pandas/tests/data_type_ops/test_base.py\r\n",
      "spark-3.3.1-bin-hadoop3/python/pyspark/pandas/tests/data_type_ops/test_binary_ops.py\r\n",
      "spark-3.3.1-bin-hadoop3/python/pyspark/pandas/tests/data_type_ops/test_boolean_ops.py\r\n",
      "spark-3.3.1-bin-hadoop3/python/pyspark/pandas/tests/data_type_ops/test_categorical_ops.py\r\n",
      "spark-3.3.1-bin-hadoop3/python/pyspark/pandas/tests/data_type_ops/test_complex_ops.py\r\n",
      "spark-3.3.1-bin-hadoop3/python/pyspark/pandas/tests/data_type_ops/test_date_ops.py\r\n",
      "spark-3.3.1-bin-hadoop3/python/pyspark/pandas/tests/data_type_ops/test_datetime_ops.py\r\n",
      "spark-3.3.1-bin-hadoop3/python/pyspark/pandas/tests/data_type_ops/test_null_ops.py\r\n",
      "spark-3.3.1-bin-hadoop3/python/pyspark/pandas/tests/data_type_ops/test_num_ops.py\r\n",
      "spark-3.3.1-bin-hadoop3/python/pyspark/pandas/tests/data_type_ops/test_string_ops.py\r\n",
      "spark-3.3.1-bin-hadoop3/python/pyspark/pandas/tests/data_type_ops/test_timedelta_ops.py\r\n",
      "spark-3.3.1-bin-hadoop3/python/pyspark/pandas/tests/data_type_ops/test_udt_ops.py\r\n",
      "spark-3.3.1-bin-hadoop3/python/pyspark/pandas/tests/data_type_ops/testing_utils.py\r\n",
      "spark-3.3.1-bin-hadoop3/python/pyspark/pandas/tests/indexes/\r\n",
      "spark-3.3.1-bin-hadoop3/python/pyspark/pandas/tests/indexes/__init__.py\r\n",
      "spark-3.3.1-bin-hadoop3/python/pyspark/pandas/tests/indexes/test_base.py\r\n",
      "spark-3.3.1-bin-hadoop3/python/pyspark/pandas/tests/indexes/test_category.py\r\n",
      "spark-3.3.1-bin-hadoop3/python/pyspark/pandas/tests/indexes/test_datetime.py\r\n",
      "spark-3.3.1-bin-hadoop3/python/pyspark/pandas/tests/indexes/test_timedelta.py\r\n",
      "spark-3.3.1-bin-hadoop3/python/pyspark/pandas/tests/plot/\r\n",
      "spark-3.3.1-bin-hadoop3/python/pyspark/pandas/tests/plot/__init__.py\r\n",
      "spark-3.3.1-bin-hadoop3/python/pyspark/pandas/tests/plot/test_frame_plot.py\r\n",
      "spark-3.3.1-bin-hadoop3/python/pyspark/pandas/tests/plot/test_frame_plot_matplotlib.py\r\n",
      "spark-3.3.1-bin-hadoop3/python/pyspark/pandas/tests/plot/test_frame_plot_plotly.py\r\n",
      "spark-3.3.1-bin-hadoop3/python/pyspark/pandas/tests/plot/test_series_plot.py\r\n",
      "spark-3.3.1-bin-hadoop3/python/pyspark/pandas/tests/plot/test_series_plot_matplotlib.py\r\n",
      "spark-3.3.1-bin-hadoop3/python/pyspark/pandas/tests/plot/test_series_plot_plotly.py\r\n",
      "spark-3.3.1-bin-hadoop3/python/pyspark/pandas/tests/test_categorical.py\r\n",
      "spark-3.3.1-bin-hadoop3/python/pyspark/pandas/tests/test_config.py\r\n",
      "spark-3.3.1-bin-hadoop3/python/pyspark/pandas/tests/test_csv.py\r\n",
      "spark-3.3.1-bin-hadoop3/python/pyspark/pandas/tests/test_dataframe.py\r\n",
      "spark-3.3.1-bin-hadoop3/python/pyspark/pandas/tests/test_dataframe_conversion.py\r\n",
      "spark-3.3.1-bin-hadoop3/python/pyspark/pandas/tests/test_dataframe_spark_io.py\r\n",
      "spark-3.3.1-bin-hadoop3/python/pyspark/pandas/tests/test_default_index.py\r\n",
      "spark-3.3.1-bin-hadoop3/python/pyspark/pandas/tests/test_expanding.py\r\n",
      "spark-3.3.1-bin-hadoop3/python/pyspark/pandas/tests/test_extension.py\r\n",
      "spark-3.3.1-bin-hadoop3/python/pyspark/pandas/tests/test_frame_spark.py\r\n",
      "spark-3.3.1-bin-hadoop3/python/pyspark/pandas/tests/test_groupby.py\r\n",
      "spark-3.3.1-bin-hadoop3/python/pyspark/pandas/tests/test_indexing.py\r\n",
      "spark-3.3.1-bin-hadoop3/python/pyspark/pandas/tests/test_indexops_spark.py\r\n",
      "spark-3.3.1-bin-hadoop3/python/pyspark/pandas/tests/test_internal.py\r\n",
      "spark-3.3.1-bin-hadoop3/python/pyspark/pandas/tests/test_namespace.py\r\n",
      "spark-3.3.1-bin-hadoop3/python/pyspark/pandas/tests/test_numpy_compat.py\r\n",
      "spark-3.3.1-bin-hadoop3/python/pyspark/pandas/tests/test_ops_on_diff_frames.py\r\n",
      "spark-3.3.1-bin-hadoop3/python/pyspark/pandas/tests/test_ops_on_diff_frames_groupby.py\r\n",
      "spark-3.3.1-bin-hadoop3/python/pyspark/pandas/tests/test_ops_on_diff_frames_groupby_expanding.py\r\n",
      "spark-3.3.1-bin-hadoop3/python/pyspark/pandas/tests/test_ops_on_diff_frames_groupby_rolling.py\r\n",
      "spark-3.3.1-bin-hadoop3/python/pyspark/pandas/tests/test_repr.py\r\n",
      "spark-3.3.1-bin-hadoop3/python/pyspark/pandas/tests/test_reshape.py\r\n",
      "spark-3.3.1-bin-hadoop3/python/pyspark/pandas/tests/test_rolling.py\r\n",
      "spark-3.3.1-bin-hadoop3/python/pyspark/pandas/tests/test_series.py\r\n",
      "spark-3.3.1-bin-hadoop3/python/pyspark/pandas/tests/test_series_conversion.py\r\n",
      "spark-3.3.1-bin-hadoop3/python/pyspark/pandas/tests/test_series_datetime.py\r\n",
      "spark-3.3.1-bin-hadoop3/python/pyspark/pandas/tests/test_series_string.py\r\n",
      "spark-3.3.1-bin-hadoop3/python/pyspark/pandas/tests/test_spark_functions.py\r\n",
      "spark-3.3.1-bin-hadoop3/python/pyspark/pandas/tests/test_sql.py\r\n",
      "spark-3.3.1-bin-hadoop3/python/pyspark/pandas/tests/test_stats.py\r\n",
      "spark-3.3.1-bin-hadoop3/python/pyspark/pandas/tests/test_typedef.py\r\n",
      "spark-3.3.1-bin-hadoop3/python/pyspark/pandas/tests/test_utils.py\r\n",
      "spark-3.3.1-bin-hadoop3/python/pyspark/pandas/tests/test_window.py\r\n",
      "spark-3.3.1-bin-hadoop3/python/pyspark/pandas/typedef/\r\n",
      "spark-3.3.1-bin-hadoop3/python/pyspark/pandas/typedef/__init__.py\r\n",
      "spark-3.3.1-bin-hadoop3/python/pyspark/pandas/typedef/typehints.py\r\n",
      "spark-3.3.1-bin-hadoop3/python/pyspark/pandas/usage_logging/\r\n",
      "spark-3.3.1-bin-hadoop3/python/pyspark/pandas/usage_logging/__init__.py\r\n",
      "spark-3.3.1-bin-hadoop3/python/pyspark/pandas/usage_logging/usage_logger.py\r\n",
      "spark-3.3.1-bin-hadoop3/python/pyspark/pandas/utils.py\r\n",
      "spark-3.3.1-bin-hadoop3/python/pyspark/pandas/window.py\r\n",
      "spark-3.3.1-bin-hadoop3/python/pyspark/profiler.py\r\n",
      "spark-3.3.1-bin-hadoop3/python/pyspark/py.typed\r\n",
      "spark-3.3.1-bin-hadoop3/python/pyspark/python/\r\n",
      "spark-3.3.1-bin-hadoop3/python/pyspark/python/pyspark/\r\n",
      "spark-3.3.1-bin-hadoop3/python/pyspark/python/pyspark/shell.py\r\n",
      "spark-3.3.1-bin-hadoop3/python/pyspark/rdd.py\r\n",
      "spark-3.3.1-bin-hadoop3/python/pyspark/rddsampler.py\r\n",
      "spark-3.3.1-bin-hadoop3/python/pyspark/resource/\r\n",
      "spark-3.3.1-bin-hadoop3/python/pyspark/resource/__init__.py\r\n",
      "spark-3.3.1-bin-hadoop3/python/pyspark/resource/information.py\r\n",
      "spark-3.3.1-bin-hadoop3/python/pyspark/resource/profile.py\r\n",
      "spark-3.3.1-bin-hadoop3/python/pyspark/resource/requests.py\r\n",
      "spark-3.3.1-bin-hadoop3/python/pyspark/resource/tests/\r\n",
      "spark-3.3.1-bin-hadoop3/python/pyspark/resource/tests/__init__.py\r\n",
      "spark-3.3.1-bin-hadoop3/python/pyspark/resource/tests/test_resources.py\r\n",
      "spark-3.3.1-bin-hadoop3/python/pyspark/resultiterable.py\r\n",
      "spark-3.3.1-bin-hadoop3/python/pyspark/serializers.py\r\n",
      "spark-3.3.1-bin-hadoop3/python/pyspark/shell.py\r\n",
      "spark-3.3.1-bin-hadoop3/python/pyspark/shuffle.py\r\n",
      "spark-3.3.1-bin-hadoop3/python/pyspark/sql/\r\n",
      "spark-3.3.1-bin-hadoop3/python/pyspark/sql/__init__.py\r\n",
      "spark-3.3.1-bin-hadoop3/python/pyspark/sql/_typing.pyi\r\n",
      "spark-3.3.1-bin-hadoop3/python/pyspark/sql/avro/\r\n",
      "spark-3.3.1-bin-hadoop3/python/pyspark/sql/avro/__init__.py\r\n",
      "spark-3.3.1-bin-hadoop3/python/pyspark/sql/avro/functions.py\r\n",
      "spark-3.3.1-bin-hadoop3/python/pyspark/sql/catalog.py\r\n",
      "spark-3.3.1-bin-hadoop3/python/pyspark/sql/column.py\r\n",
      "spark-3.3.1-bin-hadoop3/python/pyspark/sql/conf.py\r\n",
      "spark-3.3.1-bin-hadoop3/python/pyspark/sql/context.py\r\n",
      "spark-3.3.1-bin-hadoop3/python/pyspark/sql/dataframe.py\r\n",
      "spark-3.3.1-bin-hadoop3/python/pyspark/sql/functions.py\r\n",
      "spark-3.3.1-bin-hadoop3/python/pyspark/sql/group.py\r\n",
      "spark-3.3.1-bin-hadoop3/python/pyspark/sql/observation.py\r\n",
      "spark-3.3.1-bin-hadoop3/python/pyspark/sql/pandas/\r\n",
      "spark-3.3.1-bin-hadoop3/python/pyspark/sql/pandas/__init__.py\r\n",
      "spark-3.3.1-bin-hadoop3/python/pyspark/sql/pandas/_typing/\r\n",
      "spark-3.3.1-bin-hadoop3/python/pyspark/sql/pandas/_typing/__init__.pyi\r\n",
      "spark-3.3.1-bin-hadoop3/python/pyspark/sql/pandas/_typing/protocols/\r\n",
      "spark-3.3.1-bin-hadoop3/python/pyspark/sql/pandas/_typing/protocols/__init__.pyi\r\n",
      "spark-3.3.1-bin-hadoop3/python/pyspark/sql/pandas/_typing/protocols/frame.pyi\r\n",
      "spark-3.3.1-bin-hadoop3/python/pyspark/sql/pandas/_typing/protocols/series.pyi\r\n",
      "spark-3.3.1-bin-hadoop3/python/pyspark/sql/pandas/conversion.py\r\n",
      "spark-3.3.1-bin-hadoop3/python/pyspark/sql/pandas/functions.py\r\n",
      "spark-3.3.1-bin-hadoop3/python/pyspark/sql/pandas/functions.pyi\r\n",
      "spark-3.3.1-bin-hadoop3/python/pyspark/sql/pandas/group_ops.py\r\n",
      "spark-3.3.1-bin-hadoop3/python/pyspark/sql/pandas/map_ops.py\r\n",
      "spark-3.3.1-bin-hadoop3/python/pyspark/sql/pandas/serializers.py\r\n",
      "spark-3.3.1-bin-hadoop3/python/pyspark/sql/pandas/typehints.py\r\n",
      "spark-3.3.1-bin-hadoop3/python/pyspark/sql/pandas/types.py\r\n",
      "spark-3.3.1-bin-hadoop3/python/pyspark/sql/pandas/utils.py\r\n",
      "spark-3.3.1-bin-hadoop3/python/pyspark/sql/readwriter.py\r\n",
      "spark-3.3.1-bin-hadoop3/python/pyspark/sql/session.py\r\n",
      "spark-3.3.1-bin-hadoop3/python/pyspark/sql/sql_formatter.py\r\n",
      "spark-3.3.1-bin-hadoop3/python/pyspark/sql/streaming.py\r\n",
      "spark-3.3.1-bin-hadoop3/python/pyspark/sql/tests/\r\n",
      "spark-3.3.1-bin-hadoop3/python/pyspark/sql/tests/__init__.py\r\n",
      "spark-3.3.1-bin-hadoop3/python/pyspark/sql/tests/test_arrow.py\r\n",
      "spark-3.3.1-bin-hadoop3/python/pyspark/sql/tests/test_arrow_map.py\r\n",
      "spark-3.3.1-bin-hadoop3/python/pyspark/sql/tests/test_catalog.py\r\n",
      "spark-3.3.1-bin-hadoop3/python/pyspark/sql/tests/test_column.py\r\n",
      "spark-3.3.1-bin-hadoop3/python/pyspark/sql/tests/test_conf.py\r\n",
      "spark-3.3.1-bin-hadoop3/python/pyspark/sql/tests/test_context.py\r\n",
      "spark-3.3.1-bin-hadoop3/python/pyspark/sql/tests/test_dataframe.py\r\n",
      "spark-3.3.1-bin-hadoop3/python/pyspark/sql/tests/test_datasources.py\r\n",
      "spark-3.3.1-bin-hadoop3/python/pyspark/sql/tests/test_functions.py\r\n",
      "spark-3.3.1-bin-hadoop3/python/pyspark/sql/tests/test_group.py\r\n",
      "spark-3.3.1-bin-hadoop3/python/pyspark/sql/tests/test_pandas_cogrouped_map.py\r\n",
      "spark-3.3.1-bin-hadoop3/python/pyspark/sql/tests/test_pandas_grouped_map.py\r\n",
      "spark-3.3.1-bin-hadoop3/python/pyspark/sql/tests/test_pandas_map.py\r\n",
      "spark-3.3.1-bin-hadoop3/python/pyspark/sql/tests/test_pandas_udf.py\r\n",
      "spark-3.3.1-bin-hadoop3/python/pyspark/sql/tests/test_pandas_udf_grouped_agg.py\r\n",
      "spark-3.3.1-bin-hadoop3/python/pyspark/sql/tests/test_pandas_udf_scalar.py\r\n",
      "spark-3.3.1-bin-hadoop3/python/pyspark/sql/tests/test_pandas_udf_typehints.py\r\n",
      "spark-3.3.1-bin-hadoop3/python/pyspark/sql/tests/test_pandas_udf_typehints_with_future_annotations.py\r\n",
      "spark-3.3.1-bin-hadoop3/python/pyspark/sql/tests/test_pandas_udf_window.py\r\n",
      "spark-3.3.1-bin-hadoop3/python/pyspark/sql/tests/test_readwriter.py\r\n",
      "spark-3.3.1-bin-hadoop3/python/pyspark/sql/tests/test_serde.py\r\n",
      "spark-3.3.1-bin-hadoop3/python/pyspark/sql/tests/test_session.py\r\n",
      "spark-3.3.1-bin-hadoop3/python/pyspark/sql/tests/test_streaming.py\r\n",
      "spark-3.3.1-bin-hadoop3/python/pyspark/sql/tests/test_types.py\r\n",
      "spark-3.3.1-bin-hadoop3/python/pyspark/sql/tests/test_udf.py\r\n",
      "spark-3.3.1-bin-hadoop3/python/pyspark/sql/tests/test_udf_profiler.py\r\n",
      "spark-3.3.1-bin-hadoop3/python/pyspark/sql/tests/test_utils.py\r\n",
      "spark-3.3.1-bin-hadoop3/python/pyspark/sql/tests/typing/\r\n",
      "spark-3.3.1-bin-hadoop3/python/pyspark/sql/tests/typing/test_column.yml\r\n",
      "spark-3.3.1-bin-hadoop3/python/pyspark/sql/tests/typing/test_dataframe.yml\r\n",
      "spark-3.3.1-bin-hadoop3/python/pyspark/sql/tests/typing/test_functions.yml\r\n",
      "spark-3.3.1-bin-hadoop3/python/pyspark/sql/tests/typing/test_readwriter.yml\r\n",
      "spark-3.3.1-bin-hadoop3/python/pyspark/sql/tests/typing/test_session.yml\r\n",
      "spark-3.3.1-bin-hadoop3/python/pyspark/sql/tests/typing/test_udf.yml\r\n",
      "spark-3.3.1-bin-hadoop3/python/pyspark/sql/types.py\r\n",
      "spark-3.3.1-bin-hadoop3/python/pyspark/sql/udf.py\r\n",
      "spark-3.3.1-bin-hadoop3/python/pyspark/sql/utils.py\r\n",
      "spark-3.3.1-bin-hadoop3/python/pyspark/sql/window.py\r\n",
      "spark-3.3.1-bin-hadoop3/python/pyspark/statcounter.py\r\n",
      "spark-3.3.1-bin-hadoop3/python/pyspark/status.py\r\n",
      "spark-3.3.1-bin-hadoop3/python/pyspark/storagelevel.py\r\n",
      "spark-3.3.1-bin-hadoop3/python/pyspark/streaming/\r\n",
      "spark-3.3.1-bin-hadoop3/python/pyspark/streaming/__init__.py\r\n",
      "spark-3.3.1-bin-hadoop3/python/pyspark/streaming/context.py\r\n",
      "spark-3.3.1-bin-hadoop3/python/pyspark/streaming/dstream.py\r\n",
      "spark-3.3.1-bin-hadoop3/python/pyspark/streaming/kinesis.py\r\n",
      "spark-3.3.1-bin-hadoop3/python/pyspark/streaming/listener.py\r\n",
      "spark-3.3.1-bin-hadoop3/python/pyspark/streaming/tests/\r\n",
      "spark-3.3.1-bin-hadoop3/python/pyspark/streaming/tests/__init__.py\r\n",
      "spark-3.3.1-bin-hadoop3/python/pyspark/streaming/tests/test_context.py\r\n",
      "spark-3.3.1-bin-hadoop3/python/pyspark/streaming/tests/test_dstream.py\r\n",
      "spark-3.3.1-bin-hadoop3/python/pyspark/streaming/tests/test_kinesis.py\r\n",
      "spark-3.3.1-bin-hadoop3/python/pyspark/streaming/tests/test_listener.py\r\n",
      "spark-3.3.1-bin-hadoop3/python/pyspark/streaming/util.py\r\n",
      "spark-3.3.1-bin-hadoop3/python/pyspark/taskcontext.py\r\n",
      "spark-3.3.1-bin-hadoop3/python/pyspark/testing/\r\n",
      "spark-3.3.1-bin-hadoop3/python/pyspark/testing/__init__.py\r\n",
      "spark-3.3.1-bin-hadoop3/python/pyspark/testing/mllibutils.py\r\n",
      "spark-3.3.1-bin-hadoop3/python/pyspark/testing/mlutils.py\r\n",
      "spark-3.3.1-bin-hadoop3/python/pyspark/testing/pandasutils.py\r\n",
      "spark-3.3.1-bin-hadoop3/python/pyspark/testing/sqlutils.py\r\n",
      "spark-3.3.1-bin-hadoop3/python/pyspark/testing/streamingutils.py\r\n",
      "spark-3.3.1-bin-hadoop3/python/pyspark/testing/utils.py\r\n",
      "spark-3.3.1-bin-hadoop3/python/pyspark/tests/\r\n",
      "spark-3.3.1-bin-hadoop3/python/pyspark/tests/__init__.py\r\n",
      "spark-3.3.1-bin-hadoop3/python/pyspark/tests/test_appsubmit.py\r\n",
      "spark-3.3.1-bin-hadoop3/python/pyspark/tests/test_broadcast.py\r\n",
      "spark-3.3.1-bin-hadoop3/python/pyspark/tests/test_conf.py\r\n",
      "spark-3.3.1-bin-hadoop3/python/pyspark/tests/test_context.py\r\n",
      "spark-3.3.1-bin-hadoop3/python/pyspark/tests/test_daemon.py\r\n",
      "spark-3.3.1-bin-hadoop3/python/pyspark/tests/test_install_spark.py\r\n",
      "spark-3.3.1-bin-hadoop3/python/pyspark/tests/test_join.py\r\n",
      "spark-3.3.1-bin-hadoop3/python/pyspark/tests/test_pin_thread.py\r\n",
      "spark-3.3.1-bin-hadoop3/python/pyspark/tests/test_profiler.py\r\n",
      "spark-3.3.1-bin-hadoop3/python/pyspark/tests/test_rdd.py\r\n",
      "spark-3.3.1-bin-hadoop3/python/pyspark/tests/test_rddbarrier.py\r\n",
      "spark-3.3.1-bin-hadoop3/python/pyspark/tests/test_readwrite.py\r\n",
      "spark-3.3.1-bin-hadoop3/python/pyspark/tests/test_serializers.py\r\n",
      "spark-3.3.1-bin-hadoop3/python/pyspark/tests/test_shuffle.py\r\n",
      "spark-3.3.1-bin-hadoop3/python/pyspark/tests/test_statcounter.py\r\n",
      "spark-3.3.1-bin-hadoop3/python/pyspark/tests/test_taskcontext.py\r\n",
      "spark-3.3.1-bin-hadoop3/python/pyspark/tests/test_util.py\r\n",
      "spark-3.3.1-bin-hadoop3/python/pyspark/tests/test_worker.py\r\n",
      "spark-3.3.1-bin-hadoop3/python/pyspark/tests/typing/\r\n",
      "spark-3.3.1-bin-hadoop3/python/pyspark/tests/typing/test_context.yml\r\n",
      "spark-3.3.1-bin-hadoop3/python/pyspark/tests/typing/test_core.yml\r\n",
      "spark-3.3.1-bin-hadoop3/python/pyspark/tests/typing/test_rdd.yml\r\n",
      "spark-3.3.1-bin-hadoop3/python/pyspark/tests/typing/test_resultiterable.yml\r\n",
      "spark-3.3.1-bin-hadoop3/python/pyspark/traceback_utils.py\r\n",
      "spark-3.3.1-bin-hadoop3/python/pyspark/util.py\r\n",
      "spark-3.3.1-bin-hadoop3/python/pyspark/version.py\r\n",
      "spark-3.3.1-bin-hadoop3/python/pyspark/worker.py\r\n",
      "spark-3.3.1-bin-hadoop3/python/pyspark.egg-info/\r\n",
      "spark-3.3.1-bin-hadoop3/python/pyspark.egg-info/PKG-INFO\r\n",
      "spark-3.3.1-bin-hadoop3/python/pyspark.egg-info/SOURCES.txt\r\n",
      "spark-3.3.1-bin-hadoop3/python/pyspark.egg-info/dependency_links.txt\r\n",
      "spark-3.3.1-bin-hadoop3/python/pyspark.egg-info/requires.txt\r\n",
      "spark-3.3.1-bin-hadoop3/python/pyspark.egg-info/top_level.txt\r\n",
      "spark-3.3.1-bin-hadoop3/python/run-tests\r\n",
      "spark-3.3.1-bin-hadoop3/python/run-tests-with-coverage\r\n",
      "spark-3.3.1-bin-hadoop3/python/run-tests.py\r\n",
      "spark-3.3.1-bin-hadoop3/python/setup.cfg\r\n",
      "spark-3.3.1-bin-hadoop3/python/setup.py\r\n",
      "spark-3.3.1-bin-hadoop3/python/test_coverage/\r\n",
      "spark-3.3.1-bin-hadoop3/python/test_coverage/conf/\r\n",
      "spark-3.3.1-bin-hadoop3/python/test_coverage/conf/spark-defaults.conf\r\n",
      "spark-3.3.1-bin-hadoop3/python/test_coverage/coverage_daemon.py\r\n",
      "spark-3.3.1-bin-hadoop3/python/test_coverage/sitecustomize.py\r\n",
      "spark-3.3.1-bin-hadoop3/python/test_support/\r\n",
      "spark-3.3.1-bin-hadoop3/python/test_support/SimpleHTTPServer.py\r\n",
      "spark-3.3.1-bin-hadoop3/python/test_support/hello/\r\n",
      "spark-3.3.1-bin-hadoop3/python/test_support/hello/hello.txt\r\n",
      "spark-3.3.1-bin-hadoop3/python/test_support/hello/sub_hello/\r\n",
      "spark-3.3.1-bin-hadoop3/python/test_support/hello/sub_hello/sub_hello.txt\r\n",
      "spark-3.3.1-bin-hadoop3/python/test_support/sql/\r\n",
      "spark-3.3.1-bin-hadoop3/python/test_support/sql/ages.csv\r\n",
      "spark-3.3.1-bin-hadoop3/python/test_support/sql/ages_newlines.csv\r\n",
      "spark-3.3.1-bin-hadoop3/python/test_support/sql/orc_partitioned/\r\n",
      "spark-3.3.1-bin-hadoop3/python/test_support/sql/orc_partitioned/_SUCCESS\r\n",
      "spark-3.3.1-bin-hadoop3/python/test_support/sql/orc_partitioned/b=0/\r\n",
      "spark-3.3.1-bin-hadoop3/python/test_support/sql/orc_partitioned/b=0/c=0/\r\n",
      "spark-3.3.1-bin-hadoop3/python/test_support/sql/orc_partitioned/b=0/c=0/.part-r-00000-829af031-b970-49d6-ad39-30460a0be2c8.orc.crc\r\n",
      "spark-3.3.1-bin-hadoop3/python/test_support/sql/orc_partitioned/b=0/c=0/part-r-00000-829af031-b970-49d6-ad39-30460a0be2c8.orc\r\n",
      "spark-3.3.1-bin-hadoop3/python/test_support/sql/orc_partitioned/b=1/\r\n",
      "spark-3.3.1-bin-hadoop3/python/test_support/sql/orc_partitioned/b=1/c=1/\r\n",
      "spark-3.3.1-bin-hadoop3/python/test_support/sql/orc_partitioned/b=1/c=1/.part-r-00000-829af031-b970-49d6-ad39-30460a0be2c8.orc.crc\r\n",
      "spark-3.3.1-bin-hadoop3/python/test_support/sql/orc_partitioned/b=1/c=1/part-r-00000-829af031-b970-49d6-ad39-30460a0be2c8.orc\r\n",
      "spark-3.3.1-bin-hadoop3/python/test_support/sql/parquet_partitioned/\r\n",
      "spark-3.3.1-bin-hadoop3/python/test_support/sql/parquet_partitioned/_SUCCESS\r\n",
      "spark-3.3.1-bin-hadoop3/python/test_support/sql/parquet_partitioned/_common_metadata\r\n",
      "spark-3.3.1-bin-hadoop3/python/test_support/sql/parquet_partitioned/_metadata\r\n",
      "spark-3.3.1-bin-hadoop3/python/test_support/sql/parquet_partitioned/year=2014/\r\n",
      "spark-3.3.1-bin-hadoop3/python/test_support/sql/parquet_partitioned/year=2014/month=9/\r\n",
      "spark-3.3.1-bin-hadoop3/python/test_support/sql/parquet_partitioned/year=2014/month=9/day=1/\r\n",
      "spark-3.3.1-bin-hadoop3/python/test_support/sql/parquet_partitioned/year=2014/month=9/day=1/.part-r-00008.gz.parquet.crc\r\n",
      "spark-3.3.1-bin-hadoop3/python/test_support/sql/parquet_partitioned/year=2014/month=9/day=1/part-r-00008.gz.parquet\r\n",
      "spark-3.3.1-bin-hadoop3/python/test_support/sql/parquet_partitioned/year=2015/\r\n",
      "spark-3.3.1-bin-hadoop3/python/test_support/sql/parquet_partitioned/year=2015/month=10/\r\n",
      "spark-3.3.1-bin-hadoop3/python/test_support/sql/parquet_partitioned/year=2015/month=10/day=25/\r\n",
      "spark-3.3.1-bin-hadoop3/python/test_support/sql/parquet_partitioned/year=2015/month=10/day=25/.part-r-00002.gz.parquet.crc\r\n",
      "spark-3.3.1-bin-hadoop3/python/test_support/sql/parquet_partitioned/year=2015/month=10/day=25/.part-r-00004.gz.parquet.crc\r\n",
      "spark-3.3.1-bin-hadoop3/python/test_support/sql/parquet_partitioned/year=2015/month=10/day=25/part-r-00002.gz.parquet\r\n",
      "spark-3.3.1-bin-hadoop3/python/test_support/sql/parquet_partitioned/year=2015/month=10/day=25/part-r-00004.gz.parquet\r\n",
      "spark-3.3.1-bin-hadoop3/python/test_support/sql/parquet_partitioned/year=2015/month=10/day=26/\r\n",
      "spark-3.3.1-bin-hadoop3/python/test_support/sql/parquet_partitioned/year=2015/month=10/day=26/.part-r-00005.gz.parquet.crc\r\n",
      "spark-3.3.1-bin-hadoop3/python/test_support/sql/parquet_partitioned/year=2015/month=10/day=26/part-r-00005.gz.parquet\r\n",
      "spark-3.3.1-bin-hadoop3/python/test_support/sql/parquet_partitioned/year=2015/month=9/\r\n",
      "spark-3.3.1-bin-hadoop3/python/test_support/sql/parquet_partitioned/year=2015/month=9/day=1/\r\n",
      "spark-3.3.1-bin-hadoop3/python/test_support/sql/parquet_partitioned/year=2015/month=9/day=1/.part-r-00007.gz.parquet.crc\r\n",
      "spark-3.3.1-bin-hadoop3/python/test_support/sql/parquet_partitioned/year=2015/month=9/day=1/part-r-00007.gz.parquet\r\n",
      "spark-3.3.1-bin-hadoop3/python/test_support/sql/people.json\r\n",
      "spark-3.3.1-bin-hadoop3/python/test_support/sql/people1.json\r\n",
      "spark-3.3.1-bin-hadoop3/python/test_support/sql/people_array.json\r\n",
      "spark-3.3.1-bin-hadoop3/python/test_support/sql/people_array_utf16le.json\r\n",
      "spark-3.3.1-bin-hadoop3/python/test_support/sql/streaming/\r\n",
      "spark-3.3.1-bin-hadoop3/python/test_support/sql/streaming/text-test.txt\r\n",
      "spark-3.3.1-bin-hadoop3/python/test_support/sql/text-test.txt\r\n",
      "spark-3.3.1-bin-hadoop3/python/test_support/userlib-0.1.zip\r\n",
      "spark-3.3.1-bin-hadoop3/python/test_support/userlibrary.py\r\n",
      "spark-3.3.1-bin-hadoop3/sbin/\r\n",
      "spark-3.3.1-bin-hadoop3/sbin/decommission-slave.sh\r\n",
      "spark-3.3.1-bin-hadoop3/sbin/decommission-worker.sh\r\n",
      "spark-3.3.1-bin-hadoop3/sbin/slaves.sh\r\n",
      "spark-3.3.1-bin-hadoop3/sbin/spark-config.sh\r\n",
      "spark-3.3.1-bin-hadoop3/sbin/spark-daemon.sh\r\n",
      "spark-3.3.1-bin-hadoop3/sbin/spark-daemons.sh\r\n",
      "spark-3.3.1-bin-hadoop3/sbin/start-all.sh\r\n",
      "spark-3.3.1-bin-hadoop3/sbin/start-history-server.sh\r\n",
      "spark-3.3.1-bin-hadoop3/sbin/start-master.sh\r\n",
      "spark-3.3.1-bin-hadoop3/sbin/start-mesos-dispatcher.sh\r\n",
      "spark-3.3.1-bin-hadoop3/sbin/start-mesos-shuffle-service.sh\r\n",
      "spark-3.3.1-bin-hadoop3/sbin/start-slave.sh\r\n",
      "spark-3.3.1-bin-hadoop3/sbin/start-slaves.sh\r\n",
      "spark-3.3.1-bin-hadoop3/sbin/start-thriftserver.sh\r\n",
      "spark-3.3.1-bin-hadoop3/sbin/start-worker.sh\r\n",
      "spark-3.3.1-bin-hadoop3/sbin/start-workers.sh\r\n",
      "spark-3.3.1-bin-hadoop3/sbin/stop-all.sh\r\n",
      "spark-3.3.1-bin-hadoop3/sbin/stop-history-server.sh\r\n",
      "spark-3.3.1-bin-hadoop3/sbin/stop-master.sh\r\n",
      "spark-3.3.1-bin-hadoop3/sbin/stop-mesos-dispatcher.sh\r\n",
      "spark-3.3.1-bin-hadoop3/sbin/stop-mesos-shuffle-service.sh\r\n",
      "spark-3.3.1-bin-hadoop3/sbin/stop-slave.sh\r\n",
      "spark-3.3.1-bin-hadoop3/sbin/stop-slaves.sh\r\n",
      "spark-3.3.1-bin-hadoop3/sbin/stop-thriftserver.sh\r\n",
      "spark-3.3.1-bin-hadoop3/sbin/stop-worker.sh\r\n",
      "spark-3.3.1-bin-hadoop3/sbin/stop-workers.sh\r\n",
      "spark-3.3.1-bin-hadoop3/sbin/workers.sh\r\n",
      "spark-3.3.1-bin-hadoop3/yarn/\r\n",
      "spark-3.3.1-bin-hadoop3/yarn/spark-3.3.1-yarn-shuffle.jar\r\n",
      "Collecting findspark\r\n",
      "  Downloading findspark-2.0.1-py2.py3-none-any.whl (4.4 kB)\r\n",
      "Installing collected packages: findspark\r\n",
      "Successfully installed findspark-2.0.1\r\n",
      "\u001b[33mWARNING: Running pip as the 'root' user can result in broken permissions and conflicting behaviour with the system package manager. It is recommended to use a virtual environment instead: https://pip.pypa.io/warnings/venv\u001b[0m\u001b[33m\r\n",
      "\u001b[0mCollecting pyspark\r\n",
      "  Downloading pyspark-3.3.1.tar.gz (281.4 MB)\r\n",
      "\u001b[2K     \u001b[90m━━━━━━━━━━━━━━━━━━━━━━━━━━━━━━━━━━━━━━━\u001b[0m \u001b[32m281.4/281.4 MB\u001b[0m \u001b[31m3.5 MB/s\u001b[0m eta \u001b[36m0:00:00\u001b[0m\r\n",
      "\u001b[?25h  Preparing metadata (setup.py) ... \u001b[?25l-\b \bdone\r\n",
      "\u001b[?25hCollecting py4j==0.10.9.5\r\n",
      "  Downloading py4j-0.10.9.5-py2.py3-none-any.whl (199 kB)\r\n",
      "\u001b[2K     \u001b[90m━━━━━━━━━━━━━━━━━━━━━━━━━━━━━━━━━━━━━━\u001b[0m \u001b[32m199.7/199.7 kB\u001b[0m \u001b[31m14.3 MB/s\u001b[0m eta \u001b[36m0:00:00\u001b[0m\r\n",
      "\u001b[?25hBuilding wheels for collected packages: pyspark\r\n",
      "  Building wheel for pyspark (setup.py) ... \u001b[?25l-\b \b\\\b \b|\b \b/\b \b-\b \b\\\b \b|\b \b/\b \b-\b \b\\\b \b|\b \b/\b \b-\b \b\\\b \b|\b \b/\b \b-\b \b\\\b \b|\b \b/\b \b-\b \b\\\b \b|\b \b/\b \b-\b \b\\\b \b|\b \b/\b \b-\b \b\\\b \b|\b \b/\b \b-\b \b\\\b \b|\b \b/\b \b-\b \b\\\b \b|\b \b/\b \b-\b \b\\\b \b|\b \b/\b \b-\b \b\\\b \b|\b \b/\b \b-\b \b\\\b \b|\b \b/\b \b-\b \b\\\b \b|\b \b/\b \b-\b \b\\\b \b|\b \b/\b \b-\b \bdone\r\n",
      "\u001b[?25h  Created wheel for pyspark: filename=pyspark-3.3.1-py2.py3-none-any.whl size=281845513 sha256=9b596383029c833d519d5c54a31e1f7f96b69c48f255b4d67418a07bf2ed0acd\r\n",
      "  Stored in directory: /root/.cache/pip/wheels/42/59/f5/79a5bf931714dcd201b26025347785f087370a10a3329a899c\r\n",
      "Successfully built pyspark\r\n",
      "Installing collected packages: py4j, pyspark\r\n",
      "  Attempting uninstall: py4j\r\n",
      "    Found existing installation: py4j 0.10.9.7\r\n",
      "    Uninstalling py4j-0.10.9.7:\r\n",
      "      Successfully uninstalled py4j-0.10.9.7\r\n",
      "Successfully installed py4j-0.10.9.5 pyspark-3.3.1\r\n",
      "\u001b[33mWARNING: Running pip as the 'root' user can result in broken permissions and conflicting behaviour with the system package manager. It is recommended to use a virtual environment instead: https://pip.pypa.io/warnings/venv\u001b[0m\u001b[33m\r\n",
      "\u001b[0m"
     ]
    }
   ],
   "source": [
    "!apt-get install openjdk-8-jdk-headless -qq > /dev/null\n",
    "!wget -O ./spark-3.3.1-bin-hadoop3.tgz  https://dlcdn.apache.org/spark/spark-3.3.1/spark-3.3.1-bin-hadoop3.tgz\n",
    "!tar zxvf ./spark-3.3.1-bin-hadoop3.tgz\n",
    "!pip install findspark\n",
    "!pip install pyspark"
   ]
  },
  {
   "cell_type": "code",
   "execution_count": 3,
   "id": "e74b4002",
   "metadata": {
    "execution": {
     "iopub.execute_input": "2023-01-23T17:14:13.558074Z",
     "iopub.status.busy": "2023-01-23T17:14:13.557553Z",
     "iopub.status.idle": "2023-01-23T17:14:15.106421Z",
     "shell.execute_reply": "2023-01-23T17:14:15.104847Z"
    },
    "id": "4b598291",
    "papermill": {
     "duration": 1.599915,
     "end_time": "2023-01-23T17:14:15.109641",
     "exception": false,
     "start_time": "2023-01-23T17:14:13.509726",
     "status": "completed"
    },
    "tags": []
   },
   "outputs": [],
   "source": [
    "import findspark\n",
    "import random\n",
    "import pyspark\n",
    "from pyspark.sql import functions as f\n",
    "from pyspark.sql.functions import col, isnan, when, count\n",
    "from pyspark.ml import Pipeline\n",
    "from pyspark.ml.stat import Correlation\n",
    "from pyspark.ml.feature import StringIndexer, VectorAssembler, MinMaxScaler, OneHotEncoder\n",
    "from pyspark.ml.evaluation import BinaryClassificationEvaluator\n",
    "from pyspark.ml.linalg import Vectors\n",
    "from pyspark.ml.tuning import CrossValidator, ParamGridBuilder, CrossValidatorModel\n",
    "from sklearn.metrics import jaccard_score\n",
    "# from sklearn.preprocessing import MinMaxScaler\n",
    "import itertools\n",
    "import re\n",
    "from matplotlib import pyplot as plt\n",
    "import seaborn as sns \n",
    "from functools import reduce\n",
    "import scipy.spatial\n",
    "import missingno as msno\n",
    "\n",
    "\n",
    "import warnings\n",
    "warnings.filterwarnings('ignore')"
   ]
  },
  {
   "cell_type": "code",
   "execution_count": 4,
   "id": "01af7af6",
   "metadata": {
    "execution": {
     "iopub.execute_input": "2023-01-23T17:14:15.203883Z",
     "iopub.status.busy": "2023-01-23T17:14:15.203407Z",
     "iopub.status.idle": "2023-01-23T17:14:15.209572Z",
     "shell.execute_reply": "2023-01-23T17:14:15.208108Z"
    },
    "id": "b8d15d75",
    "papermill": {
     "duration": 0.0565,
     "end_time": "2023-01-23T17:14:15.212467",
     "exception": false,
     "start_time": "2023-01-23T17:14:15.155967",
     "status": "completed"
    },
    "tags": []
   },
   "outputs": [],
   "source": [
    "import os\n",
    "\n",
    "os.environ[\"JAVA_HOME\"] = \"/usr/lib/jvm/java-11-openjdk-amd64\"\n",
    "os.environ[\"SPARK_HOME\"] = \"/kaggle/working/spark-3.3.1-bin-hadoop3\"\n",
    "findspark.init()"
   ]
  },
  {
   "cell_type": "code",
   "execution_count": 5,
   "id": "918d63af",
   "metadata": {
    "execution": {
     "iopub.execute_input": "2023-01-23T17:14:15.307470Z",
     "iopub.status.busy": "2023-01-23T17:14:15.306868Z",
     "iopub.status.idle": "2023-01-23T17:14:15.316758Z",
     "shell.execute_reply": "2023-01-23T17:14:15.315081Z"
    },
    "id": "ba34e6bb",
    "outputId": "fdbedb38-1922-4c8f-a2b0-7dddf8f22145",
    "papermill": {
     "duration": 0.061346,
     "end_time": "2023-01-23T17:14:15.319788",
     "exception": false,
     "start_time": "2023-01-23T17:14:15.258442",
     "status": "completed"
    },
    "tags": []
   },
   "outputs": [
    {
     "name": "stdout",
     "output_type": "stream",
     "text": [
      "/kaggle/input/big-data-platforms-competition-2023/bdp_train.csv\n",
      "/kaggle/input/big-data-platforms-competition-2023/sampleSubmission.csv\n",
      "/kaggle/input/big-data-platforms-competition-2023/bdp_test.csv\n"
     ]
    }
   ],
   "source": [
    "# This Python 3 environment comes with many helpful analytics libraries installed\n",
    "# It is defined by the kaggle/python Docker image: https://github.com/kaggle/docker-python\n",
    "# For example, here's several helpful packages to load\n",
    "\n",
    "import numpy as np # linear algebra\n",
    "import pandas as pd # data processing, CSV file I/O (e.g. pd.read_csv)\n",
    "\n",
    "# Input data files are available in the read-only \"../input/\" directory\n",
    "# For example, running this (by clicking run or pressing Shift+Enter) will list all files under the input directory\n",
    "\n",
    "for dirname, _, filenames in os.walk('/kaggle/input'):\n",
    "    for filename in filenames:\n",
    "        print(os.path.join(dirname, filename))\n",
    "\n",
    "# You can write up to 20GB to the current directory (/kaggle/working/) that gets preserved as output when you create a version using \"Save & Run All\" \n",
    "# You can also write temporary files to /kaggle/temp/, but they won't be saved outside of the current session"
   ]
  },
  {
   "cell_type": "code",
   "execution_count": 6,
   "id": "81807b93",
   "metadata": {
    "execution": {
     "iopub.execute_input": "2023-01-23T17:14:15.416321Z",
     "iopub.status.busy": "2023-01-23T17:14:15.415866Z",
     "iopub.status.idle": "2023-01-23T17:14:21.473372Z",
     "shell.execute_reply": "2023-01-23T17:14:21.471809Z"
    },
    "id": "95868f65",
    "outputId": "0cc5f8a5-09e7-4079-98f6-39128cdb3a69",
    "papermill": {
     "duration": 6.112019,
     "end_time": "2023-01-23T17:14:21.478261",
     "exception": false,
     "start_time": "2023-01-23T17:14:15.366242",
     "status": "completed"
    },
    "tags": []
   },
   "outputs": [
    {
     "name": "stderr",
     "output_type": "stream",
     "text": [
      "Setting default log level to \"WARN\".\n",
      "To adjust logging level use sc.setLogLevel(newLevel). For SparkR, use setLogLevel(newLevel).\n"
     ]
    },
    {
     "name": "stdout",
     "output_type": "stream",
     "text": [
      "23/01/23 17:14:19 WARN NativeCodeLoader: Unable to load native-hadoop library for your platform... using builtin-java classes where applicable\n"
     ]
    }
   ],
   "source": [
    "from pyspark.sql import SparkSession\n",
    "spark = SparkSession.builder.appName('treatmeant').getOrCreate()"
   ]
  },
  {
   "cell_type": "markdown",
   "id": "c63089aa",
   "metadata": {
    "papermill": {
     "duration": 0.043759,
     "end_time": "2023-01-23T17:14:21.571083",
     "exception": false,
     "start_time": "2023-01-23T17:14:21.527324",
     "status": "completed"
    },
    "tags": []
   },
   "source": [
    "### __Read the dataset__"
   ]
  },
  {
   "cell_type": "code",
   "execution_count": 7,
   "id": "63a81240",
   "metadata": {
    "execution": {
     "iopub.execute_input": "2023-01-23T17:14:21.660567Z",
     "iopub.status.busy": "2023-01-23T17:14:21.660084Z",
     "iopub.status.idle": "2023-01-23T17:14:31.009596Z",
     "shell.execute_reply": "2023-01-23T17:14:31.008271Z"
    },
    "id": "b7dbcf25",
    "outputId": "2730098c-9e3a-4356-ffd5-7ab1256f66cf",
    "papermill": {
     "duration": 9.399593,
     "end_time": "2023-01-23T17:14:31.014287",
     "exception": false,
     "start_time": "2023-01-23T17:14:21.614694",
     "status": "completed"
    },
    "tags": []
   },
   "outputs": [
    {
     "name": "stderr",
     "output_type": "stream",
     "text": [
      "                                                                                \r"
     ]
    }
   ],
   "source": [
    "# Use Spark to read the training csv file.\n",
    "bdp_train = spark.read.csv(\"/kaggle/input/big-data-platforms-competition-2023/bdp_train.csv\", inferSchema=True, header=True)\n",
    "bdp_test = spark.read.csv(\"/kaggle/input/big-data-platforms-competition-2023/bdp_test.csv\", inferSchema=True, header=True)"
   ]
  },
  {
   "cell_type": "code",
   "execution_count": 8,
   "id": "c0d8ae9d",
   "metadata": {
    "execution": {
     "iopub.execute_input": "2023-01-23T17:14:31.115951Z",
     "iopub.status.busy": "2023-01-23T17:14:31.115465Z",
     "iopub.status.idle": "2023-01-23T17:14:32.548484Z",
     "shell.execute_reply": "2023-01-23T17:14:32.547264Z"
    },
    "papermill": {
     "duration": 1.481774,
     "end_time": "2023-01-23T17:14:32.551449",
     "exception": false,
     "start_time": "2023-01-23T17:14:31.069675",
     "status": "completed"
    },
    "tags": []
   },
   "outputs": [
    {
     "name": "stdout",
     "output_type": "stream",
     "text": [
      "Train dataset shape: (7436, 454)\n",
      "Test dataset shape: (3186, 453)\n"
     ]
    }
   ],
   "source": [
    "print(f'Train dataset shape: ({bdp_train.count()}, {len(bdp_train.columns)})')\n",
    "print(f'Test dataset shape: ({bdp_test.count()}, {len(bdp_test.columns)})')"
   ]
  },
  {
   "cell_type": "code",
   "execution_count": 9,
   "id": "35c61c78",
   "metadata": {
    "execution": {
     "iopub.execute_input": "2023-01-23T17:14:32.684395Z",
     "iopub.status.busy": "2023-01-23T17:14:32.683297Z",
     "iopub.status.idle": "2023-01-23T17:14:34.096165Z",
     "shell.execute_reply": "2023-01-23T17:14:34.094682Z"
    },
    "papermill": {
     "duration": 1.482911,
     "end_time": "2023-01-23T17:14:34.099238",
     "exception": false,
     "start_time": "2023-01-23T17:14:32.616327",
     "status": "completed"
    },
    "tags": []
   },
   "outputs": [],
   "source": [
    "bdp_train_pd = bdp_train.to_pandas_on_spark()"
   ]
  },
  {
   "cell_type": "code",
   "execution_count": 10,
   "id": "80f43b36",
   "metadata": {
    "execution": {
     "iopub.execute_input": "2023-01-23T17:14:34.189701Z",
     "iopub.status.busy": "2023-01-23T17:14:34.189198Z",
     "iopub.status.idle": "2023-01-23T17:14:34.197774Z",
     "shell.execute_reply": "2023-01-23T17:14:34.196425Z"
    },
    "papermill": {
     "duration": 0.058581,
     "end_time": "2023-01-23T17:14:34.202135",
     "exception": false,
     "start_time": "2023-01-23T17:14:34.143554",
     "status": "completed"
    },
    "tags": []
   },
   "outputs": [],
   "source": [
    "# bdp_train_pd.describe()"
   ]
  },
  {
   "cell_type": "code",
   "execution_count": 11,
   "id": "ed483ada",
   "metadata": {
    "execution": {
     "iopub.execute_input": "2023-01-23T17:14:34.297240Z",
     "iopub.status.busy": "2023-01-23T17:14:34.296785Z",
     "iopub.status.idle": "2023-01-23T17:14:34.306926Z",
     "shell.execute_reply": "2023-01-23T17:14:34.305518Z"
    },
    "papermill": {
     "duration": 0.059162,
     "end_time": "2023-01-23T17:14:34.309330",
     "exception": false,
     "start_time": "2023-01-23T17:14:34.250168",
     "status": "completed"
    },
    "tags": []
   },
   "outputs": [],
   "source": [
    "pattern = re.compile(\"^A[1-9]$|^A[1-7][0-9]$|^A8[0-3]$\")\n",
    "string_columns = [column for column in bdp_train_pd.columns if pattern.match(column)]\n",
    "# bdp_train_pd.loc[:, string_columns].info()"
   ]
  },
  {
   "cell_type": "markdown",
   "id": "4deaf3b5",
   "metadata": {
    "papermill": {
     "duration": 0.044175,
     "end_time": "2023-01-23T17:14:34.397459",
     "exception": false,
     "start_time": "2023-01-23T17:14:34.353284",
     "status": "completed"
    },
    "tags": []
   },
   "source": [
    "### __Filter columns with a single value__"
   ]
  },
  {
   "cell_type": "code",
   "execution_count": 12,
   "id": "eb9cad5c",
   "metadata": {
    "execution": {
     "iopub.execute_input": "2023-01-23T17:14:34.495261Z",
     "iopub.status.busy": "2023-01-23T17:14:34.494284Z",
     "iopub.status.idle": "2023-01-23T17:14:36.623119Z",
     "shell.execute_reply": "2023-01-23T17:14:36.621792Z"
    },
    "papermill": {
     "duration": 2.184474,
     "end_time": "2023-01-23T17:14:36.627090",
     "exception": false,
     "start_time": "2023-01-23T17:14:34.442616",
     "status": "completed"
    },
    "tags": []
   },
   "outputs": [],
   "source": [
    "expression = [f.countDistinct(c).alias(c) for c in bdp_train.columns]\n",
    "num_distinct_values_df = bdp_train.select(*expression)"
   ]
  },
  {
   "cell_type": "code",
   "execution_count": 13,
   "id": "a510de5e",
   "metadata": {
    "execution": {
     "iopub.execute_input": "2023-01-23T17:14:36.725768Z",
     "iopub.status.busy": "2023-01-23T17:14:36.725349Z",
     "iopub.status.idle": "2023-01-23T17:17:31.091211Z",
     "shell.execute_reply": "2023-01-23T17:17:31.089925Z"
    },
    "papermill": {
     "duration": 174.413851,
     "end_time": "2023-01-23T17:17:31.093899",
     "exception": false,
     "start_time": "2023-01-23T17:14:36.680048",
     "status": "completed"
    },
    "tags": []
   },
   "outputs": [
    {
     "name": "stdout",
     "output_type": "stream",
     "text": [
      "23/01/23 17:14:38 WARN package: Truncated the string representation of a plan since it was too large. This behavior can be adjusted by setting 'spark.sql.debug.maxToStringFields'.\n",
      "23/01/23 17:14:40 WARN DAGScheduler: Broadcasting large task binary with size 3.7 MiB\n"
     ]
    },
    {
     "name": "stderr",
     "output_type": "stream",
     "text": [
      "[Stage 10:=============================>                            (1 + 1) / 2]\r"
     ]
    },
    {
     "name": "stdout",
     "output_type": "stream",
     "text": [
      "23/01/23 17:17:22 WARN DAGScheduler: Broadcasting large task binary with size 5.0 MiB\n"
     ]
    },
    {
     "name": "stderr",
     "output_type": "stream",
     "text": [
      "[Stage 12:>                                                         (0 + 1) / 1]\r"
     ]
    },
    {
     "name": "stdout",
     "output_type": "stream",
     "text": [
      "23/01/23 17:17:29 WARN DAGScheduler: Broadcasting large task binary with size 5.4 MiB\n"
     ]
    },
    {
     "name": "stderr",
     "output_type": "stream",
     "text": [
      "                                                                                \r"
     ]
    },
    {
     "data": {
      "image/png": "[encoded data removed]",
      "text/plain": [
       "<Figure size 648x432 with 1 Axes>"
      ]
     },
     "metadata": {
      "needs_background": "light"
     },
     "output_type": "display_data"
    }
   ],
   "source": [
    "first_row_distinct_values = num_distinct_values_df.first()\n",
    "num_distinct_values = np.array([first_row_distinct_values[c] for c in num_distinct_values_df.columns])\n",
    "\n",
    "fig = plt.figure(figsize=(9, 6))\n",
    "plt.hist(num_distinct_values)\n",
    "plt.xlabel('Number of distinct values in a single column')\n",
    "plt.ylabel('count[x]')\n",
    "plt.show()"
   ]
  },
  {
   "cell_type": "code",
   "execution_count": 14,
   "id": "46a332f3",
   "metadata": {
    "execution": {
     "iopub.execute_input": "2023-01-23T17:17:31.186426Z",
     "iopub.status.busy": "2023-01-23T17:17:31.185468Z",
     "iopub.status.idle": "2023-01-23T17:17:31.195508Z",
     "shell.execute_reply": "2023-01-23T17:17:31.194268Z"
    },
    "papermill": {
     "duration": 0.059344,
     "end_time": "2023-01-23T17:17:31.198376",
     "exception": false,
     "start_time": "2023-01-23T17:17:31.139032",
     "status": "completed"
    },
    "tags": []
   },
   "outputs": [
    {
     "name": "stdout",
     "output_type": "stream",
     "text": [
      "Number of columns with 2 or more classes (not including index, class): 243\n"
     ]
    }
   ],
   "source": [
    "valid_columns =  [c for c in num_distinct_values_df.columns if first_row_distinct_values[c] > 1]\n",
    "\n",
    "print(f'Number of columns with 2 or more classes (not including index, class): {len(valid_columns) - 2}')"
   ]
  },
  {
   "cell_type": "code",
   "execution_count": 15,
   "id": "f2adc1df",
   "metadata": {
    "execution": {
     "iopub.execute_input": "2023-01-23T17:17:31.290868Z",
     "iopub.status.busy": "2023-01-23T17:17:31.290431Z",
     "iopub.status.idle": "2023-01-23T17:17:32.046285Z",
     "shell.execute_reply": "2023-01-23T17:17:32.044777Z"
    },
    "papermill": {
     "duration": 0.80657,
     "end_time": "2023-01-23T17:17:32.049985",
     "exception": false,
     "start_time": "2023-01-23T17:17:31.243415",
     "status": "completed"
    },
    "tags": []
   },
   "outputs": [],
   "source": [
    "bdp_train_valid_columns = bdp_train.select(valid_columns)\n",
    "bdp_test_valid_columns = bdp_test.select(valid_columns[:-1])"
   ]
  },
  {
   "cell_type": "markdown",
   "id": "f91bbae6",
   "metadata": {
    "papermill": {
     "duration": 0.049488,
     "end_time": "2023-01-23T17:17:32.152224",
     "exception": false,
     "start_time": "2023-01-23T17:17:32.102736",
     "status": "completed"
    },
    "tags": []
   },
   "source": [
    "### __Filter columns with large number of nulls__"
   ]
  },
  {
   "cell_type": "code",
   "execution_count": 16,
   "id": "6d8ae086",
   "metadata": {
    "execution": {
     "iopub.execute_input": "2023-01-23T17:17:32.256792Z",
     "iopub.status.busy": "2023-01-23T17:17:32.256268Z",
     "iopub.status.idle": "2023-01-23T17:17:32.261807Z",
     "shell.execute_reply": "2023-01-23T17:17:32.260428Z"
    },
    "papermill": {
     "duration": 0.055205,
     "end_time": "2023-01-23T17:17:32.264511",
     "exception": false,
     "start_time": "2023-01-23T17:17:32.209306",
     "status": "completed"
    },
    "tags": []
   },
   "outputs": [],
   "source": [
    "# bdp_train_valid_columns_pd = bdp_train_valid_columns.to_pandas_on_spark()"
   ]
  },
  {
   "cell_type": "code",
   "execution_count": 17,
   "id": "98fa88f2",
   "metadata": {
    "execution": {
     "iopub.execute_input": "2023-01-23T17:17:32.356948Z",
     "iopub.status.busy": "2023-01-23T17:17:32.356506Z",
     "iopub.status.idle": "2023-01-23T17:17:32.361760Z",
     "shell.execute_reply": "2023-01-23T17:17:32.360404Z"
    },
    "papermill": {
     "duration": 0.054548,
     "end_time": "2023-01-23T17:17:32.364239",
     "exception": false,
     "start_time": "2023-01-23T17:17:32.309691",
     "status": "completed"
    },
    "tags": []
   },
   "outputs": [],
   "source": [
    "# msno.matrix(bdp_train_valid_columns_pd.iloc[:, 1:50])"
   ]
  },
  {
   "cell_type": "code",
   "execution_count": 18,
   "id": "d91b68a3",
   "metadata": {
    "execution": {
     "iopub.execute_input": "2023-01-23T17:17:32.455420Z",
     "iopub.status.busy": "2023-01-23T17:17:32.454984Z",
     "iopub.status.idle": "2023-01-23T17:17:32.459866Z",
     "shell.execute_reply": "2023-01-23T17:17:32.458723Z"
    },
    "papermill": {
     "duration": 0.052583,
     "end_time": "2023-01-23T17:17:32.462200",
     "exception": false,
     "start_time": "2023-01-23T17:17:32.409617",
     "status": "completed"
    },
    "tags": []
   },
   "outputs": [],
   "source": [
    "# msno.matrix(bdp_train_valid_columns_pd.iloc[:, 50:100])"
   ]
  },
  {
   "cell_type": "code",
   "execution_count": 19,
   "id": "83ea6b41",
   "metadata": {
    "execution": {
     "iopub.execute_input": "2023-01-23T17:17:32.554357Z",
     "iopub.status.busy": "2023-01-23T17:17:32.553865Z",
     "iopub.status.idle": "2023-01-23T17:17:32.559446Z",
     "shell.execute_reply": "2023-01-23T17:17:32.558203Z"
    },
    "papermill": {
     "duration": 0.055091,
     "end_time": "2023-01-23T17:17:32.562227",
     "exception": false,
     "start_time": "2023-01-23T17:17:32.507136",
     "status": "completed"
    },
    "tags": []
   },
   "outputs": [],
   "source": [
    "# msno.matrix(bdp_train_valid_columns_pd.iloc[:, 100:150])"
   ]
  },
  {
   "cell_type": "code",
   "execution_count": 20,
   "id": "849d7308",
   "metadata": {
    "execution": {
     "iopub.execute_input": "2023-01-23T17:17:32.653960Z",
     "iopub.status.busy": "2023-01-23T17:17:32.653510Z",
     "iopub.status.idle": "2023-01-23T17:17:32.660235Z",
     "shell.execute_reply": "2023-01-23T17:17:32.658753Z"
    },
    "papermill": {
     "duration": 0.055471,
     "end_time": "2023-01-23T17:17:32.662778",
     "exception": false,
     "start_time": "2023-01-23T17:17:32.607307",
     "status": "completed"
    },
    "tags": []
   },
   "outputs": [],
   "source": [
    "# msno.matrix(bdp_train_valid_columns_pd.iloc[:, 150:200])"
   ]
  },
  {
   "cell_type": "code",
   "execution_count": 21,
   "id": "63e07338",
   "metadata": {
    "execution": {
     "iopub.execute_input": "2023-01-23T17:17:32.755313Z",
     "iopub.status.busy": "2023-01-23T17:17:32.754859Z",
     "iopub.status.idle": "2023-01-23T17:17:32.759747Z",
     "shell.execute_reply": "2023-01-23T17:17:32.758654Z"
    },
    "papermill": {
     "duration": 0.05413,
     "end_time": "2023-01-23T17:17:32.762670",
     "exception": false,
     "start_time": "2023-01-23T17:17:32.708540",
     "status": "completed"
    },
    "tags": []
   },
   "outputs": [],
   "source": [
    "# msno.matrix(bdp_train_valid_columns_pd.iloc[:, 200:len(valid_columns)])"
   ]
  },
  {
   "cell_type": "code",
   "execution_count": 22,
   "id": "a138cb3a",
   "metadata": {
    "execution": {
     "iopub.execute_input": "2023-01-23T17:17:32.855408Z",
     "iopub.status.busy": "2023-01-23T17:17:32.854909Z",
     "iopub.status.idle": "2023-01-23T17:17:32.859447Z",
     "shell.execute_reply": "2023-01-23T17:17:32.858613Z"
    },
    "papermill": {
     "duration": 0.053866,
     "end_time": "2023-01-23T17:17:32.861569",
     "exception": false,
     "start_time": "2023-01-23T17:17:32.807703",
     "status": "completed"
    },
    "tags": []
   },
   "outputs": [],
   "source": [
    "# bdp_train_valid_columns_pd.describe()"
   ]
  },
  {
   "cell_type": "code",
   "execution_count": 23,
   "id": "07c03835",
   "metadata": {
    "execution": {
     "iopub.execute_input": "2023-01-23T17:17:32.953087Z",
     "iopub.status.busy": "2023-01-23T17:17:32.952657Z",
     "iopub.status.idle": "2023-01-23T17:17:40.116956Z",
     "shell.execute_reply": "2023-01-23T17:17:40.115760Z"
    },
    "papermill": {
     "duration": 7.214178,
     "end_time": "2023-01-23T17:17:40.120715",
     "exception": false,
     "start_time": "2023-01-23T17:17:32.906537",
     "status": "completed"
    },
    "tags": []
   },
   "outputs": [],
   "source": [
    "expression = [count(when(col(c).contains('None') | \\\n",
    "                         col(c).contains('NULL') | \\\n",
    "                         (col(c) == '' ) | \\\n",
    "                         isnan(c) | \\\n",
    "                         col(c).isNull(), c)).alias(c) for c in bdp_train_valid_columns.columns]\n",
    "\n",
    "num_null_values_df = bdp_train_valid_columns.select(*expression)\n",
    "\n",
    "\n",
    "expression = [count(when(col(c).contains('None') | \\\n",
    "                         col(c).contains('NULL') | \\\n",
    "                         (col(c) == '' ) | \\\n",
    "                         isnan(c) | \\\n",
    "                         col(c).isNull(), c)).alias(c) for c in bdp_test_valid_columns.columns]\n",
    "\n",
    "num_null_values_test_df = bdp_test_valid_columns.select(*expression)"
   ]
  },
  {
   "cell_type": "code",
   "execution_count": 24,
   "id": "058142c3",
   "metadata": {
    "execution": {
     "iopub.execute_input": "2023-01-23T17:17:40.222715Z",
     "iopub.status.busy": "2023-01-23T17:17:40.221475Z",
     "iopub.status.idle": "2023-01-23T17:17:46.837563Z",
     "shell.execute_reply": "2023-01-23T17:17:46.836441Z"
    },
    "papermill": {
     "duration": 6.665351,
     "end_time": "2023-01-23T17:17:46.840153",
     "exception": false,
     "start_time": "2023-01-23T17:17:40.174802",
     "status": "completed"
    },
    "tags": []
   },
   "outputs": [
    {
     "name": "stderr",
     "output_type": "stream",
     "text": [
      "                                                                                \r"
     ]
    },
    {
     "data": {
      "image/png": "[encoded data removed]",
      "text/plain": [
       "<Figure size 648x432 with 1 Axes>"
      ]
     },
     "metadata": {
      "needs_background": "light"
     },
     "output_type": "display_data"
    }
   ],
   "source": [
    "first_row_null_values = num_null_values_df.first()\n",
    "num_null_values = np.array([first_row_null_values[c] for c in num_null_values_df.columns])\n",
    "\n",
    "fig = plt.figure(figsize=(9, 6))\n",
    "plt.hist(num_null_values)\n",
    "plt.xlabel('Number of null values in a single column')\n",
    "plt.ylabel('count[x]')\n",
    "plt.show()"
   ]
  },
  {
   "cell_type": "markdown",
   "id": "ab015487",
   "metadata": {
    "papermill": {
     "duration": 0.04481,
     "end_time": "2023-01-23T17:17:46.930127",
     "exception": false,
     "start_time": "2023-01-23T17:17:46.885317",
     "status": "completed"
    },
    "tags": []
   },
   "source": [
    "#### __filter columns with more than 3500 missing values (~47% of the samples):__\n",
    "Note that columns A439 and A440 has more missing values than 3500, but have very big variation, so we will take them anyway"
   ]
  },
  {
   "cell_type": "code",
   "execution_count": 25,
   "id": "e371d432",
   "metadata": {
    "execution": {
     "iopub.execute_input": "2023-01-23T17:17:47.023123Z",
     "iopub.status.busy": "2023-01-23T17:17:47.021843Z",
     "iopub.status.idle": "2023-01-23T17:17:51.068694Z",
     "shell.execute_reply": "2023-01-23T17:17:51.067445Z"
    },
    "papermill": {
     "duration": 4.096088,
     "end_time": "2023-01-23T17:17:51.071099",
     "exception": false,
     "start_time": "2023-01-23T17:17:46.975011",
     "status": "completed"
    },
    "tags": []
   },
   "outputs": [
    {
     "name": "stderr",
     "output_type": "stream",
     "text": [
      "[Stage 22:>                                                         (0 + 1) / 1]\r"
     ]
    },
    {
     "name": "stdout",
     "output_type": "stream",
     "text": [
      "Number of valid columns (not including index, class): 125\n"
     ]
    },
    {
     "name": "stderr",
     "output_type": "stream",
     "text": [
      "                                                                                \r"
     ]
    }
   ],
   "source": [
    "max_num_lacking_values = 3500\n",
    "max_num_lacking_values_test = bdp_test.count() / 2\n",
    "\n",
    "first_row_null_values_test = num_null_values_test_df.first()\n",
    "\n",
    "valid_columns_train =  [c for c in num_null_values_df.columns if first_row_null_values[c] < max_num_lacking_values] + ['A439', 'A440']\n",
    "valid_columns_test =  [c for c in num_null_values_test_df.columns if first_row_null_values_test[c] < max_num_lacking_values_test] + ['A439', 'A440']\n",
    "\n",
    "valid_columns = []\n",
    "for col in valid_columns_train:\n",
    "    if col in valid_columns_test:\n",
    "        valid_columns.append(col)\n",
    "\n",
    "print(f'Number of valid columns (not including index, class): {len(valid_columns) - 1}')"
   ]
  },
  {
   "cell_type": "code",
   "execution_count": 26,
   "id": "ff3e07db",
   "metadata": {
    "execution": {
     "iopub.execute_input": "2023-01-23T17:17:51.189691Z",
     "iopub.status.busy": "2023-01-23T17:17:51.189098Z",
     "iopub.status.idle": "2023-01-23T17:17:51.393720Z",
     "shell.execute_reply": "2023-01-23T17:17:51.390432Z"
    },
    "papermill": {
     "duration": 0.258888,
     "end_time": "2023-01-23T17:17:51.397800",
     "exception": false,
     "start_time": "2023-01-23T17:17:51.138912",
     "status": "completed"
    },
    "tags": []
   },
   "outputs": [],
   "source": [
    "bdp_train_valid_columns = bdp_train_valid_columns.select(valid_columns + ['CLASS'])"
   ]
  },
  {
   "cell_type": "markdown",
   "id": "8893b7b5",
   "metadata": {
    "papermill": {
     "duration": 0.070512,
     "end_time": "2023-01-23T17:17:51.525417",
     "exception": false,
     "start_time": "2023-01-23T17:17:51.454905",
     "status": "completed"
    },
    "tags": []
   },
   "source": [
    "### __Count binary and non binary columns__"
   ]
  },
  {
   "cell_type": "code",
   "execution_count": 27,
   "id": "8da9e66d",
   "metadata": {
    "execution": {
     "iopub.execute_input": "2023-01-23T17:17:51.675123Z",
     "iopub.status.busy": "2023-01-23T17:17:51.674559Z",
     "iopub.status.idle": "2023-01-23T17:17:51.687257Z",
     "shell.execute_reply": "2023-01-23T17:17:51.686148Z"
    },
    "papermill": {
     "duration": 0.090989,
     "end_time": "2023-01-23T17:17:51.691065",
     "exception": false,
     "start_time": "2023-01-23T17:17:51.600076",
     "status": "completed"
    },
    "tags": []
   },
   "outputs": [
    {
     "name": "stdout",
     "output_type": "stream",
     "text": [
      "Number of binary columns (not including class) is 98\n",
      "Number of non binary columns (not including Index) is 27\n"
     ]
    }
   ],
   "source": [
    "binary_columns =  [c for c in bdp_train_valid_columns.columns if first_row_distinct_values[c] == 2]\n",
    "non_binary_columns = [c for c in bdp_train_valid_columns.columns if not c in binary_columns]\n",
    "print(f'Number of binary columns (not including class) is {len(binary_columns) - 1}')\n",
    "print(f'Number of non binary columns (not including Index) is {len(non_binary_columns) - 1}')"
   ]
  },
  {
   "cell_type": "markdown",
   "id": "31653da5",
   "metadata": {
    "papermill": {
     "duration": 0.046739,
     "end_time": "2023-01-23T17:17:51.787974",
     "exception": false,
     "start_time": "2023-01-23T17:17:51.741235",
     "status": "completed"
    },
    "tags": []
   },
   "source": [
    "### __Change string categorials to numeric categorials__"
   ]
  },
  {
   "cell_type": "code",
   "execution_count": 28,
   "id": "a0c49334",
   "metadata": {
    "execution": {
     "iopub.execute_input": "2023-01-23T17:17:51.884298Z",
     "iopub.status.busy": "2023-01-23T17:17:51.883719Z",
     "iopub.status.idle": "2023-01-23T17:17:57.321910Z",
     "shell.execute_reply": "2023-01-23T17:17:57.320946Z"
    },
    "papermill": {
     "duration": 5.489643,
     "end_time": "2023-01-23T17:17:57.324703",
     "exception": false,
     "start_time": "2023-01-23T17:17:51.835060",
     "status": "completed"
    },
    "tags": []
   },
   "outputs": [
    {
     "name": "stderr",
     "output_type": "stream",
     "text": [
      "                                                                                \r"
     ]
    }
   ],
   "source": [
    "indexers = [StringIndexer(inputCol=column, outputCol=column+\"_index\", handleInvalid=\"keep\").fit(bdp_train_valid_columns) for column in valid_columns if pattern.match(column)]\n",
    "encoders = [OneHotEncoder(inputCol=column+\"_index\", outputCol = column+\"_encoded\") for column in bdp_train_valid_columns.columns if pattern.match(column)]\n",
    "\n",
    "# Create new, indexes columns\n",
    "pipeline = Pipeline(stages=indexers+encoders)\n",
    "bdp_train_valid_columns = pipeline.fit(bdp_train_valid_columns).transform(bdp_train_valid_columns)\n",
    "\n",
    "# Drop old columns\n",
    "columns_to_drop = [column for column in bdp_train_valid_columns.columns if pattern.match(column)]\n",
    "bdp_train_valid_columns = bdp_train_valid_columns.drop(*columns_to_drop)\n",
    "\n",
    "# Rename new columns to the old name\n",
    "to_rename = [column+\"_index\" for column in columns_to_drop]\n",
    "\n",
    "bdp_train_valid_columns = reduce(lambda data, idx: data.withColumnRenamed(to_rename[idx], columns_to_drop[idx]), range(len(to_rename)), bdp_train_valid_columns)\n",
    "bdp_train_valid_columns = bdp_train_valid_columns.select(valid_columns + ['CLASS'])"
   ]
  },
  {
   "cell_type": "markdown",
   "id": "ba6a534a",
   "metadata": {
    "papermill": {
     "duration": 0.048144,
     "end_time": "2023-01-23T17:17:57.418969",
     "exception": false,
     "start_time": "2023-01-23T17:17:57.370825",
     "status": "completed"
    },
    "tags": []
   },
   "source": [
    "### __Check for similar columns (non binary - correlation, binary - Jaccard Distance)__"
   ]
  },
  {
   "cell_type": "code",
   "execution_count": 29,
   "id": "9bfff391",
   "metadata": {
    "execution": {
     "iopub.execute_input": "2023-01-23T17:17:57.512856Z",
     "iopub.status.busy": "2023-01-23T17:17:57.511745Z",
     "iopub.status.idle": "2023-01-23T17:17:59.904416Z",
     "shell.execute_reply": "2023-01-23T17:17:59.902737Z"
    },
    "papermill": {
     "duration": 2.44325,
     "end_time": "2023-01-23T17:17:59.907979",
     "exception": false,
     "start_time": "2023-01-23T17:17:57.464729",
     "status": "completed"
    },
    "tags": []
   },
   "outputs": [],
   "source": [
    "bdp_train_non_binary_columns_pd = bdp_train_valid_columns.select(non_binary_columns[1:]).toPandas()\n",
    "bdp_train_binary_columns_pd = bdp_train_valid_columns.select(binary_columns[:-1]).toPandas()"
   ]
  },
  {
   "cell_type": "code",
   "execution_count": 30,
   "id": "5a3752f5",
   "metadata": {
    "execution": {
     "iopub.execute_input": "2023-01-23T17:18:00.006030Z",
     "iopub.status.busy": "2023-01-23T17:18:00.004820Z",
     "iopub.status.idle": "2023-01-23T17:18:01.903896Z",
     "shell.execute_reply": "2023-01-23T17:18:01.902893Z"
    },
    "papermill": {
     "duration": 1.952092,
     "end_time": "2023-01-23T17:18:01.907861",
     "exception": false,
     "start_time": "2023-01-23T17:17:59.955769",
     "status": "completed"
    },
    "tags": []
   },
   "outputs": [
    {
     "data": {
      "image/png": "[encoded data removed]",
      "text/plain": [
       "<Figure size 1440x1440 with 2 Axes>"
      ]
     },
     "metadata": {
      "needs_background": "light"
     },
     "output_type": "display_data"
    }
   ],
   "source": [
    "corr_matrix = bdp_train_non_binary_columns_pd.corr()\n",
    "\n",
    "fig = plt.figure(figsize=(20, 20))\n",
    "# Generate a mask for upper traingle\n",
    "mask = np.triu(np.ones_like(corr_matrix, dtype=bool))\n",
    "sns.heatmap(corr_matrix, cmap='RdBu', mask = mask, vmin=-1, vmax=1, annot=True, fmt=\".2f\", square=True)\n",
    "plt.show()"
   ]
  },
  {
   "cell_type": "code",
   "execution_count": 31,
   "id": "6337446a",
   "metadata": {
    "execution": {
     "iopub.execute_input": "2023-01-23T17:18:02.010175Z",
     "iopub.status.busy": "2023-01-23T17:18:02.009047Z",
     "iopub.status.idle": "2023-01-23T17:18:02.023328Z",
     "shell.execute_reply": "2023-01-23T17:18:02.021741Z"
    },
    "papermill": {
     "duration": 0.068761,
     "end_time": "2023-01-23T17:18:02.026397",
     "exception": false,
     "start_time": "2023-01-23T17:18:01.957636",
     "status": "completed"
    },
    "tags": []
   },
   "outputs": [],
   "source": [
    "non_binary_columns_sdt = bdp_train_non_binary_columns_pd.std()\n",
    "non_binary_columns_high_sdt = non_binary_columns_sdt.loc[non_binary_columns_sdt.values > 1]"
   ]
  },
  {
   "cell_type": "code",
   "execution_count": 32,
   "id": "3b1ef6e5",
   "metadata": {
    "execution": {
     "iopub.execute_input": "2023-01-23T17:18:02.128411Z",
     "iopub.status.busy": "2023-01-23T17:18:02.127546Z",
     "iopub.status.idle": "2023-01-23T17:18:02.135077Z",
     "shell.execute_reply": "2023-01-23T17:18:02.134047Z"
    },
    "papermill": {
     "duration": 0.06185,
     "end_time": "2023-01-23T17:18:02.137555",
     "exception": false,
     "start_time": "2023-01-23T17:18:02.075705",
     "status": "completed"
    },
    "tags": []
   },
   "outputs": [
    {
     "data": {
      "text/plain": [
       "Index(['A51', 'A52', 'A84', 'A87', 'A88', 'A89', 'A96', 'A100', 'A101', 'A112',\n",
       "       'A113', 'A358', 'A436', 'A448', 'A449', 'A452', 'A439', 'A440'],\n",
       "      dtype='object')"
      ]
     },
     "execution_count": 32,
     "metadata": {},
     "output_type": "execute_result"
    }
   ],
   "source": [
    "non_binary_columns_high_sdt.index"
   ]
  },
  {
   "cell_type": "code",
   "execution_count": 33,
   "id": "c69c85a2",
   "metadata": {
    "execution": {
     "iopub.execute_input": "2023-01-23T17:18:02.242089Z",
     "iopub.status.busy": "2023-01-23T17:18:02.241381Z",
     "iopub.status.idle": "2023-01-23T17:18:40.908188Z",
     "shell.execute_reply": "2023-01-23T17:18:40.906667Z"
    },
    "papermill": {
     "duration": 38.722227,
     "end_time": "2023-01-23T17:18:40.911402",
     "exception": false,
     "start_time": "2023-01-23T17:18:02.189175",
     "status": "completed"
    },
    "tags": []
   },
   "outputs": [],
   "source": [
    "jacacrd_similarity_matrix = pd.DataFrame(np.zeros([len(bdp_train_binary_columns_pd.columns), len(bdp_train_binary_columns_pd.columns)]), columns = bdp_train_binary_columns_pd.columns, index = bdp_train_binary_columns_pd.columns)\n",
    "\n",
    "for col_pair in itertools.combinations(bdp_train_binary_columns_pd.columns, 2):\n",
    "#     print(col_pair)\n",
    "#     print(jaccard_score(bdp_train_binary_columns_pd[col_pair[0]], bdp_train_binary_columns_pd[col_pair[1]], average='micro'))\n",
    "    m11 = bdp_train_binary_columns_pd.loc[(bdp_train_binary_columns_pd[col_pair[0]] == 1) & (bdp_train_binary_columns_pd[col_pair[1]] == 1), :].shape[0]\n",
    "    m01 = bdp_train_binary_columns_pd.loc[(bdp_train_binary_columns_pd[col_pair[0]] == 0) & (bdp_train_binary_columns_pd[col_pair[1]] == 1), :].shape[0]\n",
    "    m10 = bdp_train_binary_columns_pd.loc[(bdp_train_binary_columns_pd[col_pair[0]] == 1) & (bdp_train_binary_columns_pd[col_pair[1]] == 0), :].shape[0]\n",
    "    m00 = bdp_train_binary_columns_pd.loc[(bdp_train_binary_columns_pd[col_pair[0]] == 0) & (bdp_train_binary_columns_pd[col_pair[1]] == 0), :].shape[0]\n",
    "    \n",
    "    jacacrd_similarity_matrix[col_pair[0]][col_pair[1]] =  jaccard_score(bdp_train_binary_columns_pd[col_pair[0]], bdp_train_binary_columns_pd[col_pair[1]], average='micro')\n",
    "    \n",
    "#     interesting_as = ['A25', 'A137', 'A146', 'A371', 'A129', 'A132', 'A406']\n",
    "\n",
    "#     if col_pair[0] in interesting_as:\n",
    "#         print(m11, m01, m10, m00)"
   ]
  },
  {
   "cell_type": "code",
   "execution_count": 34,
   "id": "cec1576b",
   "metadata": {
    "execution": {
     "iopub.execute_input": "2023-01-23T17:18:41.013978Z",
     "iopub.status.busy": "2023-01-23T17:18:41.013433Z",
     "iopub.status.idle": "2023-01-23T17:18:43.843934Z",
     "shell.execute_reply": "2023-01-23T17:18:43.842578Z"
    },
    "papermill": {
     "duration": 2.884993,
     "end_time": "2023-01-23T17:18:43.846782",
     "exception": false,
     "start_time": "2023-01-23T17:18:40.961789",
     "status": "completed"
    },
    "tags": []
   },
   "outputs": [
    {
     "data": {
      "image/png": "[encoded data removed]",
      "text/plain": [
       "<Figure size 1800x1800 with 2 Axes>"
      ]
     },
     "metadata": {
      "needs_background": "light"
     },
     "output_type": "display_data"
    }
   ],
   "source": [
    "fig = plt.figure(figsize=(25, 25))\n",
    "# Generate a mask for upper traingle\n",
    "mask = np.triu(np.ones_like(jacacrd_similarity_matrix, dtype=bool))\n",
    "sns.heatmap(jacacrd_similarity_matrix, cmap='RdBu', mask = mask, vmin=0, vmax=1, square=True)\n",
    "plt.show()"
   ]
  },
  {
   "cell_type": "markdown",
   "id": "a69181aa",
   "metadata": {
    "papermill": {
     "duration": 0.050534,
     "end_time": "2023-01-23T17:18:43.948630",
     "exception": false,
     "start_time": "2023-01-23T17:18:43.898096",
     "status": "completed"
    },
    "tags": []
   },
   "source": [
    "### __Prepare data for training and evaluation__"
   ]
  },
  {
   "cell_type": "code",
   "execution_count": 35,
   "id": "d39befdb",
   "metadata": {
    "execution": {
     "iopub.execute_input": "2023-01-23T17:18:44.052416Z",
     "iopub.status.busy": "2023-01-23T17:18:44.051941Z",
     "iopub.status.idle": "2023-01-23T17:18:44.146691Z",
     "shell.execute_reply": "2023-01-23T17:18:44.145222Z"
    },
    "papermill": {
     "duration": 0.150293,
     "end_time": "2023-01-23T17:18:44.149971",
     "exception": false,
     "start_time": "2023-01-23T17:18:43.999678",
     "status": "completed"
    },
    "tags": []
   },
   "outputs": [],
   "source": [
    "# non_binary_columns.remove('A92')\n",
    "# non_binary_columns_high_sdt = non_binary_columns_high_sdt.index.to_list()\n",
    "# non_binary_columns_high_sdt.remove('A92')\n",
    "training_columns = non_binary_columns[1:] #+ ['A25', 'A1']\n",
    "# training_columns = non_binary_columns_high_sdt.index.to_list() #+ ['A25', 'A137', 'A146', 'A371', 'A129', 'A132', 'A406']\n",
    "    \n",
    "bdp_train_valid_columns = bdp_train_valid_columns.fillna(-1, subset=training_columns)"
   ]
  },
  {
   "cell_type": "code",
   "execution_count": 36,
   "id": "e7760053",
   "metadata": {
    "execution": {
     "iopub.execute_input": "2023-01-23T17:18:44.263673Z",
     "iopub.status.busy": "2023-01-23T17:18:44.263191Z",
     "iopub.status.idle": "2023-01-23T17:18:44.495866Z",
     "shell.execute_reply": "2023-01-23T17:18:44.494802Z"
    },
    "id": "77234841",
    "papermill": {
     "duration": 0.288016,
     "end_time": "2023-01-23T17:18:44.498895",
     "exception": false,
     "start_time": "2023-01-23T17:18:44.210879",
     "status": "completed"
    },
    "tags": []
   },
   "outputs": [],
   "source": [
    "assembler = VectorAssembler(inputCols=training_columns, outputCol='features', handleInvalid=\"keep\")\n",
    "bdp_train_assembler = assembler.transform(bdp_train_valid_columns).select('index', 'features', 'CLASS')"
   ]
  },
  {
   "cell_type": "code",
   "execution_count": 37,
   "id": "aa901cfa",
   "metadata": {
    "execution": {
     "iopub.execute_input": "2023-01-23T17:18:44.604815Z",
     "iopub.status.busy": "2023-01-23T17:18:44.604285Z",
     "iopub.status.idle": "2023-01-23T17:18:45.284547Z",
     "shell.execute_reply": "2023-01-23T17:18:45.283380Z"
    },
    "papermill": {
     "duration": 0.739562,
     "end_time": "2023-01-23T17:18:45.289706",
     "exception": false,
     "start_time": "2023-01-23T17:18:44.550144",
     "status": "completed"
    },
    "tags": []
   },
   "outputs": [
    {
     "name": "stdout",
     "output_type": "stream",
     "text": [
      "+-----+--------------------+-----+\n",
      "|index|            features|CLASS|\n",
      "+-----+--------------------+-----+\n",
      "|    1|[3.0,1.0,0.0,2.0,...|   No|\n",
      "|    2|[3.0,1.0,0.0,2.0,...|  Yes|\n",
      "|    3|[3.0,1.0,2.0,1.0,...|  Yes|\n",
      "|    4|[3.0,1.0,2.0,1.0,...|  Yes|\n",
      "|    5|[3.0,1.0,2.0,1.0,...|  Yes|\n",
      "|    6|[3.0,1.0,0.0,1.0,...|  Yes|\n",
      "|    7|[3.0,1.0,0.0,1.0,...|  Yes|\n",
      "|    8|[3.0,1.0,0.0,1.0,...|   No|\n",
      "|    9|[3.0,1.0,0.0,1.0,...|   No|\n",
      "|   10|[3.0,1.0,0.0,1.0,...|   No|\n",
      "|   11|[3.0,1.0,0.0,1.0,...|   No|\n",
      "|   12|[3.0,3.0,0.0,1.0,...|   No|\n",
      "|   13|[3.0,3.0,0.0,1.0,...|   No|\n",
      "|   14|[3.0,3.0,0.0,1.0,...|   No|\n",
      "|   15|[3.0,3.0,0.0,1.0,...|   No|\n",
      "|   16|[3.0,3.0,0.0,1.0,...|   No|\n",
      "|   17|[3.0,0.0,0.0,1.0,...|  Yes|\n",
      "|   18|[3.0,0.0,0.0,1.0,...|   No|\n",
      "|   19|[3.0,0.0,0.0,1.0,...|   No|\n",
      "|   20|[3.0,0.0,0.0,1.0,...|   No|\n",
      "+-----+--------------------+-----+\n",
      "only showing top 20 rows\n",
      "\n"
     ]
    }
   ],
   "source": [
    "bdp_train_assembler.show()"
   ]
  },
  {
   "cell_type": "code",
   "execution_count": 38,
   "id": "2672c70d",
   "metadata": {
    "execution": {
     "iopub.execute_input": "2023-01-23T17:18:45.483784Z",
     "iopub.status.busy": "2023-01-23T17:18:45.483000Z",
     "iopub.status.idle": "2023-01-23T17:18:45.496786Z",
     "shell.execute_reply": "2023-01-23T17:18:45.495450Z"
    },
    "papermill": {
     "duration": 0.097962,
     "end_time": "2023-01-23T17:18:45.500904",
     "exception": false,
     "start_time": "2023-01-23T17:18:45.402942",
     "status": "completed"
    },
    "tags": []
   },
   "outputs": [],
   "source": [
    "# indexer = StringIndexer(inputCol='CLASS', outputCol='CLASSIndex')\n",
    "indexer = StringIndexer(inputCol='CLASS', outputCol='label')"
   ]
  },
  {
   "cell_type": "code",
   "execution_count": 39,
   "id": "ab3d343c",
   "metadata": {
    "execution": {
     "iopub.execute_input": "2023-01-23T17:18:45.612755Z",
     "iopub.status.busy": "2023-01-23T17:18:45.612267Z",
     "iopub.status.idle": "2023-01-23T17:18:46.218457Z",
     "shell.execute_reply": "2023-01-23T17:18:46.216982Z"
    },
    "papermill": {
     "duration": 0.664333,
     "end_time": "2023-01-23T17:18:46.222554",
     "exception": false,
     "start_time": "2023-01-23T17:18:45.558221",
     "status": "completed"
    },
    "tags": []
   },
   "outputs": [],
   "source": [
    "bdp_train_assembler = indexer.fit(bdp_train_assembler).transform(bdp_train_assembler)\n",
    "# bdp_train_assembler.select('CLASS','CLASSIndex').distinct().show()"
   ]
  },
  {
   "cell_type": "code",
   "execution_count": 40,
   "id": "70ce654d",
   "metadata": {
    "execution": {
     "iopub.execute_input": "2023-01-23T17:18:46.387246Z",
     "iopub.status.busy": "2023-01-23T17:18:46.386647Z",
     "iopub.status.idle": "2023-01-23T17:18:46.900956Z",
     "shell.execute_reply": "2023-01-23T17:18:46.899567Z"
    },
    "id": "4b9579b3",
    "outputId": "05750567-b34f-46a5-828f-b64accd9e3f7",
    "papermill": {
     "duration": 0.603143,
     "end_time": "2023-01-23T17:18:46.904710",
     "exception": false,
     "start_time": "2023-01-23T17:18:46.301567",
     "status": "completed"
    },
    "tags": []
   },
   "outputs": [
    {
     "name": "stdout",
     "output_type": "stream",
     "text": [
      "+-----+--------------------+-----+\n",
      "|index|            features|label|\n",
      "+-----+--------------------+-----+\n",
      "|    1|[3.0,1.0,0.0,2.0,...|  0.0|\n",
      "|    2|[3.0,1.0,0.0,2.0,...|  1.0|\n",
      "|    3|[3.0,1.0,2.0,1.0,...|  1.0|\n",
      "|    4|[3.0,1.0,2.0,1.0,...|  1.0|\n",
      "|    5|[3.0,1.0,2.0,1.0,...|  1.0|\n",
      "|    6|[3.0,1.0,0.0,1.0,...|  1.0|\n",
      "|    7|[3.0,1.0,0.0,1.0,...|  1.0|\n",
      "|    8|[3.0,1.0,0.0,1.0,...|  0.0|\n",
      "|    9|[3.0,1.0,0.0,1.0,...|  0.0|\n",
      "|   10|[3.0,1.0,0.0,1.0,...|  0.0|\n",
      "|   11|[3.0,1.0,0.0,1.0,...|  0.0|\n",
      "|   12|[3.0,3.0,0.0,1.0,...|  0.0|\n",
      "|   13|[3.0,3.0,0.0,1.0,...|  0.0|\n",
      "|   14|[3.0,3.0,0.0,1.0,...|  0.0|\n",
      "|   15|[3.0,3.0,0.0,1.0,...|  0.0|\n",
      "|   16|[3.0,3.0,0.0,1.0,...|  0.0|\n",
      "|   17|[3.0,0.0,0.0,1.0,...|  1.0|\n",
      "|   18|[3.0,0.0,0.0,1.0,...|  0.0|\n",
      "|   19|[3.0,0.0,0.0,1.0,...|  0.0|\n",
      "|   20|[3.0,0.0,0.0,1.0,...|  0.0|\n",
      "+-----+--------------------+-----+\n",
      "only showing top 20 rows\n",
      "\n"
     ]
    }
   ],
   "source": [
    "# build a dataframe that will be fed to the model\n",
    "# train_data_feed = bdp_train_assembler.select('index', 'features','CLASSIndex')\n",
    "train_data_feed = bdp_train_assembler.select('index', 'features','label')\n",
    "train_data_feed.show()"
   ]
  },
  {
   "cell_type": "code",
   "execution_count": 41,
   "id": "724d7a65",
   "metadata": {
    "execution": {
     "iopub.execute_input": "2023-01-23T17:18:47.018993Z",
     "iopub.status.busy": "2023-01-23T17:18:47.018415Z",
     "iopub.status.idle": "2023-01-23T17:18:48.837244Z",
     "shell.execute_reply": "2023-01-23T17:18:48.834706Z"
    },
    "papermill": {
     "duration": 1.87754,
     "end_time": "2023-01-23T17:18:48.841572",
     "exception": false,
     "start_time": "2023-01-23T17:18:46.964032",
     "status": "completed"
    },
    "tags": []
   },
   "outputs": [
    {
     "name": "stderr",
     "output_type": "stream",
     "text": [
      "                                                                                \r"
     ]
    },
    {
     "name": "stdout",
     "output_type": "stream",
     "text": [
      "+-----+--------------------+-----+--------------------+\n",
      "|index|            features|label|      scaledFeatures|\n",
      "+-----+--------------------+-----+--------------------+\n",
      "|    1|[3.0,1.0,0.0,2.0,...|  0.0|(27,[0,1,3,5,6,7,...|\n",
      "|    2|[3.0,1.0,0.0,2.0,...|  1.0|(27,[0,1,3,5,6,7,...|\n",
      "|    3|[3.0,1.0,2.0,1.0,...|  1.0|(27,[0,1,2,3,5,6,...|\n",
      "|    4|[3.0,1.0,2.0,1.0,...|  1.0|[1.0,0.3333333333...|\n",
      "|    5|[3.0,1.0,2.0,1.0,...|  1.0|(27,[0,1,2,3,5,6,...|\n",
      "+-----+--------------------+-----+--------------------+\n",
      "only showing top 5 rows\n",
      "\n"
     ]
    }
   ],
   "source": [
    "scaler = MinMaxScaler(min=0., max=1., inputCol=\"features\", outputCol=\"scaledFeatures\")\n",
    "\n",
    "# Normalize the data\n",
    "scaledData = scaler.fit(train_data_feed).transform(train_data_feed)\n",
    "\n",
    "scaledData.show(5)"
   ]
  },
  {
   "cell_type": "code",
   "execution_count": 42,
   "id": "f053e446",
   "metadata": {
    "execution": {
     "iopub.execute_input": "2023-01-23T17:18:48.988888Z",
     "iopub.status.busy": "2023-01-23T17:18:48.988401Z",
     "iopub.status.idle": "2023-01-23T17:18:49.047220Z",
     "shell.execute_reply": "2023-01-23T17:18:49.046032Z"
    },
    "id": "9dab926b",
    "papermill": {
     "duration": 0.129484,
     "end_time": "2023-01-23T17:18:49.050233",
     "exception": false,
     "start_time": "2023-01-23T17:18:48.920749",
     "status": "completed"
    },
    "tags": []
   },
   "outputs": [],
   "source": [
    "train_data, val_data = scaledData.randomSplit([0.8, 0.2])"
   ]
  },
  {
   "cell_type": "code",
   "execution_count": 43,
   "id": "4b1db9e5",
   "metadata": {
    "execution": {
     "iopub.execute_input": "2023-01-23T17:18:49.158534Z",
     "iopub.status.busy": "2023-01-23T17:18:49.156872Z",
     "iopub.status.idle": "2023-01-23T17:18:50.486644Z",
     "shell.execute_reply": "2023-01-23T17:18:50.485114Z"
    },
    "id": "c24e9795",
    "outputId": "4de6a124-96aa-4ff6-c6cf-c0187733070d",
    "papermill": {
     "duration": 1.38861,
     "end_time": "2023-01-23T17:18:50.490896",
     "exception": false,
     "start_time": "2023-01-23T17:18:49.102286",
     "status": "completed"
    },
    "tags": []
   },
   "outputs": [
    {
     "name": "stderr",
     "output_type": "stream",
     "text": [
      "[Stage 57:=============================>                            (1 + 1) / 2]\r"
     ]
    },
    {
     "name": "stdout",
     "output_type": "stream",
     "text": [
      "+-----+--------------------+-----+--------------------+\n",
      "|index|            features|label|      scaledFeatures|\n",
      "+-----+--------------------+-----+--------------------+\n",
      "|  144|(27,[3,5,6,7,8,10...|  0.0|(27,[3,5,6,7,9,10...|\n",
      "|  218|[0.0,0.0,2.0,0.0,...|  1.0|(27,[2,5,6,7,9,10...|\n",
      "|  336|(27,[0,5,6,7,8,10...|  1.0|(27,[0,5,6,7,9,10...|\n",
      "|  448|[3.0,3.0,1.0,0.0,...|  1.0|(27,[0,1,2,5,6,7,...|\n",
      "|  713|[0.0,3.0,0.0,1.0,...|  0.0|(27,[1,3,5,6,7,9,...|\n",
      "+-----+--------------------+-----+--------------------+\n",
      "only showing top 5 rows\n",
      "\n"
     ]
    },
    {
     "name": "stderr",
     "output_type": "stream",
     "text": [
      "                                                                                \r"
     ]
    }
   ],
   "source": [
    "train_data.distinct().show(5)"
   ]
  },
  {
   "cell_type": "markdown",
   "id": "1245145c",
   "metadata": {
    "papermill": {
     "duration": 0.078989,
     "end_time": "2023-01-23T17:18:50.651714",
     "exception": false,
     "start_time": "2023-01-23T17:18:50.572725",
     "status": "completed"
    },
    "tags": []
   },
   "source": [
    "### __Test different classifiers with cross-validation__"
   ]
  },
  {
   "cell_type": "code",
   "execution_count": 44,
   "id": "4429368b",
   "metadata": {
    "execution": {
     "iopub.execute_input": "2023-01-23T17:18:50.812425Z",
     "iopub.status.busy": "2023-01-23T17:18:50.811610Z",
     "iopub.status.idle": "2023-01-23T17:18:50.825465Z",
     "shell.execute_reply": "2023-01-23T17:18:50.824120Z"
    },
    "papermill": {
     "duration": 0.099738,
     "end_time": "2023-01-23T17:18:50.829777",
     "exception": false,
     "start_time": "2023-01-23T17:18:50.730039",
     "status": "completed"
    },
    "tags": []
   },
   "outputs": [],
   "source": [
    "def print_result(classifier,scores,results_df):\n",
    "    # extract params and use it as the base for ditionary rsults\n",
    "    dict_res = {'Classifier' : classifier}\n",
    "\n",
    "    # recall\n",
    "    dict_res['Train score'] = np.mean(scores[0]) * 100\n",
    "    dict_res['Val score'] = np.mean(scores[1]) * 100\n",
    "    \n",
    "    # print results\n",
    "    print(f\"Classifier: {dict_res['Classifier']}\")\n",
    "    print(f\"Train score: {np.round(dict_res['Train score'],2)}, Validation score {np.round(dict_res['Val score'],2)}\")\n",
    "    \n",
    "    results_df = results_df.append(dict_res, ignore_index=True)\n",
    "\n",
    "    return results_df"
   ]
  },
  {
   "cell_type": "code",
   "execution_count": 45,
   "id": "460ff7a2",
   "metadata": {
    "execution": {
     "iopub.execute_input": "2023-01-23T17:18:50.986248Z",
     "iopub.status.busy": "2023-01-23T17:18:50.985527Z",
     "iopub.status.idle": "2023-01-23T17:18:50.992850Z",
     "shell.execute_reply": "2023-01-23T17:18:50.991512Z"
    },
    "papermill": {
     "duration": 0.088898,
     "end_time": "2023-01-23T17:18:50.996091",
     "exception": false,
     "start_time": "2023-01-23T17:18:50.907193",
     "status": "completed"
    },
    "tags": []
   },
   "outputs": [],
   "source": [
    "results_df = pd.DataFrame()"
   ]
  },
  {
   "cell_type": "code",
   "execution_count": 46,
   "id": "cad55dc1",
   "metadata": {
    "execution": {
     "iopub.execute_input": "2023-01-23T17:18:51.156187Z",
     "iopub.status.busy": "2023-01-23T17:18:51.155574Z",
     "iopub.status.idle": "2023-01-23T17:18:51.182485Z",
     "shell.execute_reply": "2023-01-23T17:18:51.181136Z"
    },
    "papermill": {
     "duration": 0.11007,
     "end_time": "2023-01-23T17:18:51.186262",
     "exception": false,
     "start_time": "2023-01-23T17:18:51.076192",
     "status": "completed"
    },
    "tags": []
   },
   "outputs": [],
   "source": [
    "# In use for all models\n",
    "binary_eval = BinaryClassificationEvaluator(labelCol='label')\n",
    "evaluator = BinaryClassificationEvaluator()"
   ]
  },
  {
   "cell_type": "code",
   "execution_count": 47,
   "id": "9d7c15db",
   "metadata": {
    "execution": {
     "iopub.execute_input": "2023-01-23T17:18:51.330701Z",
     "iopub.status.busy": "2023-01-23T17:18:51.330057Z",
     "iopub.status.idle": "2023-01-23T17:19:33.344962Z",
     "shell.execute_reply": "2023-01-23T17:19:33.344011Z"
    },
    "papermill": {
     "duration": 42.135949,
     "end_time": "2023-01-23T17:19:33.401615",
     "exception": false,
     "start_time": "2023-01-23T17:18:51.265666",
     "status": "completed"
    },
    "tags": []
   },
   "outputs": [
    {
     "name": "stderr",
     "output_type": "stream",
     "text": [
      "                                                                                \r"
     ]
    },
    {
     "name": "stdout",
     "output_type": "stream",
     "text": [
      "Classifier: Logistic Regression\n",
      "Train score: 71.12, Validation score 71.32\n"
     ]
    }
   ],
   "source": [
    "from pyspark.ml.classification import LogisticRegression\n",
    "\n",
    "estimator = LogisticRegression(featuresCol = 'scaledFeatures')\n",
    "grid = ParamGridBuilder().addGrid(estimator.regParam, [0, 0.1, 0.01, 0.001]).build()\n",
    "cv = CrossValidator(estimator=estimator, estimatorParamMaps=grid, evaluator=evaluator)\n",
    "LR_model = cv.fit(train_data)\n",
    "\n",
    "cv_preds = LR_model.transform(val_data)\n",
    "\n",
    "val_score = binary_eval.evaluate(cv_preds)\n",
    "\n",
    "results_df = print_result('Logistic Regression',[max(LR_model.avgMetrics), val_score],results_df)"
   ]
  },
  {
   "cell_type": "code",
   "execution_count": 48,
   "id": "c084c63e",
   "metadata": {
    "execution": {
     "iopub.execute_input": "2023-01-23T17:19:33.506006Z",
     "iopub.status.busy": "2023-01-23T17:19:33.505576Z",
     "iopub.status.idle": "2023-01-23T17:19:33.513407Z",
     "shell.execute_reply": "2023-01-23T17:19:33.510458Z"
    },
    "papermill": {
     "duration": 0.06263,
     "end_time": "2023-01-23T17:19:33.515934",
     "exception": false,
     "start_time": "2023-01-23T17:19:33.453304",
     "status": "completed"
    },
    "tags": []
   },
   "outputs": [],
   "source": [
    "# from pyspark.ml.classification import LinearSVC\n",
    "\n",
    "# estimator = LinearSVC(featuresCol = 'scaledFeatures')\n",
    "# grid = ParamGridBuilder().addGrid(estimator.regParam, [0, 0.1, 0.01, 0.001]).build()\n",
    "# cv = CrossValidator(estimator=estimator, estimatorParamMaps=grid, evaluator=evaluator)\n",
    "# LSVC_model = cv.fit(train_data)\n",
    "\n",
    "# cv_preds = LSVC_model.transform(val_data)\n",
    "\n",
    "# val_score = binary_eval.evaluate(cv_preds)\n",
    "\n",
    "# results_df = print_result('Linear SVM',[max(LSVC_model.avgMetrics), val_score],results_df)"
   ]
  },
  {
   "cell_type": "code",
   "execution_count": 49,
   "id": "166b5a68",
   "metadata": {
    "execution": {
     "iopub.execute_input": "2023-01-23T17:19:33.619481Z",
     "iopub.status.busy": "2023-01-23T17:19:33.618992Z",
     "iopub.status.idle": "2023-01-23T17:20:15.071497Z",
     "shell.execute_reply": "2023-01-23T17:20:15.070562Z"
    },
    "papermill": {
     "duration": 41.563247,
     "end_time": "2023-01-23T17:20:15.130138",
     "exception": false,
     "start_time": "2023-01-23T17:19:33.566891",
     "status": "completed"
    },
    "tags": []
   },
   "outputs": [
    {
     "name": "stdout",
     "output_type": "stream",
     "text": [
      "Classifier: Decision Tree\n",
      "Train score: 58.15, Validation score 60.91\n"
     ]
    }
   ],
   "source": [
    "from pyspark.ml.classification import DecisionTreeClassifier\n",
    "\n",
    "estimator = DecisionTreeClassifier(featuresCol = 'scaledFeatures')\n",
    "grid = ParamGridBuilder().addGrid(estimator.maxDepth, [2, 3, 5, 7, 10]).addGrid(estimator.impurity, ['entropy', 'gini']).build()\n",
    "cv = CrossValidator(estimator=estimator, estimatorParamMaps=grid, evaluator=evaluator)\n",
    "DT_model = cv.fit(train_data)\n",
    "\n",
    "cv_preds = DT_model.transform(val_data)\n",
    "\n",
    "val_score = binary_eval.evaluate(cv_preds)\n",
    "\n",
    "results_df = print_result('Decision Tree',[max(DT_model.avgMetrics), val_score],results_df)"
   ]
  },
  {
   "cell_type": "code",
   "execution_count": 50,
   "id": "7aad564f",
   "metadata": {
    "execution": {
     "iopub.execute_input": "2023-01-23T17:20:15.234748Z",
     "iopub.status.busy": "2023-01-23T17:20:15.234301Z",
     "iopub.status.idle": "2023-01-23T17:24:57.357200Z",
     "shell.execute_reply": "2023-01-23T17:24:57.356215Z"
    },
    "papermill": {
     "duration": 282.235497,
     "end_time": "2023-01-23T17:24:57.417102",
     "exception": false,
     "start_time": "2023-01-23T17:20:15.181605",
     "status": "completed"
    },
    "tags": []
   },
   "outputs": [
    {
     "name": "stdout",
     "output_type": "stream",
     "text": [
      "23/01/23 17:21:28 WARN DAGScheduler: Broadcasting large task binary with size 1011.8 KiB\n",
      "23/01/23 17:21:29 WARN DAGScheduler: Broadcasting large task binary with size 1005.0 KiB\n",
      "23/01/23 17:21:40 WARN DAGScheduler: Broadcasting large task binary with size 1004.3 KiB\n",
      "23/01/23 17:21:40 WARN DAGScheduler: Broadcasting large task binary with size 1035.5 KiB\n",
      "23/01/23 17:21:40 WARN DAGScheduler: Broadcasting large task binary with size 1025.2 KiB\n",
      "23/01/23 17:21:40 WARN DAGScheduler: Broadcasting large task binary with size 1025.7 KiB\n",
      "23/01/23 17:21:40 WARN DAGScheduler: Broadcasting large task binary with size 1026.3 KiB\n",
      "23/01/23 17:21:40 WARN DAGScheduler: Broadcasting large task binary with size 1027.4 KiB\n",
      "23/01/23 17:21:41 WARN DAGScheduler: Broadcasting large task binary with size 1029.7 KiB\n",
      "23/01/23 17:21:41 WARN DAGScheduler: Broadcasting large task binary with size 1033.9 KiB\n",
      "23/01/23 17:21:41 WARN DAGScheduler: Broadcasting large task binary with size 1041.6 KiB\n",
      "23/01/23 17:21:41 WARN DAGScheduler: Broadcasting large task binary with size 1055.1 KiB\n",
      "23/01/23 17:21:41 WARN DAGScheduler: Broadcasting large task binary with size 1077.8 KiB\n",
      "23/01/23 17:21:41 WARN DAGScheduler: Broadcasting large task binary with size 1109.5 KiB\n",
      "23/01/23 17:21:41 WARN DAGScheduler: Broadcasting large task binary with size 1100.0 KiB\n",
      "23/01/23 17:21:41 WARN DAGScheduler: Broadcasting large task binary with size 1100.5 KiB\n",
      "23/01/23 17:21:41 WARN DAGScheduler: Broadcasting large task binary with size 1101.1 KiB\n",
      "23/01/23 17:21:41 WARN DAGScheduler: Broadcasting large task binary with size 1102.2 KiB\n",
      "23/01/23 17:21:41 WARN DAGScheduler: Broadcasting large task binary with size 1104.4 KiB\n",
      "23/01/23 17:21:42 WARN DAGScheduler: Broadcasting large task binary with size 1108.6 KiB\n",
      "23/01/23 17:21:42 WARN DAGScheduler: Broadcasting large task binary with size 1116.1 KiB\n",
      "23/01/23 17:21:42 WARN DAGScheduler: Broadcasting large task binary with size 1129.1 KiB\n",
      "23/01/23 17:21:42 WARN DAGScheduler: Broadcasting large task binary with size 1148.6 KiB\n",
      "23/01/23 17:21:42 WARN DAGScheduler: Broadcasting large task binary with size 1177.1 KiB\n",
      "23/01/23 17:21:42 WARN DAGScheduler: Broadcasting large task binary with size 1169.9 KiB\n",
      "23/01/23 17:21:42 WARN DAGScheduler: Broadcasting large task binary with size 1170.4 KiB\n",
      "23/01/23 17:21:42 WARN DAGScheduler: Broadcasting large task binary with size 1171.0 KiB\n",
      "23/01/23 17:21:43 WARN DAGScheduler: Broadcasting large task binary with size 1172.1 KiB\n",
      "23/01/23 17:21:43 WARN DAGScheduler: Broadcasting large task binary with size 1174.4 KiB\n",
      "23/01/23 17:21:43 WARN DAGScheduler: Broadcasting large task binary with size 1178.9 KiB\n",
      "23/01/23 17:21:43 WARN DAGScheduler: Broadcasting large task binary with size 1187.8 KiB\n",
      "23/01/23 17:21:43 WARN DAGScheduler: Broadcasting large task binary with size 1202.4 KiB\n",
      "23/01/23 17:21:43 WARN DAGScheduler: Broadcasting large task binary with size 1223.5 KiB\n",
      "23/01/23 17:21:43 WARN DAGScheduler: Broadcasting large task binary with size 1250.7 KiB\n",
      "23/01/23 17:21:43 WARN DAGScheduler: Broadcasting large task binary with size 1239.4 KiB\n",
      "23/01/23 17:21:43 WARN DAGScheduler: Broadcasting large task binary with size 1239.8 KiB\n",
      "23/01/23 17:21:44 WARN DAGScheduler: Broadcasting large task binary with size 1240.4 KiB\n",
      "23/01/23 17:21:44 WARN DAGScheduler: Broadcasting large task binary with size 1241.5 KiB\n",
      "23/01/23 17:21:44 WARN DAGScheduler: Broadcasting large task binary with size 1243.8 KiB\n",
      "23/01/23 17:21:44 WARN DAGScheduler: Broadcasting large task binary with size 1248.0 KiB\n",
      "23/01/23 17:21:44 WARN DAGScheduler: Broadcasting large task binary with size 1255.7 KiB\n",
      "23/01/23 17:21:44 WARN DAGScheduler: Broadcasting large task binary with size 1269.3 KiB\n",
      "23/01/23 17:21:44 WARN DAGScheduler: Broadcasting large task binary with size 1292.7 KiB\n",
      "23/01/23 17:21:44 WARN DAGScheduler: Broadcasting large task binary with size 1326.1 KiB\n",
      "23/01/23 17:21:44 WARN DAGScheduler: Broadcasting large task binary with size 1315.7 KiB\n",
      "23/01/23 17:21:45 WARN DAGScheduler: Broadcasting large task binary with size 1316.2 KiB\n",
      "23/01/23 17:21:45 WARN DAGScheduler: Broadcasting large task binary with size 1316.7 KiB\n",
      "23/01/23 17:21:45 WARN DAGScheduler: Broadcasting large task binary with size 1317.9 KiB\n",
      "23/01/23 17:21:45 WARN DAGScheduler: Broadcasting large task binary with size 1320.1 KiB\n",
      "23/01/23 17:21:45 WARN DAGScheduler: Broadcasting large task binary with size 1324.3 KiB\n",
      "23/01/23 17:21:45 WARN DAGScheduler: Broadcasting large task binary with size 1332.0 KiB\n",
      "23/01/23 17:21:45 WARN DAGScheduler: Broadcasting large task binary with size 1344.6 KiB\n",
      "23/01/23 17:21:45 WARN DAGScheduler: Broadcasting large task binary with size 1364.9 KiB\n",
      "23/01/23 17:21:45 WARN DAGScheduler: Broadcasting large task binary with size 1395.1 KiB\n",
      "23/01/23 17:21:46 WARN DAGScheduler: Broadcasting large task binary with size 1385.8 KiB\n",
      "23/01/23 17:21:46 WARN DAGScheduler: Broadcasting large task binary with size 1386.3 KiB\n",
      "23/01/23 17:21:46 WARN DAGScheduler: Broadcasting large task binary with size 1386.8 KiB\n",
      "23/01/23 17:21:46 WARN DAGScheduler: Broadcasting large task binary with size 1388.0 KiB\n",
      "23/01/23 17:21:46 WARN DAGScheduler: Broadcasting large task binary with size 1390.2 KiB\n",
      "23/01/23 17:21:46 WARN DAGScheduler: Broadcasting large task binary with size 1394.4 KiB\n",
      "23/01/23 17:21:46 WARN DAGScheduler: Broadcasting large task binary with size 1402.5 KiB\n",
      "23/01/23 17:21:46 WARN DAGScheduler: Broadcasting large task binary with size 1415.9 KiB\n",
      "23/01/23 17:21:46 WARN DAGScheduler: Broadcasting large task binary with size 1436.2 KiB\n",
      "23/01/23 17:21:47 WARN DAGScheduler: Broadcasting large task binary with size 1463.3 KiB\n",
      "23/01/23 17:21:47 WARN DAGScheduler: Broadcasting large task binary with size 1454.8 KiB\n",
      "23/01/23 17:21:47 WARN DAGScheduler: Broadcasting large task binary with size 1455.2 KiB\n",
      "23/01/23 17:21:47 WARN DAGScheduler: Broadcasting large task binary with size 1455.8 KiB\n",
      "23/01/23 17:21:47 WARN DAGScheduler: Broadcasting large task binary with size 1456.9 KiB\n",
      "23/01/23 17:21:47 WARN DAGScheduler: Broadcasting large task binary with size 1459.2 KiB\n",
      "23/01/23 17:21:47 WARN DAGScheduler: Broadcasting large task binary with size 1463.4 KiB\n",
      "23/01/23 17:21:47 WARN DAGScheduler: Broadcasting large task binary with size 1471.5 KiB\n",
      "23/01/23 17:21:48 WARN DAGScheduler: Broadcasting large task binary with size 1485.9 KiB\n",
      "23/01/23 17:21:48 WARN DAGScheduler: Broadcasting large task binary with size 1508.6 KiB\n",
      "23/01/23 17:21:48 WARN DAGScheduler: Broadcasting large task binary with size 1543.1 KiB\n",
      "23/01/23 17:21:48 WARN DAGScheduler: Broadcasting large task binary with size 1535.2 KiB\n",
      "23/01/23 17:21:48 WARN DAGScheduler: Broadcasting large task binary with size 1535.7 KiB\n",
      "23/01/23 17:21:48 WARN DAGScheduler: Broadcasting large task binary with size 1536.2 KiB\n",
      "23/01/23 17:21:48 WARN DAGScheduler: Broadcasting large task binary with size 1537.4 KiB\n",
      "23/01/23 17:21:49 WARN DAGScheduler: Broadcasting large task binary with size 1539.6 KiB\n",
      "23/01/23 17:21:49 WARN DAGScheduler: Broadcasting large task binary with size 1543.9 KiB\n",
      "23/01/23 17:21:49 WARN DAGScheduler: Broadcasting large task binary with size 1551.6 KiB\n",
      "23/01/23 17:21:49 WARN DAGScheduler: Broadcasting large task binary with size 1564.7 KiB\n",
      "23/01/23 17:21:49 WARN DAGScheduler: Broadcasting large task binary with size 1584.3 KiB\n",
      "23/01/23 17:21:49 WARN DAGScheduler: Broadcasting large task binary with size 1610.2 KiB\n",
      "23/01/23 17:21:50 WARN DAGScheduler: Broadcasting large task binary with size 1596.5 KiB\n",
      "23/01/23 17:23:11 WARN DAGScheduler: Broadcasting large task binary with size 1006.1 KiB\n",
      "23/01/23 17:23:12 WARN DAGScheduler: Broadcasting large task binary with size 1000.4 KiB\n",
      "23/01/23 17:23:12 WARN DAGScheduler: Broadcasting large task binary with size 1002.7 KiB\n",
      "23/01/23 17:23:12 WARN DAGScheduler: Broadcasting large task binary with size 1007.1 KiB\n",
      "23/01/23 17:23:12 WARN DAGScheduler: Broadcasting large task binary with size 1014.8 KiB\n",
      "23/01/23 17:23:12 WARN DAGScheduler: Broadcasting large task binary with size 1026.5 KiB\n",
      "23/01/23 17:23:12 WARN DAGScheduler: Broadcasting large task binary with size 1042.5 KiB\n",
      "23/01/23 17:23:12 WARN DAGScheduler: Broadcasting large task binary with size 1065.0 KiB\n",
      "23/01/23 17:23:12 WARN DAGScheduler: Broadcasting large task binary with size 1055.9 KiB\n",
      "23/01/23 17:23:12 WARN DAGScheduler: Broadcasting large task binary with size 1056.4 KiB\n",
      "23/01/23 17:23:13 WARN DAGScheduler: Broadcasting large task binary with size 1057.0 KiB\n",
      "23/01/23 17:23:13 WARN DAGScheduler: Broadcasting large task binary with size 1058.1 KiB\n",
      "23/01/23 17:23:13 WARN DAGScheduler: Broadcasting large task binary with size 1060.4 KiB\n",
      "23/01/23 17:23:13 WARN DAGScheduler: Broadcasting large task binary with size 1064.9 KiB\n",
      "23/01/23 17:23:13 WARN DAGScheduler: Broadcasting large task binary with size 1072.9 KiB\n",
      "23/01/23 17:23:13 WARN DAGScheduler: Broadcasting large task binary with size 1085.2 KiB\n",
      "23/01/23 17:23:13 WARN DAGScheduler: Broadcasting large task binary with size 1100.0 KiB\n",
      "23/01/23 17:23:13 WARN DAGScheduler: Broadcasting large task binary with size 1119.6 KiB\n",
      "23/01/23 17:23:13 WARN DAGScheduler: Broadcasting large task binary with size 1111.1 KiB\n",
      "23/01/23 17:23:13 WARN DAGScheduler: Broadcasting large task binary with size 1111.5 KiB\n",
      "23/01/23 17:23:14 WARN DAGScheduler: Broadcasting large task binary with size 1112.1 KiB\n",
      "23/01/23 17:23:14 WARN DAGScheduler: Broadcasting large task binary with size 1113.3 KiB\n",
      "23/01/23 17:23:14 WARN DAGScheduler: Broadcasting large task binary with size 1115.5 KiB\n",
      "23/01/23 17:23:14 WARN DAGScheduler: Broadcasting large task binary with size 1119.7 KiB\n",
      "23/01/23 17:23:14 WARN DAGScheduler: Broadcasting large task binary with size 1127.1 KiB\n",
      "23/01/23 17:23:14 WARN DAGScheduler: Broadcasting large task binary with size 1138.5 KiB\n",
      "23/01/23 17:23:14 WARN DAGScheduler: Broadcasting large task binary with size 1153.4 KiB\n",
      "23/01/23 17:23:14 WARN DAGScheduler: Broadcasting large task binary with size 1175.3 KiB\n",
      "23/01/23 17:23:14 WARN DAGScheduler: Broadcasting large task binary with size 1168.3 KiB\n",
      "23/01/23 17:23:15 WARN DAGScheduler: Broadcasting large task binary with size 1168.8 KiB\n",
      "23/01/23 17:23:15 WARN DAGScheduler: Broadcasting large task binary with size 1169.3 KiB\n",
      "23/01/23 17:23:15 WARN DAGScheduler: Broadcasting large task binary with size 1170.5 KiB\n",
      "23/01/23 17:23:15 WARN DAGScheduler: Broadcasting large task binary with size 1172.7 KiB\n",
      "23/01/23 17:23:15 WARN DAGScheduler: Broadcasting large task binary with size 1176.9 KiB\n",
      "23/01/23 17:23:15 WARN DAGScheduler: Broadcasting large task binary with size 1184.4 KiB\n",
      "23/01/23 17:23:15 WARN DAGScheduler: Broadcasting large task binary with size 1196.0 KiB\n",
      "23/01/23 17:23:15 WARN DAGScheduler: Broadcasting large task binary with size 1211.6 KiB\n",
      "23/01/23 17:23:15 WARN DAGScheduler: Broadcasting large task binary with size 1233.2 KiB\n",
      "23/01/23 17:23:15 WARN DAGScheduler: Broadcasting large task binary with size 1225.4 KiB\n",
      "23/01/23 17:23:16 WARN DAGScheduler: Broadcasting large task binary with size 1225.9 KiB\n",
      "23/01/23 17:23:16 WARN DAGScheduler: Broadcasting large task binary with size 1226.4 KiB\n",
      "23/01/23 17:23:16 WARN DAGScheduler: Broadcasting large task binary with size 1227.6 KiB\n",
      "23/01/23 17:23:16 WARN DAGScheduler: Broadcasting large task binary with size 1229.8 KiB\n",
      "23/01/23 17:23:16 WARN DAGScheduler: Broadcasting large task binary with size 1234.0 KiB\n",
      "23/01/23 17:23:16 WARN DAGScheduler: Broadcasting large task binary with size 1241.1 KiB\n",
      "23/01/23 17:23:16 WARN DAGScheduler: Broadcasting large task binary with size 1252.2 KiB\n",
      "23/01/23 17:23:16 WARN DAGScheduler: Broadcasting large task binary with size 1267.2 KiB\n",
      "23/01/23 17:23:16 WARN DAGScheduler: Broadcasting large task binary with size 1288.3 KiB\n",
      "23/01/23 17:23:17 WARN DAGScheduler: Broadcasting large task binary with size 1280.6 KiB\n",
      "23/01/23 17:23:17 WARN DAGScheduler: Broadcasting large task binary with size 1281.1 KiB\n",
      "23/01/23 17:23:17 WARN DAGScheduler: Broadcasting large task binary with size 1281.7 KiB\n",
      "23/01/23 17:23:17 WARN DAGScheduler: Broadcasting large task binary with size 1282.8 KiB\n",
      "23/01/23 17:23:17 WARN DAGScheduler: Broadcasting large task binary with size 1285.1 KiB\n",
      "23/01/23 17:23:17 WARN DAGScheduler: Broadcasting large task binary with size 1289.6 KiB\n",
      "23/01/23 17:23:17 WARN DAGScheduler: Broadcasting large task binary with size 1297.8 KiB\n",
      "23/01/23 17:23:17 WARN DAGScheduler: Broadcasting large task binary with size 1311.1 KiB\n",
      "23/01/23 17:23:17 WARN DAGScheduler: Broadcasting large task binary with size 1327.7 KiB\n",
      "23/01/23 17:23:18 WARN DAGScheduler: Broadcasting large task binary with size 1351.1 KiB\n",
      "23/01/23 17:23:18 WARN DAGScheduler: Broadcasting large task binary with size 1338.2 KiB\n",
      "23/01/23 17:24:26 WARN DAGScheduler: Broadcasting large task binary with size 1010.6 KiB\n",
      "23/01/23 17:24:27 WARN DAGScheduler: Broadcasting large task binary with size 1002.6 KiB\n",
      "23/01/23 17:24:37 WARN DAGScheduler: Broadcasting large task binary with size 1014.8 KiB\n",
      "23/01/23 17:24:37 WARN DAGScheduler: Broadcasting large task binary with size 1003.9 KiB\n",
      "23/01/23 17:24:37 WARN DAGScheduler: Broadcasting large task binary with size 1004.4 KiB\n",
      "23/01/23 17:24:38 WARN DAGScheduler: Broadcasting large task binary with size 1004.9 KiB\n",
      "23/01/23 17:24:38 WARN DAGScheduler: Broadcasting large task binary with size 1006.1 KiB\n",
      "23/01/23 17:24:38 WARN DAGScheduler: Broadcasting large task binary with size 1008.3 KiB\n",
      "23/01/23 17:24:38 WARN DAGScheduler: Broadcasting large task binary with size 1011.9 KiB\n",
      "23/01/23 17:24:38 WARN DAGScheduler: Broadcasting large task binary with size 1018.5 KiB\n",
      "23/01/23 17:24:38 WARN DAGScheduler: Broadcasting large task binary with size 1028.4 KiB\n",
      "23/01/23 17:24:38 WARN DAGScheduler: Broadcasting large task binary with size 1042.9 KiB\n",
      "23/01/23 17:24:38 WARN DAGScheduler: Broadcasting large task binary with size 1062.6 KiB\n",
      "23/01/23 17:24:38 WARN DAGScheduler: Broadcasting large task binary with size 1057.1 KiB\n",
      "23/01/23 17:24:38 WARN DAGScheduler: Broadcasting large task binary with size 1057.6 KiB\n",
      "23/01/23 17:24:39 WARN DAGScheduler: Broadcasting large task binary with size 1058.2 KiB\n",
      "23/01/23 17:24:39 WARN DAGScheduler: Broadcasting large task binary with size 1059.3 KiB\n",
      "23/01/23 17:24:39 WARN DAGScheduler: Broadcasting large task binary with size 1061.6 KiB\n",
      "23/01/23 17:24:39 WARN DAGScheduler: Broadcasting large task binary with size 1066.0 KiB\n",
      "23/01/23 17:24:39 WARN DAGScheduler: Broadcasting large task binary with size 1074.0 KiB\n",
      "23/01/23 17:24:39 WARN DAGScheduler: Broadcasting large task binary with size 1087.2 KiB\n",
      "23/01/23 17:24:39 WARN DAGScheduler: Broadcasting large task binary with size 1106.7 KiB\n",
      "23/01/23 17:24:40 WARN DAGScheduler: Broadcasting large task binary with size 1136.2 KiB\n",
      "23/01/23 17:24:40 WARN DAGScheduler: Broadcasting large task binary with size 1127.1 KiB\n",
      "23/01/23 17:24:40 WARN DAGScheduler: Broadcasting large task binary with size 1127.6 KiB\n",
      "23/01/23 17:24:40 WARN DAGScheduler: Broadcasting large task binary with size 1128.2 KiB\n",
      "23/01/23 17:24:40 WARN DAGScheduler: Broadcasting large task binary with size 1129.3 KiB\n",
      "23/01/23 17:24:40 WARN DAGScheduler: Broadcasting large task binary with size 1131.6 KiB\n",
      "23/01/23 17:24:40 WARN DAGScheduler: Broadcasting large task binary with size 1136.1 KiB\n",
      "23/01/23 17:24:40 WARN DAGScheduler: Broadcasting large task binary with size 1144.0 KiB\n",
      "23/01/23 17:24:40 WARN DAGScheduler: Broadcasting large task binary with size 1156.7 KiB\n",
      "23/01/23 17:24:40 WARN DAGScheduler: Broadcasting large task binary with size 1175.3 KiB\n",
      "23/01/23 17:24:41 WARN DAGScheduler: Broadcasting large task binary with size 1203.7 KiB\n",
      "23/01/23 17:24:41 WARN DAGScheduler: Broadcasting large task binary with size 1195.6 KiB\n",
      "23/01/23 17:24:41 WARN DAGScheduler: Broadcasting large task binary with size 1196.1 KiB\n",
      "23/01/23 17:24:41 WARN DAGScheduler: Broadcasting large task binary with size 1196.7 KiB\n",
      "23/01/23 17:24:41 WARN DAGScheduler: Broadcasting large task binary with size 1197.8 KiB\n",
      "23/01/23 17:24:41 WARN DAGScheduler: Broadcasting large task binary with size 1200.1 KiB\n",
      "23/01/23 17:24:41 WARN DAGScheduler: Broadcasting large task binary with size 1204.5 KiB\n",
      "23/01/23 17:24:41 WARN DAGScheduler: Broadcasting large task binary with size 1212.6 KiB\n",
      "23/01/23 17:24:41 WARN DAGScheduler: Broadcasting large task binary with size 1226.1 KiB\n",
      "23/01/23 17:24:42 WARN DAGScheduler: Broadcasting large task binary with size 1247.2 KiB\n",
      "23/01/23 17:24:42 WARN DAGScheduler: Broadcasting large task binary with size 1280.9 KiB\n",
      "23/01/23 17:24:42 WARN DAGScheduler: Broadcasting large task binary with size 1274.3 KiB\n",
      "23/01/23 17:24:42 WARN BlockManager: Asked to remove block broadcast_11818, which does not exist\n",
      "23/01/23 17:24:42 WARN DAGScheduler: Broadcasting large task binary with size 1274.8 KiB\n",
      "23/01/23 17:24:42 WARN DAGScheduler: Broadcasting large task binary with size 1275.3 KiB\n",
      "23/01/23 17:24:42 WARN DAGScheduler: Broadcasting large task binary with size 1276.5 KiB\n",
      "23/01/23 17:24:42 WARN DAGScheduler: Broadcasting large task binary with size 1278.7 KiB\n",
      "23/01/23 17:24:42 WARN DAGScheduler: Broadcasting large task binary with size 1282.6 KiB\n",
      "23/01/23 17:24:43 WARN DAGScheduler: Broadcasting large task binary with size 1288.9 KiB\n",
      "23/01/23 17:24:43 WARN DAGScheduler: Broadcasting large task binary with size 1299.1 KiB\n",
      "23/01/23 17:24:43 WARN DAGScheduler: Broadcasting large task binary with size 1315.2 KiB\n",
      "23/01/23 17:24:43 WARN DAGScheduler: Broadcasting large task binary with size 1340.6 KiB\n",
      "23/01/23 17:24:43 WARN DAGScheduler: Broadcasting large task binary with size 1335.4 KiB\n",
      "23/01/23 17:24:43 WARN DAGScheduler: Broadcasting large task binary with size 1335.9 KiB\n",
      "23/01/23 17:24:43 WARN DAGScheduler: Broadcasting large task binary with size 1336.5 KiB\n",
      "23/01/23 17:24:43 WARN DAGScheduler: Broadcasting large task binary with size 1337.6 KiB\n",
      "23/01/23 17:24:43 WARN DAGScheduler: Broadcasting large task binary with size 1339.8 KiB\n",
      "23/01/23 17:24:44 WARN DAGScheduler: Broadcasting large task binary with size 1343.7 KiB\n",
      "23/01/23 17:24:44 WARN DAGScheduler: Broadcasting large task binary with size 1350.0 KiB\n",
      "23/01/23 17:24:44 WARN DAGScheduler: Broadcasting large task binary with size 1359.3 KiB\n",
      "23/01/23 17:24:44 WARN DAGScheduler: Broadcasting large task binary with size 1373.7 KiB\n",
      "23/01/23 17:24:44 WARN DAGScheduler: Broadcasting large task binary with size 1394.9 KiB\n",
      "23/01/23 17:24:44 WARN DAGScheduler: Broadcasting large task binary with size 1390.2 KiB\n",
      "23/01/23 17:24:44 WARN DAGScheduler: Broadcasting large task binary with size 1390.6 KiB\n",
      "23/01/23 17:24:44 WARN DAGScheduler: Broadcasting large task binary with size 1391.2 KiB\n",
      "23/01/23 17:24:44 WARN DAGScheduler: Broadcasting large task binary with size 1392.4 KiB\n",
      "23/01/23 17:24:45 WARN DAGScheduler: Broadcasting large task binary with size 1394.6 KiB\n",
      "23/01/23 17:24:45 WARN DAGScheduler: Broadcasting large task binary with size 1399.1 KiB\n",
      "23/01/23 17:24:45 WARN DAGScheduler: Broadcasting large task binary with size 1406.6 KiB\n",
      "23/01/23 17:24:45 WARN DAGScheduler: Broadcasting large task binary with size 1420.0 KiB\n",
      "23/01/23 17:24:45 WARN DAGScheduler: Broadcasting large task binary with size 1440.5 KiB\n",
      "23/01/23 17:24:45 WARN DAGScheduler: Broadcasting large task binary with size 1471.9 KiB\n",
      "23/01/23 17:24:45 WARN DAGScheduler: Broadcasting large task binary with size 1464.2 KiB\n",
      "23/01/23 17:24:45 WARN DAGScheduler: Broadcasting large task binary with size 1464.7 KiB\n",
      "23/01/23 17:24:45 WARN DAGScheduler: Broadcasting large task binary with size 1465.2 KiB\n",
      "23/01/23 17:24:46 WARN DAGScheduler: Broadcasting large task binary with size 1466.4 KiB\n",
      "23/01/23 17:24:46 WARN DAGScheduler: Broadcasting large task binary with size 1468.7 KiB\n",
      "23/01/23 17:24:46 WARN DAGScheduler: Broadcasting large task binary with size 1473.1 KiB\n",
      "23/01/23 17:24:46 WARN DAGScheduler: Broadcasting large task binary with size 1481.2 KiB\n",
      "23/01/23 17:24:46 WARN DAGScheduler: Broadcasting large task binary with size 1495.4 KiB\n",
      "23/01/23 17:24:46 WARN DAGScheduler: Broadcasting large task binary with size 1517.9 KiB\n",
      "23/01/23 17:24:46 WARN DAGScheduler: Broadcasting large task binary with size 1552.2 KiB\n",
      "23/01/23 17:24:47 WARN DAGScheduler: Broadcasting large task binary with size 1539.6 KiB\n",
      "Classifier: Gradient-Boosted Trees\n",
      "Train score: 76.28, Validation score 79.39\n"
     ]
    }
   ],
   "source": [
    "from pyspark.ml.classification import GBTClassifier\n",
    "\n",
    "estimator = GBTClassifier(featuresCol = 'scaledFeatures')\n",
    "grid = ParamGridBuilder().addGrid(estimator.maxDepth, np.arange(2, 11, 1)).build()\n",
    "cv = CrossValidator(estimator=estimator, estimatorParamMaps=grid, evaluator=evaluator)\n",
    "GBT_model = cv.fit(train_data)\n",
    "\n",
    "cv_preds = GBT_model.transform(val_data)\n",
    "\n",
    "val_score = binary_eval.evaluate(cv_preds)\n",
    "\n",
    "results_df = print_result('Gradient-Boosted Trees',[max(GBT_model.avgMetrics), val_score],results_df)"
   ]
  },
  {
   "cell_type": "code",
   "execution_count": 51,
   "id": "6e4e973c",
   "metadata": {
    "execution": {
     "iopub.execute_input": "2023-01-23T17:24:57.620853Z",
     "iopub.status.busy": "2023-01-23T17:24:57.620050Z",
     "iopub.status.idle": "2023-01-23T17:27:34.390431Z",
     "shell.execute_reply": "2023-01-23T17:27:34.389130Z"
    },
    "papermill": {
     "duration": 156.833194,
     "end_time": "2023-01-23T17:27:34.392891",
     "exception": false,
     "start_time": "2023-01-23T17:24:57.559697",
     "status": "completed"
    },
    "tags": []
   },
   "outputs": [
    {
     "name": "stdout",
     "output_type": "stream",
     "text": [
      "23/01/23 17:25:39 WARN DAGScheduler: Broadcasting large task binary with size 1114.2 KiB\n",
      "23/01/23 17:25:45 WARN DAGScheduler: Broadcasting large task binary with size 1064.1 KiB\n",
      "23/01/23 17:25:47 WARN DAGScheduler: Broadcasting large task binary with size 1114.2 KiB\n",
      "23/01/23 17:25:48 WARN DAGScheduler: Broadcasting large task binary with size 1503.5 KiB\n",
      "23/01/23 17:25:49 WARN DAGScheduler: Broadcasting large task binary with size 1094.4 KiB\n",
      "23/01/23 17:26:31 WARN DAGScheduler: Broadcasting large task binary with size 1145.4 KiB\n",
      "23/01/23 17:26:36 WARN DAGScheduler: Broadcasting large task binary with size 1048.9 KiB\n",
      "23/01/23 17:26:38 WARN DAGScheduler: Broadcasting large task binary with size 1145.4 KiB\n",
      "23/01/23 17:26:39 WARN DAGScheduler: Broadcasting large task binary with size 1561.3 KiB\n",
      "23/01/23 17:26:39 WARN DAGScheduler: Broadcasting large task binary with size 1122.7 KiB\n",
      "23/01/23 17:27:20 WARN DAGScheduler: Broadcasting large task binary with size 1141.0 KiB\n",
      "23/01/23 17:27:25 WARN DAGScheduler: Broadcasting large task binary with size 1021.9 KiB\n",
      "23/01/23 17:27:28 WARN DAGScheduler: Broadcasting large task binary with size 1141.0 KiB\n",
      "23/01/23 17:27:28 WARN DAGScheduler: Broadcasting large task binary with size 1547.1 KiB\n",
      "23/01/23 17:27:29 WARN DAGScheduler: Broadcasting large task binary with size 1121.8 KiB\n",
      "23/01/23 17:27:32 WARN DAGScheduler: Broadcasting large task binary with size 1178.9 KiB\n",
      "23/01/23 17:27:32 WARN DAGScheduler: Broadcasting large task binary with size 1648.7 KiB\n",
      "23/01/23 17:27:33 WARN DAGScheduler: Broadcasting large task binary with size 1165.3 KiB\n",
      "Classifier: Random Forest\n",
      "Train score: 76.99, Validation score 79.22\n"
     ]
    }
   ],
   "source": [
    "from pyspark.ml.classification import RandomForestClassifier\n",
    "\n",
    "estimator = RandomForestClassifier(featuresCol = 'scaledFeatures')\n",
    "grid = ParamGridBuilder().addGrid(estimator.maxDepth, np.arange(2, 11, 1)).addGrid(estimator.numTrees, [10, 20, 30]).build()\n",
    "cv = CrossValidator(estimator=estimator, estimatorParamMaps=grid, evaluator=evaluator)\n",
    "RF_model = cv.fit(train_data)\n",
    "\n",
    "cv_preds = RF_model.transform(val_data)\n",
    "\n",
    "val_score = binary_eval.evaluate(cv_preds)\n",
    "\n",
    "results_df = print_result('Random Forest',[max(RF_model.avgMetrics), val_score],results_df)"
   ]
  },
  {
   "cell_type": "code",
   "execution_count": 52,
   "id": "71c34de7",
   "metadata": {
    "execution": {
     "iopub.execute_input": "2023-01-23T17:27:34.528576Z",
     "iopub.status.busy": "2023-01-23T17:27:34.527983Z",
     "iopub.status.idle": "2023-01-23T17:39:34.466765Z",
     "shell.execute_reply": "2023-01-23T17:39:34.465421Z"
    },
    "papermill": {
     "duration": 720.083496,
     "end_time": "2023-01-23T17:39:34.535398",
     "exception": false,
     "start_time": "2023-01-23T17:27:34.451902",
     "status": "completed"
    },
    "tags": []
   },
   "outputs": [
    {
     "name": "stdout",
     "output_type": "stream",
     "text": [
      "23/01/23 17:27:47 WARN BLAS: Failed to load implementation from: com.github.fommil.netlib.NativeSystemBLAS\n",
      "23/01/23 17:27:47 WARN BLAS: Failed to load implementation from: com.github.fommil.netlib.NativeRefBLAS\n",
      "Classifier: Multi layer perceptron\n",
      "Train score: 76.74, Validation score 81.14\n"
     ]
    }
   ],
   "source": [
    "from pyspark.ml.classification import MultilayerPerceptronClassifier\n",
    "\n",
    "estimator = MultilayerPerceptronClassifier(layers=[len(training_columns), 16, 8, 4, 2], maxIter = 300, featuresCol = 'scaledFeatures')\n",
    "grid = ParamGridBuilder().addGrid(estimator.stepSize, np.arange(0.001, 0.011, 0.001)).addGrid(estimator.solver, ['gd', 'l-bfgs']).build()\n",
    "cv = CrossValidator(estimator=estimator, estimatorParamMaps=grid, evaluator=evaluator)\n",
    "MLP_model = cv.fit(train_data)\n",
    "\n",
    "cv_preds = MLP_model.transform(val_data)\n",
    "\n",
    "val_score = binary_eval.evaluate(cv_preds)\n",
    "\n",
    "results_df = print_result('Multi layer perceptron',[max(MLP_model.avgMetrics), val_score],results_df)"
   ]
  },
  {
   "cell_type": "code",
   "execution_count": 53,
   "id": "f96e1bab",
   "metadata": {
    "execution": {
     "iopub.execute_input": "2023-01-23T17:39:34.661188Z",
     "iopub.status.busy": "2023-01-23T17:39:34.660771Z",
     "iopub.status.idle": "2023-01-23T17:45:52.590182Z",
     "shell.execute_reply": "2023-01-23T17:45:52.589249Z"
    },
    "papermill": {
     "duration": 378.068342,
     "end_time": "2023-01-23T17:45:52.666311",
     "exception": false,
     "start_time": "2023-01-23T17:39:34.597969",
     "status": "completed"
    },
    "tags": []
   },
   "outputs": [
    {
     "name": "stdout",
     "output_type": "stream",
     "text": [
      "23/01/23 17:42:55 WARN BlockManager: Asked to remove block broadcast_61136, which does not exist\n",
      "Classifier: FM classifier\n",
      "Train score: 71.85, Validation score 72.49\n"
     ]
    }
   ],
   "source": [
    "from pyspark.ml.classification import FMClassifier\n",
    "\n",
    "estimator = FMClassifier(featuresCol = 'scaledFeatures')\n",
    "grid = ParamGridBuilder().addGrid(estimator.factorSize, np.arange(1, 10, 1)).addGrid(estimator.solver, ['gd', 'adamW']).build()\n",
    "cv = CrossValidator(estimator=estimator, estimatorParamMaps=grid, evaluator=evaluator)\n",
    "FM_model = cv.fit(train_data)\n",
    "\n",
    "cv_preds = FM_model.transform(val_data)\n",
    "\n",
    "val_score = binary_eval.evaluate(cv_preds)\n",
    "\n",
    "results_df = print_result('FM classifier',[max(FM_model.avgMetrics), val_score],results_df)"
   ]
  },
  {
   "cell_type": "code",
   "execution_count": 54,
   "id": "95e328df",
   "metadata": {
    "execution": {
     "iopub.execute_input": "2023-01-23T17:45:52.787982Z",
     "iopub.status.busy": "2023-01-23T17:45:52.787548Z",
     "iopub.status.idle": "2023-01-23T17:45:52.792955Z",
     "shell.execute_reply": "2023-01-23T17:45:52.791694Z"
    },
    "papermill": {
     "duration": 0.069377,
     "end_time": "2023-01-23T17:45:52.795514",
     "exception": false,
     "start_time": "2023-01-23T17:45:52.726137",
     "status": "completed"
    },
    "tags": []
   },
   "outputs": [],
   "source": [
    "# from pyspark.ml.classification import NaiveBayes\n",
    "\n",
    "# estimator = NaiveBayes(featuresCol = 'scaledFeatures')\n",
    "# grid = ParamGridBuilder().addGrid(estimator.modelType, ['multinomial', 'bernoulli', 'gaussian']).build()\n",
    "# cv = CrossValidator(estimator=estimator, estimatorParamMaps=grid, evaluator=evaluator)\n",
    "# NB_model = cv.fit(train_data)\n",
    "\n",
    "# cv_preds = NB_model.transform(val_data)\n",
    "\n",
    "# val_score = binary_eval.evaluate(cv_preds)\n",
    "\n",
    "# results_df = print_result('Naive Bayes',[max(NB_model.avgMetrics), val_score],results_df)"
   ]
  },
  {
   "cell_type": "code",
   "execution_count": 55,
   "id": "c61d803a",
   "metadata": {
    "execution": {
     "iopub.execute_input": "2023-01-23T17:45:52.920674Z",
     "iopub.status.busy": "2023-01-23T17:45:52.919620Z",
     "iopub.status.idle": "2023-01-23T17:45:52.936559Z",
     "shell.execute_reply": "2023-01-23T17:45:52.935235Z"
    },
    "papermill": {
     "duration": 0.082949,
     "end_time": "2023-01-23T17:45:52.939197",
     "exception": false,
     "start_time": "2023-01-23T17:45:52.856248",
     "status": "completed"
    },
    "tags": []
   },
   "outputs": [
    {
     "data": {
      "text/html": [
       "<div>\n",
       "<style scoped>\n",
       "    .dataframe tbody tr th:only-of-type {\n",
       "        vertical-align: middle;\n",
       "    }\n",
       "\n",
       "    .dataframe tbody tr th {\n",
       "        vertical-align: top;\n",
       "    }\n",
       "\n",
       "    .dataframe thead th {\n",
       "        text-align: right;\n",
       "    }\n",
       "</style>\n",
       "<table border=\"1\" class=\"dataframe\">\n",
       "  <thead>\n",
       "    <tr style=\"text-align: right;\">\n",
       "      <th></th>\n",
       "      <th>Classifier</th>\n",
       "      <th>Train score</th>\n",
       "      <th>Val score</th>\n",
       "    </tr>\n",
       "  </thead>\n",
       "  <tbody>\n",
       "    <tr>\n",
       "      <th>0</th>\n",
       "      <td>Logistic Regression</td>\n",
       "      <td>71.122648</td>\n",
       "      <td>71.315885</td>\n",
       "    </tr>\n",
       "    <tr>\n",
       "      <th>1</th>\n",
       "      <td>Decision Tree</td>\n",
       "      <td>58.153600</td>\n",
       "      <td>60.905018</td>\n",
       "    </tr>\n",
       "    <tr>\n",
       "      <th>2</th>\n",
       "      <td>Gradient-Boosted Trees</td>\n",
       "      <td>76.276651</td>\n",
       "      <td>79.385628</td>\n",
       "    </tr>\n",
       "    <tr>\n",
       "      <th>3</th>\n",
       "      <td>Random Forest</td>\n",
       "      <td>76.992637</td>\n",
       "      <td>79.224908</td>\n",
       "    </tr>\n",
       "    <tr>\n",
       "      <th>4</th>\n",
       "      <td>Multi layer perceptron</td>\n",
       "      <td>76.743995</td>\n",
       "      <td>81.142689</td>\n",
       "    </tr>\n",
       "    <tr>\n",
       "      <th>5</th>\n",
       "      <td>FM classifier</td>\n",
       "      <td>71.847725</td>\n",
       "      <td>72.488695</td>\n",
       "    </tr>\n",
       "  </tbody>\n",
       "</table>\n",
       "</div>"
      ],
      "text/plain": [
       "               Classifier  Train score  Val score\n",
       "0     Logistic Regression    71.122648  71.315885\n",
       "1           Decision Tree    58.153600  60.905018\n",
       "2  Gradient-Boosted Trees    76.276651  79.385628\n",
       "3           Random Forest    76.992637  79.224908\n",
       "4  Multi layer perceptron    76.743995  81.142689\n",
       "5           FM classifier    71.847725  72.488695"
      ]
     },
     "execution_count": 55,
     "metadata": {},
     "output_type": "execute_result"
    }
   ],
   "source": [
    "results_df"
   ]
  },
  {
   "cell_type": "markdown",
   "id": "23eb1845",
   "metadata": {
    "papermill": {
     "duration": 0.060479,
     "end_time": "2023-01-23T17:45:53.062315",
     "exception": false,
     "start_time": "2023-01-23T17:45:53.001836",
     "status": "completed"
    },
    "tags": []
   },
   "source": [
    "### __select best classifier and predict test data with it__"
   ]
  },
  {
   "cell_type": "code",
   "execution_count": 56,
   "id": "fa042b44",
   "metadata": {
    "execution": {
     "iopub.execute_input": "2023-01-23T17:45:53.189240Z",
     "iopub.status.busy": "2023-01-23T17:45:53.188422Z",
     "iopub.status.idle": "2023-01-23T17:45:53.193715Z",
     "shell.execute_reply": "2023-01-23T17:45:53.192609Z"
    },
    "papermill": {
     "duration": 0.072019,
     "end_time": "2023-01-23T17:45:53.196102",
     "exception": false,
     "start_time": "2023-01-23T17:45:53.124083",
     "status": "completed"
    },
    "tags": []
   },
   "outputs": [],
   "source": [
    "selected_model = MLP_model"
   ]
  },
  {
   "cell_type": "code",
   "execution_count": 57,
   "id": "f01f6258",
   "metadata": {
    "execution": {
     "iopub.execute_input": "2023-01-23T17:45:53.319802Z",
     "iopub.status.busy": "2023-01-23T17:45:53.319322Z",
     "iopub.status.idle": "2023-01-23T17:45:53.662046Z",
     "shell.execute_reply": "2023-01-23T17:45:53.660661Z"
    },
    "id": "fa72c12d",
    "papermill": {
     "duration": 0.409318,
     "end_time": "2023-01-23T17:45:53.665731",
     "exception": false,
     "start_time": "2023-01-23T17:45:53.256413",
     "status": "completed"
    },
    "tags": []
   },
   "outputs": [],
   "source": [
    "# # Use Spark to read the training csv file.\n",
    "# bdp_test = spark.read.csv(\"/kaggle/input/big-data-platforms-competition-2023/bdp_test.csv\", inferSchema=True, header=True)\\\n",
    "#                  .fillna(0, subset=training_columns)\\\n",
    "#                  .withColumn(\"A103\", f.col(\"A103\").cast('int'))\\\n",
    "#                  .withColumn(\"A102\", f.col(\"A102\").cast('int'))\\\n",
    "#                  .withColumn(\"A97\", f.col(\"A97\").cast('int'))\\\n",
    "#                  .withColumn(\"A92\", f.col(\"A92\").cast('int'))\\\n",
    "#                  .withColumn(\"A115\", f.col(\"A115\").cast('int'))\n",
    "\n",
    "# Use Spark to read the test csv file.\n",
    "bdp_test = spark.read.csv(\"/kaggle/input/big-data-platforms-competition-2023/bdp_test.csv\", inferSchema=True, header=True)"
   ]
  },
  {
   "cell_type": "code",
   "execution_count": 58,
   "id": "e1be4fca",
   "metadata": {
    "execution": {
     "iopub.execute_input": "2023-01-23T17:45:53.801964Z",
     "iopub.status.busy": "2023-01-23T17:45:53.801542Z",
     "iopub.status.idle": "2023-01-23T17:45:53.806639Z",
     "shell.execute_reply": "2023-01-23T17:45:53.805414Z"
    },
    "papermill": {
     "duration": 0.070304,
     "end_time": "2023-01-23T17:45:53.809188",
     "exception": false,
     "start_time": "2023-01-23T17:45:53.738884",
     "status": "completed"
    },
    "tags": []
   },
   "outputs": [],
   "source": [
    "# bdp_test_pd = bdp_test.to_pandas_on_spark()\n",
    "# bdp_test_pd.info()"
   ]
  },
  {
   "cell_type": "code",
   "execution_count": 59,
   "id": "62d6c991",
   "metadata": {
    "execution": {
     "iopub.execute_input": "2023-01-23T17:45:53.932378Z",
     "iopub.status.busy": "2023-01-23T17:45:53.931926Z",
     "iopub.status.idle": "2023-01-23T17:45:54.012750Z",
     "shell.execute_reply": "2023-01-23T17:45:54.011414Z"
    },
    "id": "3d874851",
    "outputId": "809a16a6-52be-4c4c-f3c5-5fda63ddab76",
    "papermill": {
     "duration": 0.14677,
     "end_time": "2023-01-23T17:45:54.016435",
     "exception": false,
     "start_time": "2023-01-23T17:45:53.869665",
     "status": "completed"
    },
    "tags": []
   },
   "outputs": [],
   "source": [
    "bdp_test = bdp_test.select(training_columns + ['Index']).fillna(-1, subset=training_columns)"
   ]
  },
  {
   "cell_type": "code",
   "execution_count": 60,
   "id": "8e720206",
   "metadata": {
    "execution": {
     "iopub.execute_input": "2023-01-23T17:45:54.146519Z",
     "iopub.status.busy": "2023-01-23T17:45:54.146035Z",
     "iopub.status.idle": "2023-01-23T17:45:54.248012Z",
     "shell.execute_reply": "2023-01-23T17:45:54.246959Z"
    },
    "papermill": {
     "duration": 0.1675,
     "end_time": "2023-01-23T17:45:54.250779",
     "exception": false,
     "start_time": "2023-01-23T17:45:54.083279",
     "status": "completed"
    },
    "tags": []
   },
   "outputs": [
    {
     "name": "stdout",
     "output_type": "stream",
     "text": [
      "Dataset shape: (3186, 28)\n"
     ]
    }
   ],
   "source": [
    "print(f'Dataset shape: ({bdp_test.count()}, {len(bdp_test.columns)})')"
   ]
  },
  {
   "cell_type": "code",
   "execution_count": 61,
   "id": "bbce777d",
   "metadata": {
    "execution": {
     "iopub.execute_input": "2023-01-23T17:45:54.374691Z",
     "iopub.status.busy": "2023-01-23T17:45:54.374224Z",
     "iopub.status.idle": "2023-01-23T17:45:55.879777Z",
     "shell.execute_reply": "2023-01-23T17:45:55.878524Z"
    },
    "papermill": {
     "duration": 1.570331,
     "end_time": "2023-01-23T17:45:55.882513",
     "exception": false,
     "start_time": "2023-01-23T17:45:54.312182",
     "status": "completed"
    },
    "tags": []
   },
   "outputs": [],
   "source": [
    "indexers = [StringIndexer(inputCol=column, outputCol=column+\"_index\", handleInvalid=\"keep\").fit(bdp_test) for column in training_columns if pattern.match(column)]\n",
    "encoders = [OneHotEncoder(inputCol=column+\"_index\", outputCol = column+\"_encoded\") for column in training_columns if pattern.match(column)]\n",
    "\n",
    "# Create new, indexes columns\n",
    "pipeline = Pipeline(stages=indexers+encoders)\n",
    "bdp_test = pipeline.fit(bdp_test).transform(bdp_test)\n",
    "\n",
    "# Drop old columns\n",
    "columns_to_drop = [column for column in bdp_test.columns if pattern.match(column)]\n",
    "bdp_test = bdp_test.drop(*columns_to_drop)\n",
    "\n",
    "# Rename new columns to the old name\n",
    "to_rename = [column+\"_index\" for column in columns_to_drop]\n",
    "\n",
    "bdp_test = reduce(lambda data, idx: data.withColumnRenamed(to_rename[idx], columns_to_drop[idx]), range(len(to_rename)), bdp_test)\n",
    "bdp_test = bdp_test.select(training_columns + ['Index'])"
   ]
  },
  {
   "cell_type": "code",
   "execution_count": 62,
   "id": "a77e4ccc",
   "metadata": {
    "execution": {
     "iopub.execute_input": "2023-01-23T17:45:56.007025Z",
     "iopub.status.busy": "2023-01-23T17:45:56.006602Z",
     "iopub.status.idle": "2023-01-23T17:45:56.581800Z",
     "shell.execute_reply": "2023-01-23T17:45:56.580426Z"
    },
    "id": "3bae23dc",
    "papermill": {
     "duration": 0.640659,
     "end_time": "2023-01-23T17:45:56.584761",
     "exception": false,
     "start_time": "2023-01-23T17:45:55.944102",
     "status": "completed"
    },
    "tags": []
   },
   "outputs": [],
   "source": [
    "test_data = assembler.transform(bdp_test).select('index', 'features')\n",
    "test_scaled_data = scaler.fit(train_data_feed).transform(test_data)"
   ]
  },
  {
   "cell_type": "code",
   "execution_count": 63,
   "id": "774e71ce",
   "metadata": {
    "execution": {
     "iopub.execute_input": "2023-01-23T17:45:56.770803Z",
     "iopub.status.busy": "2023-01-23T17:45:56.769517Z",
     "iopub.status.idle": "2023-01-23T17:45:57.059047Z",
     "shell.execute_reply": "2023-01-23T17:45:57.057437Z"
    },
    "id": "6c3b7d53",
    "outputId": "6019f76e-4a73-478d-923a-6e68caff430a",
    "papermill": {
     "duration": 0.386622,
     "end_time": "2023-01-23T17:45:57.061818",
     "exception": false,
     "start_time": "2023-01-23T17:45:56.675196",
     "status": "completed"
    },
    "tags": []
   },
   "outputs": [
    {
     "name": "stdout",
     "output_type": "stream",
     "text": [
      "+-----+--------------------+--------------------+\n",
      "|index|            features|      scaledFeatures|\n",
      "+-----+--------------------+--------------------+\n",
      "|    1|(27,[0,2,5,6,7,8,...|(27,[0,2,5,6,7,8,...|\n",
      "|    2|(27,[3,5,6,7,8,12...|(27,[3,5,6,7,8,9,...|\n",
      "|    3|[0.0,0.0,0.0,3.0,...|[0.0,0.0,0.0,0.75...|\n",
      "|    4|[0.0,0.0,0.0,3.0,...|[0.0,0.0,0.0,0.75...|\n",
      "|    5|[0.0,0.0,0.0,3.0,...|[0.0,0.0,0.0,0.75...|\n",
      "|    6|[0.0,0.0,0.0,3.0,...|[0.0,0.0,0.0,0.75...|\n",
      "|    7|[0.0,0.0,0.0,3.0,...|[0.0,0.0,0.0,0.75...|\n",
      "|    8|[0.0,0.0,0.0,3.0,...|[0.0,0.0,0.0,0.75...|\n",
      "|    9|[0.0,0.0,0.0,3.0,...|[0.0,0.0,0.0,0.75...|\n",
      "|   10|(27,[1,2,3,5,6,7,...|(27,[1,2,3,5,6,7,...|\n",
      "|   11|[0.0,1.0,2.0,1.0,...|(27,[1,2,3,5,7,8,...|\n",
      "|   12|[0.0,1.0,2.0,1.0,...|[0.0,0.3333333333...|\n",
      "|   13|[0.0,1.0,2.0,1.0,...|[0.0,0.3333333333...|\n",
      "|   14|(27,[1,3,5,6,7,8,...|(27,[1,3,5,6,7,8,...|\n",
      "|   15|[0.0,1.0,0.0,1.0,...|[0.0,0.3333333333...|\n",
      "|   16|[0.0,1.0,0.0,1.0,...|[0.0,0.3333333333...|\n",
      "|   17|[0.0,1.0,0.0,1.0,...|[0.0,0.3333333333...|\n",
      "|   18|(27,[3,5,6,7,8,12...|(27,[3,5,6,7,8,9,...|\n",
      "|   19|(27,[3,5,6,7,8,9,...|(27,[3,5,6,7,8,9,...|\n",
      "|   20|(27,[3,5,6,7,8,9,...|(27,[3,5,6,7,8,9,...|\n",
      "+-----+--------------------+--------------------+\n",
      "only showing top 20 rows\n",
      "\n"
     ]
    }
   ],
   "source": [
    "test_scaled_data.show()"
   ]
  },
  {
   "cell_type": "code",
   "execution_count": 64,
   "id": "df075125",
   "metadata": {
    "execution": {
     "iopub.execute_input": "2023-01-23T17:45:57.186464Z",
     "iopub.status.busy": "2023-01-23T17:45:57.186001Z",
     "iopub.status.idle": "2023-01-23T17:45:57.239187Z",
     "shell.execute_reply": "2023-01-23T17:45:57.237572Z"
    },
    "id": "4844eb7e",
    "papermill": {
     "duration": 0.118109,
     "end_time": "2023-01-23T17:45:57.241865",
     "exception": false,
     "start_time": "2023-01-23T17:45:57.123756",
     "status": "completed"
    },
    "tags": []
   },
   "outputs": [],
   "source": [
    "test_preds = selected_model.transform(test_scaled_data)"
   ]
  },
  {
   "cell_type": "code",
   "execution_count": 65,
   "id": "9b4e2d66",
   "metadata": {
    "execution": {
     "iopub.execute_input": "2023-01-23T17:45:57.367322Z",
     "iopub.status.busy": "2023-01-23T17:45:57.366518Z",
     "iopub.status.idle": "2023-01-23T17:45:57.551309Z",
     "shell.execute_reply": "2023-01-23T17:45:57.550296Z"
    },
    "id": "e30ae481",
    "outputId": "0fbeff65-3469-4461-e21b-a9ba5eeeeb3b",
    "papermill": {
     "duration": 0.250391,
     "end_time": "2023-01-23T17:45:57.554973",
     "exception": false,
     "start_time": "2023-01-23T17:45:57.304582",
     "status": "completed"
    },
    "tags": []
   },
   "outputs": [
    {
     "name": "stdout",
     "output_type": "stream",
     "text": [
      "+-----+--------------------+--------------------+--------------------+--------------------+----------+\n",
      "|index|            features|      scaledFeatures|       rawPrediction|         probability|prediction|\n",
      "+-----+--------------------+--------------------+--------------------+--------------------+----------+\n",
      "|    1|(27,[0,2,5,6,7,8,...|(27,[0,2,5,6,7,8,...|[1.66545617770314...|[0.86911014973269...|       0.0|\n",
      "|    2|(27,[3,5,6,7,8,12...|(27,[3,5,6,7,8,9,...|[0.06643037228024...|[0.26065267027351...|       1.0|\n",
      "|    3|[0.0,0.0,0.0,3.0,...|[0.0,0.0,0.0,0.75...|[0.31119910154535...|[0.35791779294121...|       1.0|\n",
      "|    4|[0.0,0.0,0.0,3.0,...|[0.0,0.0,0.0,0.75...|[0.94740030657531...|[0.64322347930522...|       0.0|\n",
      "|    5|[0.0,0.0,0.0,3.0,...|[0.0,0.0,0.0,0.75...|[1.38791898319880...|[0.80139246851429...|       0.0|\n",
      "|    6|[0.0,0.0,0.0,3.0,...|[0.0,0.0,0.0,0.75...|[2.21361583390769...|[0.94803082963173...|       0.0|\n",
      "|    7|[0.0,0.0,0.0,3.0,...|[0.0,0.0,0.0,0.75...|[2.32454239557796...|[0.95697105837691...|       0.0|\n",
      "|    8|[0.0,0.0,0.0,3.0,...|[0.0,0.0,0.0,0.75...|[2.29272916254350...|[0.95439831170076...|       0.0|\n",
      "|    9|[0.0,0.0,0.0,3.0,...|[0.0,0.0,0.0,0.75...|[2.39305032868458...|[0.96176317197895...|       0.0|\n",
      "|   10|(27,[1,2,3,5,6,7,...|(27,[1,2,3,5,6,7,...|[2.12427680536174...|[0.94076619541884...|       0.0|\n",
      "|   11|[0.0,1.0,2.0,1.0,...|(27,[1,2,3,5,7,8,...|[2.14075029737780...|[0.94136164221030...|       0.0|\n",
      "|   12|[0.0,1.0,2.0,1.0,...|[0.0,0.3333333333...|[1.87169277772733...|[0.90716923676161...|       0.0|\n",
      "|   13|[0.0,1.0,2.0,1.0,...|[0.0,0.3333333333...|[1.59398700187941...|[0.85401579604620...|       0.0|\n",
      "|   14|(27,[1,3,5,6,7,8,...|(27,[1,3,5,6,7,8,...|[1.78146363744715...|[0.89108324890271...|       0.0|\n",
      "|   15|[0.0,1.0,0.0,1.0,...|[0.0,0.3333333333...|[2.67556715921700...|[0.97667658385363...|       0.0|\n",
      "|   16|[0.0,1.0,0.0,1.0,...|[0.0,0.3333333333...|[2.10507385225792...|[0.93675733748473...|       0.0|\n",
      "|   17|[0.0,1.0,0.0,1.0,...|[0.0,0.3333333333...|[1.11068302866574...|[0.70331460596200...|       0.0|\n",
      "|   18|(27,[3,5,6,7,8,12...|(27,[3,5,6,7,8,9,...|[-0.3483119056004...|[0.13897768076747...|       1.0|\n",
      "|   19|(27,[3,5,6,7,8,9,...|(27,[3,5,6,7,8,9,...|[-0.1281690461514...|[0.19412992655454...|       1.0|\n",
      "|   20|(27,[3,5,6,7,8,9,...|(27,[3,5,6,7,8,9,...|[0.89800154595711...|[0.61718653148060...|       0.0|\n",
      "+-----+--------------------+--------------------+--------------------+--------------------+----------+\n",
      "only showing top 20 rows\n",
      "\n"
     ]
    }
   ],
   "source": [
    "test_preds.show()"
   ]
  },
  {
   "cell_type": "code",
   "execution_count": 66,
   "id": "6a4fa9bb",
   "metadata": {
    "execution": {
     "iopub.execute_input": "2023-01-23T17:45:57.688421Z",
     "iopub.status.busy": "2023-01-23T17:45:57.687952Z",
     "iopub.status.idle": "2023-01-23T17:45:58.281611Z",
     "shell.execute_reply": "2023-01-23T17:45:58.280282Z"
    },
    "papermill": {
     "duration": 0.660357,
     "end_time": "2023-01-23T17:45:58.285409",
     "exception": false,
     "start_time": "2023-01-23T17:45:57.625052",
     "status": "completed"
    },
    "tags": []
   },
   "outputs": [
    {
     "name": "stdout",
     "output_type": "stream",
     "text": [
      "+-----+--------------------+--------------------+--------------------+--------------------+----------+\n",
      "|index|            features|      scaledFeatures|       rawPrediction|         probability|prediction|\n",
      "+-----+--------------------+--------------------+--------------------+--------------------+----------+\n",
      "|   82|[0.0,1.0,2.0,1.0,...|[0.0,0.3333333333...|[1.65373522121508...|[0.86824978412453...|       0.0|\n",
      "|  150|(27,[3,5,6,7,9,10...|[0.0,0.0,0.0,0.5,...|[2.22906049104182...|[0.94885142048037...|       0.0|\n",
      "|  298|[0.0,0.0,3.0,1.0,...|[0.0,0.0,1.0,0.25...|[2.16772090692621...|[0.94211613040081...|       0.0|\n",
      "|  742|(27,[0,5,6,7,12,1...|(27,[0,5,6,7,8,9,...|[0.37787343350608...|[0.40156806098448...|       1.0|\n",
      "|  833|[0.0,1.0,3.0,1.0,...|[0.0,0.3333333333...|[2.51946973495550...|[0.97062963332425...|       0.0|\n",
      "+-----+--------------------+--------------------+--------------------+--------------------+----------+\n",
      "only showing top 5 rows\n",
      "\n"
     ]
    }
   ],
   "source": [
    "test_preds.distinct().show(5)"
   ]
  },
  {
   "cell_type": "code",
   "execution_count": 67,
   "id": "8da6d8fc",
   "metadata": {
    "execution": {
     "iopub.execute_input": "2023-01-23T17:45:58.417826Z",
     "iopub.status.busy": "2023-01-23T17:45:58.416519Z",
     "iopub.status.idle": "2023-01-23T17:45:58.614716Z",
     "shell.execute_reply": "2023-01-23T17:45:58.613744Z"
    },
    "id": "41f06be9",
    "outputId": "800b9e19-b6ae-4ee7-bebb-c6ce4b9d4d02",
    "papermill": {
     "duration": 0.263471,
     "end_time": "2023-01-23T17:45:58.617481",
     "exception": false,
     "start_time": "2023-01-23T17:45:58.354010",
     "status": "completed"
    },
    "tags": []
   },
   "outputs": [
    {
     "data": {
      "text/plain": [
       "Row(index=1, features=SparseVector(27, {0: 1.0, 2: 2.0, 5: 7.0, 6: 7.0, 7: 35.0, 8: 70.0, 10: 14.0, 11: 14.0, 12: 147.0, 13: 147.0, 21: 133.0, 22: -1.0, 23: -1.0, 24: 7.0, 25: 812.0, 26: 546.0}), scaledFeatures=SparseVector(27, {0: 0.3333, 2: 0.6667, 5: 0.2222, 6: 0.186, 7: 0.72, 8: 1.0, 9: 0.0109, 10: 0.1111, 11: 0.087, 12: 0.8, 13: 0.4134, 21: 0.4241, 24: 1.0, 25: 0.7298, 26: 0.7095}), rawPrediction=DenseVector([1.6655, -0.2277]), probability=DenseVector([0.8691, 0.1309]), prediction=0.0)"
      ]
     },
     "execution_count": 67,
     "metadata": {},
     "output_type": "execute_result"
    }
   ],
   "source": [
    "test_preds.head()"
   ]
  },
  {
   "cell_type": "code",
   "execution_count": 68,
   "id": "ae67034e",
   "metadata": {
    "execution": {
     "iopub.execute_input": "2023-01-23T17:45:58.740727Z",
     "iopub.status.busy": "2023-01-23T17:45:58.739916Z",
     "iopub.status.idle": "2023-01-23T17:45:59.157836Z",
     "shell.execute_reply": "2023-01-23T17:45:59.156371Z"
    },
    "id": "88a472ab",
    "outputId": "3f0ce550-c24a-402c-c247-dcc9ee5ccaed",
    "papermill": {
     "duration": 0.482645,
     "end_time": "2023-01-23T17:45:59.160738",
     "exception": false,
     "start_time": "2023-01-23T17:45:58.678093",
     "status": "completed"
    },
    "tags": []
   },
   "outputs": [
    {
     "name": "stdout",
     "output_type": "stream",
     "text": [
      "+-----+--------------------+--------------------+--------------------+--------------------+----------+--------------------+\n",
      "|index|            features|      scaledFeatures|       rawPrediction|         probability|prediction|           ProbToYes|\n",
      "+-----+--------------------+--------------------+--------------------+--------------------+----------+--------------------+\n",
      "|    1|(27,[0,2,5,6,7,8,...|(27,[0,2,5,6,7,8,...|[1.66545617770314...|[0.86911014973269...|       0.0| 0.13088985026730843|\n",
      "|    2|(27,[3,5,6,7,8,12...|(27,[3,5,6,7,8,9,...|[0.06643037228024...|[0.26065267027351...|       1.0|  0.7393473297264834|\n",
      "|    3|[0.0,0.0,0.0,3.0,...|[0.0,0.0,0.0,0.75...|[0.31119910154535...|[0.35791779294121...|       1.0|  0.6420822070587845|\n",
      "|    4|[0.0,0.0,0.0,3.0,...|[0.0,0.0,0.0,0.75...|[0.94740030657531...|[0.64322347930522...|       0.0| 0.35677652069477134|\n",
      "|    5|[0.0,0.0,0.0,3.0,...|[0.0,0.0,0.0,0.75...|[1.38791898319880...|[0.80139246851429...|       0.0| 0.19860753148570057|\n",
      "|    6|[0.0,0.0,0.0,3.0,...|[0.0,0.0,0.0,0.75...|[2.21361583390769...|[0.94803082963173...|       0.0| 0.05196917036826885|\n",
      "|    7|[0.0,0.0,0.0,3.0,...|[0.0,0.0,0.0,0.75...|[2.32454239557796...|[0.95697105837691...|       0.0|0.043028941623086785|\n",
      "|    8|[0.0,0.0,0.0,3.0,...|[0.0,0.0,0.0,0.75...|[2.29272916254350...|[0.95439831170076...|       0.0|0.045601688299234625|\n",
      "|    9|[0.0,0.0,0.0,3.0,...|[0.0,0.0,0.0,0.75...|[2.39305032868458...|[0.96176317197895...|       0.0|0.038236828021047234|\n",
      "|   10|(27,[1,2,3,5,6,7,...|(27,[1,2,3,5,6,7,...|[2.12427680536174...|[0.94076619541884...|       0.0| 0.05923380458115098|\n",
      "|   11|[0.0,1.0,2.0,1.0,...|(27,[1,2,3,5,7,8,...|[2.14075029737780...|[0.94136164221030...|       0.0|0.058638357789690336|\n",
      "|   12|[0.0,1.0,2.0,1.0,...|[0.0,0.3333333333...|[1.87169277772733...|[0.90716923676161...|       0.0| 0.09283076323838521|\n",
      "|   13|[0.0,1.0,2.0,1.0,...|[0.0,0.3333333333...|[1.59398700187941...|[0.85401579604620...|       0.0| 0.14598420395379696|\n",
      "|   14|(27,[1,3,5,6,7,8,...|(27,[1,3,5,6,7,8,...|[1.78146363744715...|[0.89108324890271...|       0.0| 0.10891675109728698|\n",
      "|   15|[0.0,1.0,0.0,1.0,...|[0.0,0.3333333333...|[2.67556715921700...|[0.97667658385363...|       0.0| 0.02332341614636839|\n",
      "|   16|[0.0,1.0,0.0,1.0,...|[0.0,0.3333333333...|[2.10507385225792...|[0.93675733748473...|       0.0| 0.06324266251526982|\n",
      "|   17|[0.0,1.0,0.0,1.0,...|[0.0,0.3333333333...|[1.11068302866574...|[0.70331460596200...|       0.0|   0.296685394037992|\n",
      "|   18|(27,[3,5,6,7,8,12...|(27,[3,5,6,7,8,9,...|[-0.3483119056004...|[0.13897768076747...|       1.0|  0.8610223192325226|\n",
      "|   19|(27,[3,5,6,7,8,9,...|(27,[3,5,6,7,8,9,...|[-0.1281690461514...|[0.19412992655454...|       1.0|  0.8058700734454515|\n",
      "|   20|(27,[3,5,6,7,8,9,...|(27,[3,5,6,7,8,9,...|[0.89800154595711...|[0.61718653148060...|       0.0|  0.3828134685193922|\n",
      "+-----+--------------------+--------------------+--------------------+--------------------+----------+--------------------+\n",
      "only showing top 20 rows\n",
      "\n"
     ]
    }
   ],
   "source": [
    "from pyspark.ml.functions import vector_to_array\n",
    "test_preds.withColumn('ProbToYes', vector_to_array(f.col('probability')).getItem(1)).show()"
   ]
  },
  {
   "cell_type": "code",
   "execution_count": 69,
   "id": "daf6d95b",
   "metadata": {
    "execution": {
     "iopub.execute_input": "2023-01-23T17:45:59.286599Z",
     "iopub.status.busy": "2023-01-23T17:45:59.286093Z",
     "iopub.status.idle": "2023-01-23T17:45:59.382269Z",
     "shell.execute_reply": "2023-01-23T17:45:59.381264Z"
    },
    "id": "afd159bd",
    "papermill": {
     "duration": 0.162787,
     "end_time": "2023-01-23T17:45:59.385115",
     "exception": false,
     "start_time": "2023-01-23T17:45:59.222328",
     "status": "completed"
    },
    "tags": []
   },
   "outputs": [],
   "source": [
    "test_preds = selected_model.transform(test_scaled_data)\\\n",
    "                          .withColumn('ProbToYes', vector_to_array(f.col('probability')).getItem(1))\\\n",
    "                          .select('index', 'ProbToYes')"
   ]
  },
  {
   "cell_type": "code",
   "execution_count": 70,
   "id": "cad64e2f",
   "metadata": {
    "execution": {
     "iopub.execute_input": "2023-01-23T17:45:59.510092Z",
     "iopub.status.busy": "2023-01-23T17:45:59.509368Z",
     "iopub.status.idle": "2023-01-23T17:45:59.517377Z",
     "shell.execute_reply": "2023-01-23T17:45:59.516281Z"
    },
    "id": "d0f078af",
    "outputId": "aac68055-260c-4924-e82a-97180913f45f",
    "papermill": {
     "duration": 0.073192,
     "end_time": "2023-01-23T17:45:59.519727",
     "exception": false,
     "start_time": "2023-01-23T17:45:59.446535",
     "status": "completed"
    },
    "tags": []
   },
   "outputs": [
    {
     "name": "stdout",
     "output_type": "stream",
     "text": [
      "root\n",
      " |-- index: integer (nullable = true)\n",
      " |-- ProbToYes: double (nullable = true)\n",
      "\n"
     ]
    }
   ],
   "source": [
    "test_preds.printSchema()"
   ]
  },
  {
   "cell_type": "code",
   "execution_count": 71,
   "id": "9dc9341a",
   "metadata": {
    "execution": {
     "iopub.execute_input": "2023-01-23T17:45:59.644819Z",
     "iopub.status.busy": "2023-01-23T17:45:59.644373Z",
     "iopub.status.idle": "2023-01-23T17:45:59.841652Z",
     "shell.execute_reply": "2023-01-23T17:45:59.840474Z"
    },
    "id": "87bf8581",
    "outputId": "5c513cf5-2331-47b7-b3f5-0c719bb40183",
    "papermill": {
     "duration": 0.263328,
     "end_time": "2023-01-23T17:45:59.844931",
     "exception": false,
     "start_time": "2023-01-23T17:45:59.581603",
     "status": "completed"
    },
    "tags": []
   },
   "outputs": [
    {
     "name": "stdout",
     "output_type": "stream",
     "text": [
      "+-----+-------------------+\n",
      "|index|          ProbToYes|\n",
      "+-----+-------------------+\n",
      "|    1|0.13088985026730843|\n",
      "|    2| 0.7393473297264834|\n",
      "|    3| 0.6420822070587845|\n",
      "|    4|0.35677652069477134|\n",
      "|    5|0.19860753148570057|\n",
      "+-----+-------------------+\n",
      "only showing top 5 rows\n",
      "\n"
     ]
    }
   ],
   "source": [
    "test_preds.show(5)"
   ]
  },
  {
   "cell_type": "code",
   "execution_count": 72,
   "id": "96d8f4f4",
   "metadata": {
    "execution": {
     "iopub.execute_input": "2023-01-23T17:45:59.973091Z",
     "iopub.status.busy": "2023-01-23T17:45:59.972632Z",
     "iopub.status.idle": "2023-01-23T17:46:00.762916Z",
     "shell.execute_reply": "2023-01-23T17:46:00.761460Z"
    },
    "id": "d2107fae",
    "outputId": "d5623504-b525-46d2-893f-d6d21d511a2e",
    "papermill": {
     "duration": 0.857345,
     "end_time": "2023-01-23T17:46:00.767027",
     "exception": false,
     "start_time": "2023-01-23T17:45:59.909682",
     "status": "completed"
    },
    "tags": []
   },
   "outputs": [],
   "source": [
    "test_preds.coalesce(1).write.mode('overwrite').csv('/kaggle/working/Best_predictions_(MLP).csv', header = 'true')"
   ]
  },
  {
   "cell_type": "code",
   "execution_count": 73,
   "id": "d8bba35c",
   "metadata": {
    "execution": {
     "iopub.execute_input": "2023-01-23T17:46:00.943530Z",
     "iopub.status.busy": "2023-01-23T17:46:00.942912Z",
     "iopub.status.idle": "2023-01-23T17:46:00.949909Z",
     "shell.execute_reply": "2023-01-23T17:46:00.948245Z"
    },
    "id": "2c56c0c0",
    "papermill": {
     "duration": 0.088315,
     "end_time": "2023-01-23T17:46:00.953119",
     "exception": false,
     "start_time": "2023-01-23T17:46:00.864804",
     "status": "completed"
    },
    "tags": []
   },
   "outputs": [],
   "source": [
    "os.chdir(r'/kaggle/working')"
   ]
  },
  {
   "cell_type": "code",
   "execution_count": 74,
   "id": "3a6d0404",
   "metadata": {
    "execution": {
     "iopub.execute_input": "2023-01-23T17:46:01.109015Z",
     "iopub.status.busy": "2023-01-23T17:46:01.107445Z",
     "iopub.status.idle": "2023-01-23T17:46:01.116561Z",
     "shell.execute_reply": "2023-01-23T17:46:01.115414Z"
    },
    "papermill": {
     "duration": 0.093111,
     "end_time": "2023-01-23T17:46:01.118916",
     "exception": false,
     "start_time": "2023-01-23T17:46:01.025805",
     "status": "completed"
    },
    "tags": []
   },
   "outputs": [
    {
     "data": {
      "text/html": [
       "Path (<tt>./predictions_MLP_scaled_data.csv</tt>) doesn't exist. It may still be in the process of being generated, or you may have the incorrect path."
      ],
      "text/plain": []
     },
     "execution_count": 74,
     "metadata": {},
     "output_type": "execute_result"
    }
   ],
   "source": [
    "from IPython.display import FileLinks\n",
    "FileLinks(r'./predictions_MLP_scaled_data.csv')"
   ]
  },
  {
   "cell_type": "code",
   "execution_count": 75,
   "id": "ae0d8488",
   "metadata": {
    "execution": {
     "iopub.execute_input": "2023-01-23T17:46:01.246503Z",
     "iopub.status.busy": "2023-01-23T17:46:01.245933Z",
     "iopub.status.idle": "2023-01-23T17:46:03.131828Z",
     "shell.execute_reply": "2023-01-23T17:46:03.130484Z"
    },
    "papermill": {
     "duration": 1.95195,
     "end_time": "2023-01-23T17:46:03.134378",
     "exception": false,
     "start_time": "2023-01-23T17:46:01.182428",
     "status": "completed"
    },
    "tags": []
   },
   "outputs": [
    {
     "name": "stderr",
     "output_type": "stream",
     "text": [
      "                                                                                \r"
     ]
    }
   ],
   "source": [
    "selected_model.save(r'./Best_MPL_model/')"
   ]
  },
  {
   "cell_type": "code",
   "execution_count": null,
   "id": "22894fff",
   "metadata": {
    "papermill": {
     "duration": 0.060581,
     "end_time": "2023-01-23T17:46:03.255593",
     "exception": false,
     "start_time": "2023-01-23T17:46:03.195012",
     "status": "completed"
    },
    "tags": []
   },
   "outputs": [],
   "source": []
  }
 ],
 "metadata": {
  "kernelspec": {
   "display_name": "Python 3",
   "language": "python",
   "name": "python3"
  },
  "language_info": {
   "codemirror_mode": {
    "name": "ipython",
    "version": 3
   },
   "file_extension": ".py",
   "mimetype": "text/x-python",
   "name": "python",
   "nbconvert_exporter": "python",
   "pygments_lexer": "ipython3",
   "version": "3.7.12"
  },
  "papermill": {
   "default_parameters": {},
   "duration": 2409.112557,
   "end_time": "2023-01-23T17:46:05.945566",
   "environment_variables": {},
   "exception": null,
   "input_path": "__notebook__.ipynb",
   "output_path": "__notebook__.ipynb",
   "parameters": {},
   "start_time": "2023-01-23T17:05:56.833009",
   "version": "2.3.4"
  }
 },
 "nbformat": 4,
 "nbformat_minor": 5
}
