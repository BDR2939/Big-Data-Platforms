{
  "cells": [
    {
      "cell_type": "markdown",
      "metadata": {
        "id": "dqZcndSSjtkH"
      },
      "source": [
        "# Import & Configurations"
      ]
    },
    {
      "cell_type": "code",
      "execution_count": 1,
      "metadata": {
        "id": "us9wYFRtjwvR"
      },
      "outputs": [],
      "source": [
        "# !apt-get install openjdk-8-jdk-headless -qq > /dev/null\n",
        "# !wget -O ./spark-3.3.1-bin-hadoop3.tgz  https://dlcdn.apache.org/spark/spark-3.3.1/spark-3.3.1-bin-hadoop3.tgz\n",
        "# !tar zxvf ./spark-3.3.1-bin-hadoop3.tgz\n",
        "# !pip install findspark"
      ]
    },
    {
      "cell_type": "code",
      "execution_count": 2,
      "metadata": {
        "id": "2Fre6_SsjwrL"
      },
      "outputs": [],
      "source": [
        "# import os\n",
        "\n",
        "# os.environ[\"JAVA_HOME\"] = \"/Library/Java/JavaVirtualMachines/openjdk\"\n",
        "# os.environ[\"SPARK_HOME\"] = \"/Users/ronibendom/Downloads/spark-3.3.1-bin-hadoop3\""
      ]
    },
    {
      "cell_type": "code",
      "execution_count": 3,
      "metadata": {
        "id": "nCpySdxpjzlB"
      },
      "outputs": [],
      "source": [
        "#setting up Kaggle\n",
        "# !pip install kaggle\n",
        "import json\n",
        "\n",
        "# !mkdir /Users/ronibendom/.kaggle\n",
        "# Installing the Kaggle package\n",
        "\n",
        "#Important Note: complete this with your own key - after running this for the first time remmember to **remove** your API_KEY\n",
        "api_token = {\"username\": \"yonatanron\", \"key\": \"f237c8b6d384b04f375f53d8dc439101\"}\n",
        "\n",
        "# creating kaggle.json file with the personal API-Key details \n",
        "# You can also put this file on your Google Drive\n",
        "\n",
        "with open('/Users/ronibendom/.kaggle/kaggle.json', 'w') as file:\n",
        "  json.dump(api_token, file)\n",
        "!chmod 600 kaggle.json"
      ]
    },
    {
      "cell_type": "code",
      "execution_count": 4,
      "metadata": {
        "id": "JWpGM95bj25y"
      },
      "outputs": [],
      "source": [
        "import findspark\n",
        "import random\n",
        "findspark.init()"
      ]
    },
    {
      "cell_type": "code",
      "execution_count": 5,
      "metadata": {
        "id": "IDexHskEgkky"
      },
      "outputs": [],
      "source": [
        "# Other imports\n",
        "import numpy as np\n",
        "import pandas as pd\n",
        "import pyspark\n",
        "from pyspark.rdd import RDD\n",
        "from pyspark.sql import SparkSession\n",
        "from pyspark import SparkContext\n",
        "from pyspark.sql.functions import avg, min, asc, desc\n"
      ]
    },
    {
      "cell_type": "markdown",
      "metadata": {
        "id": "n_sky8bigxPj"
      },
      "source": [
        "# Warm up"
      ]
    },
    {
      "cell_type": "code",
      "execution_count": 6,
      "metadata": {
        "id": "-A67JEacg0CU"
      },
      "outputs": [],
      "source": [
        "def average(num_list: list) -> int:\n",
        "    \"\"\"\n",
        "    This function get a list of numbers and returns the average of the list of numbers\n",
        "    input:\n",
        "        num_list: list contains integer values\n",
        "    output:\n",
        "        return the average of the list\n",
        "    \"\"\"\n",
        "    # Your code here\n",
        "    return np.mean(num_list)"
      ]
    },
    {
      "cell_type": "code",
      "execution_count": 7,
      "metadata": {
        "id": "aBnvJWQxh8e6"
      },
      "outputs": [],
      "source": [
        "# When running this cell your code should not return any assert errors\n",
        "\n",
        "assert average([1,2,3]) == 2"
      ]
    },
    {
      "cell_type": "markdown",
      "metadata": {
        "id": "qEFV5GEJioEY"
      },
      "source": [
        "# HW 2- PySpark Exercises\n",
        "During this Homework you should use only PySpark RDD, you should not use PySpark DataFrame in your solutions"
      ]
    },
    {
      "cell_type": "code",
      "execution_count": 8,
      "metadata": {
        "id": "MkrpYO-Nmrb-"
      },
      "outputs": [
        {
          "name": "stdout",
          "output_type": "stream",
          "text": [
            "22/12/30 18:51:11 WARN Utils: Your hostname, Ronis-MacBook-Air.local resolves to a loopback address: 127.0.0.1; using 192.168.1.28 instead (on interface en0)\n",
            "22/12/30 18:51:11 WARN Utils: Set SPARK_LOCAL_IP if you need to bind to another address\n"
          ]
        },
        {
          "name": "stderr",
          "output_type": "stream",
          "text": [
            "Setting default log level to \"WARN\".\n",
            "To adjust logging level use sc.setLogLevel(newLevel). For SparkR, use setLogLevel(newLevel).\n"
          ]
        },
        {
          "name": "stdout",
          "output_type": "stream",
          "text": [
            "22/12/30 18:51:11 WARN NativeCodeLoader: Unable to load native-hadoop library for your platform... using builtin-java classes where applicable\n"
          ]
        }
      ],
      "source": [
        "sc = pyspark.SparkContext(\"local\", appName=\"HW2\")"
      ]
    },
    {
      "cell_type": "markdown",
      "metadata": {
        "id": "VMP32olUiqW0"
      },
      "source": [
        "## RDD Start Questions"
      ]
    },
    {
      "cell_type": "markdown",
      "metadata": {
        "id": "J4Zz9RDQmPUO"
      },
      "source": [
        "### Create RDD from list"
      ]
    },
    {
      "cell_type": "code",
      "execution_count": 9,
      "metadata": {
        "id": "3Lwyuk6PmPKJ"
      },
      "outputs": [],
      "source": [
        "def rdd_from_list(sc: SparkContext, n: int) -> RDD:  \n",
        "    \"\"\"\n",
        "    This function gets the number n and returns a rdd consisting of elements from 1 to n.\n",
        "    Assume that n > 1, no need for any exeption on that manner.\n",
        "    input:\n",
        "        sc: spark context\n",
        "        n: the top number in the generated rdd. For example, if n=3 the rdd created should be [1,2,3]\n",
        "    output:\n",
        "        returns a rdd consisting of elements from 1 to n (includes n).\n",
        "    \"\"\"\n",
        "    list_for_rdd = np.arange(1, n+1)\n",
        "    rdd = sc.parallelize(list_for_rdd)\n",
        "    return rdd"
      ]
    },
    {
      "cell_type": "code",
      "execution_count": 10,
      "metadata": {
        "id": "36ZE25A0mObw"
      },
      "outputs": [
        {
          "name": "stdout",
          "output_type": "stream",
          "text": [
            "[1, 2, 3, 4, 5, 6, 7, 8, 9, 10]\n"
          ]
        }
      ],
      "source": [
        "# When running this cell your code should not return any assert errors\n",
        "\n",
        "# collect() method returns all elements in a RDD to the driver as a local list\n",
        "print(rdd_from_list(sc, 10).collect())\n",
        "\n",
        "result_rdd = rdd_from_list(sc, 3)\n",
        "\n",
        "assert isinstance(result_rdd, RDD)\n",
        "assert result_rdd.collect() == [1, 2, 3]"
      ]
    },
    {
      "cell_type": "markdown",
      "metadata": {
        "id": "DlX48EsljI-f"
      },
      "source": [
        "### Using key-value tuple, square all the values.\n",
        "You can assume that the key is str (String) type and the value is int (integer) type"
      ]
    },
    {
      "cell_type": "code",
      "execution_count": 11,
      "metadata": {
        "id": "qQxwbD2Si_cC"
      },
      "outputs": [],
      "source": [
        "def square_list(sc: SparkContext, pair_list: list) -> list:\n",
        "    \"\"\"\n",
        "    This function gets pair of tuples and returns a list with squre values\n",
        "    input:\n",
        "        sc: spark context\n",
        "        pair_list: a pair key-value tuple that contain string as a key and integer as a value \n",
        "    output:\n",
        "        return a list of key and square values of the original list\n",
        "    \"\"\"\n",
        "\n",
        "    rdd = sc.parallelize(pair_list)\n",
        "    rdd2 = rdd.map(lambda x: (x[0], x[1] ** 2))\n",
        "    return rdd2.collect()"
      ]
    },
    {
      "cell_type": "code",
      "execution_count": 12,
      "metadata": {
        "id": "cJFfW0JejCXi"
      },
      "outputs": [],
      "source": [
        "# When running this cell your code should not return any assert errors\n",
        "\n",
        "pair_list = [('a', 1), ('b', 2), ('c', 3)]\n",
        "assert square_list(sc, pair_list) == [('a', 1), ('b', 4), ('c', 9)]"
      ]
    },
    {
      "cell_type": "markdown",
      "metadata": {
        "id": "5A0BI0yToVcR"
      },
      "source": [
        "### Alter Matrix\n"
      ]
    },
    {
      "cell_type": "markdown",
      "metadata": {
        "id": "HQStr4cfGxxa"
      },
      "source": [
        "Assume we have a rdd containing only lists of 2 elements:\n",
        "\n",
        "```\n",
        "matrix = [[1,5], [2,10], [3,14]]\n",
        "matrix_rdd = sc.parallelize(matrix)\n",
        "```\n",
        "\n",
        "This data structure is like a matrix.\n",
        "\n",
        "Create an operation `alter_matrix()` which adding to the first column (or first coordinate of each element) of the matrix by 1, and integer divide 5 from the second column (second coordinate)."
      ]
    },
    {
      "cell_type": "code",
      "execution_count": 13,
      "metadata": {
        "id": "7ymOU1Kgpg0c"
      },
      "outputs": [
        {
          "data": {
            "text/plain": [
              "[1, 2]"
            ]
          },
          "execution_count": 13,
          "metadata": {},
          "output_type": "execute_result"
        }
      ],
      "source": [
        "sc.parallelize([[1,3], [2,9]]).map(lambda row: row[0]).collect()"
      ]
    },
    {
      "cell_type": "code",
      "execution_count": 14,
      "metadata": {
        "id": "nlblY_UroXUP"
      },
      "outputs": [],
      "source": [
        "def alter_matrix(sc: SparkContext, matrix: RDD) -> list:\n",
        "    \"\"\"\n",
        "    This function adds 1 for the first column, and integer divide 5 from the second column \n",
        "    input:\n",
        "        sc: spark context\n",
        "        matrix: a RDD that contain data a list in length of two.\n",
        "    output:\n",
        "        return a RDD adding 1 for the first column and integer divide 5 from the second column of the input RDD\n",
        "    \"\"\"\n",
        "    rdd2 = matrix.map(lambda x: [x[0] + 1, x[1] // 5])\n",
        "    return rdd2"
      ]
    },
    {
      "cell_type": "code",
      "execution_count": 15,
      "metadata": {
        "id": "vn2OASoboXNl"
      },
      "outputs": [],
      "source": [
        "matrix = [[1,5], [2,10], [3,14]]\n",
        "matrix_rdd = sc.parallelize(matrix)\n",
        "result_rdd = alter_matrix(sc, matrix_rdd)\n",
        "\n",
        "assert isinstance(result_rdd, RDD)\n",
        "assert result_rdd.collect() == [[2, 1], [3, 2], [4, 2]]"
      ]
    },
    {
      "cell_type": "markdown",
      "metadata": {
        "id": "iYrsXJVZqdsQ"
      },
      "source": [
        "### Gets even numbers\n",
        "Assume we have a RDD containin integer numbers.\n",
        "Create a function `gets_even()` which returns all the even numbers in the RDD."
      ]
    },
    {
      "cell_type": "code",
      "execution_count": 16,
      "metadata": {
        "id": "P4j-lMidqf1U"
      },
      "outputs": [],
      "source": [
        "def gets_even(sc: SparkContext, number_rdd: RDD) -> list:\n",
        "    \"\"\"\n",
        "    This function gets rdd and return only even numbers from the given rdd\n",
        "    input:\n",
        "        sc: spark context\n",
        "        number_rdd: a RDD that contain data of integer numbers\n",
        "    output:\n",
        "        return a RDD that contain only even numbers\n",
        "    \"\"\"\n",
        "    return number_rdd.filter(lambda x: x % 2 == 0)"
      ]
    },
    {
      "cell_type": "code",
      "execution_count": 17,
      "metadata": {
        "id": "iQKaMvcqrHQy"
      },
      "outputs": [],
      "source": [
        "numbers = [i for i in range(1, 10)]\n",
        "numbers_rdd = sc.parallelize(numbers)\n",
        "result_rdd = gets_even(sc, numbers_rdd)\n",
        "\n",
        "assert isinstance(result_rdd, RDD)\n",
        "assert result_rdd.collect() == [2,4,6,8]"
      ]
    },
    {
      "cell_type": "markdown",
      "metadata": {
        "id": "YT-ceD4JsDll"
      },
      "source": [
        "### Page Rank algorithm\n"
      ]
    },
    {
      "cell_type": "markdown",
      "metadata": {
        "id": "WSKQWzRBBT7P"
      },
      "source": [
        "The PageRank algorithm assigns a real number to each page on the web (or the portion of the web that has been crawled and its links discovered). This number is meant to indicate how \"important\" the page is.<br> Hadoop was initially developed for Apache Nutch, an open-source web search engine, and one of the first uses of Big Data technologies and MapReduce was to index millions of webpages. In this application, we will explore an implementation of the iterative PageRank algorithm using Spark."
      ]
    },
    {
      "cell_type": "markdown",
      "metadata": {
        "id": "vO61L21VCIhc"
      },
      "source": [
        "We will deal with a more simplifed web system. Assume we have four web pages (A,B,C,D), the following graph shows outbound links from one web page to another (the arrow indicate the flow)<br>\n",
        "![image.png](data:image/png;base64,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)"
      ]
    },
    {
      "cell_type": "markdown",
      "metadata": {
        "id": "nWkSC7w6DmYK"
      },
      "source": [
        "Generate a web system as an RDD of pair tuples (page name, neighbor page name) from a pair rdd (page name, list of all neighbors)\n",
        "Hint: check out for pair rdd opearations such as, `mapValues` or `flatMapValues`. [Spark reference](https://spark.apache.org/docs/2.2.0/api/python/pyspark.html#pyspark.RDD)"
      ]
    },
    {
      "cell_type": "code",
      "execution_count": 18,
      "metadata": {
        "id": "noJZrL2PCnc_"
      },
      "outputs": [],
      "source": [
        "def map_websystem_rdd(sc: SparkContext, neighbor_rdd: RDD) -> RDD:\n",
        "    \"\"\"\n",
        "    This function gets input web system as rdd and mapping rdd of the system.\n",
        "    And returns the mapping of the connection between each two web pages\n",
        "    input:\n",
        "        sc: spark context\n",
        "        neighbor_rdd: a pair RDD of the web system contain each web and its links (web page, list of neighbor pages)\n",
        "    output:\n",
        "        return a pair RDD that contain all links (web page, neighbor web page)\n",
        "    \"\"\"\n",
        "    return neighbor_rdd.flatMapValues(lambda x: x)"
      ]
    },
    {
      "cell_type": "code",
      "execution_count": 19,
      "metadata": {
        "id": "YXThH2iRsI8g"
      },
      "outputs": [],
      "source": [
        "neighbor_rdd = sc.parallelize([\n",
        "                ('a', ['b','c','d']),\n",
        "                ('c', ['b']), \n",
        "                ('b', ['c','d']), \n",
        "                ('d', ['a','c'])\n",
        "              ])"
      ]
    },
    {
      "cell_type": "code",
      "execution_count": 20,
      "metadata": {
        "id": "YCDGfWthsI3_"
      },
      "outputs": [],
      "source": [
        "result = map_websystem_rdd(sc, neighbor_rdd).collect()"
      ]
    },
    {
      "cell_type": "code",
      "execution_count": 21,
      "metadata": {
        "id": "-yugWjG-sI02"
      },
      "outputs": [],
      "source": [
        "assert result == [\n",
        "                    ('a', 'b'), ('a', 'c'), ('a', 'd'), \n",
        "                    ('c', 'b'), \n",
        "                    ('b', 'c'), ('b', 'd'), \n",
        "                    ('d', 'a'), ('d', 'c')\n",
        "                ]"
      ]
    },
    {
      "cell_type": "markdown",
      "metadata": {
        "id": "p8SF5yQ1gdn-"
      },
      "source": [
        "## Kaggle dataset analysis"
      ]
    },
    {
      "cell_type": "markdown",
      "metadata": {
        "id": "E8gEFxpJHUC7"
      },
      "source": [
        "You can choose whatever data set you like from Kaggle and you need to derive meanigful insights using the Pyspark Dataframe API.\n",
        "You need to use at least once from the following [DataFrame API](https://spark.apache.org/docs/3.1.1/api/python/reference/api/pyspark.sql.DataFrame.html#pyspark.sql.DataFrame):\n",
        "\n",
        "*   [show](https://spark.apache.org/docs/3.1.1/api/python/reference/api/pyspark.sql.DataFrame.show.html#pyspark.sql.DataFrame.show)\n",
        "*   [printSchema](https://spark.apache.org/docs/3.1.1/api/python/reference/api/pyspark.sql.DataFrame.printSchema.html#pyspark.sql.DataFrame.printSchema)\n",
        "*   [distinct](https://spark.apache.org/docs/3.1.1/api/python/reference/api/pyspark.sql.DataFrame.distinct.html#pyspark.sql.DataFrame.distinct)\n",
        "*   [filter](https://spark.apache.org/docs/3.1.1/api/python/reference/api/pyspark.sql.DataFrame.filter.html#pyspark.sql.DataFrame.filter)\n",
        "*   [foreach](https://spark.apache.org/docs/3.1.1/api/python/reference/api/pyspark.sql.DataFrame.foreach.html#pyspark.sql.DataFrame.foreach)\n",
        "*   [join](https://spark.apache.org/docs/3.1.1/api/python/reference/api/pyspark.sql.DataFrame.join.html#pyspark.sql.DataFrame.join)\n",
        "*   [orderBy](https://spark.apache.org/docs/3.1.1/api/python/reference/api/pyspark.sql.DataFrame.orderBy.html#pyspark.sql.DataFrame.orderBy)\n",
        "*   [sample](https://spark.apache.org/docs/3.1.1/api/python/reference/api/pyspark.sql.DataFrame.sample.html#pyspark.sql.DataFrame.sample)\n",
        "*   [select](https://spark.apache.org/docs/3.1.1/api/python/reference/api/pyspark.sql.DataFrame.select.html#pyspark.sql.DataFrame.select)\n",
        "*   [subtract](https://spark.apache.org/docs/3.1.1/api/python/reference/api/pyspark.sql.DataFrame.subtract.html#pyspark.sql.DataFrame.subtract)\n",
        "*   [where](https://spark.apache.org/docs/3.1.1/api/python/reference/api/pyspark.sql.DataFrame.where.html#pyspark.sql.DataFrame.where)\n",
        "*   [withColumn](https://spark.apache.org/docs/3.1.1/api/python/reference/api/pyspark.sql.DataFrame.withColumn.html#pyspark.sql.DataFrame.withColumn)\n",
        "*   [withColumnRenamed](https://spark.apache.org/docs/3.1.1/api/python/reference/api/pyspark.sql.DataFrame.withColumnRenamed.html#pyspark.sql.DataFrame.withColumnRenamed)\n",
        "\n",
        "In addition use at least once of the following [functions](https://spark.apache.org/docs/3.1.1/api/python/reference/pyspark.sql.html#functions):\n",
        "*   [array_contains](https://spark.apache.org/docs/3.1.1/api/python/reference/api/pyspark.sql.functions.array_contains.html#pyspark.sql.functions.array_contains)\n",
        "*   [avg](https://spark.apache.org/docs/3.1.1/api/python/reference/api/pyspark.sql.functions.avg.html#pyspark.sql.functions.avg)\n",
        "*   [collect_set](https://spark.apache.org/docs/3.1.1/api/python/reference/api/pyspark.sql.functions.collect_set.html#pyspark.sql.functions.collect_set)\n",
        "*   [countDistinct](https://spark.apache.org/docs/3.1.1/api/python/reference/api/pyspark.sql.functions.countDistinct.html#pyspark.sql.functions.countDistinct)\n",
        "*   [datediff](https://spark.apache.org/docs/3.1.1/api/python/reference/api/pyspark.sql.functions.datediff.html#pyspark.sql.functions.datediff)\n",
        "*   [min](https://spark.apache.org/docs/3.1.1/api/python/reference/api/pyspark.sql.functions.min.html#pyspark.sql.functions.min)\n",
        "*   [regexp_extract](https://spark.apache.org/docs/3.1.1/api/python/reference/api/pyspark.sql.functions.regexp_extract.html#pyspark.sql.functions.regexp_extract)\n",
        "*   [window](https://spark.apache.org/docs/3.1.1/api/python/reference/api/pyspark.sql.functions.window.html?highlight=window)\n",
        "\n",
        "\n",
        "\n"
      ]
    },
    {
      "cell_type": "code",
      "execution_count": 22,
      "metadata": {
        "colab": {
          "base_uri": "https://localhost:8080/"
        },
        "id": "U-jzBCOlgX3q",
        "outputId": "954ccc89-23e4-4d3f-bac0-adc8748b4996"
      },
      "outputs": [],
      "source": [
        "# !kaggle datasets download -d vivovinco/nba-player-stats -p ./datasets/\n",
        "# !unzip ./datasets/nba-player-stats.zip -d ./datasets/nba-player-stats/"
      ]
    },
    {
      "cell_type": "code",
      "execution_count": 23,
      "metadata": {
        "id": "sv_VADBO4oyN"
      },
      "outputs": [],
      "source": [
        "POINTS_LOWER_BOUND = 5\n",
        "TEAM_CODE = 'MIA'\n",
        "NEW_COLUMN = 'Aggregated_Score'"
      ]
    },
    {
      "cell_type": "code",
      "execution_count": 24,
      "metadata": {
        "id": "1tsTDtja3Ag0"
      },
      "outputs": [],
      "source": [
        "# Start a SparkSession\n",
        "spark = SparkSession.builder.getOrCreate()\n",
        "\n",
        "# Load the data into pandas dataframes, regular_season and playoffs_season\n",
        "pandas_regular_season_df = pd.read_csv('./datasets/nba-player-stats/2021-2022 NBA Player Stats - Regular.csv', encoding=\"Windows-1252\", delimiter=\";\")\n",
        "pandas_playoffs_season_df = pd.read_csv('./datasets/nba-player-stats/2021-2022 NBA Player Stats - Playoffs.csv', encoding=\"Windows-1252\", delimiter=\";\")\n",
        "\n",
        "# Convert the pandas dataframes to Spark dataframes get only distinct.\n",
        "spark_regular_season_df = spark.createDataFrame(pandas_regular_season_df)\n",
        "spark_playoffs_season_df = spark.createDataFrame(pandas_playoffs_season_df)\n",
        "\n",
        "# Rename all the columns because the tables have the same name it will simplify(clear wise) the join later.\n",
        "for col in pandas_playoffs_season_df.columns:\n",
        "  spark_playoffs_season_df = spark_playoffs_season_df.withColumnRenamed(col, f\"{col}_off\")\n",
        "\n",
        "# Join the two dataframes on the \"Player\" and \"Tm\" columns\n",
        "spark_all_season_df = spark_regular_season_df.join(spark_playoffs_season_df, (spark_regular_season_df.Player == spark_playoffs_season_df.Player_off) & (spark_regular_season_df.Tm == spark_playoffs_season_df.Tm_off), \"inner\")\n",
        "\n"
      ]
    },
    {
      "cell_type": "code",
      "execution_count": 25,
      "metadata": {
        "colab": {
          "base_uri": "https://localhost:8080/"
        },
        "id": "ONVPKHcu3bzv",
        "outputId": "70224da5-5bef-4045-a2c1-dd51722fed63"
      },
      "outputs": [
        {
          "name": "stdout",
          "output_type": "stream",
          "text": [
            "Print the result schema from the join operation\n",
            "root\n",
            " |-- Rk: long (nullable = true)\n",
            " |-- Player: string (nullable = true)\n",
            " |-- Pos: string (nullable = true)\n",
            " |-- Age: long (nullable = true)\n",
            " |-- Tm: string (nullable = true)\n",
            " |-- G: long (nullable = true)\n",
            " |-- GS: long (nullable = true)\n",
            " |-- MP: double (nullable = true)\n",
            " |-- FG: double (nullable = true)\n",
            " |-- FGA: double (nullable = true)\n",
            " |-- FG%: double (nullable = true)\n",
            " |-- 3P: double (nullable = true)\n",
            " |-- 3PA: double (nullable = true)\n",
            " |-- 3P%: double (nullable = true)\n",
            " |-- 2P: double (nullable = true)\n",
            " |-- 2PA: double (nullable = true)\n",
            " |-- 2P%: double (nullable = true)\n",
            " |-- eFG%: double (nullable = true)\n",
            " |-- FT: double (nullable = true)\n",
            " |-- FTA: double (nullable = true)\n",
            " |-- FT%: double (nullable = true)\n",
            " |-- ORB: double (nullable = true)\n",
            " |-- DRB: double (nullable = true)\n",
            " |-- TRB: double (nullable = true)\n",
            " |-- AST: double (nullable = true)\n",
            " |-- STL: double (nullable = true)\n",
            " |-- BLK: double (nullable = true)\n",
            " |-- TOV: double (nullable = true)\n",
            " |-- PF: double (nullable = true)\n",
            " |-- PTS: double (nullable = true)\n",
            " |-- Rk_off: long (nullable = true)\n",
            " |-- Player_off: string (nullable = true)\n",
            " |-- Pos_off: string (nullable = true)\n",
            " |-- Age_off: long (nullable = true)\n",
            " |-- Tm_off: string (nullable = true)\n",
            " |-- G_off: long (nullable = true)\n",
            " |-- GS_off: long (nullable = true)\n",
            " |-- MP_off: double (nullable = true)\n",
            " |-- FG_off: double (nullable = true)\n",
            " |-- FGA_off: double (nullable = true)\n",
            " |-- FG%_off: double (nullable = true)\n",
            " |-- 3P_off: double (nullable = true)\n",
            " |-- 3PA_off: double (nullable = true)\n",
            " |-- 3P%_off: double (nullable = true)\n",
            " |-- 2P_off: double (nullable = true)\n",
            " |-- 2PA_off: double (nullable = true)\n",
            " |-- 2P%_off: double (nullable = true)\n",
            " |-- eFG%_off: double (nullable = true)\n",
            " |-- FT_off: double (nullable = true)\n",
            " |-- FTA_off: double (nullable = true)\n",
            " |-- FT%_off: double (nullable = true)\n",
            " |-- ORB_off: double (nullable = true)\n",
            " |-- DRB_off: double (nullable = true)\n",
            " |-- TRB_off: double (nullable = true)\n",
            " |-- AST_off: double (nullable = true)\n",
            " |-- STL_off: double (nullable = true)\n",
            " |-- BLK_off: double (nullable = true)\n",
            " |-- TOV_off: double (nullable = true)\n",
            " |-- PF_off: double (nullable = true)\n",
            " |-- PTS_off: double (nullable = true)\n",
            "\n"
          ]
        }
      ],
      "source": [
        "print('Print the result schema from the join operation')\n",
        "spark_all_season_df.printSchema()"
      ]
    },
    {
      "cell_type": "code",
      "execution_count": 26,
      "metadata": {
        "colab": {
          "base_uri": "https://localhost:8080/"
        },
        "id": "WFMskevlgtPl",
        "outputId": "8c79fec0-b56f-42cf-c20c-acdfd99387ee"
      },
      "outputs": [
        {
          "name": "stdout",
          "output_type": "stream",
          "text": [
            "Leading scores in the regular season are:\n",
            "22/12/30 18:51:16 WARN package: Truncated the string representation of a plan since it was too large. This behavior can be adjusted by setting 'spark.sql.debug.maxToStringFields'.\n",
            "+---+-----------------------+---+---+---+---+---+----+----+----+-----+---+----+-----+---+----+-----+-----+---+----+-----+---+----+----+---+---+---+---+---+----+\n",
            "|Rk |Player                 |Pos|Age|Tm |G  |GS |MP  |FG  |FGA |FG%  |3P |3PA |3P%  |2P |2PA |2P%  |eFG% |FT |FTA |FT%  |ORB|DRB |TRB |AST|STL|BLK|TOV|PF |PTS |\n",
            "+---+-----------------------+---+---+---+---+---+----+----+----+-----+---+----+-----+---+----+-----+-----+---+----+-----+---+----+----+---+---+---+---+---+----+\n",
            "|162|Joel Embiid            |C  |27 |PHI|68 |68 |33.8|9.8 |19.6|0.499|1.4|3.7 |0.371|8.4|15.9|0.529|0.534|9.6|11.8|0.814|2.1|9.6 |11.7|4.2|1.1|1.5|3.1|2.7|30.6|\n",
            "|274|LeBron James           |SF |37 |LAL|56 |56 |37.2|11.4|21.8|0.524|2.9|8.0 |0.359|8.6|13.8|0.62 |0.59 |4.5|6.0 |0.756|1.1|7.1 |8.2 |6.2|1.3|1.1|3.5|2.2|30.3|\n",
            "|12 |Giannis Antetokounmpo  |PF |27 |MIL|67 |67 |32.9|10.3|18.6|0.553|1.1|3.6 |0.293|9.2|15.0|0.616|0.582|8.3|11.4|0.722|2.0|9.6 |11.6|5.8|1.1|1.4|3.3|3.2|29.9|\n",
            "|154|Kevin Durant           |PF |33 |BRK|55 |55 |37.2|10.5|20.3|0.518|2.1|5.5 |0.383|8.4|14.8|0.568|0.57 |6.8|7.4 |0.91 |0.5|6.9 |7.4 |6.4|0.9|0.9|3.5|2.1|29.9|\n",
            "|141|Luka Don?i?            |PG |22 |DAL|65 |65 |35.4|9.9 |21.6|0.457|3.1|8.8 |0.353|6.8|12.8|0.528|0.529|5.6|7.5 |0.744|0.9|8.3 |9.1 |8.7|1.2|0.6|4.5|2.2|28.4|\n",
            "|602|Trae Young             |PG |23 |ATL|76 |76 |34.9|9.4 |20.3|0.46 |3.1|8.0 |0.382|6.3|12.3|0.512|0.536|6.6|7.3 |0.904|0.7|3.1 |3.7 |9.7|0.9|0.1|4.0|1.7|28.4|\n",
            "|134|DeMar DeRozan          |PF |32 |CHI|76 |76 |36.1|10.2|20.2|0.504|0.7|1.9 |0.352|9.5|18.3|0.52 |0.521|6.8|7.8 |0.877|0.7|4.4 |5.2 |4.9|0.9|0.3|2.4|2.3|27.9|\n",
            "|390|Ja Morant              |PG |22 |MEM|57 |57 |33.1|10.2|20.6|0.493|1.5|4.5 |0.344|8.6|16.2|0.534|0.53 |5.5|7.3 |0.761|1.4|4.4 |5.7 |6.7|1.2|0.4|3.4|1.5|27.4|\n",
            "|266|Kyrie Irving           |PG |29 |BRK|29 |29 |37.6|10.0|21.2|0.469|3.4|8.2 |0.418|6.5|13.0|0.501|0.55 |4.1|4.4 |0.915|0.6|3.8 |4.4 |5.8|1.4|0.6|2.5|2.8|27.4|\n",
            "|290|Nikola Joki?           |C  |26 |DEN|74 |74 |33.5|10.3|17.7|0.583|1.3|3.9 |0.337|9.0|13.8|0.652|0.62 |5.1|6.3 |0.81 |2.8|11.0|13.8|7.9|1.5|0.9|3.8|2.6|27.1|\n",
            "|526|Jayson Tatum           |SF |23 |BOS|76 |76 |35.9|9.3 |20.6|0.453|3.0|8.6 |0.353|6.3|12.0|0.524|0.526|5.3|6.2 |0.853|1.1|6.9 |8.0 |4.4|1.0|0.6|2.9|2.3|26.9|\n",
            "|59 |Devin Booker           |SG |25 |PHO|68 |68 |34.5|9.7 |20.9|0.466|2.7|7.0 |0.383|7.0|13.9|0.508|0.53 |4.6|5.3 |0.868|0.7|4.4 |5.0 |4.8|1.1|0.4|2.4|2.6|26.8|\n",
            "|383|Donovan Mitchell       |SG |25 |UTA|67 |67 |33.8|9.2 |20.5|0.448|3.5|9.8 |0.355|5.7|10.8|0.533|0.533|4.0|4.7 |0.853|0.8|3.4 |4.2 |5.3|1.5|0.2|3.0|2.4|25.9|\n",
            "|126|Stephen Curry          |PG |33 |GSW|64 |64 |34.5|8.4 |19.1|0.437|4.5|11.7|0.38 |3.9|7.4 |0.527|0.554|4.3|4.7 |0.923|0.5|4.7 |5.2 |6.3|1.3|0.4|3.2|2.0|25.5|\n",
            "|546|Karl-Anthony Towns     |C  |26 |MIN|74 |74 |33.5|8.7 |16.4|0.529|2.0|4.9 |0.41 |6.6|11.5|0.58 |0.591|5.2|6.3 |0.822|2.6|7.2 |9.8 |3.6|1.0|1.1|3.1|3.6|24.6|\n",
            "|192|Shai Gilgeous-Alexander|PG |23 |OKC|56 |56 |34.7|8.5 |18.8|0.453|1.6|5.3 |0.3  |6.9|13.5|0.514|0.496|5.9|7.2 |0.81 |0.7|4.3 |5.0 |5.9|1.3|0.8|2.8|2.5|24.5|\n",
            "|324|Zach LaVine            |SF |26 |CHI|67 |67 |34.7|8.4 |17.7|0.476|2.8|7.1 |0.389|5.7|10.6|0.534|0.554|4.8|5.6 |0.853|0.3|4.3 |4.6 |4.5|0.6|0.3|2.6|1.8|24.4|\n",
            "|362|CJ McCollum            |SG |30 |NOP|26 |26 |33.8|9.5 |19.2|0.493|2.7|6.9 |0.394|6.7|12.3|0.549|0.564|2.6|3.9 |0.667|0.7|3.7 |4.5 |5.8|1.3|0.0|2.2|1.7|24.3|\n",
            "|189|Paul George            |SF |31 |LAC|31 |31 |34.7|8.6 |20.5|0.421|2.9|8.3 |0.354|5.7|12.2|0.467|0.493|4.1|4.8 |0.858|0.4|6.5 |6.9 |5.7|2.2|0.4|4.1|2.4|24.3|\n",
            "|332|Damian Lillard         |PG |31 |POR|29 |29 |36.4|7.7 |19.0|0.402|3.2|9.8 |0.324|4.5|9.2 |0.485|0.486|5.5|6.2 |0.878|0.4|3.7 |4.1 |7.3|0.6|0.4|2.9|1.3|24.0|\n",
            "+---+-----------------------+---+---+---+---+---+----+----+----+-----+---+----+-----+---+----+-----+-----+---+----+-----+---+----+----+---+---+---+---+---+----+\n",
            "only showing top 20 rows\n",
            "\n"
          ]
        }
      ],
      "source": [
        "print('Leading scores in the regular season are:')\n",
        "spark_regular_season_df.sort(spark_regular_season_df.PTS.desc()).show(truncate=False)"
      ]
    },
    {
      "cell_type": "code",
      "execution_count": 27,
      "metadata": {
        "id": "kRoiY69Z3dpu"
      },
      "outputs": [],
      "source": [
        "# Order the rows according to the biggest diffrence between pts in the regular and in hte playoff, fitler out points below the limit(5).\n",
        "diff_regular_to_off_pts = spark_all_season_df.filter((spark_all_season_df.PTS_off > POINTS_LOWER_BOUND) & (spark_all_season_df.PTS > POINTS_LOWER_BOUND)).orderBy(spark_all_season_df.PTS_off - spark_all_season_df.PTS)"
      ]
    },
    {
      "cell_type": "code",
      "execution_count": 28,
      "metadata": {
        "colab": {
          "base_uri": "https://localhost:8080/"
        },
        "id": "QCmqwkEKw9Dz",
        "outputId": "63409326-d366-4eac-8667-fbca413c5ae8"
      },
      "outputs": [
        {
          "name": "stdout",
          "output_type": "stream",
          "text": [
            "These are the players that thier points drop the most during the playoff:\n",
            "+-----------------+---+---+----+-------+\n",
            "|           Player|Pos|Age| PTS|PTS_off|\n",
            "+-----------------+---+---+----+-------+\n",
            "|       Trae Young| PG| 23|28.4|   15.4|\n",
            "|      Tyler Herro| SG| 22|20.7|   12.6|\n",
            "|    DeMar DeRozan| PF| 32|27.9|   20.8|\n",
            "|      Joel Embiid|  C| 27|30.6|   23.6|\n",
            "|     John Collins| PF| 24|16.2|    9.4|\n",
            "|    Fred VanVleet| PG| 27|20.3|   13.8|\n",
            "| D'Angelo Russell| PG| 25|18.1|   12.0|\n",
            "|     Kyrie Irving| PG| 29|27.4|   21.3|\n",
            "|  Khris Middleton| SF| 30|20.1|   14.5|\n",
            "|       Kyle Lowry| PG| 35|13.4|    7.8|\n",
            "|  Duncan Robinson| SG| 27|10.9|    5.6|\n",
            "|De'Anthony Melton| SG| 23|10.8|    5.6|\n",
            "|      Patty Mills| PG| 33|11.4|    6.3|\n",
            "|      Zach LaVine| SF| 26|24.4|   19.3|\n",
            "|      Mike Conley| PG| 34|13.7|    9.2|\n",
            "|      Bam Adebayo|  C| 24|19.1|   14.8|\n",
            "|       Coby White| PG| 21|12.7|    8.4|\n",
            "| Jonathan Kuminga| SF| 19| 9.3|    5.2|\n",
            "|     Bobby Portis|  C| 26|14.6|   10.6|\n",
            "|    Dillon Brooks| SF| 26|18.4|   14.6|\n",
            "+-----------------+---+---+----+-------+\n",
            "only showing top 20 rows\n",
            "\n"
          ]
        }
      ],
      "source": [
        "# Display the resulting dataframe, these are the players that thier points drop during the playoff.\n",
        "print('These are the players that thier points drop the most during the playoff:')\n",
        "diff_regular_to_off_pts.select(diff_regular_to_off_pts.Player, diff_regular_to_off_pts.Pos, diff_regular_to_off_pts.Age, diff_regular_to_off_pts.PTS, diff_regular_to_off_pts.PTS_off).show()\n"
      ]
    },
    {
      "cell_type": "code",
      "execution_count": 29,
      "metadata": {
        "colab": {
          "base_uri": "https://localhost:8080/"
        },
        "id": "9drHtOgFw4Cj",
        "outputId": "a7f3272b-a436-4146-b411-3459fb3e9934"
      },
      "outputs": [
        {
          "name": "stdout",
          "output_type": "stream",
          "text": [
            "The average points in the playoff is 8.493055555555555\n"
          ]
        }
      ],
      "source": [
        "# Calculate the average of the \"PTS_off\" column\n",
        "avg_pts_off = spark_all_season_df.select(avg(\"PTS_off\")).collect()[0][0]\n",
        "print(f'''The average points in the playoff is {avg_pts_off}''')"
      ]
    },
    {
      "cell_type": "code",
      "execution_count": 30,
      "metadata": {
        "colab": {
          "base_uri": "https://localhost:8080/"
        },
        "id": "MGZz3xUX66oT",
        "outputId": "bb89ad52-75bf-467a-ac00-e9ee4c66770b"
      },
      "outputs": [
        {
          "name": "stdout",
          "output_type": "stream",
          "text": [
            "We would like to focous now only in the MIA team\n",
            "Get sample of the players to look on: \n",
            "+---+-------------+---+---+---+---+---+----+---+----+-----+---+---+-----+---+----+-----+-----+---+---+-----+---+---+---+---+---+---+---+---+----+\n",
            "| Rk|       Player|Pos|Age| Tm|  G| GS|  MP| FG| FGA|  FG%| 3P|3PA|  3P%| 2P| 2PA|  2P%| eFG%| FT|FTA|  FT%|ORB|DRB|TRB|AST|STL|BLK|TOV| PF| PTS|\n",
            "+---+-------------+---+---+---+---+---+----+---+----+-----+---+---+-----+---+----+-----+-----+---+---+-----+---+---+---+---+---+---+---+---+----+\n",
            "|508|Javonte Smart| PG| 22|MIA|  4|  0|10.0|2.0| 4.3|0.471|1.0|2.3|0.444|1.0| 2.0|  0.5|0.588|0.0|0.0|  0.0|0.3|1.0|1.3|0.5|0.5|0.3|0.5|0.3| 5.0|\n",
            "|236|  Tyler Herro| SG| 22|MIA| 66| 10|32.6|7.6|17.0|0.447|2.7|6.7|0.399|4.9|10.3|0.477|0.525|2.9|3.3|0.868|0.5|4.5|5.0|4.0|0.7|0.1|2.6|1.4|20.7|\n",
            "+---+-------------+---+---+---+---+---+----+---+----+-----+---+---+-----+---+----+-----+-----+---+---+-----+---+---+---+---+---+---+---+---+----+\n",
            "\n"
          ]
        }
      ],
      "source": [
        "print(f'''We would like to focous now only in the {TEAM_CODE} team''')\n",
        "spark_regular_team_season_df = spark_regular_season_df.where(spark_regular_season_df.Tm == TEAM_CODE)\n",
        "#spark_miami_all_season.show()\n",
        "\n",
        "print(f'''Get sample of the players to look on: ''')\n",
        "players = spark_regular_team_season_df.sample(True, fraction = 2 / spark_regular_team_season_df.count()).distinct()\n",
        "players.show()"
      ]
    },
    {
      "cell_type": "code",
      "execution_count": 31,
      "metadata": {
        "colab": {
          "base_uri": "https://localhost:8080/"
        },
        "id": "qs5QHMyXTtWF",
        "outputId": "a844638e-c46c-42dd-d359-0d44ed56fafa"
      },
      "outputs": [
        {
          "name": "stdout",
          "output_type": "stream",
          "text": [
            "+---+-------------+---+---+---+---+---+----+---+----+-----+---+---+-----+---+----+-----+-----+---+---+-----+---+---+---+---+---+---+---+---+----+------------------+\n",
            "| Rk|       Player|Pos|Age| Tm|  G| GS|  MP| FG| FGA|  FG%| 3P|3PA|  3P%| 2P| 2PA|  2P%| eFG%| FT|FTA|  FT%|ORB|DRB|TRB|AST|STL|BLK|TOV| PF| PTS|  Aggregated_Score|\n",
            "+---+-------------+---+---+---+---+---+----+---+----+-----+---+---+-----+---+----+-----+-----+---+---+-----+---+---+---+---+---+---+---+---+----+------------------+\n",
            "|508|Javonte Smart| PG| 22|MIA|  4|  0|10.0|2.0| 4.3|0.471|1.0|2.3|0.444|1.0| 2.0|  0.5|0.588|0.0|0.0|  0.0|0.3|1.0|1.3|0.5|0.5|0.3|0.5|0.3| 5.0|7.8999999999999995|\n",
            "|236|  Tyler Herro| SG| 22|MIA| 66| 10|32.6|7.6|17.0|0.447|2.7|6.7|0.399|4.9|10.3|0.477|0.525|2.9|3.3|0.868|0.5|4.5|5.0|4.0|0.7|0.1|2.6|1.4|20.7|              30.6|\n",
            "+---+-------------+---+---+---+---+---+----+---+----+-----+---+---+-----+---+----+-----+-----+---+---+-----+---+---+---+---+---+---+---+---+----+------------------+\n",
            "\n"
          ]
        }
      ],
      "source": [
        "#Adding new column called Aggregated_Score which is the sum of the following states below.\n",
        "players_with_agg_score = players.withColumn(NEW_COLUMN, players.PTS + players.AST + players.BLK + players.DRB + players.ORB + players.STL + players.BLK)\n",
        "players_with_agg_score.show()"
      ]
    },
    {
      "cell_type": "code",
      "execution_count": 32,
      "metadata": {
        "colab": {
          "base_uri": "https://localhost:8080/"
        },
        "id": "0VVtuCA0YKZJ",
        "outputId": "186f8c51-3ff9-4fa9-ffda-2b3be09b8677"
      },
      "outputs": [
        {
          "name": "stdout",
          "output_type": "stream",
          "text": [
            "MIA without the sampled ones from the above: \n",
            "+---+-----------------+---+---+---+---+---+----+---+----+-----+---+---+-----+---+----+-----+-----+---+---+-----+---+---+----+---+---+---+---+---+----+\n",
            "| Rk|           Player|Pos|Age| Tm|  G| GS|  MP| FG| FGA|  FG%| 3P|3PA|  3P%| 2P| 2PA|  2P%| eFG%| FT|FTA|  FT%|ORB|DRB| TRB|AST|STL|BLK|TOV| PF| PTS|\n",
            "+---+-----------------+---+---+---+---+---+----+---+----+-----+---+---+-----+---+----+-----+-----+---+---+-----+---+---+----+---+---+---+---+---+----+\n",
            "|131|   Dewayne Dedmon|  C| 32|MIA| 67| 15|15.9|2.4| 4.3|0.566|0.3|0.7|0.404|2.2| 3.6|0.597|0.598|1.1|1.5| 0.75|1.6|4.2| 5.8|0.7|0.4|0.6|1.0|2.6| 6.3|\n",
            "|517|     Nik Stauskas| SG| 28|MIA|  2|  0|12.0|1.5| 4.0|0.375|1.0|2.0|  0.5|0.5| 2.0| 0.25|  0.5|1.5|2.0| 0.75|0.5|1.0| 1.5|0.5|0.0|0.0|0.0|0.5| 5.5|\n",
            "|556|     Gabe Vincent| PG| 25|MIA| 68| 27|23.4|3.1| 7.5|0.417|1.8|4.8|0.368|1.4| 2.8|  0.5|0.533|0.6|0.8|0.815|0.3|1.5| 1.9|3.1|0.9|0.2|1.4|2.3| 8.7|\n",
            "|212|         Kyle Guy| SG| 24|MIA| 19|  0| 9.8|1.4| 3.4|  0.4|0.7|2.1| 0.35|0.6| 1.3| 0.48|0.508|0.4|0.6|0.667|0.2|0.7| 0.9|0.9|0.4|0.1|0.7|0.6| 3.9|\n",
            "|228|    Udonis Haslem|  C| 41|MIA| 13|  0| 6.4|1.1| 2.4|0.452|0.1|0.3| 0.25|1.0| 2.1|0.481|0.468|0.2|0.2|  1.0|0.3|1.6| 1.9|0.3|0.1|0.1|0.4|1.2| 2.5|\n",
            "|351|     Caleb Martin| SF| 26|MIA| 60| 12|22.9|3.5| 6.8|0.507|1.1|2.6|0.413|2.4| 4.3|0.565|0.585|1.2|1.6|0.763|1.2|2.7| 3.8|1.1|1.0|0.5|0.9|1.7| 9.2|\n",
            "|425|   Victor Oladipo| SG| 29|MIA|  8|  1|21.6|4.4| 9.1|0.479|1.9|4.5|0.417|2.5| 4.6|0.541|0.582|1.8|2.4|0.737|0.4|2.5| 2.9|3.5|0.6|0.1|2.0|1.6|12.4|\n",
            "|  3|      Bam Adebayo|  C| 24|MIA| 56| 56|32.6|7.3|13.0|0.557|0.0|0.1|  0.0|7.3|12.9|0.562|0.557|4.6|6.1|0.753|2.4|7.6|10.1|3.4|1.4|0.8|2.6|3.1|19.1|\n",
            "|603|   Omer Yurtseven|  C| 23|MIA| 56| 12|12.6|2.3| 4.4|0.526|0.0|0.2|0.091|2.3| 4.2|0.547|0.528|0.7|1.1|0.623|1.5|3.7| 5.3|0.9|0.3|0.4|0.7|1.5| 5.3|\n",
            "|476|  Duncan Robinson| SG| 27|MIA| 79| 68|25.9|3.7| 9.2|0.399|2.9|7.9|0.372|0.7| 1.3|0.569|0.559|0.6|0.8|0.836|0.3|2.3| 2.6|1.6|0.5|0.2|0.8|2.5|10.9|\n",
            "|424|        KZ Okpala| PF| 22|MIA| 21|  0|11.6|1.4| 3.3|0.435|0.4|1.2|0.346|1.0| 2.0|0.488|  0.5|0.4|0.5|0.727|0.5|1.4| 2.0|0.7|0.2|0.3|0.2|1.2| 3.7|\n",
            "|185|   Marcus Garrett| SG| 23|MIA| 12|  0|10.7|0.4| 1.8|0.238|0.1|0.3| 0.25|0.3| 1.4|0.235|0.262|0.2|0.4|  0.4|0.8|1.2| 1.9|0.6|0.4|0.3|0.2|1.3| 1.1|\n",
            "|340|       Kyle Lowry| PG| 35|MIA| 63| 63|33.9|4.4|10.0| 0.44|2.3|6.1|0.377|2.1| 3.9|0.539|0.555|2.3|2.8|0.851|0.5|4.0| 4.5|7.5|1.1|0.3|2.7|2.8|13.4|\n",
            "|397|    Mychal Mulder| PG| 27|MIA|  2|  1|22.0|2.0| 5.0|  0.4|2.0|4.0|  0.5|0.0| 1.0|  0.0|  0.6|1.0|1.0|  1.0|0.0|1.5| 1.5|1.0|0.0|0.5|0.0|0.5| 7.0|\n",
            "|502|      Chris Silva| PF| 25|MIA|  9|  0| 9.8|0.9| 1.7|0.533|0.0|0.0|  0.0|0.9| 1.7|0.533|0.533|1.1|1.3|0.833|1.4|2.4| 3.9|0.8|0.0|0.1|0.9|2.2| 2.9|\n",
            "| 87|     Jimmy Butler| SF| 32|MIA| 57| 57|33.9|7.0|14.5| 0.48|0.5|2.0|0.233|6.5|12.5| 0.52|0.496|6.9|8.0| 0.87|1.8|4.1| 5.9|5.5|1.6|0.5|2.1|1.5|21.4|\n",
            "|394|  Markieff Morris| PF| 32|MIA| 17|  1|17.5|3.2| 6.7|0.474|0.8|2.3|0.333|2.4| 4.4|0.547|0.531|0.5|0.5|0.889|1.0|1.6| 2.6|1.4|0.4|0.1|1.2|1.9| 7.6|\n",
            "|521|        Max Strus| SF| 25|MIA| 68| 16|23.3|3.7| 8.3|0.441|2.7|6.5| 0.41|1.0| 1.8|0.557|0.602|0.6|0.8|0.792|0.4|2.6| 3.0|1.4|0.4|0.2|0.8|1.7|10.6|\n",
            "|548|      P.J. Tucker| PF| 36|MIA| 71| 70|27.9|2.9| 6.0|0.484|1.1|2.7|0.415|1.8| 3.3| 0.54|0.577|0.6|0.9|0.738|1.4|4.0| 5.5|2.1|0.8|0.2|0.9|2.3| 7.6|\n",
            "|238|Haywood Highsmith| SF| 25|MIA| 19|  1| 8.6|0.8| 2.4|0.348|0.5|1.5|0.321|0.4| 0.9|0.389|0.446|0.1|0.3|  0.4|0.5|0.8| 1.4|0.3|0.1|0.2|0.2|0.7| 2.3|\n",
            "+---+-----------------+---+---+---+---+---+----+---+----+-----+---+---+-----+---+----+-----+-----+---+---+-----+---+---+----+---+---+---+---+---+----+\n",
            "\n"
          ]
        }
      ],
      "source": [
        "print(f'''{TEAM_CODE} without the sampled ones from the above: ''')\n",
        "spark_regular_team_season_df.subtract(players).show()"
      ]
    },
    {
      "cell_type": "code",
      "execution_count": 33,
      "metadata": {
        "colab": {
          "base_uri": "https://localhost:8080/"
        },
        "id": "4SQBAMTQZmix",
        "outputId": "36105cca-54a5-493f-bd54-e070a6dd9dc7"
      },
      "outputs": [
        {
          "name": "stdout",
          "output_type": "stream",
          "text": [
            "From the MIA the player who has the min avg points is Marcus Garrett\n"
          ]
        }
      ],
      "source": [
        "# get min point on the team\n",
        "minPts = spark_regular_team_season_df.select(min(\"PTS\").alias(\"min_pts\"))\n",
        "# get the player with the min points\n",
        "minPtsPlayer = spark_regular_team_season_df.join(minPts, minPts.min_pts == spark_regular_team_season_df.PTS).select(\"Player\").first()[0]\n",
        "\n",
        "print(f\"From the {TEAM_CODE} the player who has the min avg points is {minPtsPlayer}\")"
      ]
    },
    {
      "cell_type": "code",
      "execution_count": 34,
      "metadata": {
        "id": "WXUxeGJNtYbw"
      },
      "outputs": [
        {
          "name": "stderr",
          "output_type": "stream",
          "text": [
            "('Precious Achiuwa', 9.1)\n",
            "('Steven Adams', 6.9)\n",
            "('Bam Adebayo', 19.1)\n",
            "('Santi Aldama', 4.1)\n",
            "('LaMarcus Aldridge', 12.9)\n",
            "('Nickeil Alexander-Walker', 10.6)\n",
            "('Nickeil Alexander-Walker', 12.8)\n",
            "('Nickeil Alexander-Walker', 3.5)\n",
            "('Grayson Allen', 11.1)\n",
            "('Jarrett Allen', 16.1)\n",
            "('Jose Alvarado', 6.1)\n",
            "('Justin Anderson', 6.4)\n",
            "('Justin Anderson', 4.3)\n",
            "('Justin Anderson', 6.8)\n",
            "('Kyle Anderson', 7.6)\n",
            "('Giannis Antetokounmpo', 29.9)\n",
            "('Thanasis Antetokounmpo', 3.6)\n",
            "('Carmelo Anthony', 13.3)\n",
            "('Cole Anthony', 16.3)\n",
            "('OG Anunoby', 17.1)\n",
            "('Ryan Arcidiacono', 1.6)\n",
            "('Trevor Ariza', 4.0)\n",
            "('D.J. Augustin', 5.3)\n",
            "('D.J. Augustin', 5.4)\n",
            "('D.J. Augustin', 5.3)\n",
            "('Deni Avdija', 8.4)\n",
            "('Joel Ayayi', 0.3)\n",
            "('Deandre Ayton', 17.2)\n",
            "('Udoka Azubuike', 4.7)\n",
            "('Marvin Bagley III', 11.3)\n",
            "('Marvin Bagley III', 9.3)\n",
            "('Marvin Bagley III', 14.6)\n",
            "('LaMelo Ball', 20.1)\n",
            "('Lonzo Ball', 13.0)\n",
            "('Mo Bamba', 10.6)\n",
            "('Desmond Bane', 18.2)\n",
            "('Dalano Banton', 3.2)\n",
            "('Cat Barber', 0.0)\n",
            "('Harrison Barnes', 16.4)\n",
            "('Scottie Barnes', 15.3)\n",
            "('RJ Barrett', 20.0)\n",
            "('Will Barton', 14.7)\n",
            "('Paris Bass', 3.0)\n",
            "('Charles Bassey', 3.0)\n",
            "('Keita Bates-Diop', 5.7)\n",
            "('Nicolas Batum', 8.3)\n",
            "('Kent Bazemore', 3.4)\n",
            "('Darius Bazley', 10.8)\n",
            "('Bradley Beal', 23.2)\n",
            "('Malik Beasley', 12.1)\n",
            "('Jordan Bell', 0.0)\n",
            "(\"DeAndre' Bembry\", 5.1)\n",
            "(\"DeAndre' Bembry\", 5.8)\n",
            "(\"DeAndre' Bembry\", 0.8)\n",
            "('D?vis Bert?ns', 5.6)\n",
            "('D?vis Bert?ns', 5.7)\n",
            "('D?vis Bert?ns', 5.3)\n",
            "('Patrick Beverley', 9.2)\n",
            "('Saddiq Bey', 16.1)\n",
            "('Khem Birch', 4.5)\n",
            "('Goga Bitadze', 7.0)\n",
            "('Bismack Biyombo', 5.8)\n",
            "('Nemanja Bjelica', 6.1)\n",
            "('Eric Bledsoe', 9.9)\n",
            "('Keljin Blevins', 3.1)\n",
            "('Bogdan Bogdanovi?', 15.1)\n",
            "('Bojan Bogdanovi?', 18.1)\n",
            "('Bol Bol', 2.4)\n",
            "('Leandro Bolmaro', 1.4)\n",
            "('Isaac Bonga', 0.8)\n",
            "('Devin Booker', 26.8)\n",
            "('Brandon Boston Jr.', 6.7)\n",
            "('Chris Boucher', 9.4)\n",
            "('James Bouknight', 4.6)\n",
            "('Avery Bradley', 6.4)\n",
            "('Tony Bradley', 3.0)\n",
            "('Ignas Brazdeikis', 5.0)\n",
            "('Mikal Bridges', 14.2)\n",
            "('Miles Bridges', 20.2)\n",
            "('Oshae Brissett', 9.1)\n",
            "('Malcolm Brogdon', 19.1)\n",
            "('Armoni Brooks', 5.3)\n",
            "('Armoni Brooks', 6.2)\n",
            "('Armoni Brooks', 2.6)\n",
            "('Dillon Brooks', 18.4)\n",
            "('Bruce Brown', 9.0)\n",
            "('Charlie Brown Jr.', 1.4)\n",
            "('Charlie Brown Jr.', 0.7)\n",
            "('Charlie Brown Jr.', 1.5)\n",
            "('Chaundee Brown Jr.', 6.2)\n",
            "('Chaundee Brown Jr.', 1.0)\n",
            "('Chaundee Brown Jr.', 9.7)\n",
            "('Greg Brown III', 4.7)\n",
            "('Jaylen Brown', 23.6)\n",
            "('Moses Brown', 4.3)\n",
            "('Moses Brown', 3.1)\n",
            "('Moses Brown', 6.4)\n",
            "('Sterling Brown', 3.3)\n",
            "('Troy Brown Jr.', 4.3)\n",
            "('Jalen Brunson', 16.3)\n",
            "('Thomas Bryant', 7.4)\n",
            "('Shaq Buchanan', 1.0)\n",
            "('Reggie Bullock', 8.6)\n",
            "('Trey Burke', 5.1)\n",
            "('Alec Burks', 11.7)\n",
            "('Jared Butler', 3.8)\n",
            "('Jimmy Butler', 21.4)\n",
            "('Devontae Cacok', 3.1)\n",
            "('Kentavious Caldwell-Pope', 13.2)\n",
            "('Facundo Campazzo', 5.1)\n",
            "('Vlatko ?an?ar', 4.1)\n",
            "('Devin Cannady', 10.0)\n",
            "('Clint Capela', 11.1)\n",
            "('Vernon Carey Jr.', 2.9)\n",
            "('Vernon Carey Jr.', 2.0)\n",
            "('Vernon Carey Jr.', 4.0)\n",
            "('Jevon Carter', 4.2)\n",
            "('Jevon Carter', 3.6)\n",
            "('Jevon Carter', 5.6)\n",
            "('Wendell Carter Jr.', 15.0)\n",
            "('Alex Caruso', 7.4)\n",
            "('Willie Cauley-Stein', 1.7)\n",
            "('Willie Cauley-Stein', 1.9)\n",
            "('Willie Cauley-Stein', 0.0)\n",
            "('Ahmad Caver', 2.0)\n",
            "('Justin Champagnie', 2.3)\n",
            "('Zylan Cheatham', 0.0)\n",
            "('Chris Chiozza', 2.0)\n",
            "('Marquese Chriss', 4.5)\n",
            "('Josh Christopher', 7.9)\n",
            "('Gary Clark', 2.7)\n",
            "('Brandon Clarke', 10.4)\n",
            "('Jordan Clarkson', 16.0)\n",
            "('Nic Claxton', 8.7)\n",
            "('Amir Coffey', 9.0)\n",
            "('John Collins', 16.2)\n",
            "('Zach Collins', 7.8)\n",
            "('Darren Collison', 1.3)\n",
            "('Mike Conley', 13.7)\n",
            "('Pat Connaughton', 9.9)\n",
            "('Tyler Cook', 3.4)\n",
            "('Sharife Cooper', 0.5)\n",
            "('Petr Cornelie', 1.1)\n",
            "('DeMarcus Cousins', 9.0)\n",
            "('DeMarcus Cousins', 9.1)\n",
            "('DeMarcus Cousins', 8.9)\n",
            "('Robert Covington', 8.5)\n",
            "('Robert Covington', 7.6)\n",
            "('Robert Covington', 10.4)\n",
            "('Torrey Craig', 6.6)\n",
            "('Torrey Craig', 6.5)\n",
            "('Torrey Craig', 6.9)\n",
            "('Jae Crowder', 9.4)\n",
            "('Jarrett Culver', 3.5)\n",
            "('Jarron Cumberland', 0.7)\n",
            "('Cade Cunningham', 17.4)\n",
            "('Seth Curry', 15.0)\n",
            "('Seth Curry', 15.0)\n",
            "('Seth Curry', 14.9)\n",
            "('Stephen Curry', 25.5)\n",
            "('Anthony Davis', 23.2)\n",
            "('Ed Davis', 0.9)\n",
            "('Terence Davis', 10.4)\n",
            "('Gabriel Deck', 2.6)\n",
            "('Dewayne Dedmon', 6.3)\n",
            "('Sam Dekker', 0.0)\n",
            "('Javin DeLaurier', 0.0)\n",
            "('DeMar DeRozan', 27.9)\n",
            "('Mamadi Diakite', 4.3)\n",
            "('Cheick Diallo', 3.7)\n",
            "('Hamidou Diallo', 11.0)\n",
            "('Gorgui Dieng', 3.5)\n",
            "('Spencer Dinwiddie', 13.7)\n",
            "('Spencer Dinwiddie', 12.6)\n",
            "('Spencer Dinwiddie', 15.8)\n",
            "('Donte DiVincenzo', 9.0)\n",
            "('Donte DiVincenzo', 7.2)\n",
            "('Donte DiVincenzo', 10.3)\n",
            "('Luka Don?i?', 28.4)\n",
            "('Luguentz Dort', 17.2)\n",
            "('Ayo Dosunmu', 8.8)\n",
            "('Damyean Dotson', 2.0)\n",
            "('Devon Dotson', 2.6)\n",
            "('Sekou Doumbouya', 7.0)\n",
            "('Jeff Dowtin', 2.1)\n",
            "('Jeff Dowtin', 1.5)\n",
            "('Jeff Dowtin', 0.0)\n",
            "('Jeff Dowtin', 3.3)\n",
            "('PJ Dozier', 5.4)\n",
            "('Goran Dragi?', 7.5)\n",
            "('Goran Dragi?', 8.0)\n",
            "('Goran Dragi?', 7.3)\n",
            "('Andre Drummond', 7.9)\n",
            "('Andre Drummond', 6.1)\n",
            "('Andre Drummond', 11.8)\n",
            "('Chris Duarte', 13.1)\n",
            "('David Duke Jr.', 4.7)\n",
            "('Kris Dunn', 7.6)\n",
            "('Kevin Durant', 29.9)\n",
            "('Jaime Echenique', 0.0)\n",
            "('Anthony Edwards', 21.3)\n",
            "('Carsen Edwards', 5.8)\n",
            "('Kessler Edwards', 5.9)\n",
            "('Rob Edwards', 1.5)\n",
            "('CJ Elleby', 5.8)\n",
            "('Wayne Ellington', 6.7)\n",
            "('Joel Embiid', 30.6)\n",
            "('James Ennis III', 4.1)\n",
            "('James Ennis III', 2.5)\n",
            "('James Ennis III', 10.0)\n",
            "('James Ennis III', 1.3)\n",
            "('Drew Eubanks', 7.7)\n",
            "('Drew Eubanks', 4.7)\n",
            "('Drew Eubanks', 14.5)\n",
            "('Tacko Fall', 1.1)\n",
            "('Derrick Favors', 5.3)\n",
            "('Bruno Fernando', 2.9)\n",
            "('Bruno Fernando', 1.0)\n",
            "('Bruno Fernando', 6.9)\n",
            "('Dorian Finney-Smith', 11.0)\n",
            "('Malik Fitts', 1.4)\n",
            "('Malik Fitts', 0.9)\n",
            "('Malik Fitts', 1.9)\n",
            "('Malachi Flynn', 4.3)\n",
            "('Bryn Forbes', 8.8)\n",
            "('Bryn Forbes', 9.1)\n",
            "('Bryn Forbes', 8.6)\n",
            "('Aleem Ford', 2.8)\n",
            "('Trent Forrest', 3.3)\n",
            "('Evan Fournier', 14.1)\n",
            "(\"De'Aaron Fox\", 23.2)\n",
            "('Melvin Frazier', 10.7)\n",
            "('Tim Frazier', 3.3)\n",
            "('Tim Frazier', 3.7)\n",
            "('Tim Frazier', 1.0)\n",
            "('Enes Freedom', 3.7)\n",
            "('Markelle Fultz', 10.8)\n",
            "('Wenyen Gabriel', 5.4)\n",
            "('Wenyen Gabriel', 0.0)\n",
            "('Wenyen Gabriel', 2.3)\n",
            "('Wenyen Gabriel', 6.7)\n",
            "('Daniel Gafford', 9.4)\n",
            "('Danilo Gallinari', 11.7)\n",
            "('Langston Galloway', 2.0)\n",
            "('Langston Galloway', 3.0)\n",
            "('Langston Galloway', 0.7)\n",
            "('Darius Garland', 21.7)\n",
            "('Marcus Garrett', 1.1)\n",
            "('Usman Garuba', 2.0)\n",
            "('Luka Garza', 5.8)\n",
            "('Rudy Gay', 8.1)\n",
            "('Paul George', 24.3)\n",
            "('Taj Gibson', 4.4)\n",
            "('Josh Giddey', 12.5)\n",
            "('Shai Gilgeous-Alexander', 24.5)\n",
            "('Anthony Gill', 4.1)\n",
            "('Freddie Gillespie', 2.3)\n",
            "('Rudy Gobert', 15.6)\n",
            "('Brandon Goodwin', 4.8)\n",
            "('Jordan Goodwin', 0.0)\n",
            "('Aaron Gordon', 15.0)\n",
            "('Eric Gordon', 13.4)\n",
            "(\"Devonte' Graham\", 11.9)\n",
            "('Jerami Grant', 19.2)\n",
            "('Hassani Gravett', 6.3)\n",
            "('Danny Green', 5.9)\n",
            "('Draymond Green', 7.5)\n",
            "('Jalen Green', 17.3)\n",
            "('JaMychal Green', 6.4)\n",
            "('Javonte Green', 7.2)\n",
            "('Jeff Green', 10.3)\n",
            "('Josh Green', 4.8)\n",
            "('Blake Griffin', 6.4)\n",
            "('Quentin Grimes', 6.0)\n",
            "('Kyle Guy', 3.9)\n",
            "('Rui Hachimura', 11.3)\n",
            "('Tyrese Haliburton', 15.3)\n",
            "('Tyrese Haliburton', 14.3)\n",
            "('Tyrese Haliburton', 17.5)\n",
            "('Tyler Hall', 0.0)\n",
            "('R.J. Hampton', 7.6)\n",
            "('Tim Hardaway Jr.', 14.2)\n",
            "('James Harden', 22.0)\n",
            "('James Harden', 22.5)\n",
            "('James Harden', 21.0)\n",
            "('Maurice Harkless', 4.6)\n",
            "('Jared Harper', 7.4)\n",
            "('Montrezl Harrell', 13.1)\n",
            "('Montrezl Harrell', 14.1)\n",
            "('Montrezl Harrell', 11.4)\n",
            "('Gary Harris', 11.1)\n",
            "('Joe Harris', 11.3)\n",
            "('Tobias Harris', 17.2)\n",
            "('Shaquille Harrison', 2.0)\n",
            "('Josh Hart', 14.9)\n",
            "('Josh Hart', 13.4)\n",
            "('Josh Hart', 19.9)\n",
            "('Isaiah Hartenstein', 8.3)\n",
            "('Udonis Haslem', 2.5)\n",
            "('Sam Hauser', 2.5)\n",
            "('Jaxson Hayes', 9.3)\n",
            "('Killian Hayes', 6.9)\n",
            "('Gordon Hayward', 15.9)\n",
            "('Aaron Henry', 0.3)\n",
            "('Juancho Hernangómez', 3.3)\n",
            "('Juancho Hernangómez', 1.1)\n",
            "('Juancho Hernangómez', 1.4)\n",
            "('Juancho Hernangómez', 6.2)\n",
            "('Willy Hernangómez', 9.1)\n",
            "('Tyler Herro', 20.7)\n",
            "('Buddy Hield', 15.6)\n",
            "('Buddy Hield', 14.4)\n",
            "('Buddy Hield', 18.2)\n",
            "('Haywood Highsmith', 2.3)\n",
            "('George Hill', 6.2)\n",
            "('Malcolm Hill', 3.8)\n",
            "('Malcolm Hill', 5.7)\n",
            "('Malcolm Hill', 3.4)\n",
            "('Solomon Hill', 0.6)\n",
            "('Nate Hinton', 0.0)\n",
            "('Jaylen Hoard', 14.7)\n",
            "('Aaron Holiday', 6.3)\n",
            "('Aaron Holiday', 6.1)\n",
            "('Aaron Holiday', 6.8)\n",
            "('Jrue Holiday', 18.3)\n",
            "('Justin Holiday', 10.1)\n",
            "('Justin Holiday', 11.0)\n",
            "('Justin Holiday', 8.3)\n",
            "('Richaun Holmes', 10.4)\n",
            "('Rodney Hood', 3.1)\n",
            "('Rodney Hood', 3.3)\n",
            "('Rodney Hood', 2.6)\n",
            "('Scotty Hopson', 4.0)\n",
            "('Al Horford', 10.2)\n",
            "('Talen Horton-Tucker', 10.0)\n",
            "('Danuel House Jr.', 5.9)\n",
            "('Danuel House Jr.', 4.8)\n",
            "('Danuel House Jr.', 0.0)\n",
            "('Danuel House Jr.', 6.8)\n",
            "('Dwight Howard', 6.2)\n",
            "('Markus Howard', 4.1)\n",
            "('Kevin Huerter', 12.1)\n",
            "('Jay Huff', 0.0)\n",
            "('Elijah Hughes', 3.5)\n",
            "('Elijah Hughes', 3.1)\n",
            "('Elijah Hughes', 3.8)\n",
            "('Feron Hunt', 0.0)\n",
            "(\"De'Andre Hunter\", 13.4)\n",
            "('Chandler Hutchison', 0.7)\n",
            "('Bones Hyland', 10.1)\n",
            "('Serge Ibaka', 6.8)\n",
            "('Serge Ibaka', 6.6)\n",
            "('Serge Ibaka', 7.0)\n",
            "('Andre Iguodala', 4.0)\n",
            "('Joe Ingles', 7.2)\n",
            "('Brandon Ingram', 22.7)\n",
            "('Kyrie Irving', 27.4)\n",
            "('Wes Iwundu', 7.3)\n",
            "('Frank Jackson', 10.6)\n",
            "('Isaiah Jackson', 8.3)\n",
            "('Jaren Jackson Jr.', 16.3)\n",
            "('Josh Jackson', 6.4)\n",
            "('Josh Jackson', 7.1)\n",
            "('Josh Jackson', 4.3)\n",
            "('Justin Jackson', 2.1)\n",
            "('Justin Jackson', 2.0)\n",
            "('Justin Jackson', 2.2)\n",
            "('Reggie Jackson', 16.8)\n",
            "('LeBron James', 30.3)\n",
            "('DeJon Jarreau', 0.0)\n",
            "('DaQuan Jeffries', 0.7)\n",
            "('Ty Jerome', 7.1)\n",
            "('Isaiah Joe', 3.6)\n",
            "('Alize Johnson', 1.8)\n",
            "('Alize Johnson', 1.8)\n",
            "('Alize Johnson', 1.3)\n",
            "('Alize Johnson', 2.3)\n",
            "('B.J. Johnson', 6.5)\n",
            "('Cameron Johnson', 12.5)\n",
            "('David Johnson', 0.0)\n",
            "('Jalen Johnson', 2.4)\n",
            "('James Johnson', 5.5)\n",
            "('Joe Johnson', 2.0)\n",
            "('Keldon Johnson', 17.0)\n",
            "('Keon Johnson', 7.2)\n",
            "('Keon Johnson', 3.5)\n",
            "('Keon Johnson', 9.7)\n",
            "('Stanley Johnson', 6.7)\n",
            "('Tyler Johnson', 2.8)\n",
            "('Tyler Johnson', 3.7)\n",
            "('Tyler Johnson', 2.0)\n",
            "('Nikola Joki?', 27.1)\n",
            "('Carlik Jones', 0.8)\n",
            "('Carlik Jones', 0.7)\n",
            "('Carlik Jones', 1.0)\n",
            "('Damian Jones', 8.1)\n",
            "('Derrick Jones Jr.', 5.6)\n",
            "('Herbert Jones', 9.5)\n",
            "('Jemerrio Jones', 2.0)\n",
            "('Kai Jones', 1.0)\n",
            "('Mason Jones', 6.8)\n",
            "('Tre Jones', 6.0)\n",
            "('Tyus Jones', 8.7)\n",
            "('DeAndre Jordan', 4.3)\n",
            "('DeAndre Jordan', 4.1)\n",
            "('DeAndre Jordan', 4.6)\n",
            "('Cory Joseph', 8.0)\n",
            "('Georgios Kalaitzakis', 6.6)\n",
            "('Georgios Kalaitzakis', 1.8)\n",
            "('Georgios Kalaitzakis', 17.5)\n",
            "('Frank Kaminsky', 10.6)\n",
            "('Luke Kennard', 11.9)\n",
            "('Braxton Key', 7.2)\n",
            "('Braxton Key', 1.0)\n",
            "('Braxton Key', 8.6)\n",
            "('George King', 0.3)\n",
            "('Louis King', 4.5)\n",
            "('Corey Kispert', 8.2)\n",
            "('Maxi Kleber', 7.0)\n",
            "('Brandon Knight', 6.4)\n",
            "('Nathan Knight', 3.7)\n",
            "('Kevin Knox', 3.1)\n",
            "('Kevin Knox', 3.6)\n",
            "('Kevin Knox', 2.7)\n",
            "('John Konchar', 4.8)\n",
            "('Furkan Korkmaz', 7.6)\n",
            "('Luke Kornet', 2.0)\n",
            "('Luke Kornet', 2.0)\n",
            "('Luke Kornet', 0.0)\n",
            "('Luke Kornet', 2.2)\n",
            "('Vit Krejci', 6.2)\n",
            "('Arnoldas Kulboka', 0.0)\n",
            "('Jonathan Kuminga', 9.3)\n",
            "('Kyle Kuzma', 17.1)\n",
            "('Anthony Lamb', 0.0)\n",
            "('Jeremy Lamb', 7.3)\n",
            "('Jeremy Lamb', 7.1)\n",
            "('Jeremy Lamb', 7.9)\n",
            "('Jock Landale', 4.9)\n",
            "('Romeo Langford', 4.5)\n",
            "('Romeo Langford', 4.7)\n",
            "('Romeo Langford', 2.8)\n",
            "('Zach LaVine', 24.4)\n",
            "('Jake Layman', 2.4)\n",
            "('Damion Lee', 7.4)\n",
            "('Saben Lee', 5.6)\n",
            "('Alex Len', 6.0)\n",
            "('Caris LeVert', 17.0)\n",
            "('Caris LeVert', 18.7)\n",
            "('Caris LeVert', 13.6)\n",
            "('Kira Lewis Jr.', 5.9)\n",
            "('Scottie Lewis', 0.5)\n",
            "('Damian Lillard', 24.0)\n",
            "('Nassir Little', 9.8)\n",
            "('Isaiah Livers', 6.4)\n",
            "('Kevon Looney', 6.0)\n",
            "('Brook Lopez', 12.4)\n",
            "('Robin Lopez', 7.1)\n",
            "('Didi Louzada', 3.9)\n",
            "('Didi Louzada', 0.0)\n",
            "('Didi Louzada', 5.0)\n",
            "('Kevin Love', 13.6)\n",
            "('Kyle Lowry', 13.4)\n",
            "('Gabriel Lundberg', 3.3)\n",
            "('Timothé Luwawu-Cabarrot', 4.4)\n",
            "('Trey Lyles', 10.5)\n",
            "('Trey Lyles', 10.4)\n",
            "('Trey Lyles', 10.6)\n",
            "('Théo Maledon', 7.1)\n",
            "('Sandro Mamukelashvili', 3.8)\n",
            "('Terance Mann', 10.8)\n",
            "('Tre Mann', 10.4)\n",
            "('Boban Marjanovi?', 4.3)\n",
            "('Lauri Markkanen', 14.8)\n",
            "('Naji Marshall', 5.7)\n",
            "('Caleb Martin', 9.2)\n",
            "('Cody Martin', 7.7)\n",
            "('Kelan Martin', 5.7)\n",
            "('Kelan Martin', 6.3)\n",
            "('Kelan Martin', 0.0)\n",
            "('Kenyon Martin Jr.', 8.8)\n",
            "('Garrison Mathews', 10.0)\n",
            "('Dakota Mathias', 1.0)\n",
            "('Wesley Matthews', 5.1)\n",
            "('Tyrese Maxey', 17.5)\n",
            "('Skylar Mays', 2.9)\n",
            "('Miles McBride', 2.2)\n",
            "('Mac McClung', 4.0)\n",
            "('Mac McClung', 2.0)\n",
            "('Mac McClung', 6.0)\n",
            "('CJ McCollum', 22.1)\n",
            "('CJ McCollum', 20.5)\n",
            "('CJ McCollum', 24.3)\n",
            "('T.J. McConnell', 8.5)\n",
            "('Jaden McDaniels', 9.2)\n",
            "('Jalen McDaniels', 6.2)\n",
            "('Doug McDermott', 11.3)\n",
            "('JaVale McGee', 9.2)\n",
            "('Cameron McGriff', 4.7)\n",
            "('Rodney McGruder', 5.4)\n",
            "('Alfonzo McKinnie', 3.5)\n",
            "('JaQuori McLaughlin', 0.0)\n",
            "('Jordan McLaughlin', 3.8)\n",
            "('Ben McLemore', 10.2)\n",
            "(\"De'Anthony Melton\", 10.8)\n",
            "('Sam Merrill', 4.2)\n",
            "('Chimezie Metu', 8.9)\n",
            "('Khris Middleton', 20.1)\n",
            "('C.J. Miles', 0.0)\n",
            "('Patty Mills', 11.4)\n",
            "('Paul Millsap', 3.5)\n",
            "('Paul Millsap', 3.4)\n",
            "('Paul Millsap', 3.7)\n",
            "('Shake Milton', 8.2)\n",
            "('Davion Mitchell', 11.5)\n",
            "('Donovan Mitchell', 25.9)\n",
            "('Evan Mobley', 15.0)\n",
            "('Malik Monk', 13.8)\n",
            "('Greg Monroe', 5.4)\n",
            "('Greg Monroe', 7.3)\n",
            "('Greg Monroe', 4.0)\n",
            "('Greg Monroe', 5.4)\n",
            "('Greg Monroe', 4.0)\n",
            "('Moses Moody', 4.4)\n",
            "('Xavier Moon', 5.8)\n",
            "('Matt Mooney', 0.0)\n",
            "('Ja Morant', 27.4)\n",
            "('Juwan Morgan', 2.5)\n",
            "('Juwan Morgan', 5.0)\n",
            "('Juwan Morgan', 0.0)\n",
            "('Jaylen Morris', 0.7)\n",
            "('Marcus Morris', 15.4)\n",
            "('Markieff Morris', 7.6)\n",
            "('Monte Morris', 12.6)\n",
            "('Emmanuel Mudiay', 1.5)\n",
            "('Mychal Mulder', 4.1)\n",
            "('Mychal Mulder', 3.7)\n",
            "('Mychal Mulder', 7.0)\n",
            "('Ade Murkey', 0.0)\n",
            "('Trey Murphy III', 5.4)\n",
            "('Dejounte Murray', 21.1)\n",
            "('Mike Muscala', 8.0)\n",
            "('Svi Mykhailiuk', 4.6)\n",
            "('Abdel Nader', 2.4)\n",
            "('Larry Nance Jr.', 7.0)\n",
            "('Larry Nance Jr.', 6.9)\n",
            "('Larry Nance Jr.', 7.3)\n",
            "('RJ Nembhard Jr.', 1.1)\n",
            "('Aaron Nesmith', 3.8)\n",
            "('Raul Neto', 7.5)\n",
            "('Malik Newman', 8.0)\n",
            "('Georges Niang', 9.2)\n",
            "('Daishen Nix', 3.2)\n",
            "('Zeke Nnaji', 6.6)\n",
            "('Nerlens Noel', 3.4)\n",
            "('Jaylen Nowell', 8.5)\n",
            "('Frank Ntilikina', 4.1)\n",
            "('Jusuf Nurki?', 15.0)\n",
            "('David Nwaba', 5.1)\n",
            "('Jordan Nwora', 7.9)\n",
            "(\"Royce O'Neale\", 7.4)\n",
            "('Semi Ojeleye', 3.3)\n",
            "('Semi Ojeleye', 2.9)\n",
            "('Semi Ojeleye', 4.1)\n",
            "('Chuma Okeke', 8.6)\n",
            "('Josh Okogie', 2.7)\n",
            "('Onyeka Okongwu', 8.2)\n",
            "('Isaac Okoro', 8.8)\n",
            "('KZ Okpala', 3.7)\n",
            "('Victor Oladipo', 12.4)\n",
            "('Cameron Oliver', 11.5)\n",
            "('Kelly Olynyk', 9.1)\n",
            "('Eugene Omoruyi', 1.8)\n",
            "('Miye Oni', 0.3)\n",
            "('Cedi Osman', 10.7)\n",
            "('Daniel Oturu', 3.0)\n",
            "('Kelly Oubre Jr.', 15.0)\n",
            "('Jaysean Paige', 0.0)\n",
            "('Trayvon Palmer', 0.0)\n",
            "('Kevin Pangos', 1.6)\n",
            "('Jabari Parker', 4.4)\n",
            "('Eric Paschall', 5.8)\n",
            "('Chris Paul', 14.7)\n",
            "('Cameron Payne', 10.8)\n",
            "('Elfrid Payton', 3.0)\n",
            "('Gary Payton II', 7.1)\n",
            "('Norvel Pelle', 2.0)\n",
            "('Reggie Perry', 9.2)\n",
            "('Reggie Perry', 10.0)\n",
            "('Reggie Perry', 2.0)\n",
            "('Jamorko Pickett', 3.8)\n",
            "('Theo Pinson', 2.5)\n",
            "('Mason Plumlee', 6.5)\n",
            "('Jakob Poeltl', 13.5)\n",
            "('Aleksej Pokusevski', 7.6)\n",
            "('Yves Pons', 1.1)\n",
            "('Jordan Poole', 18.5)\n",
            "('Kevin Porter Jr.', 15.6)\n",
            "('Michael Porter Jr.', 9.9)\n",
            "('Otto Porter Jr.', 8.2)\n",
            "('Bobby Portis', 14.6)\n",
            "('Kristaps Porzi??is', 20.2)\n",
            "('Kristaps Porzi??is', 19.2)\n",
            "('Kristaps Porzi??is', 22.1)\n",
            "('Micah Potter', 4.0)\n",
            "('Dwight Powell', 8.7)\n",
            "('Myles Powell', 1.2)\n",
            "('Norman Powell', 19.0)\n",
            "('Norman Powell', 18.7)\n",
            "('Norman Powell', 21.4)\n",
            "('Joshua Primo', 5.8)\n",
            "('Taurean Prince', 7.3)\n",
            "('Payton Pritchard', 6.2)\n",
            "('Trevelin Queen', 4.3)\n",
            "('Neemias Queta', 3.2)\n",
            "('Immanuel Quickley', 11.3)\n",
            "(\"Jahmi'us Ramsey\", 3.2)\n",
            "('Julius Randle', 20.1)\n",
            "('Austin Reaves', 7.3)\n",
            "('Cam Reddish', 10.1)\n",
            "('Cam Reddish', 11.9)\n",
            "('Cam Reddish', 6.1)\n",
            "('Davon Reed', 4.4)\n",
            "('Paul Reed', 3.1)\n",
            "('Naz Reid', 8.3)\n",
            "('Nick Richards', 3.0)\n",
            "('Josh Richardson', 10.2)\n",
            "('Josh Richardson', 9.7)\n",
            "('Josh Richardson', 11.4)\n",
            "('Austin Rivers', 6.0)\n",
            "('Duncan Robinson', 10.9)\n",
            "('Justin Robinson', 3.1)\n",
            "('Justin Robinson', 2.8)\n",
            "('Justin Robinson', 0.7)\n",
            "('Justin Robinson', 5.6)\n",
            "('Mitchell Robinson', 8.5)\n",
            "('Jeremiah Robinson-Earl', 7.5)\n",
            "('Isaiah Roby', 10.1)\n",
            "('Rajon Rondo', 4.8)\n",
            "('Rajon Rondo', 3.1)\n",
            "('Rajon Rondo', 6.2)\n",
            "('Derrick Rose', 12.0)\n",
            "('Terrence Ross', 10.0)\n",
            "('Terry Rozier', 19.3)\n",
            "('Ricky Rubio', 13.1)\n",
            "(\"D'Angelo Russell\", 18.1)\n",
            "('Matt Ryan', 3.0)\n",
            "('Domantas Sabonis', 18.9)\n",
            "('Domantas Sabonis', 18.9)\n",
            "('Domantas Sabonis', 18.9)\n",
            "('Olivier Sarr', 7.0)\n",
            "('Tomáš Satoransk?', 3.6)\n",
            "('Tomáš Satoransk?', 2.8)\n",
            "('Tomáš Satoransk?', 3.0)\n",
            "('Tomáš Satoransk?', 4.9)\n",
            "('Jordan Schakel', 1.3)\n",
            "('Admiral Schofield', 3.8)\n",
            "('Dennis Schröder', 13.5)\n",
            "('Dennis Schröder', 14.4)\n",
            "('Dennis Schröder', 10.9)\n",
            "('Tre Scott', 3.0)\n",
            "('Jay Scrubb', 2.7)\n",
            "('Wayne Selden', 1.7)\n",
            "('Alperen Þengün', 9.6)\n",
            "('Collin Sexton', 16.0)\n",
            "('Landry Shamet', 8.3)\n",
            "(\"Day'Ron Sharpe\", 6.2)\n",
            "('Pascal Siakam', 22.8)\n",
            "('Chris Silva', 2.6)\n",
            "('Chris Silva', 0.0)\n",
            "('Chris Silva', 2.9)\n",
            "('Marko Simonovic', 1.9)\n",
            "('Anfernee Simons', 17.3)\n",
            "('Zavier Simpson', 11.0)\n",
            "('Jericho Sims', 2.2)\n",
            "('Deividas Sirvydis', 1.0)\n",
            "('Javonte Smart', 3.0)\n",
            "('Javonte Smart', 2.4)\n",
            "('Javonte Smart', 5.0)\n",
            "('Marcus Smart', 12.1)\n",
            "('Dennis Smith Jr.', 5.6)\n",
            "('Ish Smith', 6.3)\n",
            "('Ish Smith', 4.5)\n",
            "('Ish Smith', 8.6)\n",
            "('Jalen Smith', 9.2)\n",
            "('Jalen Smith', 6.0)\n",
            "('Jalen Smith', 13.4)\n",
            "('Xavier Sneed', 0.6)\n",
            "('Xavier Sneed', 0.0)\n",
            "('Xavier Sneed', 0.7)\n",
            "('Tony Snell', 3.5)\n",
            "('Tony Snell', 2.6)\n",
            "('Tony Snell', 5.9)\n",
            "('Jaden Springer', 1.0)\n",
            "('Cassius Stanley', 5.8)\n",
            "('Nik Stauskas', 2.3)\n",
            "('Nik Stauskas', 5.5)\n",
            "('Nik Stauskas', 1.2)\n",
            "('Lance Stephenson', 8.3)\n",
            "('Lance Stephenson', 1.8)\n",
            "('Lance Stephenson', 9.3)\n",
            "('Lamar Stevens', 6.1)\n",
            "('Isaiah Stewart', 8.3)\n",
            "('Max Strus', 10.6)\n",
            "('Jalen Suggs', 11.8)\n",
            "('Craig Sword', 2.0)\n",
            "('Keifer Sykes', 5.6)\n",
            "(\"Jae'Sean Tate\", 11.8)\n",
            "('Jayson Tatum', 26.9)\n",
            "('Terry Taylor', 9.6)\n",
            "('Garrett Temple', 5.2)\n",
            "('Emanuel Terry', 0.0)\n",
            "('Tyrell Terry', 1.0)\n",
            "('Jon Teske', 0.0)\n",
            "('Daniel Theis', 8.2)\n",
            "('Daniel Theis', 8.4)\n",
            "('Daniel Theis', 7.9)\n",
            "('Brodric Thomas', 1.8)\n",
            "('Cam Thomas', 8.5)\n",
            "('Isaiah Thomas', 8.4)\n",
            "('Isaiah Thomas', 9.3)\n",
            "('Isaiah Thomas', 6.0)\n",
            "('Isaiah Thomas', 8.3)\n",
            "('Matt Thomas', 4.0)\n",
            "('Klay Thompson', 20.4)\n",
            "('Tristan Thompson', 6.0)\n",
            "('Tristan Thompson', 6.2)\n",
            "('Tristan Thompson', 7.3)\n",
            "('Tristan Thompson', 5.7)\n",
            "('JT Thor', 2.0)\n",
            "('Matisse Thybulle', 5.7)\n",
            "('Killian Tillie', 3.3)\n",
            "('Xavier Tillman Sr.', 4.8)\n",
            "('Isaiah Todd', 1.7)\n",
            "('Obi Toppin', 9.0)\n",
            "('Juan Toscano-Anderson', 4.1)\n",
            "('Karl-Anthony Towns', 24.6)\n",
            "('Gary Trent Jr.', 18.3)\n",
            "('P.J. Tucker', 7.6)\n",
            "('Rayjon Tucker', 4.2)\n",
            "('Rayjon Tucker', 2.0)\n",
            "('Rayjon Tucker', 7.5)\n",
            "('Myles Turner', 12.9)\n",
            "('Jonas Valan?i?nas', 17.8)\n",
            "('Denzel Valentine', 2.9)\n",
            "('Denzel Valentine', 2.9)\n",
            "('Denzel Valentine', 2.5)\n",
            "('Jarred Vanderbilt', 6.9)\n",
            "('Fred VanVleet', 20.3)\n",
            "('Devin Vassell', 12.3)\n",
            "('Gabe Vincent', 8.7)\n",
            "('Nikola Vu?evi?', 17.6)\n",
            "('Dean Wade', 5.3)\n",
            "('Franz Wagner', 15.2)\n",
            "('Moritz Wagner', 9.0)\n",
            "('Ish Wainright', 2.4)\n",
            "('Kemba Walker', 11.6)\n",
            "('Lonnie Walker IV', 12.1)\n",
            "('M.J. Walker', 0.0)\n",
            "('Tyrone Wallace', 2.8)\n",
            "('Derrick Walton', 6.3)\n",
            "('Brad Wanamaker', 3.6)\n",
            "('Brad Wanamaker', 3.5)\n",
            "('Brad Wanamaker', 7.0)\n",
            "('Duane Washington Jr.', 9.9)\n",
            "('P.J. Washington', 10.3)\n",
            "('Yuta Watanabe', 4.3)\n",
            "('Lindy Waters III', 8.0)\n",
            "('Tremont Waters', 3.3)\n",
            "('Tremont Waters', 4.0)\n",
            "('Tremont Waters', 2.0)\n",
            "('Trendon Watford', 7.6)\n",
            "('Paul Watson', 3.4)\n",
            "('Quinndary Weatherspoon', 2.7)\n",
            "('Russell Westbrook', 18.5)\n",
            "('Coby White', 12.7)\n",
            "('Derrick White', 13.2)\n",
            "('Derrick White', 14.4)\n",
            "('Derrick White', 11.0)\n",
            "('Hassan Whiteside', 8.2)\n",
            "('Joe Wieskamp', 2.1)\n",
            "('Aaron Wiggins', 8.3)\n",
            "('Andrew Wiggins', 17.2)\n",
            "('Lindell Wigginton', 4.2)\n",
            "('Brandon Williams', 12.9)\n",
            "('Grant Williams', 7.8)\n",
            "('Kenrich Williams', 7.4)\n",
            "('Lou Williams', 6.3)\n",
            "('Patrick Williams', 9.0)\n",
            "('Robert Williams', 10.0)\n",
            "('Ziaire Williams', 8.1)\n",
            "('D.J. Wilson', 7.5)\n",
            "('Dylan Windler', 2.2)\n",
            "('Justise Winslow', 5.7)\n",
            "('Justise Winslow', 4.2)\n",
            "('Justise Winslow', 10.7)\n",
            "('Cassius Winston', 2.0)\n",
            "('Christian Wood', 17.9)\n",
            "('Robert Woodard II', 0.6)\n",
            "('Delon Wright', 4.4)\n",
            "('McKinley Wright IV', 1.0)\n",
            "('Moses Wright', 1.3)\n",
            "('Moses Wright', 0.0)\n",
            "('Moses Wright', 1.7)\n",
            "('Gabe York', 4.0)\n",
            "('Thaddeus Young', 6.2)\n",
            "('Thaddeus Young', 6.1)\n",
            "('Thaddeus Young', 6.3)\n",
            "('Trae Young', 28.4)\n",
            "('Omer Yurtseven', 5.3)\n",
            "('Cody Zeller', 5.2)\n",
            "('Ivica Zubac', 10.3)\n"
          ]
        }
      ],
      "source": [
        "# Apply print_row with only the Player, PTS\n",
        "spark_regular_season_df.rdd.foreach(lambda x: print((x.Player, x.PTS)))  "
      ]
    },
    {
      "cell_type": "markdown",
      "metadata": {
        "id": "3HhGXovmmz_N"
      },
      "source": [
        "# Close spark session"
      ]
    },
    {
      "cell_type": "code",
      "execution_count": 35,
      "metadata": {
        "id": "nbngjjhtm1uf"
      },
      "outputs": [],
      "source": [
        "sc.stop()\n",
        "spark.stop()"
      ]
    },
    {
      "cell_type": "code",
      "execution_count": null,
      "metadata": {},
      "outputs": [],
      "source": []
    }
  ],
  "metadata": {
    "colab": {
      "collapsed_sections": [
        "dqZcndSSjtkH",
        "n_sky8bigxPj",
        "J4Zz9RDQmPUO",
        "DlX48EsljI-f",
        "5A0BI0yToVcR",
        "iYrsXJVZqdsQ",
        "YT-ceD4JsDll",
        "3HhGXovmmz_N"
      ],
      "provenance": []
    },
    "kernelspec": {
      "display_name": "Python 3.9.13 ('base')",
      "language": "python",
      "name": "python3"
    },
    "language_info": {
      "codemirror_mode": {
        "name": "ipython",
        "version": 3
      },
      "file_extension": ".py",
      "mimetype": "text/x-python",
      "name": "python",
      "nbconvert_exporter": "python",
      "pygments_lexer": "ipython3",
      "version": "3.9.13"
    },
    "vscode": {
      "interpreter": {
        "hash": "c6e4e9f98eb68ad3b7c296f83d20e6de614cb42e90992a65aa266555a3137d0d"
      }
    }
  },
  "nbformat": 4,
  "nbformat_minor": 0
}
